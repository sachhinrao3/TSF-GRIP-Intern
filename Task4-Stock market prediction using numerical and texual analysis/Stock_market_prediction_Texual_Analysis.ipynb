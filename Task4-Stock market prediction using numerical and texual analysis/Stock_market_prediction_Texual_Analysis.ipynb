{
  "nbformat": 4,
  "nbformat_minor": 0,
  "metadata": {
    "kernelspec": {
      "display_name": "Python 3",
      "language": "python",
      "name": "python3"
    },
    "language_info": {
      "codemirror_mode": {
        "name": "ipython",
        "version": 3
      },
      "file_extension": ".py",
      "mimetype": "text/x-python",
      "name": "python",
      "nbconvert_exporter": "python",
      "pygments_lexer": "ipython3",
      "version": "3.8.3"
    },
    "toc": {
      "base_numbering": 1,
      "nav_menu": {},
      "number_sections": true,
      "sideBar": true,
      "skip_h1_title": false,
      "title_cell": "Table of Contents",
      "title_sidebar": "Contents",
      "toc_cell": false,
      "toc_position": {},
      "toc_section_display": true,
      "toc_window_display": false
    },
    "colab": {
      "name": "Stock market prediction Texual Analysis.ipynb",
      "provenance": [],
      "collapsed_sections": []
    }
  },
  "cells": [
    {
      "cell_type": "markdown",
      "metadata": {
        "id": "2wvuSkRn4Mjg"
      },
      "source": [
        "## **Task 4: Stock Market Prediction using Numerical and Textual Analysis**\n",
        "---\n",
        "\n"
      ]
    },
    {
      "cell_type": "markdown",
      "metadata": {
        "id": "YkdPBeoX-tS_"
      },
      "source": [
        "Objective: Create a hybrid model for stock price/performances prediction using numerical analysis of hiatorical stock prices and sentiment analysis of news headline"
      ]
    },
    {
      "cell_type": "markdown",
      "metadata": {
        "id": "RQqcWyjj_sfL"
      },
      "source": [
        "Work: In this project I used 2 dataset first one is News Headline and other one is historical Stock Price .\n",
        "\n",
        "On first dataset I perform a ***Sentiment Analysis*** on our News Headline dataset and make a one sentiment column with the help of compound of sentiments. Then also apply a ***Topic Modeling*** on the news healines.\n",
        "\n",
        "On second dataset I have applied a LSTM Model and try to predict the closing price of the SENSEX using the last 100 days data in LSTM to predict the next 30 days closing price and plot on the graph.   "
      ]
    },
    {
      "cell_type": "markdown",
      "metadata": {
        "id": "F34hDaGI_mPa"
      },
      "source": [
        "Author : Sachin Yadav"
      ]
    },
    {
      "cell_type": "code",
      "metadata": {
        "id": "cfCPzJxp9478"
      },
      "source": [
        "#Importing the necessary modules\n",
        "import pandas as pd\n",
        "import numpy as np\n",
        "import matplotlib.pyplot as plt\n",
        "import seaborn as sns\n",
        "%matplotlib inline\n",
        "plt.rcParams[\"figure.figsize\"] = (12, 7)\n",
        "import warnings\n",
        "warnings.filterwarnings('ignore')                             \n",
        "from datetime import datetime\n",
        "import math\n",
        "import numpy as np"
      ],
      "execution_count": 1,
      "outputs": []
    },
    {
      "cell_type": "code",
      "metadata": {
        "id": "NWiZDiQ6-Axq",
        "outputId": "86185b22-801a-48f9-db4f-59be0eed8a29",
        "colab": {
          "resources": {
            "http://localhost:8080/nbextensions/google.colab/files.js": {
              "data": "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",
              "ok": true,
              "headers": [
                [
                  "content-type",
                  "application/javascript"
                ]
              ],
              "status": 200,
              "status_text": ""
            }
          },
          "base_uri": "https://localhost:8080/",
          "height": 89
        }
      },
      "source": [
        "from google.colab import files\n",
        "\n",
        "uploaded = files.upload()\n",
        "\n",
        "for fn in uploaded.keys():\n",
        "  print('User uploaded file \"{name}\" with length {length} bytes'.format(\n",
        "      name=fn, length=len(uploaded[fn])))"
      ],
      "execution_count": 65,
      "outputs": [
        {
          "output_type": "display_data",
          "data": {
            "text/html": [
              "\n",
              "     <input type=\"file\" id=\"files-69809fd1-ffbd-4d81-b407-5969efb6d19d\" name=\"files[]\" multiple disabled\n",
              "        style=\"border:none\" />\n",
              "     <output id=\"result-69809fd1-ffbd-4d81-b407-5969efb6d19d\">\n",
              "      Upload widget is only available when the cell has been executed in the\n",
              "      current browser session. Please rerun this cell to enable.\n",
              "      </output>\n",
              "      <script src=\"/nbextensions/google.colab/files.js\"></script> "
            ],
            "text/plain": [
              "<IPython.core.display.HTML object>"
            ]
          },
          "metadata": {
            "tags": []
          }
        },
        {
          "output_type": "stream",
          "text": [
            "Saving india-news-headlines.csv to india-news-headlines (1).csv\n",
            "User uploaded file \"india-news-headlines.csv\" with length 237855132 bytes\n"
          ],
          "name": "stdout"
        }
      ]
    },
    {
      "cell_type": "code",
      "metadata": {
        "id": "IuIxtsMA948Z"
      },
      "source": [
        "path ='C:/Users/admin/Documents/GRIP Internship/Task 4 (Stock market prediction using numerical and texual analysis)/india-news-headlines.csv'\n",
        "# dateparse = lambda date: pd.datetime.strptime(date, '%Y-%m-%d')\n",
        "lastconnection = lambda date: pd.datetime.strptime(date, '%Y%m%d').strftime('%Y-%m-%d')\n",
        "\n",
        "news = pd.read_csv('india-news-headlines.csv', parse_dates=['publish_date'], date_parser=lastconnection)\n"
      ],
      "execution_count": 67,
      "outputs": []
    },
    {
      "cell_type": "code",
      "metadata": {
        "id": "BWEM1xJc9484",
        "outputId": "33a84fda-bd68-422b-cfaa-53aade0ba817",
        "colab": {
          "base_uri": "https://localhost:8080/",
          "height": 34
        }
      },
      "source": [
        "news.shape"
      ],
      "execution_count": 68,
      "outputs": [
        {
          "output_type": "execute_result",
          "data": {
            "text/plain": [
              "(143867, 3)"
            ]
          },
          "metadata": {
            "tags": []
          },
          "execution_count": 68
        }
      ]
    },
    {
      "cell_type": "code",
      "metadata": {
        "id": "jrifwTv-949q",
        "outputId": "cfebf5fc-be49-4769-e1aa-5a0aa7696859",
        "colab": {
          "base_uri": "https://localhost:8080/",
          "height": 204
        }
      },
      "source": [
        "news.head()"
      ],
      "execution_count": 69,
      "outputs": [
        {
          "output_type": "execute_result",
          "data": {
            "text/html": [
              "<div>\n",
              "<style scoped>\n",
              "    .dataframe tbody tr th:only-of-type {\n",
              "        vertical-align: middle;\n",
              "    }\n",
              "\n",
              "    .dataframe tbody tr th {\n",
              "        vertical-align: top;\n",
              "    }\n",
              "\n",
              "    .dataframe thead th {\n",
              "        text-align: right;\n",
              "    }\n",
              "</style>\n",
              "<table border=\"1\" class=\"dataframe\">\n",
              "  <thead>\n",
              "    <tr style=\"text-align: right;\">\n",
              "      <th></th>\n",
              "      <th>publish_date</th>\n",
              "      <th>headline_category</th>\n",
              "      <th>headline_text</th>\n",
              "    </tr>\n",
              "  </thead>\n",
              "  <tbody>\n",
              "    <tr>\n",
              "      <th>0</th>\n",
              "      <td>2001-01-01</td>\n",
              "      <td>sports.wwe</td>\n",
              "      <td>win over cena satisfying but defeating underta...</td>\n",
              "    </tr>\n",
              "    <tr>\n",
              "      <th>1</th>\n",
              "      <td>2001-01-02</td>\n",
              "      <td>unknown</td>\n",
              "      <td>Status quo will not be disturbed at Ayodhya; s...</td>\n",
              "    </tr>\n",
              "    <tr>\n",
              "      <th>2</th>\n",
              "      <td>2001-01-02</td>\n",
              "      <td>unknown</td>\n",
              "      <td>Fissures in Hurriyat over Pak visit</td>\n",
              "    </tr>\n",
              "    <tr>\n",
              "      <th>3</th>\n",
              "      <td>2001-01-02</td>\n",
              "      <td>unknown</td>\n",
              "      <td>America's unwanted heading for India?</td>\n",
              "    </tr>\n",
              "    <tr>\n",
              "      <th>4</th>\n",
              "      <td>2001-01-02</td>\n",
              "      <td>unknown</td>\n",
              "      <td>For bigwigs; it is destination Goa</td>\n",
              "    </tr>\n",
              "  </tbody>\n",
              "</table>\n",
              "</div>"
            ],
            "text/plain": [
              "  publish_date  ...                                      headline_text\n",
              "0   2001-01-01  ...  win over cena satisfying but defeating underta...\n",
              "1   2001-01-02  ...  Status quo will not be disturbed at Ayodhya; s...\n",
              "2   2001-01-02  ...                Fissures in Hurriyat over Pak visit\n",
              "3   2001-01-02  ...              America's unwanted heading for India?\n",
              "4   2001-01-02  ...                 For bigwigs; it is destination Goa\n",
              "\n",
              "[5 rows x 3 columns]"
            ]
          },
          "metadata": {
            "tags": []
          },
          "execution_count": 69
        }
      ]
    },
    {
      "cell_type": "code",
      "metadata": {
        "id": "nT4mqR9J94-H",
        "outputId": "ba2fca76-29fc-488a-af8c-8fbc02cb9d86",
        "colab": {
          "base_uri": "https://localhost:8080/",
          "height": 187
        }
      },
      "source": [
        "news.info()"
      ],
      "execution_count": 70,
      "outputs": [
        {
          "output_type": "stream",
          "text": [
            "<class 'pandas.core.frame.DataFrame'>\n",
            "RangeIndex: 143867 entries, 0 to 143866\n",
            "Data columns (total 3 columns):\n",
            " #   Column             Non-Null Count   Dtype         \n",
            "---  ------             --------------   -----         \n",
            " 0   publish_date       143867 non-null  datetime64[ns]\n",
            " 1   headline_category  143866 non-null  object        \n",
            " 2   headline_text      143866 non-null  object        \n",
            "dtypes: datetime64[ns](1), object(2)\n",
            "memory usage: 3.3+ MB\n"
          ],
          "name": "stdout"
        }
      ]
    },
    {
      "cell_type": "code",
      "metadata": {
        "id": "rlO-v2yx95B2",
        "outputId": "f7690a6c-ed1e-4c30-dc9e-91cf0fed3233",
        "colab": {
          "base_uri": "https://localhost:8080/",
          "height": 34
        }
      },
      "source": [
        "print('Shape of the dataset', news.shape)"
      ],
      "execution_count": 71,
      "outputs": [
        {
          "output_type": "stream",
          "text": [
            "Shape of the dataset (143867, 3)\n"
          ],
          "name": "stdout"
        }
      ]
    },
    {
      "cell_type": "code",
      "metadata": {
        "id": "xd3ofQ7_95CP",
        "outputId": "ce393461-7656-4b94-d6fd-5cd72ab8cd63",
        "colab": {
          "base_uri": "https://localhost:8080/",
          "height": 34
        }
      },
      "source": [
        "news_df = news[news['publish_date'] > '2015-01-01']\n",
        "news_df.shape"
      ],
      "execution_count": 72,
      "outputs": [
        {
          "output_type": "execute_result",
          "data": {
            "text/plain": [
              "(0, 3)"
            ]
          },
          "metadata": {
            "tags": []
          },
          "execution_count": 72
        }
      ]
    },
    {
      "cell_type": "code",
      "metadata": {
        "id": "IYD9F0JEKD8z",
        "outputId": "d3c1662d-a677-4fc3-9986-b127b50d1a50",
        "colab": {
          "resources": {
            "http://localhost:8080/nbextensions/google.colab/files.js": {
              "data": "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",
              "ok": true,
              "headers": [
                [
                  "content-type",
                  "application/javascript"
                ]
              ],
              "status": 200,
              "status_text": ""
            }
          },
          "base_uri": "https://localhost:8080/",
          "height": 89
        }
      },
      "source": [
        "from google.colab import files\n",
        "\n",
        "uploaded = files.upload()\n",
        "\n",
        "for fn in uploaded.keys():\n",
        "  print('User uploaded file \"{name}\" with length {length} bytes'.format(\n",
        "      name=fn, length=len(uploaded[fn])))"
      ],
      "execution_count": 4,
      "outputs": [
        {
          "output_type": "display_data",
          "data": {
            "text/html": [
              "\n",
              "     <input type=\"file\" id=\"files-5e47132f-eb57-460e-a127-e5e1bd76aca4\" name=\"files[]\" multiple disabled\n",
              "        style=\"border:none\" />\n",
              "     <output id=\"result-5e47132f-eb57-460e-a127-e5e1bd76aca4\">\n",
              "      Upload widget is only available when the cell has been executed in the\n",
              "      current browser session. Please rerun this cell to enable.\n",
              "      </output>\n",
              "      <script src=\"/nbextensions/google.colab/files.js\"></script> "
            ],
            "text/plain": [
              "<IPython.core.display.HTML object>"
            ]
          },
          "metadata": {
            "tags": []
          }
        },
        {
          "output_type": "stream",
          "text": [
            "Saving ^BSESN.csv to ^BSESN.csv\n",
            "User uploaded file \"^BSESN.csv\" with length 378365 bytes\n"
          ],
          "name": "stdout"
        }
      ]
    },
    {
      "cell_type": "code",
      "metadata": {
        "id": "GrpoUy2P95Co",
        "outputId": "adfd0f33-4b4b-444a-d32f-6eb57a6b58b5",
        "colab": {
          "base_uri": "https://localhost:8080/",
          "height": 359
        }
      },
      "source": [
        "stock = pd.read_csv('^BSESN.csv', parse_dates=['Date'])\n",
        "stock.head(10)"
      ],
      "execution_count": 5,
      "outputs": [
        {
          "output_type": "execute_result",
          "data": {
            "text/html": [
              "<div>\n",
              "<style scoped>\n",
              "    .dataframe tbody tr th:only-of-type {\n",
              "        vertical-align: middle;\n",
              "    }\n",
              "\n",
              "    .dataframe tbody tr th {\n",
              "        vertical-align: top;\n",
              "    }\n",
              "\n",
              "    .dataframe thead th {\n",
              "        text-align: right;\n",
              "    }\n",
              "</style>\n",
              "<table border=\"1\" class=\"dataframe\">\n",
              "  <thead>\n",
              "    <tr style=\"text-align: right;\">\n",
              "      <th></th>\n",
              "      <th>Date</th>\n",
              "      <th>Open</th>\n",
              "      <th>High</th>\n",
              "      <th>Low</th>\n",
              "      <th>Close</th>\n",
              "      <th>Adj Close</th>\n",
              "      <th>Volume</th>\n",
              "    </tr>\n",
              "  </thead>\n",
              "  <tbody>\n",
              "    <tr>\n",
              "      <th>0</th>\n",
              "      <td>2001-06-01</td>\n",
              "      <td>3637.030029</td>\n",
              "      <td>3651.320068</td>\n",
              "      <td>3555.739990</td>\n",
              "      <td>3557.639893</td>\n",
              "      <td>3557.639893</td>\n",
              "      <td>0.0</td>\n",
              "    </tr>\n",
              "    <tr>\n",
              "      <th>1</th>\n",
              "      <td>2001-06-04</td>\n",
              "      <td>3565.879883</td>\n",
              "      <td>3590.560059</td>\n",
              "      <td>3490.830078</td>\n",
              "      <td>3498.379883</td>\n",
              "      <td>3498.379883</td>\n",
              "      <td>0.0</td>\n",
              "    </tr>\n",
              "    <tr>\n",
              "      <th>2</th>\n",
              "      <td>2001-06-05</td>\n",
              "      <td>3495.989990</td>\n",
              "      <td>3510.679932</td>\n",
              "      <td>3434.879883</td>\n",
              "      <td>3460.040039</td>\n",
              "      <td>3460.040039</td>\n",
              "      <td>0.0</td>\n",
              "    </tr>\n",
              "    <tr>\n",
              "      <th>3</th>\n",
              "      <td>2001-06-06</td>\n",
              "      <td>3473.320068</td>\n",
              "      <td>3507.239990</td>\n",
              "      <td>3448.439941</td>\n",
              "      <td>3457.310059</td>\n",
              "      <td>3457.310059</td>\n",
              "      <td>0.0</td>\n",
              "    </tr>\n",
              "    <tr>\n",
              "      <th>4</th>\n",
              "      <td>2001-06-07</td>\n",
              "      <td>3455.860107</td>\n",
              "      <td>3459.510010</td>\n",
              "      <td>3395.520020</td>\n",
              "      <td>3457.239990</td>\n",
              "      <td>3457.239990</td>\n",
              "      <td>0.0</td>\n",
              "    </tr>\n",
              "    <tr>\n",
              "      <th>5</th>\n",
              "      <td>2001-06-08</td>\n",
              "      <td>3466.659912</td>\n",
              "      <td>3502.780029</td>\n",
              "      <td>3452.939941</td>\n",
              "      <td>3495.840088</td>\n",
              "      <td>3495.840088</td>\n",
              "      <td>0.0</td>\n",
              "    </tr>\n",
              "    <tr>\n",
              "      <th>6</th>\n",
              "      <td>2001-06-11</td>\n",
              "      <td>3507.340088</td>\n",
              "      <td>3525.040039</td>\n",
              "      <td>3482.800049</td>\n",
              "      <td>3509.320068</td>\n",
              "      <td>3509.320068</td>\n",
              "      <td>0.0</td>\n",
              "    </tr>\n",
              "    <tr>\n",
              "      <th>7</th>\n",
              "      <td>2001-06-12</td>\n",
              "      <td>3504.239990</td>\n",
              "      <td>3517.360107</td>\n",
              "      <td>3484.080078</td>\n",
              "      <td>3498.389893</td>\n",
              "      <td>3498.389893</td>\n",
              "      <td>0.0</td>\n",
              "    </tr>\n",
              "    <tr>\n",
              "      <th>8</th>\n",
              "      <td>2001-06-13</td>\n",
              "      <td>3499.320068</td>\n",
              "      <td>3519.129883</td>\n",
              "      <td>3492.949951</td>\n",
              "      <td>3501.610107</td>\n",
              "      <td>3501.610107</td>\n",
              "      <td>0.0</td>\n",
              "    </tr>\n",
              "    <tr>\n",
              "      <th>9</th>\n",
              "      <td>2001-06-14</td>\n",
              "      <td>3491.360107</td>\n",
              "      <td>3501.500000</td>\n",
              "      <td>3446.959961</td>\n",
              "      <td>3453.770020</td>\n",
              "      <td>3453.770020</td>\n",
              "      <td>0.0</td>\n",
              "    </tr>\n",
              "  </tbody>\n",
              "</table>\n",
              "</div>"
            ],
            "text/plain": [
              "        Date         Open         High  ...        Close    Adj Close  Volume\n",
              "0 2001-06-01  3637.030029  3651.320068  ...  3557.639893  3557.639893     0.0\n",
              "1 2001-06-04  3565.879883  3590.560059  ...  3498.379883  3498.379883     0.0\n",
              "2 2001-06-05  3495.989990  3510.679932  ...  3460.040039  3460.040039     0.0\n",
              "3 2001-06-06  3473.320068  3507.239990  ...  3457.310059  3457.310059     0.0\n",
              "4 2001-06-07  3455.860107  3459.510010  ...  3457.239990  3457.239990     0.0\n",
              "5 2001-06-08  3466.659912  3502.780029  ...  3495.840088  3495.840088     0.0\n",
              "6 2001-06-11  3507.340088  3525.040039  ...  3509.320068  3509.320068     0.0\n",
              "7 2001-06-12  3504.239990  3517.360107  ...  3498.389893  3498.389893     0.0\n",
              "8 2001-06-13  3499.320068  3519.129883  ...  3501.610107  3501.610107     0.0\n",
              "9 2001-06-14  3491.360107  3501.500000  ...  3453.770020  3453.770020     0.0\n",
              "\n",
              "[10 rows x 7 columns]"
            ]
          },
          "metadata": {
            "tags": []
          },
          "execution_count": 5
        }
      ]
    },
    {
      "cell_type": "code",
      "metadata": {
        "id": "Q6CLjHjw95DF",
        "outputId": "860d9954-3938-4a5c-fbaa-688f43f65ec3",
        "colab": {
          "base_uri": "https://localhost:8080/",
          "height": 235
        }
      },
      "source": [
        "# stock['Date'] = stock['Date'].astype('datetime64[ns]')\n",
        "stock_df = stock[stock['Date'] > '2015-01-01']\n",
        "stock_df.set_index('Date', inplace=True)\n",
        "stock_df.head()"
      ],
      "execution_count": 8,
      "outputs": [
        {
          "output_type": "execute_result",
          "data": {
            "text/html": [
              "<div>\n",
              "<style scoped>\n",
              "    .dataframe tbody tr th:only-of-type {\n",
              "        vertical-align: middle;\n",
              "    }\n",
              "\n",
              "    .dataframe tbody tr th {\n",
              "        vertical-align: top;\n",
              "    }\n",
              "\n",
              "    .dataframe thead th {\n",
              "        text-align: right;\n",
              "    }\n",
              "</style>\n",
              "<table border=\"1\" class=\"dataframe\">\n",
              "  <thead>\n",
              "    <tr style=\"text-align: right;\">\n",
              "      <th></th>\n",
              "      <th>Open</th>\n",
              "      <th>High</th>\n",
              "      <th>Low</th>\n",
              "      <th>Close</th>\n",
              "      <th>Adj Close</th>\n",
              "      <th>Volume</th>\n",
              "    </tr>\n",
              "    <tr>\n",
              "      <th>Date</th>\n",
              "      <th></th>\n",
              "      <th></th>\n",
              "      <th></th>\n",
              "      <th></th>\n",
              "      <th></th>\n",
              "      <th></th>\n",
              "    </tr>\n",
              "  </thead>\n",
              "  <tbody>\n",
              "    <tr>\n",
              "      <th>2015-01-02</th>\n",
              "      <td>27521.279297</td>\n",
              "      <td>27937.470703</td>\n",
              "      <td>27519.259766</td>\n",
              "      <td>27887.900391</td>\n",
              "      <td>27887.900391</td>\n",
              "      <td>7400.0</td>\n",
              "    </tr>\n",
              "    <tr>\n",
              "      <th>2015-01-05</th>\n",
              "      <td>27978.429688</td>\n",
              "      <td>28064.490234</td>\n",
              "      <td>27786.849609</td>\n",
              "      <td>27842.320313</td>\n",
              "      <td>27842.320313</td>\n",
              "      <td>9200.0</td>\n",
              "    </tr>\n",
              "    <tr>\n",
              "      <th>2015-01-06</th>\n",
              "      <td>27694.230469</td>\n",
              "      <td>27698.929688</td>\n",
              "      <td>26937.060547</td>\n",
              "      <td>26987.460938</td>\n",
              "      <td>26987.460938</td>\n",
              "      <td>14100.0</td>\n",
              "    </tr>\n",
              "    <tr>\n",
              "      <th>2015-01-07</th>\n",
              "      <td>26983.429688</td>\n",
              "      <td>27051.599609</td>\n",
              "      <td>26776.119141</td>\n",
              "      <td>26908.820313</td>\n",
              "      <td>26908.820313</td>\n",
              "      <td>12200.0</td>\n",
              "    </tr>\n",
              "    <tr>\n",
              "      <th>2015-01-08</th>\n",
              "      <td>27178.769531</td>\n",
              "      <td>27316.410156</td>\n",
              "      <td>27101.939453</td>\n",
              "      <td>27274.710938</td>\n",
              "      <td>27274.710938</td>\n",
              "      <td>8200.0</td>\n",
              "    </tr>\n",
              "  </tbody>\n",
              "</table>\n",
              "</div>"
            ],
            "text/plain": [
              "                    Open          High  ...     Adj Close   Volume\n",
              "Date                                    ...                       \n",
              "2015-01-02  27521.279297  27937.470703  ...  27887.900391   7400.0\n",
              "2015-01-05  27978.429688  28064.490234  ...  27842.320313   9200.0\n",
              "2015-01-06  27694.230469  27698.929688  ...  26987.460938  14100.0\n",
              "2015-01-07  26983.429688  27051.599609  ...  26908.820313  12200.0\n",
              "2015-01-08  27178.769531  27316.410156  ...  27274.710938   8200.0\n",
              "\n",
              "[5 rows x 6 columns]"
            ]
          },
          "metadata": {
            "tags": []
          },
          "execution_count": 8
        }
      ]
    },
    {
      "cell_type": "code",
      "metadata": {
        "id": "NIyRWQX795DZ",
        "outputId": "7baef2ef-cf50-4cd0-eb4e-83ccf721fbda",
        "colab": {
          "base_uri": "https://localhost:8080/",
          "height": 424
        }
      },
      "source": [
        "print(stock.shape)\n",
        "print(stock_df.shape)\n",
        "\n",
        "stock_df.tail(10)"
      ],
      "execution_count": 9,
      "outputs": [
        {
          "output_type": "stream",
          "text": [
            "(4760, 7)\n",
            "(1350, 6)\n"
          ],
          "name": "stdout"
        },
        {
          "output_type": "execute_result",
          "data": {
            "text/html": [
              "<div>\n",
              "<style scoped>\n",
              "    .dataframe tbody tr th:only-of-type {\n",
              "        vertical-align: middle;\n",
              "    }\n",
              "\n",
              "    .dataframe tbody tr th {\n",
              "        vertical-align: top;\n",
              "    }\n",
              "\n",
              "    .dataframe thead th {\n",
              "        text-align: right;\n",
              "    }\n",
              "</style>\n",
              "<table border=\"1\" class=\"dataframe\">\n",
              "  <thead>\n",
              "    <tr style=\"text-align: right;\">\n",
              "      <th></th>\n",
              "      <th>Open</th>\n",
              "      <th>High</th>\n",
              "      <th>Low</th>\n",
              "      <th>Close</th>\n",
              "      <th>Adj Close</th>\n",
              "      <th>Volume</th>\n",
              "    </tr>\n",
              "    <tr>\n",
              "      <th>Date</th>\n",
              "      <th></th>\n",
              "      <th></th>\n",
              "      <th></th>\n",
              "      <th></th>\n",
              "      <th></th>\n",
              "      <th></th>\n",
              "    </tr>\n",
              "  </thead>\n",
              "  <tbody>\n",
              "    <tr>\n",
              "      <th>2020-06-16</th>\n",
              "      <td>33853.718750</td>\n",
              "      <td>34022.011719</td>\n",
              "      <td>32953.300781</td>\n",
              "      <td>33605.218750</td>\n",
              "      <td>33605.218750</td>\n",
              "      <td>27400.0</td>\n",
              "    </tr>\n",
              "    <tr>\n",
              "      <th>2020-06-17</th>\n",
              "      <td>33438.308594</td>\n",
              "      <td>33933.660156</td>\n",
              "      <td>33332.960938</td>\n",
              "      <td>33507.921875</td>\n",
              "      <td>33507.921875</td>\n",
              "      <td>20200.0</td>\n",
              "    </tr>\n",
              "    <tr>\n",
              "      <th>2020-06-18</th>\n",
              "      <td>33371.519531</td>\n",
              "      <td>34276.011719</td>\n",
              "      <td>33371.519531</td>\n",
              "      <td>34208.050781</td>\n",
              "      <td>34208.050781</td>\n",
              "      <td>21200.0</td>\n",
              "    </tr>\n",
              "    <tr>\n",
              "      <th>2020-06-19</th>\n",
              "      <td>34335.378906</td>\n",
              "      <td>34848.371094</td>\n",
              "      <td>34136.390625</td>\n",
              "      <td>34731.730469</td>\n",
              "      <td>34731.730469</td>\n",
              "      <td>27900.0</td>\n",
              "    </tr>\n",
              "    <tr>\n",
              "      <th>2020-06-22</th>\n",
              "      <td>34892.031250</td>\n",
              "      <td>35213.519531</td>\n",
              "      <td>34794.398438</td>\n",
              "      <td>34911.320313</td>\n",
              "      <td>34911.320313</td>\n",
              "      <td>25100.0</td>\n",
              "    </tr>\n",
              "    <tr>\n",
              "      <th>2020-06-23</th>\n",
              "      <td>35015.730469</td>\n",
              "      <td>35482.160156</td>\n",
              "      <td>34843.691406</td>\n",
              "      <td>35430.429688</td>\n",
              "      <td>35430.429688</td>\n",
              "      <td>25200.0</td>\n",
              "    </tr>\n",
              "    <tr>\n",
              "      <th>2020-06-24</th>\n",
              "      <td>35679.738281</td>\n",
              "      <td>35706.550781</td>\n",
              "      <td>34794.929688</td>\n",
              "      <td>34868.980469</td>\n",
              "      <td>34868.980469</td>\n",
              "      <td>26600.0</td>\n",
              "    </tr>\n",
              "    <tr>\n",
              "      <th>2020-06-25</th>\n",
              "      <td>34525.390625</td>\n",
              "      <td>35081.609375</td>\n",
              "      <td>34499.781250</td>\n",
              "      <td>34842.101563</td>\n",
              "      <td>34842.101563</td>\n",
              "      <td>24600.0</td>\n",
              "    </tr>\n",
              "    <tr>\n",
              "      <th>2020-06-26</th>\n",
              "      <td>35144.781250</td>\n",
              "      <td>35254.878906</td>\n",
              "      <td>34910.339844</td>\n",
              "      <td>35171.269531</td>\n",
              "      <td>35171.269531</td>\n",
              "      <td>24800.0</td>\n",
              "    </tr>\n",
              "    <tr>\n",
              "      <th>2020-06-29</th>\n",
              "      <td>34926.949219</td>\n",
              "      <td>35032.359375</td>\n",
              "      <td>34662.058594</td>\n",
              "      <td>34961.519531</td>\n",
              "      <td>34961.519531</td>\n",
              "      <td>18300.0</td>\n",
              "    </tr>\n",
              "  </tbody>\n",
              "</table>\n",
              "</div>"
            ],
            "text/plain": [
              "                    Open          High  ...     Adj Close   Volume\n",
              "Date                                    ...                       \n",
              "2020-06-16  33853.718750  34022.011719  ...  33605.218750  27400.0\n",
              "2020-06-17  33438.308594  33933.660156  ...  33507.921875  20200.0\n",
              "2020-06-18  33371.519531  34276.011719  ...  34208.050781  21200.0\n",
              "2020-06-19  34335.378906  34848.371094  ...  34731.730469  27900.0\n",
              "2020-06-22  34892.031250  35213.519531  ...  34911.320313  25100.0\n",
              "2020-06-23  35015.730469  35482.160156  ...  35430.429688  25200.0\n",
              "2020-06-24  35679.738281  35706.550781  ...  34868.980469  26600.0\n",
              "2020-06-25  34525.390625  35081.609375  ...  34842.101563  24600.0\n",
              "2020-06-26  35144.781250  35254.878906  ...  35171.269531  24800.0\n",
              "2020-06-29  34926.949219  35032.359375  ...  34961.519531  18300.0\n",
              "\n",
              "[10 rows x 6 columns]"
            ]
          },
          "metadata": {
            "tags": []
          },
          "execution_count": 9
        }
      ]
    },
    {
      "cell_type": "code",
      "metadata": {
        "id": "UtT4ltO195D7"
      },
      "source": [
        "# stock_df.style.format({\"Date\": lambda t: t.strftime(\"%d/%m/%Y\")})\n",
        "# stock_df.head()"
      ],
      "execution_count": 10,
      "outputs": []
    },
    {
      "cell_type": "code",
      "metadata": {
        "id": "mhIu7iOg95EL",
        "outputId": "799d2be9-7e79-4e15-ddb3-dcf34027497b",
        "colab": {
          "base_uri": "https://localhost:8080/",
          "height": 255
        }
      },
      "source": [
        "stock.info()"
      ],
      "execution_count": 11,
      "outputs": [
        {
          "output_type": "stream",
          "text": [
            "<class 'pandas.core.frame.DataFrame'>\n",
            "RangeIndex: 4760 entries, 0 to 4759\n",
            "Data columns (total 7 columns):\n",
            " #   Column     Non-Null Count  Dtype         \n",
            "---  ------     --------------  -----         \n",
            " 0   Date       4760 non-null   datetime64[ns]\n",
            " 1   Open       4691 non-null   float64       \n",
            " 2   High       4691 non-null   float64       \n",
            " 3   Low        4691 non-null   float64       \n",
            " 4   Close      4691 non-null   float64       \n",
            " 5   Adj Close  4691 non-null   float64       \n",
            " 6   Volume     4691 non-null   float64       \n",
            "dtypes: datetime64[ns](1), float64(6)\n",
            "memory usage: 260.4 KB\n"
          ],
          "name": "stdout"
        }
      ]
    },
    {
      "cell_type": "code",
      "metadata": {
        "id": "Xwi9sYdq95Eh",
        "outputId": "d3f54f78-3088-4a2a-9ac6-9b57e36996d3",
        "colab": {
          "base_uri": "https://localhost:8080/",
          "height": 136
        }
      },
      "source": [
        "stock_df.dropna(inplace=True)\n",
        "\n",
        "# check the null values \n",
        "stock_df.isnull().sum()"
      ],
      "execution_count": 12,
      "outputs": [
        {
          "output_type": "execute_result",
          "data": {
            "text/plain": [
              "Open         0\n",
              "High         0\n",
              "Low          0\n",
              "Close        0\n",
              "Adj Close    0\n",
              "Volume       0\n",
              "dtype: int64"
            ]
          },
          "metadata": {
            "tags": []
          },
          "execution_count": 12
        }
      ]
    },
    {
      "cell_type": "markdown",
      "metadata": {
        "id": "Hwov6Fln95FR"
      },
      "source": [
        "## Text  Preprocessing "
      ]
    },
    {
      "cell_type": "code",
      "metadata": {
        "id": "WwzwjOpN95FU",
        "outputId": "7053a050-ca0c-4e06-f833-f90992fa1f13",
        "colab": {
          "base_uri": "https://localhost:8080/",
          "height": 34
        }
      },
      "source": [
        "news_df = news.iloc[:10000,:]\n",
        "news_df.shape"
      ],
      "execution_count": 73,
      "outputs": [
        {
          "output_type": "execute_result",
          "data": {
            "text/plain": [
              "(10000, 3)"
            ]
          },
          "metadata": {
            "tags": []
          },
          "execution_count": 73
        }
      ]
    },
    {
      "cell_type": "code",
      "metadata": {
        "id": "_rN4UU6Q95Fk",
        "outputId": "e60d2c2d-eb62-4440-8f53-47cf5ac205d4",
        "colab": {
          "base_uri": "https://localhost:8080/",
          "height": 34
        }
      },
      "source": [
        "len(news_df.publish_date)"
      ],
      "execution_count": 74,
      "outputs": [
        {
          "output_type": "execute_result",
          "data": {
            "text/plain": [
              "10000"
            ]
          },
          "metadata": {
            "tags": []
          },
          "execution_count": 74
        }
      ]
    },
    {
      "cell_type": "code",
      "metadata": {
        "id": "nHXVFvZL95Fx",
        "outputId": "96e67d40-d2b4-408b-ed7a-5d03a2960331",
        "colab": {
          "base_uri": "https://localhost:8080/",
          "height": 187
        }
      },
      "source": [
        "news_df.headline_category.unique()"
      ],
      "execution_count": 75,
      "outputs": [
        {
          "output_type": "execute_result",
          "data": {
            "text/plain": [
              "array(['sports.wwe', 'unknown', 'entertainment.hindi.bollywood', 'india',\n",
              "       'city.bengaluru', 'city.patna', 'business.india-business',\n",
              "       'entertainment.english.hollywood', 'city.delhi', 'edit-page',\n",
              "       'sports.cricket.india-domestic.ranji-trophy', 'sports.football',\n",
              "       'only-in-america', 'city.ahmedabad', 'jugular-vein', 'swaminomics',\n",
              "       'city.thiruvananthapuram', 'city.pune', 'home.science',\n",
              "       'city.mumbai', 'city.chandigarh', 'city.lucknow', 'city.kolkata',\n",
              "       'city.hyderabad', 'cricket', 'business.international-business',\n",
              "       'city', 'removed', 'home.sunday-times.deep-focus', 'bombay-times'],\n",
              "      dtype=object)"
            ]
          },
          "metadata": {
            "tags": []
          },
          "execution_count": 75
        }
      ]
    },
    {
      "cell_type": "code",
      "metadata": {
        "id": "OQeh3y0v95F-",
        "outputId": "8663099f-b2f3-45cc-d3ad-23acbb22d9a0",
        "colab": {
          "base_uri": "https://localhost:8080/",
          "height": 204
        }
      },
      "source": [
        "news_df.headline_text[:10]"
      ],
      "execution_count": 76,
      "outputs": [
        {
          "output_type": "execute_result",
          "data": {
            "text/plain": [
              "0    win over cena satisfying but defeating underta...\n",
              "1    Status quo will not be disturbed at Ayodhya; s...\n",
              "2                  Fissures in Hurriyat over Pak visit\n",
              "3                America's unwanted heading for India?\n",
              "4                   For bigwigs; it is destination Goa\n",
              "5                 Extra buses to clear tourist traffic\n",
              "6          Dilute the power of transfers; says Riberio\n",
              "7                    Focus shifts to teaching of Hindi\n",
              "8                 IT will become compulsory in schools\n",
              "9        Move to stop freedom fighters' pension flayed\n",
              "Name: headline_text, dtype: object"
            ]
          },
          "metadata": {
            "tags": []
          },
          "execution_count": 76
        }
      ]
    },
    {
      "cell_type": "code",
      "metadata": {
        "id": "lz-M2pYN95GS",
        "outputId": "f4d6fea3-b5bc-4643-ebe2-adf8926c1a06",
        "colab": {
          "base_uri": "https://localhost:8080/",
          "height": 51
        }
      },
      "source": [
        "# Cleaning the texts\n",
        "import re\n",
        "import nltk\n",
        "nltk.download('stopwords')\n",
        "from nltk.stem.porter import PorterStemmer\n",
        "from nltk.corpus import stopwords\n",
        "corpus = []\n",
        "for i in range(0,10000):\n",
        "    headline = re.sub('[^a-zA-Z]', ' ',news_df['headline_text'][i])\n",
        "    headline = headline.lower()\n",
        "    headline = headline.split()\n",
        "#     ps = PorterStemmer()\n",
        "#     headline = [ps.stem(word) for word in headline if not word in set(stopwords.words('english'))]\n",
        "    headline = ' '.join(headline)\n",
        "    corpus.append(headline)"
      ],
      "execution_count": 77,
      "outputs": [
        {
          "output_type": "stream",
          "text": [
            "[nltk_data] Downloading package stopwords to /root/nltk_data...\n",
            "[nltk_data]   Unzipping corpora/stopwords.zip.\n"
          ],
          "name": "stdout"
        }
      ]
    },
    {
      "cell_type": "code",
      "metadata": {
        "id": "JAMsumGd95Ge",
        "outputId": "ef765b19-8404-47e8-a290-72c4a468ce36",
        "colab": {
          "base_uri": "https://localhost:8080/",
          "height": 85
        }
      },
      "source": [
        "corpus[:4]"
      ],
      "execution_count": 78,
      "outputs": [
        {
          "output_type": "execute_result",
          "data": {
            "text/plain": [
              "['win over cena satisfying but defeating undertaker bigger roman reigns',\n",
              " 'status quo will not be disturbed at ayodhya says vajpayee',\n",
              " 'fissures in hurriyat over pak visit',\n",
              " 'america s unwanted heading for india']"
            ]
          },
          "metadata": {
            "tags": []
          },
          "execution_count": 78
        }
      ]
    },
    {
      "cell_type": "code",
      "metadata": {
        "id": "_XMjtmS495Gp"
      },
      "source": [
        "news_df['clean_headline'] = corpus"
      ],
      "execution_count": 79,
      "outputs": []
    },
    {
      "cell_type": "code",
      "metadata": {
        "id": "ZITsnKr495G2",
        "outputId": "2477db58-7a21-458d-9e71-5692c57ce00a",
        "colab": {
          "base_uri": "https://localhost:8080/",
          "height": 204
        }
      },
      "source": [
        "news_df.head()"
      ],
      "execution_count": 80,
      "outputs": [
        {
          "output_type": "execute_result",
          "data": {
            "text/html": [
              "<div>\n",
              "<style scoped>\n",
              "    .dataframe tbody tr th:only-of-type {\n",
              "        vertical-align: middle;\n",
              "    }\n",
              "\n",
              "    .dataframe tbody tr th {\n",
              "        vertical-align: top;\n",
              "    }\n",
              "\n",
              "    .dataframe thead th {\n",
              "        text-align: right;\n",
              "    }\n",
              "</style>\n",
              "<table border=\"1\" class=\"dataframe\">\n",
              "  <thead>\n",
              "    <tr style=\"text-align: right;\">\n",
              "      <th></th>\n",
              "      <th>publish_date</th>\n",
              "      <th>headline_category</th>\n",
              "      <th>headline_text</th>\n",
              "      <th>clean_headline</th>\n",
              "    </tr>\n",
              "  </thead>\n",
              "  <tbody>\n",
              "    <tr>\n",
              "      <th>0</th>\n",
              "      <td>2001-01-01</td>\n",
              "      <td>sports.wwe</td>\n",
              "      <td>win over cena satisfying but defeating underta...</td>\n",
              "      <td>win over cena satisfying but defeating underta...</td>\n",
              "    </tr>\n",
              "    <tr>\n",
              "      <th>1</th>\n",
              "      <td>2001-01-02</td>\n",
              "      <td>unknown</td>\n",
              "      <td>Status quo will not be disturbed at Ayodhya; s...</td>\n",
              "      <td>status quo will not be disturbed at ayodhya sa...</td>\n",
              "    </tr>\n",
              "    <tr>\n",
              "      <th>2</th>\n",
              "      <td>2001-01-02</td>\n",
              "      <td>unknown</td>\n",
              "      <td>Fissures in Hurriyat over Pak visit</td>\n",
              "      <td>fissures in hurriyat over pak visit</td>\n",
              "    </tr>\n",
              "    <tr>\n",
              "      <th>3</th>\n",
              "      <td>2001-01-02</td>\n",
              "      <td>unknown</td>\n",
              "      <td>America's unwanted heading for India?</td>\n",
              "      <td>america s unwanted heading for india</td>\n",
              "    </tr>\n",
              "    <tr>\n",
              "      <th>4</th>\n",
              "      <td>2001-01-02</td>\n",
              "      <td>unknown</td>\n",
              "      <td>For bigwigs; it is destination Goa</td>\n",
              "      <td>for bigwigs it is destination goa</td>\n",
              "    </tr>\n",
              "  </tbody>\n",
              "</table>\n",
              "</div>"
            ],
            "text/plain": [
              "  publish_date  ...                                     clean_headline\n",
              "0   2001-01-01  ...  win over cena satisfying but defeating underta...\n",
              "1   2001-01-02  ...  status quo will not be disturbed at ayodhya sa...\n",
              "2   2001-01-02  ...                fissures in hurriyat over pak visit\n",
              "3   2001-01-02  ...               america s unwanted heading for india\n",
              "4   2001-01-02  ...                  for bigwigs it is destination goa\n",
              "\n",
              "[5 rows x 4 columns]"
            ]
          },
          "metadata": {
            "tags": []
          },
          "execution_count": 80
        }
      ]
    },
    {
      "cell_type": "markdown",
      "metadata": {
        "id": "rOW1E43i3YL-"
      },
      "source": [
        "## Check the Sentiments of the news"
      ]
    },
    {
      "cell_type": "code",
      "metadata": {
        "id": "eChB6llE95HI",
        "outputId": "4a8c7daa-9128-4cb8-e136-e414f700a034",
        "colab": {
          "base_uri": "https://localhost:8080/",
          "height": 207
        }
      },
      "source": [
        "!pip install vaderSentiment\n",
        "# $ pip install --upgrade vaderSentiment"
      ],
      "execution_count": 87,
      "outputs": [
        {
          "output_type": "stream",
          "text": [
            "Collecting vaderSentiment\n",
            "\u001b[?25l  Downloading https://files.pythonhosted.org/packages/76/fc/310e16254683c1ed35eeb97386986d6c00bc29df17ce280aed64d55537e9/vaderSentiment-3.3.2-py2.py3-none-any.whl (125kB)\n",
            "\r\u001b[K     |██▋                             | 10kB 18.0MB/s eta 0:00:01\r\u001b[K     |█████▏                          | 20kB 5.9MB/s eta 0:00:01\r\u001b[K     |███████▉                        | 30kB 6.8MB/s eta 0:00:01\r\u001b[K     |██████████▍                     | 40kB 7.6MB/s eta 0:00:01\r\u001b[K     |█████████████                   | 51kB 6.5MB/s eta 0:00:01\r\u001b[K     |███████████████▋                | 61kB 7.1MB/s eta 0:00:01\r\u001b[K     |██████████████████▏             | 71kB 7.5MB/s eta 0:00:01\r\u001b[K     |████████████████████▉           | 81kB 8.0MB/s eta 0:00:01\r\u001b[K     |███████████████████████▍        | 92kB 7.4MB/s eta 0:00:01\r\u001b[K     |██████████████████████████      | 102kB 7.8MB/s eta 0:00:01\r\u001b[K     |████████████████████████████▋   | 112kB 7.8MB/s eta 0:00:01\r\u001b[K     |███████████████████████████████▏| 122kB 7.8MB/s eta 0:00:01\r\u001b[K     |████████████████████████████████| 133kB 7.8MB/s \n",
            "\u001b[?25hRequirement already satisfied: requests in /usr/local/lib/python3.6/dist-packages (from vaderSentiment) (2.23.0)\n",
            "Requirement already satisfied: certifi>=2017.4.17 in /usr/local/lib/python3.6/dist-packages (from requests->vaderSentiment) (2020.6.20)\n",
            "Requirement already satisfied: urllib3!=1.25.0,!=1.25.1,<1.26,>=1.21.1 in /usr/local/lib/python3.6/dist-packages (from requests->vaderSentiment) (1.24.3)\n",
            "Requirement already satisfied: idna<3,>=2.5 in /usr/local/lib/python3.6/dist-packages (from requests->vaderSentiment) (2.10)\n",
            "Requirement already satisfied: chardet<4,>=3.0.2 in /usr/local/lib/python3.6/dist-packages (from requests->vaderSentiment) (3.0.4)\n",
            "Installing collected packages: vaderSentiment\n",
            "Successfully installed vaderSentiment-3.3.2\n"
          ],
          "name": "stdout"
        }
      ]
    },
    {
      "cell_type": "code",
      "metadata": {
        "id": "F4UtUlzw95HV",
        "outputId": "d88d8418-c76a-42c2-bb3c-72a06b34c427",
        "colab": {
          "base_uri": "https://localhost:8080/",
          "height": 51
        }
      },
      "source": [
        "nltk.download('vader_lexicon')\n",
        "from vaderSentiment.vaderSentiment import SentimentIntensityAnalyzer\n",
        "std = SentimentIntensityAnalyzer()"
      ],
      "execution_count": 88,
      "outputs": [
        {
          "output_type": "stream",
          "text": [
            "[nltk_data] Downloading package vader_lexicon to /root/nltk_data...\n",
            "[nltk_data]   Package vader_lexicon is already up-to-date!\n"
          ],
          "name": "stdout"
        }
      ]
    },
    {
      "cell_type": "code",
      "metadata": {
        "id": "1nQ1vpRV95Hn",
        "outputId": "2ed74895-16c3-4104-b6cf-11e8011b3861",
        "colab": {
          "base_uri": "https://localhost:8080/",
          "height": 34
        }
      },
      "source": [
        "# Check the output with an example\n",
        "a = 'I like to stand here'\n",
        "std.polarity_scores(a)"
      ],
      "execution_count": 89,
      "outputs": [
        {
          "output_type": "execute_result",
          "data": {
            "text/plain": [
              "{'compound': 0.3612, 'neg': 0.0, 'neu': 0.615, 'pos': 0.385}"
            ]
          },
          "metadata": {
            "tags": []
          },
          "execution_count": 89
        }
      ]
    },
    {
      "cell_type": "code",
      "metadata": {
        "id": "IHOaRsRe95H-",
        "outputId": "195f0e7f-8631-4b02-e97a-7deaa9d3ddaa",
        "colab": {
          "base_uri": "https://localhost:8080/",
          "height": 34
        }
      },
      "source": [
        "# check the polarity for headline on index '0'\n",
        "std.polarity_scores(news_df.loc[0]['clean_headline'])"
      ],
      "execution_count": 90,
      "outputs": [
        {
          "output_type": "execute_result",
          "data": {
            "text/plain": [
              "{'compound': -0.0, 'neg': 0.23, 'neu': 0.473, 'pos': 0.297}"
            ]
          },
          "metadata": {
            "tags": []
          },
          "execution_count": 90
        }
      ]
    },
    {
      "cell_type": "code",
      "metadata": {
        "id": "jQqSWYL095IR",
        "outputId": "72741f22-2488-45aa-ea1a-af0cca1aed45",
        "colab": {
          "base_uri": "https://localhost:8080/",
          "height": 204
        }
      },
      "source": [
        "news_df['score'] = news_df['clean_headline'].apply(lambda clean_headline: std.polarity_scores(clean_headline))\n",
        "news_df.head()"
      ],
      "execution_count": 91,
      "outputs": [
        {
          "output_type": "execute_result",
          "data": {
            "text/html": [
              "<div>\n",
              "<style scoped>\n",
              "    .dataframe tbody tr th:only-of-type {\n",
              "        vertical-align: middle;\n",
              "    }\n",
              "\n",
              "    .dataframe tbody tr th {\n",
              "        vertical-align: top;\n",
              "    }\n",
              "\n",
              "    .dataframe thead th {\n",
              "        text-align: right;\n",
              "    }\n",
              "</style>\n",
              "<table border=\"1\" class=\"dataframe\">\n",
              "  <thead>\n",
              "    <tr style=\"text-align: right;\">\n",
              "      <th></th>\n",
              "      <th>publish_date</th>\n",
              "      <th>headline_category</th>\n",
              "      <th>headline_text</th>\n",
              "      <th>clean_headline</th>\n",
              "      <th>score</th>\n",
              "    </tr>\n",
              "  </thead>\n",
              "  <tbody>\n",
              "    <tr>\n",
              "      <th>0</th>\n",
              "      <td>2001-01-01</td>\n",
              "      <td>sports.wwe</td>\n",
              "      <td>win over cena satisfying but defeating underta...</td>\n",
              "      <td>win over cena satisfying but defeating underta...</td>\n",
              "      <td>{'neg': 0.23, 'neu': 0.473, 'pos': 0.297, 'com...</td>\n",
              "    </tr>\n",
              "    <tr>\n",
              "      <th>1</th>\n",
              "      <td>2001-01-02</td>\n",
              "      <td>unknown</td>\n",
              "      <td>Status quo will not be disturbed at Ayodhya; s...</td>\n",
              "      <td>status quo will not be disturbed at ayodhya sa...</td>\n",
              "      <td>{'neg': 0.0, 'neu': 0.805, 'pos': 0.195, 'comp...</td>\n",
              "    </tr>\n",
              "    <tr>\n",
              "      <th>2</th>\n",
              "      <td>2001-01-02</td>\n",
              "      <td>unknown</td>\n",
              "      <td>Fissures in Hurriyat over Pak visit</td>\n",
              "      <td>fissures in hurriyat over pak visit</td>\n",
              "      <td>{'neg': 0.0, 'neu': 1.0, 'pos': 0.0, 'compound...</td>\n",
              "    </tr>\n",
              "    <tr>\n",
              "      <th>3</th>\n",
              "      <td>2001-01-02</td>\n",
              "      <td>unknown</td>\n",
              "      <td>America's unwanted heading for India?</td>\n",
              "      <td>america s unwanted heading for india</td>\n",
              "      <td>{'neg': 0.275, 'neu': 0.725, 'pos': 0.0, 'comp...</td>\n",
              "    </tr>\n",
              "    <tr>\n",
              "      <th>4</th>\n",
              "      <td>2001-01-02</td>\n",
              "      <td>unknown</td>\n",
              "      <td>For bigwigs; it is destination Goa</td>\n",
              "      <td>for bigwigs it is destination goa</td>\n",
              "      <td>{'neg': 0.0, 'neu': 1.0, 'pos': 0.0, 'compound...</td>\n",
              "    </tr>\n",
              "  </tbody>\n",
              "</table>\n",
              "</div>"
            ],
            "text/plain": [
              "  publish_date  ...                                              score\n",
              "0   2001-01-01  ...  {'neg': 0.23, 'neu': 0.473, 'pos': 0.297, 'com...\n",
              "1   2001-01-02  ...  {'neg': 0.0, 'neu': 0.805, 'pos': 0.195, 'comp...\n",
              "2   2001-01-02  ...  {'neg': 0.0, 'neu': 1.0, 'pos': 0.0, 'compound...\n",
              "3   2001-01-02  ...  {'neg': 0.275, 'neu': 0.725, 'pos': 0.0, 'comp...\n",
              "4   2001-01-02  ...  {'neg': 0.0, 'neu': 1.0, 'pos': 0.0, 'compound...\n",
              "\n",
              "[5 rows x 5 columns]"
            ]
          },
          "metadata": {
            "tags": []
          },
          "execution_count": 91
        }
      ]
    },
    {
      "cell_type": "code",
      "metadata": {
        "id": "ALTNtL7W95Ih",
        "outputId": "fe56f75a-63c1-46e2-e4e1-7fa3b988b783",
        "colab": {
          "base_uri": "https://localhost:8080/",
          "height": 289
        }
      },
      "source": [
        "news_df['compound']= news_df['score'].apply(lambda score_dict: score_dict['compound'])\n",
        "news_df.head()"
      ],
      "execution_count": 93,
      "outputs": [
        {
          "output_type": "execute_result",
          "data": {
            "text/html": [
              "<div>\n",
              "<style scoped>\n",
              "    .dataframe tbody tr th:only-of-type {\n",
              "        vertical-align: middle;\n",
              "    }\n",
              "\n",
              "    .dataframe tbody tr th {\n",
              "        vertical-align: top;\n",
              "    }\n",
              "\n",
              "    .dataframe thead th {\n",
              "        text-align: right;\n",
              "    }\n",
              "</style>\n",
              "<table border=\"1\" class=\"dataframe\">\n",
              "  <thead>\n",
              "    <tr style=\"text-align: right;\">\n",
              "      <th></th>\n",
              "      <th>publish_date</th>\n",
              "      <th>headline_category</th>\n",
              "      <th>headline_text</th>\n",
              "      <th>clean_headline</th>\n",
              "      <th>score</th>\n",
              "      <th>compound</th>\n",
              "    </tr>\n",
              "  </thead>\n",
              "  <tbody>\n",
              "    <tr>\n",
              "      <th>0</th>\n",
              "      <td>2001-01-01</td>\n",
              "      <td>sports.wwe</td>\n",
              "      <td>win over cena satisfying but defeating underta...</td>\n",
              "      <td>win over cena satisfying but defeating underta...</td>\n",
              "      <td>{'neg': 0.23, 'neu': 0.473, 'pos': 0.297, 'com...</td>\n",
              "      <td>-0.0000</td>\n",
              "    </tr>\n",
              "    <tr>\n",
              "      <th>1</th>\n",
              "      <td>2001-01-02</td>\n",
              "      <td>unknown</td>\n",
              "      <td>Status quo will not be disturbed at Ayodhya; s...</td>\n",
              "      <td>status quo will not be disturbed at ayodhya sa...</td>\n",
              "      <td>{'neg': 0.0, 'neu': 0.805, 'pos': 0.195, 'comp...</td>\n",
              "      <td>0.2924</td>\n",
              "    </tr>\n",
              "    <tr>\n",
              "      <th>2</th>\n",
              "      <td>2001-01-02</td>\n",
              "      <td>unknown</td>\n",
              "      <td>Fissures in Hurriyat over Pak visit</td>\n",
              "      <td>fissures in hurriyat over pak visit</td>\n",
              "      <td>{'neg': 0.0, 'neu': 1.0, 'pos': 0.0, 'compound...</td>\n",
              "      <td>0.0000</td>\n",
              "    </tr>\n",
              "    <tr>\n",
              "      <th>3</th>\n",
              "      <td>2001-01-02</td>\n",
              "      <td>unknown</td>\n",
              "      <td>America's unwanted heading for India?</td>\n",
              "      <td>america s unwanted heading for india</td>\n",
              "      <td>{'neg': 0.275, 'neu': 0.725, 'pos': 0.0, 'comp...</td>\n",
              "      <td>-0.2263</td>\n",
              "    </tr>\n",
              "    <tr>\n",
              "      <th>4</th>\n",
              "      <td>2001-01-02</td>\n",
              "      <td>unknown</td>\n",
              "      <td>For bigwigs; it is destination Goa</td>\n",
              "      <td>for bigwigs it is destination goa</td>\n",
              "      <td>{'neg': 0.0, 'neu': 1.0, 'pos': 0.0, 'compound...</td>\n",
              "      <td>0.0000</td>\n",
              "    </tr>\n",
              "  </tbody>\n",
              "</table>\n",
              "</div>"
            ],
            "text/plain": [
              "  publish_date  ... compound\n",
              "0   2001-01-01  ...  -0.0000\n",
              "1   2001-01-02  ...   0.2924\n",
              "2   2001-01-02  ...   0.0000\n",
              "3   2001-01-02  ...  -0.2263\n",
              "4   2001-01-02  ...   0.0000\n",
              "\n",
              "[5 rows x 6 columns]"
            ]
          },
          "metadata": {
            "tags": []
          },
          "execution_count": 93
        }
      ]
    },
    {
      "cell_type": "markdown",
      "metadata": {
        "id": "iZs14ytA95I3"
      },
      "source": [
        "Compound is computed by normalizing the score of Positive negative and neutral.\n",
        "\n",
        "So, Now on the basis of compound we will find postive and negative headline(<0.5 means positive and >0.5 is negative)."
      ]
    },
    {
      "cell_type": "code",
      "metadata": {
        "id": "jy_bzJJT95I-",
        "outputId": "8774e1a1-648c-43c4-fe69-7a39e7bbd14a",
        "colab": {
          "base_uri": "https://localhost:8080/",
          "height": 289
        }
      },
      "source": [
        "# Add sentiment reviews in new column\n",
        "news_df['comp_score']= news_df['compound'].apply(lambda c: 'pos' if c>=0 else 'neg')\n",
        "news_df.head()"
      ],
      "execution_count": 94,
      "outputs": [
        {
          "output_type": "execute_result",
          "data": {
            "text/html": [
              "<div>\n",
              "<style scoped>\n",
              "    .dataframe tbody tr th:only-of-type {\n",
              "        vertical-align: middle;\n",
              "    }\n",
              "\n",
              "    .dataframe tbody tr th {\n",
              "        vertical-align: top;\n",
              "    }\n",
              "\n",
              "    .dataframe thead th {\n",
              "        text-align: right;\n",
              "    }\n",
              "</style>\n",
              "<table border=\"1\" class=\"dataframe\">\n",
              "  <thead>\n",
              "    <tr style=\"text-align: right;\">\n",
              "      <th></th>\n",
              "      <th>publish_date</th>\n",
              "      <th>headline_category</th>\n",
              "      <th>headline_text</th>\n",
              "      <th>clean_headline</th>\n",
              "      <th>score</th>\n",
              "      <th>compound</th>\n",
              "      <th>comp_score</th>\n",
              "    </tr>\n",
              "  </thead>\n",
              "  <tbody>\n",
              "    <tr>\n",
              "      <th>0</th>\n",
              "      <td>2001-01-01</td>\n",
              "      <td>sports.wwe</td>\n",
              "      <td>win over cena satisfying but defeating underta...</td>\n",
              "      <td>win over cena satisfying but defeating underta...</td>\n",
              "      <td>{'neg': 0.23, 'neu': 0.473, 'pos': 0.297, 'com...</td>\n",
              "      <td>-0.0000</td>\n",
              "      <td>pos</td>\n",
              "    </tr>\n",
              "    <tr>\n",
              "      <th>1</th>\n",
              "      <td>2001-01-02</td>\n",
              "      <td>unknown</td>\n",
              "      <td>Status quo will not be disturbed at Ayodhya; s...</td>\n",
              "      <td>status quo will not be disturbed at ayodhya sa...</td>\n",
              "      <td>{'neg': 0.0, 'neu': 0.805, 'pos': 0.195, 'comp...</td>\n",
              "      <td>0.2924</td>\n",
              "      <td>pos</td>\n",
              "    </tr>\n",
              "    <tr>\n",
              "      <th>2</th>\n",
              "      <td>2001-01-02</td>\n",
              "      <td>unknown</td>\n",
              "      <td>Fissures in Hurriyat over Pak visit</td>\n",
              "      <td>fissures in hurriyat over pak visit</td>\n",
              "      <td>{'neg': 0.0, 'neu': 1.0, 'pos': 0.0, 'compound...</td>\n",
              "      <td>0.0000</td>\n",
              "      <td>pos</td>\n",
              "    </tr>\n",
              "    <tr>\n",
              "      <th>3</th>\n",
              "      <td>2001-01-02</td>\n",
              "      <td>unknown</td>\n",
              "      <td>America's unwanted heading for India?</td>\n",
              "      <td>america s unwanted heading for india</td>\n",
              "      <td>{'neg': 0.275, 'neu': 0.725, 'pos': 0.0, 'comp...</td>\n",
              "      <td>-0.2263</td>\n",
              "      <td>neg</td>\n",
              "    </tr>\n",
              "    <tr>\n",
              "      <th>4</th>\n",
              "      <td>2001-01-02</td>\n",
              "      <td>unknown</td>\n",
              "      <td>For bigwigs; it is destination Goa</td>\n",
              "      <td>for bigwigs it is destination goa</td>\n",
              "      <td>{'neg': 0.0, 'neu': 1.0, 'pos': 0.0, 'compound...</td>\n",
              "      <td>0.0000</td>\n",
              "      <td>pos</td>\n",
              "    </tr>\n",
              "  </tbody>\n",
              "</table>\n",
              "</div>"
            ],
            "text/plain": [
              "  publish_date headline_category  ... compound comp_score\n",
              "0   2001-01-01        sports.wwe  ...  -0.0000        pos\n",
              "1   2001-01-02           unknown  ...   0.2924        pos\n",
              "2   2001-01-02           unknown  ...   0.0000        pos\n",
              "3   2001-01-02           unknown  ...  -0.2263        neg\n",
              "4   2001-01-02           unknown  ...   0.0000        pos\n",
              "\n",
              "[5 rows x 7 columns]"
            ]
          },
          "metadata": {
            "tags": []
          },
          "execution_count": 94
        }
      ]
    },
    {
      "cell_type": "markdown",
      "metadata": {
        "id": "25kXsnJU95JP"
      },
      "source": [
        "# Topic modeling uisng LDA"
      ]
    },
    {
      "cell_type": "code",
      "metadata": {
        "id": "ortFlYSg95JT"
      },
      "source": [
        "from sklearn.feature_extraction.text import CountVectorizer"
      ],
      "execution_count": 95,
      "outputs": []
    },
    {
      "cell_type": "markdown",
      "metadata": {
        "id": "g-6wDNSj95Jl"
      },
      "source": [
        "Parameters we will use in CountVectorizer means:\n",
        "\n",
        "min_df : When building the vocabulary ignore terms that have a document\n",
        "    frequency strictly lower than the given threshold. This value is also\n",
        "    called cut-off in the literature.\n",
        "    \n",
        "max_df : When building the vocabulary ignore terms that have a document\n",
        "    frequency strictly higher than the given threshold (corpus-specific\n",
        "    stop words)."
      ]
    },
    {
      "cell_type": "code",
      "metadata": {
        "id": "v08e9d2Z95Jo",
        "outputId": "2ca0327a-5275-48ff-8122-2df6242dbb96",
        "colab": {
          "base_uri": "https://localhost:8080/",
          "height": 51
        }
      },
      "source": [
        "cv = CountVectorizer(max_df= 0.95, min_df=2, stop_words='english')\n",
        "dtm = cv.fit_transform(news_df['clean_headline'])\n",
        "dtm"
      ],
      "execution_count": 96,
      "outputs": [
        {
          "output_type": "execute_result",
          "data": {
            "text/plain": [
              "<10000x5929 sparse matrix of type '<class 'numpy.int64'>'\n",
              "\twith 38880 stored elements in Compressed Sparse Row format>"
            ]
          },
          "metadata": {
            "tags": []
          },
          "execution_count": 96
        }
      ]
    },
    {
      "cell_type": "code",
      "metadata": {
        "id": "GiRHarMM95J5"
      },
      "source": [
        "# from sklearn.discriminant_analysis import LinearDiscriminantAnalysis\n",
        "\n",
        "# lda = LinearDiscriminantAnalysis(n_components=7, randoms_state=51)\n",
        "# ldaa.fit(dtm)"
      ],
      "execution_count": 97,
      "outputs": []
    },
    {
      "cell_type": "code",
      "metadata": {
        "id": "HUliYy6A95KM",
        "outputId": "a9dfbdb8-929e-441e-82ed-ec65e8b3bbef",
        "colab": {
          "base_uri": "https://localhost:8080/",
          "height": 136
        }
      },
      "source": [
        "from sklearn.decomposition import LatentDirichletAllocation\n",
        "\n",
        "lda = LatentDirichletAllocation(n_components=7, random_state=51)\n",
        "lda.fit(dtm)"
      ],
      "execution_count": 98,
      "outputs": [
        {
          "output_type": "execute_result",
          "data": {
            "text/plain": [
              "LatentDirichletAllocation(batch_size=128, doc_topic_prior=None,\n",
              "                          evaluate_every=-1, learning_decay=0.7,\n",
              "                          learning_method='batch', learning_offset=10.0,\n",
              "                          max_doc_update_iter=100, max_iter=10,\n",
              "                          mean_change_tol=0.001, n_components=7, n_jobs=None,\n",
              "                          perp_tol=0.1, random_state=51, topic_word_prior=None,\n",
              "                          total_samples=1000000.0, verbose=0)"
            ]
          },
          "metadata": {
            "tags": []
          },
          "execution_count": 98
        }
      ]
    },
    {
      "cell_type": "markdown",
      "metadata": {
        "id": "kUM9UCXb95Kc"
      },
      "source": [
        "## Three Steps Away...\n",
        "Grab the vocab, Grab the topic, and finally grab the highest prob. word per topic"
      ]
    },
    {
      "cell_type": "code",
      "metadata": {
        "id": "mofOH07B95Kf",
        "outputId": "d08cd5f9-c08f-4310-d001-fd86fdc51199",
        "colab": {
          "base_uri": "https://localhost:8080/",
          "height": 51
        }
      },
      "source": [
        "print(len(cv.get_feature_names()))\n",
        "type(cv.get_feature_names())"
      ],
      "execution_count": 100,
      "outputs": [
        {
          "output_type": "stream",
          "text": [
            "5929\n"
          ],
          "name": "stdout"
        },
        {
          "output_type": "execute_result",
          "data": {
            "text/plain": [
              "list"
            ]
          },
          "metadata": {
            "tags": []
          },
          "execution_count": 100
        }
      ]
    },
    {
      "cell_type": "code",
      "metadata": {
        "id": "PWP64p_J95Kw",
        "outputId": "295ac408-9364-4f0e-d1eb-20fc8971e94a",
        "colab": {
          "base_uri": "https://localhost:8080/",
          "height": 35
        }
      },
      "source": [
        "cv.get_feature_names()[5004]"
      ],
      "execution_count": 101,
      "outputs": [
        {
          "output_type": "execute_result",
          "data": {
            "application/vnd.google.colaboratory.intrinsic+json": {
              "type": "string"
            },
            "text/plain": [
              "'squatting'"
            ]
          },
          "metadata": {
            "tags": []
          },
          "execution_count": 101
        }
      ]
    },
    {
      "cell_type": "code",
      "metadata": {
        "id": "jVCFnLix95K_",
        "outputId": "f6c3caa9-9eb1-4f87-829f-5b6fefc5d21b",
        "colab": {
          "base_uri": "https://localhost:8080/",
          "height": 187
        }
      },
      "source": [
        "import random\n",
        "\n",
        "for i in range(10):\n",
        "    randomm_word_id = random.randint(0, 5928)\n",
        "    print(cv.get_feature_names()[randomm_word_id])"
      ],
      "execution_count": 102,
      "outputs": [
        {
          "output_type": "stream",
          "text": [
            "consultant\n",
            "flip\n",
            "sony\n",
            "technology\n",
            "teachers\n",
            "burst\n",
            "bogies\n",
            "wants\n",
            "winners\n",
            "tyagi\n"
          ],
          "name": "stdout"
        }
      ]
    },
    {
      "cell_type": "markdown",
      "metadata": {
        "id": "sXLKybmj95LQ"
      },
      "source": [
        "## Showing top words per topic"
      ]
    },
    {
      "cell_type": "code",
      "metadata": {
        "id": "31-qy63u95LT",
        "outputId": "3fbd3dbd-165b-42de-87fc-6c1d7a9323cc",
        "colab": {
          "base_uri": "https://localhost:8080/",
          "height": 51
        }
      },
      "source": [
        "print(len(lda.components_))\n",
        "lda.components_.shape"
      ],
      "execution_count": 103,
      "outputs": [
        {
          "output_type": "stream",
          "text": [
            "7\n"
          ],
          "name": "stdout"
        },
        {
          "output_type": "execute_result",
          "data": {
            "text/plain": [
              "(7, 5929)"
            ]
          },
          "metadata": {
            "tags": []
          },
          "execution_count": 103
        }
      ]
    },
    {
      "cell_type": "code",
      "metadata": {
        "id": "m4yDPc4k95Lm",
        "outputId": "b0d397c1-2cf8-45c6-962a-a4054b0b2093",
        "colab": {
          "base_uri": "https://localhost:8080/",
          "height": 255
        }
      },
      "source": [
        "print(lda.components_)\n",
        "print('Length of the each row of an array:',len(lda.components_[0]))"
      ],
      "execution_count": 104,
      "outputs": [
        {
          "output_type": "stream",
          "text": [
            "[[ 0.14285728  0.14285721  0.14285743 ...  0.14285778  2.49512879\n",
            "   0.14285722]\n",
            " [ 0.14297605  0.14285721  0.14312174 ...  3.14347442  2.65545367\n",
            "   0.14285723]\n",
            " [ 0.14285728  0.14285721  1.14284736 ...  0.14296576  0.14285756\n",
            "   0.14285722]\n",
            " ...\n",
            " [ 0.14285728  0.14285721  1.14260109 ...  1.1414598   2.14178078\n",
            "   0.14285722]\n",
            " [ 0.14285729  2.14285673  0.14285747 ...  0.14285786  0.1428576\n",
            "   0.14285723]\n",
            " [15.14273755  0.14285722  0.14285747 ...  0.14352659  0.14325617\n",
            "   2.14285666]]\n",
            "Length of the each row of an array: 5929\n"
          ],
          "name": "stdout"
        }
      ]
    },
    {
      "cell_type": "code",
      "metadata": {
        "id": "R3TQYW6-95L5",
        "outputId": "1136b01f-2bac-4506-9e60-df105c22e66e",
        "colab": {
          "base_uri": "https://localhost:8080/",
          "height": 34
        }
      },
      "source": [
        "single_topic = lda.components_[0]\n",
        "\n",
        "# Returns the indices that would sort this array\n",
        "single_topic.argsort() #Returns the index of after sorting array values in ascending order"
      ],
      "execution_count": 105,
      "outputs": [
        {
          "output_type": "execute_result",
          "data": {
            "text/plain": [
              "array([2168, 4280,  945, ..., 3545, 2219,  560])"
            ]
          },
          "metadata": {
            "tags": []
          },
          "execution_count": 105
        }
      ]
    },
    {
      "cell_type": "code",
      "metadata": {
        "id": "lRNUy9p595MO",
        "outputId": "414dca5c-ae51-410a-fb35-8cdfc923d897",
        "colab": {
          "base_uri": "https://localhost:8080/",
          "height": 34
        }
      },
      "source": [
        "# Word least representative of this  topic\n",
        "single_topic[4280]"
      ],
      "execution_count": 106,
      "outputs": [
        {
          "output_type": "execute_result",
          "data": {
            "text/plain": [
              "0.142857194500235"
            ]
          },
          "metadata": {
            "tags": []
          },
          "execution_count": 106
        }
      ]
    },
    {
      "cell_type": "code",
      "metadata": {
        "id": "hYLBQAs695Mg"
      },
      "source": [
        "# Top 10 words for this topic\n",
        "top_word_indices =single_topic.argsort()[-10:]"
      ],
      "execution_count": 107,
      "outputs": []
    },
    {
      "cell_type": "code",
      "metadata": {
        "id": "7hAluc8r95M2",
        "outputId": "5870c5f3-0262-44ef-d7e3-fe5ef357dc45",
        "colab": {
          "base_uri": "https://localhost:8080/",
          "height": 187
        }
      },
      "source": [
        "for index in top_word_indices:\n",
        "    print(cv.get_feature_names()[index])"
      ],
      "execution_count": 108,
      "outputs": [
        {
          "output_type": "stream",
          "text": [
            "year\n",
            "panel\n",
            "seeks\n",
            "centre\n",
            "congress\n",
            "cong\n",
            "bangalore\n",
            "new\n",
            "govt\n",
            "bjp\n"
          ],
          "name": "stdout"
        }
      ]
    },
    {
      "cell_type": "markdown",
      "metadata": {
        "id": "1dMKG53F95NL"
      },
      "source": [
        "It's look like political news regarding to new Govt. formation"
      ]
    },
    {
      "cell_type": "code",
      "metadata": {
        "id": "JfONvdeZ95NO",
        "outputId": "c83aebf6-3c2a-4489-9669-d3f02d667bd3",
        "colab": {
          "base_uri": "https://localhost:8080/",
          "height": 493
        }
      },
      "source": [
        "# Display the Top 15 words of each topic using argsort() method\n",
        "for index, topic in enumerate(lda.components_):\n",
        "    print(f\"THE TOP 15 WORDS FOT TOPIC #{index}\")\n",
        "    print([cv.get_feature_names()[i] for i in topic.argsort()[-15:]])\n",
        "    print('\\n')\n",
        "    "
      ],
      "execution_count": 109,
      "outputs": [
        {
          "output_type": "stream",
          "text": [
            "THE TOP 15 WORDS FOT TOPIC #0\n",
            "['help', 'police', 'stage', 'cases', 'plan', 'year', 'panel', 'seeks', 'centre', 'congress', 'cong', 'bangalore', 'new', 'govt', 'bjp']\n",
            "\n",
            "\n",
            "THE TOP 15 WORDS FOT TOPIC #1\n",
            "['phoolan', 'music', 'militants', 'murder', 'says', 'hrithik', 'plans', 'time', 'work', 'death', 'big', 'hc', 'killed', 'man', 'held']\n",
            "\n",
            "\n",
            "THE TOP 15 WORDS FOT TOPIC #2\n",
            "['day', 'doctors', 'india', 'team', 'talks', 'colleges', 'police', 'manipur', 'ceasefire', 'students', 'say', 'takes', 'indian', 'new', 'govt']\n",
            "\n",
            "\n",
            "THE TOP 15 WORDS FOT TOPIC #3\n",
            "['chief', 'don', 'best', 'tech', 'old', 'hit', 'quake', 'soon', 'high', 'tax', 'new', 'goa', 'power', 'police', 'india']\n",
            "\n",
            "\n",
            "THE TOP 15 WORDS FOT TOPIC #4\n",
            "['industry', 'cabinet', 'road', 'centre', 'officers', 'injured', 'sonia', 'cong', 'says', 'probe', 'sc', 'issue', 'gets', 'cm', 'govt']\n",
            "\n",
            "\n",
            "THE TOP 15 WORDS FOT TOPIC #5\n",
            "['food', 'shah', 'indian', 'new', 'court', 'case', 'chief', 'women', 'pm', 'musharraf', 'jaya', 'net', 'indo', 'minister', 'pak']\n",
            "\n",
            "\n",
            "THE TOP 15 WORDS FOT TOPIC #6\n",
            "['officials', 'ministers', 'kumar', 'students', 'govt', 'film', 'crore', 'dead', 'case', 'state', 'lakh', 'says', 'cr', 'life', 'rs']\n",
            "\n",
            "\n"
          ],
          "name": "stdout"
        }
      ]
    },
    {
      "cell_type": "markdown",
      "metadata": {
        "id": "Pf9OCJUy95Nd"
      },
      "source": [
        "## Attaching Discovered Topic Labels to Original articles"
      ]
    },
    {
      "cell_type": "code",
      "metadata": {
        "id": "iOkxAxWW95Ng",
        "outputId": "fd25998f-7a51-4e19-f7e2-64fd291b8f18",
        "colab": {
          "base_uri": "https://localhost:8080/",
          "height": 51
        }
      },
      "source": [
        "dtm"
      ],
      "execution_count": 110,
      "outputs": [
        {
          "output_type": "execute_result",
          "data": {
            "text/plain": [
              "<10000x5929 sparse matrix of type '<class 'numpy.int64'>'\n",
              "\twith 38880 stored elements in Compressed Sparse Row format>"
            ]
          },
          "metadata": {
            "tags": []
          },
          "execution_count": 110
        }
      ]
    },
    {
      "cell_type": "code",
      "metadata": {
        "id": "ewdR6FBI95Nz",
        "outputId": "dfc0c12b-9262-4491-ea47-02121b4ef0c3",
        "colab": {
          "base_uri": "https://localhost:8080/",
          "height": 34
        }
      },
      "source": [
        "# len(npr)\n",
        "dtm.shape"
      ],
      "execution_count": 111,
      "outputs": [
        {
          "output_type": "execute_result",
          "data": {
            "text/plain": [
              "(10000, 5929)"
            ]
          },
          "metadata": {
            "tags": []
          },
          "execution_count": 111
        }
      ]
    },
    {
      "cell_type": "code",
      "metadata": {
        "id": "F3tFwLWu95OC",
        "outputId": "394317fa-afca-4654-a116-6262a355a700",
        "colab": {
          "base_uri": "https://localhost:8080/",
          "height": 34
        }
      },
      "source": [
        "topic_results = lda.transform(dtm)\n",
        "topic_results.shape"
      ],
      "execution_count": 112,
      "outputs": [
        {
          "output_type": "execute_result",
          "data": {
            "text/plain": [
              "(10000, 7)"
            ]
          },
          "metadata": {
            "tags": []
          },
          "execution_count": 112
        }
      ]
    },
    {
      "cell_type": "code",
      "metadata": {
        "id": "pFqpY8JQ95OT",
        "outputId": "7ec1634a-2e4e-49ea-bd9a-07e5abe06e7b",
        "colab": {
          "base_uri": "https://localhost:8080/",
          "height": 51
        }
      },
      "source": [
        "topic_results[0] # Returns the probabilty of topics for our first row"
      ],
      "execution_count": 113,
      "outputs": [
        {
          "output_type": "execute_result",
          "data": {
            "text/plain": [
              "array([0.02380958, 0.02380959, 0.85695008, 0.02392352, 0.02386358,\n",
              "       0.02380959, 0.02383405])"
            ]
          },
          "metadata": {
            "tags": []
          },
          "execution_count": 113
        }
      ]
    },
    {
      "cell_type": "code",
      "metadata": {
        "id": "fNr86Unx95Or",
        "outputId": "83dab333-65a9-4352-d1e5-c15688d4288f",
        "colab": {
          "base_uri": "https://localhost:8080/",
          "height": 34
        }
      },
      "source": [
        "topic_results[0].round(2)"
      ],
      "execution_count": 114,
      "outputs": [
        {
          "output_type": "execute_result",
          "data": {
            "text/plain": [
              "array([0.02, 0.02, 0.86, 0.02, 0.02, 0.02, 0.02])"
            ]
          },
          "metadata": {
            "tags": []
          },
          "execution_count": 114
        }
      ]
    },
    {
      "cell_type": "code",
      "metadata": {
        "id": "m6rb6j7B95O6",
        "outputId": "fce630bb-95af-4969-ef2c-7370651512b4",
        "colab": {
          "base_uri": "https://localhost:8080/",
          "height": 34
        }
      },
      "source": [
        "# Apply argmax() method to returm the index value or max value present in above array\n",
        "# for above array max value is 0.86 i.e., argmax return us '2' because it's its index value\n",
        "topic_results[0].argmax()"
      ],
      "execution_count": 115,
      "outputs": [
        {
          "output_type": "execute_result",
          "data": {
            "text/plain": [
              "2"
            ]
          },
          "metadata": {
            "tags": []
          },
          "execution_count": 115
        }
      ]
    },
    {
      "cell_type": "markdown",
      "metadata": {
        "id": "MGycL42F95Pd"
      },
      "source": [
        "This means that our model thinks that the first headliine belongs to topic #2"
      ]
    },
    {
      "cell_type": "code",
      "metadata": {
        "id": "oib4rsIE95Pf",
        "outputId": "bbdd3269-3312-4cc3-e8a6-1fbe98d8bbbd",
        "colab": {
          "base_uri": "https://localhost:8080/",
          "height": 204
        }
      },
      "source": [
        "npr = pd.DataFrame(news_df.iloc[:,3])\n",
        "\n",
        "npr.head()"
      ],
      "execution_count": 116,
      "outputs": [
        {
          "output_type": "execute_result",
          "data": {
            "text/html": [
              "<div>\n",
              "<style scoped>\n",
              "    .dataframe tbody tr th:only-of-type {\n",
              "        vertical-align: middle;\n",
              "    }\n",
              "\n",
              "    .dataframe tbody tr th {\n",
              "        vertical-align: top;\n",
              "    }\n",
              "\n",
              "    .dataframe thead th {\n",
              "        text-align: right;\n",
              "    }\n",
              "</style>\n",
              "<table border=\"1\" class=\"dataframe\">\n",
              "  <thead>\n",
              "    <tr style=\"text-align: right;\">\n",
              "      <th></th>\n",
              "      <th>clean_headline</th>\n",
              "    </tr>\n",
              "  </thead>\n",
              "  <tbody>\n",
              "    <tr>\n",
              "      <th>0</th>\n",
              "      <td>win over cena satisfying but defeating underta...</td>\n",
              "    </tr>\n",
              "    <tr>\n",
              "      <th>1</th>\n",
              "      <td>status quo will not be disturbed at ayodhya sa...</td>\n",
              "    </tr>\n",
              "    <tr>\n",
              "      <th>2</th>\n",
              "      <td>fissures in hurriyat over pak visit</td>\n",
              "    </tr>\n",
              "    <tr>\n",
              "      <th>3</th>\n",
              "      <td>america s unwanted heading for india</td>\n",
              "    </tr>\n",
              "    <tr>\n",
              "      <th>4</th>\n",
              "      <td>for bigwigs it is destination goa</td>\n",
              "    </tr>\n",
              "  </tbody>\n",
              "</table>\n",
              "</div>"
            ],
            "text/plain": [
              "                                      clean_headline\n",
              "0  win over cena satisfying but defeating underta...\n",
              "1  status quo will not be disturbed at ayodhya sa...\n",
              "2                fissures in hurriyat over pak visit\n",
              "3               america s unwanted heading for india\n",
              "4                  for bigwigs it is destination goa"
            ]
          },
          "metadata": {
            "tags": []
          },
          "execution_count": 116
        }
      ]
    },
    {
      "cell_type": "code",
      "metadata": {
        "id": "iXe1R-Gp95QE",
        "outputId": "981a540f-21ed-4823-b550-a76f5fe114ae",
        "colab": {
          "base_uri": "https://localhost:8080/",
          "height": 34
        }
      },
      "source": [
        "topic_results.argmax(axis=1)"
      ],
      "execution_count": 117,
      "outputs": [
        {
          "output_type": "execute_result",
          "data": {
            "text/plain": [
              "array([2, 3, 2, ..., 4, 1, 4])"
            ]
          },
          "metadata": {
            "tags": []
          },
          "execution_count": 117
        }
      ]
    },
    {
      "cell_type": "code",
      "metadata": {
        "id": "BKNCmorB95QT"
      },
      "source": [
        "# Apply Topic modeling on our headlines\n",
        "npr['Topic'] = topic_results.argmax(axis=1)"
      ],
      "execution_count": 118,
      "outputs": []
    },
    {
      "cell_type": "code",
      "metadata": {
        "id": "PTUG0qMr95Qj",
        "outputId": "fbf534c1-59fe-49d5-dd8e-41e4d8af450a",
        "colab": {
          "base_uri": "https://localhost:8080/",
          "height": 204
        }
      },
      "source": [
        "npr.head()"
      ],
      "execution_count": 119,
      "outputs": [
        {
          "output_type": "execute_result",
          "data": {
            "text/html": [
              "<div>\n",
              "<style scoped>\n",
              "    .dataframe tbody tr th:only-of-type {\n",
              "        vertical-align: middle;\n",
              "    }\n",
              "\n",
              "    .dataframe tbody tr th {\n",
              "        vertical-align: top;\n",
              "    }\n",
              "\n",
              "    .dataframe thead th {\n",
              "        text-align: right;\n",
              "    }\n",
              "</style>\n",
              "<table border=\"1\" class=\"dataframe\">\n",
              "  <thead>\n",
              "    <tr style=\"text-align: right;\">\n",
              "      <th></th>\n",
              "      <th>clean_headline</th>\n",
              "      <th>Topic</th>\n",
              "    </tr>\n",
              "  </thead>\n",
              "  <tbody>\n",
              "    <tr>\n",
              "      <th>0</th>\n",
              "      <td>win over cena satisfying but defeating underta...</td>\n",
              "      <td>2</td>\n",
              "    </tr>\n",
              "    <tr>\n",
              "      <th>1</th>\n",
              "      <td>status quo will not be disturbed at ayodhya sa...</td>\n",
              "      <td>3</td>\n",
              "    </tr>\n",
              "    <tr>\n",
              "      <th>2</th>\n",
              "      <td>fissures in hurriyat over pak visit</td>\n",
              "      <td>2</td>\n",
              "    </tr>\n",
              "    <tr>\n",
              "      <th>3</th>\n",
              "      <td>america s unwanted heading for india</td>\n",
              "      <td>3</td>\n",
              "    </tr>\n",
              "    <tr>\n",
              "      <th>4</th>\n",
              "      <td>for bigwigs it is destination goa</td>\n",
              "      <td>5</td>\n",
              "    </tr>\n",
              "  </tbody>\n",
              "</table>\n",
              "</div>"
            ],
            "text/plain": [
              "                                      clean_headline  Topic\n",
              "0  win over cena satisfying but defeating underta...      2\n",
              "1  status quo will not be disturbed at ayodhya sa...      3\n",
              "2                fissures in hurriyat over pak visit      2\n",
              "3               america s unwanted heading for india      3\n",
              "4                  for bigwigs it is destination goa      5"
            ]
          },
          "metadata": {
            "tags": []
          },
          "execution_count": 119
        }
      ]
    },
    {
      "cell_type": "markdown",
      "metadata": {
        "id": "3Wvm7Hu495Q_"
      },
      "source": [
        "Other than LDA we can also apply Non Negative Matrix Factorization method for Topic Modelling.\n",
        "\n",
        "Now, we can merge  topic column in our original dataset. "
      ]
    },
    {
      "cell_type": "code",
      "metadata": {
        "id": "eNxzB95A95RC"
      },
      "source": [
        "news_df = news_df.drop(['headline_category', 'headline_text', 'score', 'compound'], axis=1)"
      ],
      "execution_count": 120,
      "outputs": []
    },
    {
      "cell_type": "code",
      "metadata": {
        "id": "8KbIfiCl95Rb",
        "outputId": "8abb39b0-a703-46f6-bda2-93eba8a27306",
        "colab": {
          "base_uri": "https://localhost:8080/",
          "height": 204
        }
      },
      "source": [
        "news_df['topic'] = npr.Topic.values\n",
        "news_df.head()"
      ],
      "execution_count": 121,
      "outputs": [
        {
          "output_type": "execute_result",
          "data": {
            "text/html": [
              "<div>\n",
              "<style scoped>\n",
              "    .dataframe tbody tr th:only-of-type {\n",
              "        vertical-align: middle;\n",
              "    }\n",
              "\n",
              "    .dataframe tbody tr th {\n",
              "        vertical-align: top;\n",
              "    }\n",
              "\n",
              "    .dataframe thead th {\n",
              "        text-align: right;\n",
              "    }\n",
              "</style>\n",
              "<table border=\"1\" class=\"dataframe\">\n",
              "  <thead>\n",
              "    <tr style=\"text-align: right;\">\n",
              "      <th></th>\n",
              "      <th>publish_date</th>\n",
              "      <th>clean_headline</th>\n",
              "      <th>comp_score</th>\n",
              "      <th>topic</th>\n",
              "    </tr>\n",
              "  </thead>\n",
              "  <tbody>\n",
              "    <tr>\n",
              "      <th>0</th>\n",
              "      <td>2001-01-01</td>\n",
              "      <td>win over cena satisfying but defeating underta...</td>\n",
              "      <td>pos</td>\n",
              "      <td>2</td>\n",
              "    </tr>\n",
              "    <tr>\n",
              "      <th>1</th>\n",
              "      <td>2001-01-02</td>\n",
              "      <td>status quo will not be disturbed at ayodhya sa...</td>\n",
              "      <td>pos</td>\n",
              "      <td>3</td>\n",
              "    </tr>\n",
              "    <tr>\n",
              "      <th>2</th>\n",
              "      <td>2001-01-02</td>\n",
              "      <td>fissures in hurriyat over pak visit</td>\n",
              "      <td>pos</td>\n",
              "      <td>2</td>\n",
              "    </tr>\n",
              "    <tr>\n",
              "      <th>3</th>\n",
              "      <td>2001-01-02</td>\n",
              "      <td>america s unwanted heading for india</td>\n",
              "      <td>neg</td>\n",
              "      <td>3</td>\n",
              "    </tr>\n",
              "    <tr>\n",
              "      <th>4</th>\n",
              "      <td>2001-01-02</td>\n",
              "      <td>for bigwigs it is destination goa</td>\n",
              "      <td>pos</td>\n",
              "      <td>5</td>\n",
              "    </tr>\n",
              "  </tbody>\n",
              "</table>\n",
              "</div>"
            ],
            "text/plain": [
              "  publish_date  ... topic\n",
              "0   2001-01-01  ...     2\n",
              "1   2001-01-02  ...     3\n",
              "2   2001-01-02  ...     2\n",
              "3   2001-01-02  ...     3\n",
              "4   2001-01-02  ...     5\n",
              "\n",
              "[5 rows x 4 columns]"
            ]
          },
          "metadata": {
            "tags": []
          },
          "execution_count": 121
        }
      ]
    },
    {
      "cell_type": "code",
      "metadata": {
        "id": "fXyZ6AZV95Rn",
        "outputId": "a14da53c-ea96-4f10-f34b-f18efbc62514",
        "colab": {
          "base_uri": "https://localhost:8080/",
          "height": 153
        }
      },
      "source": [
        "news_df.topic.value_counts()"
      ],
      "execution_count": 122,
      "outputs": [
        {
          "output_type": "execute_result",
          "data": {
            "text/plain": [
              "0    1600\n",
              "4    1489\n",
              "2    1457\n",
              "3    1418\n",
              "1    1410\n",
              "6    1378\n",
              "5    1248\n",
              "Name: topic, dtype: int64"
            ]
          },
          "metadata": {
            "tags": []
          },
          "execution_count": 122
        }
      ]
    },
    {
      "cell_type": "markdown",
      "metadata": {
        "id": "LA41GRpR4dcm"
      },
      "source": [
        "***By this we check sentiment analysis and also apply Topic Modeling on our dataset.***"
      ]
    },
    {
      "cell_type": "code",
      "metadata": {
        "id": "JP_79eZy95SD"
      },
      "source": [
        ""
      ],
      "execution_count": 122,
      "outputs": []
    },
    {
      "cell_type": "markdown",
      "metadata": {
        "id": "3s_1plfO95SO"
      },
      "source": [
        "## ***## Time series forecasting with stock price of SENSEX dataset***"
      ]
    },
    {
      "cell_type": "markdown",
      "metadata": {
        "id": "VwMWTQQv95SR"
      },
      "source": [
        "___DESCRIPTION: By the use of Artificial Neural Networks called Long Short Term Memory(LSTM) to predict the closeing stock price of a SENSEX.___"
      ]
    },
    {
      "cell_type": "code",
      "metadata": {
        "id": "i14MVbnT95SV",
        "outputId": "45367602-e10d-4621-953d-1ff3b8247534",
        "colab": {
          "base_uri": "https://localhost:8080/",
          "height": 235
        }
      },
      "source": [
        "stock_df.head()"
      ],
      "execution_count": 123,
      "outputs": [
        {
          "output_type": "execute_result",
          "data": {
            "text/html": [
              "<div>\n",
              "<style scoped>\n",
              "    .dataframe tbody tr th:only-of-type {\n",
              "        vertical-align: middle;\n",
              "    }\n",
              "\n",
              "    .dataframe tbody tr th {\n",
              "        vertical-align: top;\n",
              "    }\n",
              "\n",
              "    .dataframe thead th {\n",
              "        text-align: right;\n",
              "    }\n",
              "</style>\n",
              "<table border=\"1\" class=\"dataframe\">\n",
              "  <thead>\n",
              "    <tr style=\"text-align: right;\">\n",
              "      <th></th>\n",
              "      <th>Open</th>\n",
              "      <th>High</th>\n",
              "      <th>Low</th>\n",
              "      <th>Close</th>\n",
              "      <th>Adj Close</th>\n",
              "      <th>Volume</th>\n",
              "      <th>label</th>\n",
              "      <th>Label</th>\n",
              "    </tr>\n",
              "    <tr>\n",
              "      <th>Date</th>\n",
              "      <th></th>\n",
              "      <th></th>\n",
              "      <th></th>\n",
              "      <th></th>\n",
              "      <th></th>\n",
              "      <th></th>\n",
              "      <th></th>\n",
              "      <th></th>\n",
              "    </tr>\n",
              "  </thead>\n",
              "  <tbody>\n",
              "    <tr>\n",
              "      <th>2015-01-02</th>\n",
              "      <td>27521.279297</td>\n",
              "      <td>27937.470703</td>\n",
              "      <td>27519.259766</td>\n",
              "      <td>27887.900391</td>\n",
              "      <td>27887.900391</td>\n",
              "      <td>7400.0</td>\n",
              "      <td>366.621094</td>\n",
              "      <td>366.621094</td>\n",
              "    </tr>\n",
              "    <tr>\n",
              "      <th>2015-01-05</th>\n",
              "      <td>27978.429688</td>\n",
              "      <td>28064.490234</td>\n",
              "      <td>27786.849609</td>\n",
              "      <td>27842.320313</td>\n",
              "      <td>27842.320313</td>\n",
              "      <td>9200.0</td>\n",
              "      <td>-136.109375</td>\n",
              "      <td>-136.109375</td>\n",
              "    </tr>\n",
              "    <tr>\n",
              "      <th>2015-01-06</th>\n",
              "      <td>27694.230469</td>\n",
              "      <td>27698.929688</td>\n",
              "      <td>26937.060547</td>\n",
              "      <td>26987.460938</td>\n",
              "      <td>26987.460938</td>\n",
              "      <td>14100.0</td>\n",
              "      <td>-706.769531</td>\n",
              "      <td>-706.769531</td>\n",
              "    </tr>\n",
              "    <tr>\n",
              "      <th>2015-01-07</th>\n",
              "      <td>26983.429688</td>\n",
              "      <td>27051.599609</td>\n",
              "      <td>26776.119141</td>\n",
              "      <td>26908.820313</td>\n",
              "      <td>26908.820313</td>\n",
              "      <td>12200.0</td>\n",
              "      <td>-74.609375</td>\n",
              "      <td>-74.609375</td>\n",
              "    </tr>\n",
              "    <tr>\n",
              "      <th>2015-01-08</th>\n",
              "      <td>27178.769531</td>\n",
              "      <td>27316.410156</td>\n",
              "      <td>27101.939453</td>\n",
              "      <td>27274.710938</td>\n",
              "      <td>27274.710938</td>\n",
              "      <td>8200.0</td>\n",
              "      <td>95.941407</td>\n",
              "      <td>95.941407</td>\n",
              "    </tr>\n",
              "  </tbody>\n",
              "</table>\n",
              "</div>"
            ],
            "text/plain": [
              "                    Open          High  ...       label       Label\n",
              "Date                                    ...                        \n",
              "2015-01-02  27521.279297  27937.470703  ...  366.621094  366.621094\n",
              "2015-01-05  27978.429688  28064.490234  ... -136.109375 -136.109375\n",
              "2015-01-06  27694.230469  27698.929688  ... -706.769531 -706.769531\n",
              "2015-01-07  26983.429688  27051.599609  ...  -74.609375  -74.609375\n",
              "2015-01-08  27178.769531  27316.410156  ...   95.941407   95.941407\n",
              "\n",
              "[5 rows x 8 columns]"
            ]
          },
          "metadata": {
            "tags": []
          },
          "execution_count": 123
        }
      ]
    },
    {
      "cell_type": "markdown",
      "metadata": {
        "id": "eQA-KMg-95Sq"
      },
      "source": [
        "__By comparing Open and Closed market points we can make column of UP and DOWN of Stock price on which we can train our model.__ \n"
      ]
    },
    {
      "cell_type": "code",
      "metadata": {
        "id": "jX4_I2s595Su",
        "outputId": "59d78aa6-095f-4479-a7e7-44fe827c8e27",
        "colab": {
          "base_uri": "https://localhost:8080/",
          "height": 683
        }
      },
      "source": [
        "# Visualize the closing price index\n",
        "plt.figure(figsize=(21,11))\n",
        "plt.title('Close price History')\n",
        "plt.plot(stock_df['Close'],)\n",
        "plt.xlabel('Year', fontsize=18)\n",
        "plt.ylabel('Close price of SENSEX', fontsize=18)\n",
        "plt.show()"
      ],
      "execution_count": 14,
      "outputs": [
        {
          "output_type": "display_data",
          "data": {
            "image/png": "[encoded data removed]",
            "text/plain": [
              "<Figure size 1512x792 with 1 Axes>"
            ]
          },
          "metadata": {
            "tags": [],
            "needs_background": "light"
          }
        }
      ]
    },
    {
      "cell_type": "code",
      "metadata": {
        "id": "JsaMe41595S7"
      },
      "source": [
        "result = pd.DataFrame(stock_df)\n",
        "# Get the values of change in stock price in a single day\n",
        "result['label'] = stock_df['Close'].values - stock_df['Open'].values\n",
        "# result = pd.DataFrame(result)"
      ],
      "execution_count": 15,
      "outputs": []
    },
    {
      "cell_type": "code",
      "metadata": {
        "id": "CYOcN3-L95TG",
        "outputId": "ba8a9c8b-fa7c-4c37-aeeb-0152b705afb4",
        "colab": {
          "base_uri": "https://localhost:8080/",
          "height": 235
        }
      },
      "source": [
        "# store the value in our stock_df datasets\n",
        "stock_df['Label'] = result['label'].values\n",
        "stock_df.head()"
      ],
      "execution_count": 16,
      "outputs": [
        {
          "output_type": "execute_result",
          "data": {
            "text/html": [
              "<div>\n",
              "<style scoped>\n",
              "    .dataframe tbody tr th:only-of-type {\n",
              "        vertical-align: middle;\n",
              "    }\n",
              "\n",
              "    .dataframe tbody tr th {\n",
              "        vertical-align: top;\n",
              "    }\n",
              "\n",
              "    .dataframe thead th {\n",
              "        text-align: right;\n",
              "    }\n",
              "</style>\n",
              "<table border=\"1\" class=\"dataframe\">\n",
              "  <thead>\n",
              "    <tr style=\"text-align: right;\">\n",
              "      <th></th>\n",
              "      <th>Open</th>\n",
              "      <th>High</th>\n",
              "      <th>Low</th>\n",
              "      <th>Close</th>\n",
              "      <th>Adj Close</th>\n",
              "      <th>Volume</th>\n",
              "      <th>label</th>\n",
              "      <th>Label</th>\n",
              "    </tr>\n",
              "    <tr>\n",
              "      <th>Date</th>\n",
              "      <th></th>\n",
              "      <th></th>\n",
              "      <th></th>\n",
              "      <th></th>\n",
              "      <th></th>\n",
              "      <th></th>\n",
              "      <th></th>\n",
              "      <th></th>\n",
              "    </tr>\n",
              "  </thead>\n",
              "  <tbody>\n",
              "    <tr>\n",
              "      <th>2015-01-02</th>\n",
              "      <td>27521.279297</td>\n",
              "      <td>27937.470703</td>\n",
              "      <td>27519.259766</td>\n",
              "      <td>27887.900391</td>\n",
              "      <td>27887.900391</td>\n",
              "      <td>7400.0</td>\n",
              "      <td>366.621094</td>\n",
              "      <td>366.621094</td>\n",
              "    </tr>\n",
              "    <tr>\n",
              "      <th>2015-01-05</th>\n",
              "      <td>27978.429688</td>\n",
              "      <td>28064.490234</td>\n",
              "      <td>27786.849609</td>\n",
              "      <td>27842.320313</td>\n",
              "      <td>27842.320313</td>\n",
              "      <td>9200.0</td>\n",
              "      <td>-136.109375</td>\n",
              "      <td>-136.109375</td>\n",
              "    </tr>\n",
              "    <tr>\n",
              "      <th>2015-01-06</th>\n",
              "      <td>27694.230469</td>\n",
              "      <td>27698.929688</td>\n",
              "      <td>26937.060547</td>\n",
              "      <td>26987.460938</td>\n",
              "      <td>26987.460938</td>\n",
              "      <td>14100.0</td>\n",
              "      <td>-706.769531</td>\n",
              "      <td>-706.769531</td>\n",
              "    </tr>\n",
              "    <tr>\n",
              "      <th>2015-01-07</th>\n",
              "      <td>26983.429688</td>\n",
              "      <td>27051.599609</td>\n",
              "      <td>26776.119141</td>\n",
              "      <td>26908.820313</td>\n",
              "      <td>26908.820313</td>\n",
              "      <td>12200.0</td>\n",
              "      <td>-74.609375</td>\n",
              "      <td>-74.609375</td>\n",
              "    </tr>\n",
              "    <tr>\n",
              "      <th>2015-01-08</th>\n",
              "      <td>27178.769531</td>\n",
              "      <td>27316.410156</td>\n",
              "      <td>27101.939453</td>\n",
              "      <td>27274.710938</td>\n",
              "      <td>27274.710938</td>\n",
              "      <td>8200.0</td>\n",
              "      <td>95.941407</td>\n",
              "      <td>95.941407</td>\n",
              "    </tr>\n",
              "  </tbody>\n",
              "</table>\n",
              "</div>"
            ],
            "text/plain": [
              "                    Open          High  ...       label       Label\n",
              "Date                                    ...                        \n",
              "2015-01-02  27521.279297  27937.470703  ...  366.621094  366.621094\n",
              "2015-01-05  27978.429688  28064.490234  ... -136.109375 -136.109375\n",
              "2015-01-06  27694.230469  27698.929688  ... -706.769531 -706.769531\n",
              "2015-01-07  26983.429688  27051.599609  ...  -74.609375  -74.609375\n",
              "2015-01-08  27178.769531  27316.410156  ...   95.941407   95.941407\n",
              "\n",
              "[5 rows x 8 columns]"
            ]
          },
          "metadata": {
            "tags": []
          },
          "execution_count": 16
        }
      ]
    },
    {
      "cell_type": "code",
      "metadata": {
        "id": "Sp9gus7m95TU",
        "outputId": "17bc6440-1aa9-47f3-fa5d-c809a8c38fb3",
        "colab": {
          "base_uri": "https://localhost:8080/",
          "height": 682
        }
      },
      "source": [
        "# Visualize the total up and down in price index\n",
        "plt.figure(figsize=(21,11))\n",
        "plt.title('Change in price History')\n",
        "plt.plot(stock_df['Label'])\n",
        "plt.xlabel('Year', fontsize=18)\n",
        "plt.ylabel('Total Change in price of SENSEX', fontsize=18)\n",
        "plt.show()"
      ],
      "execution_count": 17,
      "outputs": [
        {
          "output_type": "display_data",
          "data": {
            "image/png": "[encoded data removed]",
            "text/plain": [
              "<Figure size 1512x792 with 1 Axes>"
            ]
          },
          "metadata": {
            "tags": [],
            "needs_background": "light"
          }
        }
      ]
    },
    {
      "cell_type": "code",
      "metadata": {
        "id": "wh9mXphR95Vz",
        "outputId": "0e6af7b3-9932-4df0-a732-f7ad985b30bb",
        "colab": {
          "base_uri": "https://localhost:8080/",
          "height": 34
        }
      },
      "source": [
        "import tensorflow as tf\n",
        "print(tf.__version__)"
      ],
      "execution_count": 26,
      "outputs": [
        {
          "output_type": "stream",
          "text": [
            "2.3.0\n"
          ],
          "name": "stdout"
        }
      ]
    },
    {
      "cell_type": "code",
      "metadata": {
        "id": "rddrd_4b95V_"
      },
      "source": [
        "# Import all libraries for neuralnetwork\n",
        "from tensorflow import keras\n",
        "from tensorflow.keras.models import Sequential\n",
        "from tensorflow.keras.layers import Dense\n",
        "from tensorflow.keras.layers import LSTM"
      ],
      "execution_count": 28,
      "outputs": []
    },
    {
      "cell_type": "code",
      "metadata": {
        "id": "22CtsbmVC3d1",
        "outputId": "8882126b-96e8-42d6-f2a4-7b84a8416607",
        "colab": {
          "base_uri": "https://localhost:8080/",
          "height": 119
        }
      },
      "source": [
        "# take the close column only\n",
        "df=stock_df.reset_index()['Close']\n",
        "df.head()"
      ],
      "execution_count": 31,
      "outputs": [
        {
          "output_type": "execute_result",
          "data": {
            "text/plain": [
              "0    27887.900391\n",
              "1    27842.320313\n",
              "2    26987.460938\n",
              "3    26908.820313\n",
              "4    27274.710938\n",
              "Name: Close, dtype: float64"
            ]
          },
          "metadata": {
            "tags": []
          },
          "execution_count": 31
        }
      ]
    },
    {
      "cell_type": "code",
      "metadata": {
        "id": "jGv3f86dElVq"
      },
      "source": [
        "# normalize the data between 0 to 1\n",
        "from sklearn.preprocessing import MinMaxScaler\n",
        "scaler=MinMaxScaler(feature_range=(0,1))\n",
        "df=scaler.fit_transform(np.array(df).reshape(-1,1))"
      ],
      "execution_count": 33,
      "outputs": []
    },
    {
      "cell_type": "code",
      "metadata": {
        "id": "xc8Y62diEq0D"
      },
      "source": [
        "# splitting dataset into train and test split\n",
        "training_size=int(len(df)*0.65)\n",
        "test_size=len(df)-training_size\n",
        "train_data,test_data=df[0:training_size,:],df[training_size:len(df),:1]"
      ],
      "execution_count": 34,
      "outputs": []
    },
    {
      "cell_type": "code",
      "metadata": {
        "id": "QZFFeLLJEwYS",
        "outputId": "6bf4b6cc-0404-4f9f-b46b-de1a454eaaeb",
        "colab": {
          "base_uri": "https://localhost:8080/",
          "height": 34
        }
      },
      "source": [
        "# Shape of training and testing data\n",
        "training_size,test_size"
      ],
      "execution_count": 35,
      "outputs": [
        {
          "output_type": "execute_result",
          "data": {
            "text/plain": [
              "(874, 471)"
            ]
          },
          "metadata": {
            "tags": []
          },
          "execution_count": 35
        }
      ]
    },
    {
      "cell_type": "code",
      "metadata": {
        "id": "yXFgrQdnFMBv"
      },
      "source": [
        "# train_data"
      ],
      "execution_count": 36,
      "outputs": []
    },
    {
      "cell_type": "code",
      "metadata": {
        "id": "K8USUyEHFOv5"
      },
      "source": [
        "# convert an array of values into a dataset matrix\n",
        "def create_dataset(dataset, time_step=1):\n",
        "\tdataX, dataY = [], []\n",
        "\tfor i in range(len(dataset)-time_step-1):\n",
        "\t\ta = dataset[i:(i+time_step), 0]   ###i=0, 0,1,2,3-----99   100 \n",
        "\t\tdataX.append(a)\n",
        "\t\tdataY.append(dataset[i + time_step, 0])\n",
        "  \n",
        "\treturn np.array(dataX), np.array(dataY)"
      ],
      "execution_count": 37,
      "outputs": []
    },
    {
      "cell_type": "code",
      "metadata": {
        "id": "BtxPRMUJFdRY"
      },
      "source": [
        "# reshape into X=t,t+1,t+2,t+3 and Y=t+4\n",
        "time_step = 100\n",
        "X_train, y_train = create_dataset(train_data, time_step)\n",
        "X_test, ytest = create_dataset(test_data, time_step)"
      ],
      "execution_count": 38,
      "outputs": []
    },
    {
      "cell_type": "code",
      "metadata": {
        "id": "AXT1QJm3HHtz",
        "outputId": "4e5dac51-7137-422e-d84b-988c5de388ed",
        "colab": {
          "base_uri": "https://localhost:8080/",
          "height": 68
        }
      },
      "source": [
        "# shape of train dataset\n",
        "print(X_train.shape), print(y_train.shape)"
      ],
      "execution_count": 39,
      "outputs": [
        {
          "output_type": "stream",
          "text": [
            "(773, 100)\n",
            "(773,)\n"
          ],
          "name": "stdout"
        },
        {
          "output_type": "execute_result",
          "data": {
            "text/plain": [
              "(None, None)"
            ]
          },
          "metadata": {
            "tags": []
          },
          "execution_count": 39
        }
      ]
    },
    {
      "cell_type": "code",
      "metadata": {
        "id": "bnpbdatNP0rj",
        "outputId": "b9a46649-451d-42fe-d23f-e85e5b40362f",
        "colab": {
          "base_uri": "https://localhost:8080/",
          "height": 68
        }
      },
      "source": [
        "# Shape of test dataset\n",
        "print(X_test.shape), print(ytest.shape)"
      ],
      "execution_count": 40,
      "outputs": [
        {
          "output_type": "stream",
          "text": [
            "(370, 100)\n",
            "(370,)\n"
          ],
          "name": "stdout"
        },
        {
          "output_type": "execute_result",
          "data": {
            "text/plain": [
              "(None, None)"
            ]
          },
          "metadata": {
            "tags": []
          },
          "execution_count": 40
        }
      ]
    },
    {
      "cell_type": "code",
      "metadata": {
        "id": "hqYOXDxxHldj"
      },
      "source": [
        "# reshape input to be [samples, time steps, features] which is required for LSTM\n",
        "X_train =X_train.reshape(X_train.shape[0],X_train.shape[1] , 1)\n",
        "X_test = X_test.reshape(X_test.shape[0],X_test.shape[1] , 1)"
      ],
      "execution_count": 41,
      "outputs": []
    },
    {
      "cell_type": "markdown",
      "metadata": {
        "id": "XtKK3vDZgiF8"
      },
      "source": [
        "# Built the model for LSTM"
      ]
    },
    {
      "cell_type": "code",
      "metadata": {
        "id": "LjsKVqFVNF4a"
      },
      "source": [
        "model=Sequential()\n",
        "model.add(LSTM(50,return_sequences=True,input_shape=(100,1)))\n",
        "model.add(LSTM(50,return_sequences=True))\n",
        "model.add(LSTM(50))\n",
        "model.add(Dense(1))\n",
        "model.compile(loss='mean_squared_error',optimizer='adam')"
      ],
      "execution_count": 42,
      "outputs": []
    },
    {
      "cell_type": "code",
      "metadata": {
        "id": "kRFGIMWUNJQT",
        "outputId": "9bbf000f-ce6b-4b63-9c71-aeb775e45e53",
        "colab": {
          "base_uri": "https://localhost:8080/",
          "height": 289
        }
      },
      "source": [
        "model.summary()"
      ],
      "execution_count": 43,
      "outputs": [
        {
          "output_type": "stream",
          "text": [
            "Model: \"sequential_1\"\n",
            "_________________________________________________________________\n",
            "Layer (type)                 Output Shape              Param #   \n",
            "=================================================================\n",
            "lstm_2 (LSTM)                (None, 100, 50)           10400     \n",
            "_________________________________________________________________\n",
            "lstm_3 (LSTM)                (None, 100, 50)           20200     \n",
            "_________________________________________________________________\n",
            "lstm_4 (LSTM)                (None, 50)                20200     \n",
            "_________________________________________________________________\n",
            "dense_2 (Dense)              (None, 1)                 51        \n",
            "=================================================================\n",
            "Total params: 50,851\n",
            "Trainable params: 50,851\n",
            "Non-trainable params: 0\n",
            "_________________________________________________________________\n"
          ],
          "name": "stdout"
        }
      ]
    },
    {
      "cell_type": "code",
      "metadata": {
        "id": "EuTRGdmMNMHi"
      },
      "source": [
        "# model.summary()"
      ],
      "execution_count": 44,
      "outputs": []
    },
    {
      "cell_type": "code",
      "metadata": {
        "id": "jygJkOiiNRaR",
        "outputId": "cfb61d64-0373-4f28-d8b7-dfc3c227a007",
        "colab": {
          "base_uri": "https://localhost:8080/",
          "height": 357
        }
      },
      "source": [
        "# Fit the model\n",
        "model.fit(X_train,y_train,validation_data=(X_test,ytest),epochs=10,batch_size=64,verbose=1)"
      ],
      "execution_count": null,
      "outputs": [
        {
          "output_type": "stream",
          "text": [
            "Epoch 1/10\n",
            "13/13 [==============================] - 3s 243ms/step - loss: 0.0253 - val_loss: 0.0762\n",
            "Epoch 2/10\n",
            "13/13 [==============================] - 2s 177ms/step - loss: 0.0059 - val_loss: 0.0191\n",
            "Epoch 3/10\n",
            "13/13 [==============================] - 2s 191ms/step - loss: 0.0024 - val_loss: 0.0097\n",
            "Epoch 4/10\n",
            "13/13 [==============================] - 2s 179ms/step - loss: 0.0014 - val_loss: 0.0097\n",
            "Epoch 5/10\n",
            "13/13 [==============================] - 2s 176ms/step - loss: 0.0012 - val_loss: 0.0089\n",
            "Epoch 6/10\n",
            "13/13 [==============================] - 2s 188ms/step - loss: 0.0012 - val_loss: 0.0090\n",
            "Epoch 7/10\n",
            "13/13 [==============================] - 2s 177ms/step - loss: 0.0012 - val_loss: 0.0085\n",
            "Epoch 8/10\n",
            "13/13 [==============================] - 2s 178ms/step - loss: 0.0012 - val_loss: 0.0084\n",
            "Epoch 9/10\n",
            "13/13 [==============================] - 2s 178ms/step - loss: 0.0011 - val_loss: 0.0081\n",
            "Epoch 10/10\n",
            " 5/13 [==========>...................] - ETA: 1s - loss: 0.0012"
          ],
          "name": "stdout"
        }
      ]
    },
    {
      "cell_type": "code",
      "metadata": {
        "id": "1A-p_VfTQuj4",
        "outputId": "0b180672-43f5-4bfa-9d28-c77c0a4f0e24",
        "colab": {
          "base_uri": "https://localhost:8080/",
          "height": 34
        }
      },
      "source": [
        "X_train[0][0][0]"
      ],
      "execution_count": 124,
      "outputs": [
        {
          "output_type": "execute_result",
          "data": {
            "text/plain": [
              "0.25978225219279216"
            ]
          },
          "metadata": {
            "tags": []
          },
          "execution_count": 124
        }
      ]
    },
    {
      "cell_type": "markdown",
      "metadata": {
        "id": "DCkEboIbg99A"
      },
      "source": [
        "# Predict the test data and check accuracy"
      ]
    },
    {
      "cell_type": "code",
      "metadata": {
        "id": "7TUJjTtoNeCx"
      },
      "source": [
        "### Lets Do the prediction and check performance metrics\n",
        "train_predict=model.predict(X_train)\n",
        "test_predict=model.predict(X_test)"
      ],
      "execution_count": 47,
      "outputs": []
    },
    {
      "cell_type": "code",
      "metadata": {
        "id": "6Vg6wmm4NjZQ"
      },
      "source": [
        "## Transformback to original form\n",
        "train_predict=scaler.inverse_transform(train_predict)\n",
        "test_predict=scaler.inverse_transform(test_predict)"
      ],
      "execution_count": 48,
      "outputs": []
    },
    {
      "cell_type": "code",
      "metadata": {
        "id": "Kfcnoei3Nxg8",
        "outputId": "4e46809b-9503-4e6d-cc13-3abef49c4e39",
        "colab": {
          "base_uri": "https://localhost:8080/",
          "height": 34
        }
      },
      "source": [
        "train_predict[10]\n",
        "# train = pd.DataFrame(train_predict)\n",
        "# X_train[10]"
      ],
      "execution_count": 49,
      "outputs": [
        {
          "output_type": "execute_result",
          "data": {
            "text/plain": [
              "array([27304.121], dtype=float32)"
            ]
          },
          "metadata": {
            "tags": []
          },
          "execution_count": 49
        }
      ]
    },
    {
      "cell_type": "code",
      "metadata": {
        "id": "7FBOOGeLNoAw",
        "outputId": "8c009d8a-f9a9-483e-f0c6-939f20c3dbf8",
        "colab": {
          "base_uri": "https://localhost:8080/",
          "height": 34
        }
      },
      "source": [
        "### Calculate RMSE performance metrics\n",
        "import math\n",
        "from sklearn.metrics import mean_squared_error\n",
        "math.sqrt(mean_squared_error(y_train,train_predict))"
      ],
      "execution_count": 50,
      "outputs": [
        {
          "output_type": "execute_result",
          "data": {
            "text/plain": [
              "29669.679308135754"
            ]
          },
          "metadata": {
            "tags": []
          },
          "execution_count": 50
        }
      ]
    },
    {
      "cell_type": "code",
      "metadata": {
        "id": "fkW8I3_ONsMQ",
        "outputId": "720e69a2-4f23-412a-a2dc-b27660a5f530",
        "colab": {
          "base_uri": "https://localhost:8080/",
          "height": 34
        }
      },
      "source": [
        "### Test Data RMSE\n",
        "math.sqrt(mean_squared_error(ytest,test_predict))"
      ],
      "execution_count": 51,
      "outputs": [
        {
          "output_type": "execute_result",
          "data": {
            "text/plain": [
              "37736.54538918256"
            ]
          },
          "metadata": {
            "tags": []
          },
          "execution_count": 51
        }
      ]
    },
    {
      "cell_type": "markdown",
      "metadata": {
        "id": "-kMgG7096kFp"
      },
      "source": [
        "We can apply different optimization techinque to increase the performance of the model."
      ]
    },
    {
      "cell_type": "markdown",
      "metadata": {
        "id": "lLp0b-8JhPBx"
      },
      "source": [
        "## Plot the prediction"
      ]
    },
    {
      "cell_type": "code",
      "metadata": {
        "id": "h189WYvITIcY",
        "outputId": "3f20aac3-d15e-46bd-907a-55eeb1b42814",
        "colab": {
          "base_uri": "https://localhost:8080/",
          "height": 646
        }
      },
      "source": [
        "### Plotting \n",
        "plt.figure(figsize=(15,11))\n",
        "# shift train predictions for plotting\n",
        "look_back=100\n",
        "trainPredictPlot = np.empty_like(df)\n",
        "trainPredictPlot[:, :] = np.nan\n",
        "trainPredictPlot[look_back:len(train_predict)+look_back, :] = train_predict\n",
        "# shift test predictions for plotting\n",
        "testPredictPlot = np.empty_like(df)\n",
        "testPredictPlot[:, :] = np.nan\n",
        "testPredictPlot[len(train_predict)+(look_back*2)+1:len(df)-1, :] = test_predict\n",
        "# plot baseline and predictions\n",
        "plt.plot(scaler.inverse_transform(df))\n",
        "plt.plot(trainPredictPlot)\n",
        "plt.plot(testPredictPlot)\n",
        "plt.show()"
      ],
      "execution_count": 125,
      "outputs": [
        {
          "output_type": "display_data",
          "data": {
            "image/png": "[encoded data removed]",
            "text/plain": [
              "<Figure size 1080x792 with 1 Axes>"
            ]
          },
          "metadata": {
            "tags": [],
            "needs_background": "light"
          }
        }
      ]
    },
    {
      "cell_type": "markdown",
      "metadata": {
        "id": "DNocTSiBjW6u"
      },
      "source": [
        "# Predict the future 30 days and plot the output"
      ]
    },
    {
      "cell_type": "code",
      "metadata": {
        "id": "Xdr-XoUsTUkt",
        "outputId": "7cc0635c-cd51-4c04-c5be-c840ed735004",
        "colab": {
          "base_uri": "https://localhost:8080/",
          "height": 34
        }
      },
      "source": [
        "len(test_data)"
      ],
      "execution_count": 53,
      "outputs": [
        {
          "output_type": "execute_result",
          "data": {
            "text/plain": [
              "471"
            ]
          },
          "metadata": {
            "tags": []
          },
          "execution_count": 53
        }
      ]
    },
    {
      "cell_type": "code",
      "metadata": {
        "id": "ONGNWCvdTLdQ",
        "outputId": "803b1ce3-0140-40ee-c64b-de838f570fe6",
        "colab": {
          "base_uri": "https://localhost:8080/",
          "height": 34
        }
      },
      "source": [
        "x_input=test_data[371:].reshape(1,-1) # We are taking last 100 days record i.e., from 471 to 371\n",
        "x_input.shape"
      ],
      "execution_count": 66,
      "outputs": [
        {
          "output_type": "execute_result",
          "data": {
            "text/plain": [
              "(1, 100)"
            ]
          },
          "metadata": {
            "tags": []
          },
          "execution_count": 66
        }
      ]
    },
    {
      "cell_type": "code",
      "metadata": {
        "id": "IgprlN_fToZV"
      },
      "source": [
        "# Take all the values in a list\n",
        "temp_input=list(x_input)\n",
        "temp_input=temp_input[0].tolist()  "
      ],
      "execution_count": 55,
      "outputs": []
    },
    {
      "cell_type": "code",
      "metadata": {
        "id": "df4oDyGfTnFt",
        "outputId": "5a6d2e5e-e915-4493-f7cd-067ddcac9c16",
        "colab": {
          "base_uri": "https://localhost:8080/",
          "height": 34
        }
      },
      "source": [
        "temp_input[10]"
      ],
      "execution_count": 56,
      "outputs": [
        {
          "output_type": "execute_result",
          "data": {
            "text/plain": [
              "0.9740621514147216"
            ]
          },
          "metadata": {
            "tags": []
          },
          "execution_count": 56
        }
      ]
    },
    {
      "cell_type": "markdown",
      "metadata": {
        "id": "OXFPujOK75bV"
      },
      "source": [
        "**Logic to predict the next days Stocks price**"
      ]
    },
    {
      "cell_type": "code",
      "metadata": {
        "id": "fj6cxcn2Typm",
        "outputId": "c8883c85-a8a4-447b-ebae-17e4adb5c0e1",
        "colab": {
          "base_uri": "https://localhost:8080/",
          "height": 1000
        }
      },
      "source": [
        "# demonstrate prediction for next 100 days\n",
        "from numpy import array\n",
        "\n",
        "lst_output=[]\n",
        "n_steps=100\n",
        "i=0\n",
        "# Predict the next 30 days\n",
        "while(i<30):\n",
        "    \n",
        "    if(len(temp_input)>100): # Shifting our data 1 position fiorward\n",
        "        print(temp_input)\n",
        "        x_input=np.array(temp_input[1:])\n",
        "        print(\"{} day input {}\".format(i,x_input))\n",
        "        x_input=x_input.reshape(1,-1)\n",
        "        x_input = x_input.reshape((1, n_steps, 1))\n",
        "        print(x_input)\n",
        "        yhat = model.predict(x_input, verbose=0)\n",
        "        print(\"{} day output {}\".format(i,yhat))\n",
        "        temp_input.extend(yhat[0].tolist())\n",
        "        temp_input=temp_input[1:]\n",
        "        print(temp_input)\n",
        "        lst_output.extend(yhat.tolist())\n",
        "        i=i+1\n",
        "    else:\n",
        "        x_input = x_input.reshape((1, n_steps,1))\n",
        "        yhat = model.predict(x_input, verbose=0)\n",
        "        print(yhat[0])\n",
        "        temp_input.extend(yhat[0].tolist())\n",
        "        print(len(temp_input))\n",
        "        lst_output.extend(yhat.tolist())\n",
        "        i=i+1\n",
        "    \n",
        "\n",
        "print(lst_output)"
      ],
      "execution_count": 57,
      "outputs": [
        {
          "output_type": "stream",
          "text": [
            "[0.60395855]\n",
            "101\n",
            "[0.9453281621260476, 0.9353111079104361, 0.8905140604439015, 0.9387788897440559, 0.9573718580291262, 0.9659699751650885, 0.9573293022920057, 0.9487912155268887, 0.961239088542178, 0.9796466205710201, 0.9740621514147216, 0.9634283468137141, 0.9527947478356409, 0.944304973197204, 0.9668630297231418, 0.9588171097918856, 0.916350967588909, 0.912033714891137, 0.891390462754706, 0.8838486334191509, 0.8076217807425334, 0.7995553024124677, 0.8248005403807332, 0.8135263433356954, 0.8167435189162249, 0.7696934822786812, 0.667504522089349, 0.6707911849062811, 0.5171524963739804, 0.5869042923904169, 0.44409923558399145, 0.4014178474833543, 0.31144373147509885, 0.2808513704769171, 0.36651779343811075, 0.1594359365320892, 0.1958969858422419, 0.2938797084031737, 0.3681392301618449, 0.3612353263740371, 0.28885576257520507, 0.34296769388437, 0.27964510950823507, 0.24415390021201056, 0.3744779850789546, 0.36535994738126076, 0.43197073645687056, 0.4072560066051978, 0.39092990438138675, 0.4026556654936866, 0.4545540797091374, 0.45767391154024173, 0.40445040914150354, 0.44354559928189574, 0.46899343973202745, 0.4407915004424885, 0.46267791578557294, 0.48222653878623567, 0.5141010210373458, 0.5665967580339462, 0.461218478777107, 0.4474380137887539, 0.45966067011506384, 0.44690493583283764, 0.45739493479573823, 0.4531067721380748, 0.4431018474124968, 0.47665255439964604, 0.4300377379375726, 0.4287135748732849, 0.3724659397251737, 0.3812650146753085, 0.4140236085973048, 0.420038672334077, 0.40633869322496685, 0.4030078299505906, 0.455422464251775, 0.48675636480982165, 0.49851954208585436, 0.5448028552223563, 0.5722760011529764, 0.5872231523528237, 0.5804423930191618, 0.5965753495740342, 0.6009614727446659, 0.5791788770366324, 0.5944603069190497, 0.5571629441389296, 0.5699265933515414, 0.5408704547650716, 0.5606810939075324, 0.5555604210410516, 0.592407761636452, 0.6199686917184177, 0.6294203913877676, 0.656740788793114, 0.6271920722321751, 0.6257774524446955, 0.6431013539806107, 0.6320623444158702, 0.6039585471153259]\n",
            "1 day input [0.93531111 0.89051406 0.93877889 0.95737186 0.96596998 0.9573293\n",
            " 0.94879122 0.96123909 0.97964662 0.97406215 0.96342835 0.95279475\n",
            " 0.94430497 0.96686303 0.95881711 0.91635097 0.91203371 0.89139046\n",
            " 0.88384863 0.80762178 0.7995553  0.82480054 0.81352634 0.81674352\n",
            " 0.76969348 0.66750452 0.67079118 0.5171525  0.58690429 0.44409924\n",
            " 0.40141785 0.31144373 0.28085137 0.36651779 0.15943594 0.19589699\n",
            " 0.29387971 0.36813923 0.36123533 0.28885576 0.34296769 0.27964511\n",
            " 0.2441539  0.37447799 0.36535995 0.43197074 0.40725601 0.3909299\n",
            " 0.40265567 0.45455408 0.45767391 0.40445041 0.4435456  0.46899344\n",
            " 0.4407915  0.46267792 0.48222654 0.51410102 0.56659676 0.46121848\n",
            " 0.44743801 0.45966067 0.44690494 0.45739493 0.45310677 0.44310185\n",
            " 0.47665255 0.43003774 0.42871357 0.37246594 0.38126501 0.41402361\n",
            " 0.42003867 0.40633869 0.40300783 0.45542246 0.48675636 0.49851954\n",
            " 0.54480286 0.572276   0.58722315 0.58044239 0.59657535 0.60096147\n",
            " 0.57917888 0.59446031 0.55716294 0.56992659 0.54087045 0.56068109\n",
            " 0.55556042 0.59240776 0.61996869 0.62942039 0.65674079 0.62719207\n",
            " 0.62577745 0.64310135 0.63206234 0.60395855]\n",
            "[[[0.93531111]\n",
            "  [0.89051406]\n",
            "  [0.93877889]\n",
            "  [0.95737186]\n",
            "  [0.96596998]\n",
            "  [0.9573293 ]\n",
            "  [0.94879122]\n",
            "  [0.96123909]\n",
            "  [0.97964662]\n",
            "  [0.97406215]\n",
            "  [0.96342835]\n",
            "  [0.95279475]\n",
            "  [0.94430497]\n",
            "  [0.96686303]\n",
            "  [0.95881711]\n",
            "  [0.91635097]\n",
            "  [0.91203371]\n",
            "  [0.89139046]\n",
            "  [0.88384863]\n",
            "  [0.80762178]\n",
            "  [0.7995553 ]\n",
            "  [0.82480054]\n",
            "  [0.81352634]\n",
            "  [0.81674352]\n",
            "  [0.76969348]\n",
            "  [0.66750452]\n",
            "  [0.67079118]\n",
            "  [0.5171525 ]\n",
            "  [0.58690429]\n",
            "  [0.44409924]\n",
            "  [0.40141785]\n",
            "  [0.31144373]\n",
            "  [0.28085137]\n",
            "  [0.36651779]\n",
            "  [0.15943594]\n",
            "  [0.19589699]\n",
            "  [0.29387971]\n",
            "  [0.36813923]\n",
            "  [0.36123533]\n",
            "  [0.28885576]\n",
            "  [0.34296769]\n",
            "  [0.27964511]\n",
            "  [0.2441539 ]\n",
            "  [0.37447799]\n",
            "  [0.36535995]\n",
            "  [0.43197074]\n",
            "  [0.40725601]\n",
            "  [0.3909299 ]\n",
            "  [0.40265567]\n",
            "  [0.45455408]\n",
            "  [0.45767391]\n",
            "  [0.40445041]\n",
            "  [0.4435456 ]\n",
            "  [0.46899344]\n",
            "  [0.4407915 ]\n",
            "  [0.46267792]\n",
            "  [0.48222654]\n",
            "  [0.51410102]\n",
            "  [0.56659676]\n",
            "  [0.46121848]\n",
            "  [0.44743801]\n",
            "  [0.45966067]\n",
            "  [0.44690494]\n",
            "  [0.45739493]\n",
            "  [0.45310677]\n",
            "  [0.44310185]\n",
            "  [0.47665255]\n",
            "  [0.43003774]\n",
            "  [0.42871357]\n",
            "  [0.37246594]\n",
            "  [0.38126501]\n",
            "  [0.41402361]\n",
            "  [0.42003867]\n",
            "  [0.40633869]\n",
            "  [0.40300783]\n",
            "  [0.45542246]\n",
            "  [0.48675636]\n",
            "  [0.49851954]\n",
            "  [0.54480286]\n",
            "  [0.572276  ]\n",
            "  [0.58722315]\n",
            "  [0.58044239]\n",
            "  [0.59657535]\n",
            "  [0.60096147]\n",
            "  [0.57917888]\n",
            "  [0.59446031]\n",
            "  [0.55716294]\n",
            "  [0.56992659]\n",
            "  [0.54087045]\n",
            "  [0.56068109]\n",
            "  [0.55556042]\n",
            "  [0.59240776]\n",
            "  [0.61996869]\n",
            "  [0.62942039]\n",
            "  [0.65674079]\n",
            "  [0.62719207]\n",
            "  [0.62577745]\n",
            "  [0.64310135]\n",
            "  [0.63206234]\n",
            "  [0.60395855]]]\n",
            "1 day output [[0.6097084]]\n",
            "[0.9353111079104361, 0.8905140604439015, 0.9387788897440559, 0.9573718580291262, 0.9659699751650885, 0.9573293022920057, 0.9487912155268887, 0.961239088542178, 0.9796466205710201, 0.9740621514147216, 0.9634283468137141, 0.9527947478356409, 0.944304973197204, 0.9668630297231418, 0.9588171097918856, 0.916350967588909, 0.912033714891137, 0.891390462754706, 0.8838486334191509, 0.8076217807425334, 0.7995553024124677, 0.8248005403807332, 0.8135263433356954, 0.8167435189162249, 0.7696934822786812, 0.667504522089349, 0.6707911849062811, 0.5171524963739804, 0.5869042923904169, 0.44409923558399145, 0.4014178474833543, 0.31144373147509885, 0.2808513704769171, 0.36651779343811075, 0.1594359365320892, 0.1958969858422419, 0.2938797084031737, 0.3681392301618449, 0.3612353263740371, 0.28885576257520507, 0.34296769388437, 0.27964510950823507, 0.24415390021201056, 0.3744779850789546, 0.36535994738126076, 0.43197073645687056, 0.4072560066051978, 0.39092990438138675, 0.4026556654936866, 0.4545540797091374, 0.45767391154024173, 0.40445040914150354, 0.44354559928189574, 0.46899343973202745, 0.4407915004424885, 0.46267791578557294, 0.48222653878623567, 0.5141010210373458, 0.5665967580339462, 0.461218478777107, 0.4474380137887539, 0.45966067011506384, 0.44690493583283764, 0.45739493479573823, 0.4531067721380748, 0.4431018474124968, 0.47665255439964604, 0.4300377379375726, 0.4287135748732849, 0.3724659397251737, 0.3812650146753085, 0.4140236085973048, 0.420038672334077, 0.40633869322496685, 0.4030078299505906, 0.455422464251775, 0.48675636480982165, 0.49851954208585436, 0.5448028552223563, 0.5722760011529764, 0.5872231523528237, 0.5804423930191618, 0.5965753495740342, 0.6009614727446659, 0.5791788770366324, 0.5944603069190497, 0.5571629441389296, 0.5699265933515414, 0.5408704547650716, 0.5606810939075324, 0.5555604210410516, 0.592407761636452, 0.6199686917184177, 0.6294203913877676, 0.656740788793114, 0.6271920722321751, 0.6257774524446955, 0.6431013539806107, 0.6320623444158702, 0.6039585471153259, 0.6097084283828735]\n",
            "[0.9353111079104361, 0.8905140604439015, 0.9387788897440559, 0.9573718580291262, 0.9659699751650885, 0.9573293022920057, 0.9487912155268887, 0.961239088542178, 0.9796466205710201, 0.9740621514147216, 0.9634283468137141, 0.9527947478356409, 0.944304973197204, 0.9668630297231418, 0.9588171097918856, 0.916350967588909, 0.912033714891137, 0.891390462754706, 0.8838486334191509, 0.8076217807425334, 0.7995553024124677, 0.8248005403807332, 0.8135263433356954, 0.8167435189162249, 0.7696934822786812, 0.667504522089349, 0.6707911849062811, 0.5171524963739804, 0.5869042923904169, 0.44409923558399145, 0.4014178474833543, 0.31144373147509885, 0.2808513704769171, 0.36651779343811075, 0.1594359365320892, 0.1958969858422419, 0.2938797084031737, 0.3681392301618449, 0.3612353263740371, 0.28885576257520507, 0.34296769388437, 0.27964510950823507, 0.24415390021201056, 0.3744779850789546, 0.36535994738126076, 0.43197073645687056, 0.4072560066051978, 0.39092990438138675, 0.4026556654936866, 0.4545540797091374, 0.45767391154024173, 0.40445040914150354, 0.44354559928189574, 0.46899343973202745, 0.4407915004424885, 0.46267791578557294, 0.48222653878623567, 0.5141010210373458, 0.5665967580339462, 0.461218478777107, 0.4474380137887539, 0.45966067011506384, 0.44690493583283764, 0.45739493479573823, 0.4531067721380748, 0.4431018474124968, 0.47665255439964604, 0.4300377379375726, 0.4287135748732849, 0.3724659397251737, 0.3812650146753085, 0.4140236085973048, 0.420038672334077, 0.40633869322496685, 0.4030078299505906, 0.455422464251775, 0.48675636480982165, 0.49851954208585436, 0.5448028552223563, 0.5722760011529764, 0.5872231523528237, 0.5804423930191618, 0.5965753495740342, 0.6009614727446659, 0.5791788770366324, 0.5944603069190497, 0.5571629441389296, 0.5699265933515414, 0.5408704547650716, 0.5606810939075324, 0.5555604210410516, 0.592407761636452, 0.6199686917184177, 0.6294203913877676, 0.656740788793114, 0.6271920722321751, 0.6257774524446955, 0.6431013539806107, 0.6320623444158702, 0.6039585471153259, 0.6097084283828735]\n",
            "2 day input [0.89051406 0.93877889 0.95737186 0.96596998 0.9573293  0.94879122\n",
            " 0.96123909 0.97964662 0.97406215 0.96342835 0.95279475 0.94430497\n",
            " 0.96686303 0.95881711 0.91635097 0.91203371 0.89139046 0.88384863\n",
            " 0.80762178 0.7995553  0.82480054 0.81352634 0.81674352 0.76969348\n",
            " 0.66750452 0.67079118 0.5171525  0.58690429 0.44409924 0.40141785\n",
            " 0.31144373 0.28085137 0.36651779 0.15943594 0.19589699 0.29387971\n",
            " 0.36813923 0.36123533 0.28885576 0.34296769 0.27964511 0.2441539\n",
            " 0.37447799 0.36535995 0.43197074 0.40725601 0.3909299  0.40265567\n",
            " 0.45455408 0.45767391 0.40445041 0.4435456  0.46899344 0.4407915\n",
            " 0.46267792 0.48222654 0.51410102 0.56659676 0.46121848 0.44743801\n",
            " 0.45966067 0.44690494 0.45739493 0.45310677 0.44310185 0.47665255\n",
            " 0.43003774 0.42871357 0.37246594 0.38126501 0.41402361 0.42003867\n",
            " 0.40633869 0.40300783 0.45542246 0.48675636 0.49851954 0.54480286\n",
            " 0.572276   0.58722315 0.58044239 0.59657535 0.60096147 0.57917888\n",
            " 0.59446031 0.55716294 0.56992659 0.54087045 0.56068109 0.55556042\n",
            " 0.59240776 0.61996869 0.62942039 0.65674079 0.62719207 0.62577745\n",
            " 0.64310135 0.63206234 0.60395855 0.60970843]\n",
            "[[[0.89051406]\n",
            "  [0.93877889]\n",
            "  [0.95737186]\n",
            "  [0.96596998]\n",
            "  [0.9573293 ]\n",
            "  [0.94879122]\n",
            "  [0.96123909]\n",
            "  [0.97964662]\n",
            "  [0.97406215]\n",
            "  [0.96342835]\n",
            "  [0.95279475]\n",
            "  [0.94430497]\n",
            "  [0.96686303]\n",
            "  [0.95881711]\n",
            "  [0.91635097]\n",
            "  [0.91203371]\n",
            "  [0.89139046]\n",
            "  [0.88384863]\n",
            "  [0.80762178]\n",
            "  [0.7995553 ]\n",
            "  [0.82480054]\n",
            "  [0.81352634]\n",
            "  [0.81674352]\n",
            "  [0.76969348]\n",
            "  [0.66750452]\n",
            "  [0.67079118]\n",
            "  [0.5171525 ]\n",
            "  [0.58690429]\n",
            "  [0.44409924]\n",
            "  [0.40141785]\n",
            "  [0.31144373]\n",
            "  [0.28085137]\n",
            "  [0.36651779]\n",
            "  [0.15943594]\n",
            "  [0.19589699]\n",
            "  [0.29387971]\n",
            "  [0.36813923]\n",
            "  [0.36123533]\n",
            "  [0.28885576]\n",
            "  [0.34296769]\n",
            "  [0.27964511]\n",
            "  [0.2441539 ]\n",
            "  [0.37447799]\n",
            "  [0.36535995]\n",
            "  [0.43197074]\n",
            "  [0.40725601]\n",
            "  [0.3909299 ]\n",
            "  [0.40265567]\n",
            "  [0.45455408]\n",
            "  [0.45767391]\n",
            "  [0.40445041]\n",
            "  [0.4435456 ]\n",
            "  [0.46899344]\n",
            "  [0.4407915 ]\n",
            "  [0.46267792]\n",
            "  [0.48222654]\n",
            "  [0.51410102]\n",
            "  [0.56659676]\n",
            "  [0.46121848]\n",
            "  [0.44743801]\n",
            "  [0.45966067]\n",
            "  [0.44690494]\n",
            "  [0.45739493]\n",
            "  [0.45310677]\n",
            "  [0.44310185]\n",
            "  [0.47665255]\n",
            "  [0.43003774]\n",
            "  [0.42871357]\n",
            "  [0.37246594]\n",
            "  [0.38126501]\n",
            "  [0.41402361]\n",
            "  [0.42003867]\n",
            "  [0.40633869]\n",
            "  [0.40300783]\n",
            "  [0.45542246]\n",
            "  [0.48675636]\n",
            "  [0.49851954]\n",
            "  [0.54480286]\n",
            "  [0.572276  ]\n",
            "  [0.58722315]\n",
            "  [0.58044239]\n",
            "  [0.59657535]\n",
            "  [0.60096147]\n",
            "  [0.57917888]\n",
            "  [0.59446031]\n",
            "  [0.55716294]\n",
            "  [0.56992659]\n",
            "  [0.54087045]\n",
            "  [0.56068109]\n",
            "  [0.55556042]\n",
            "  [0.59240776]\n",
            "  [0.61996869]\n",
            "  [0.62942039]\n",
            "  [0.65674079]\n",
            "  [0.62719207]\n",
            "  [0.62577745]\n",
            "  [0.64310135]\n",
            "  [0.63206234]\n",
            "  [0.60395855]\n",
            "  [0.60970843]]]\n",
            "2 day output [[0.6147084]]\n",
            "[0.8905140604439015, 0.9387788897440559, 0.9573718580291262, 0.9659699751650885, 0.9573293022920057, 0.9487912155268887, 0.961239088542178, 0.9796466205710201, 0.9740621514147216, 0.9634283468137141, 0.9527947478356409, 0.944304973197204, 0.9668630297231418, 0.9588171097918856, 0.916350967588909, 0.912033714891137, 0.891390462754706, 0.8838486334191509, 0.8076217807425334, 0.7995553024124677, 0.8248005403807332, 0.8135263433356954, 0.8167435189162249, 0.7696934822786812, 0.667504522089349, 0.6707911849062811, 0.5171524963739804, 0.5869042923904169, 0.44409923558399145, 0.4014178474833543, 0.31144373147509885, 0.2808513704769171, 0.36651779343811075, 0.1594359365320892, 0.1958969858422419, 0.2938797084031737, 0.3681392301618449, 0.3612353263740371, 0.28885576257520507, 0.34296769388437, 0.27964510950823507, 0.24415390021201056, 0.3744779850789546, 0.36535994738126076, 0.43197073645687056, 0.4072560066051978, 0.39092990438138675, 0.4026556654936866, 0.4545540797091374, 0.45767391154024173, 0.40445040914150354, 0.44354559928189574, 0.46899343973202745, 0.4407915004424885, 0.46267791578557294, 0.48222653878623567, 0.5141010210373458, 0.5665967580339462, 0.461218478777107, 0.4474380137887539, 0.45966067011506384, 0.44690493583283764, 0.45739493479573823, 0.4531067721380748, 0.4431018474124968, 0.47665255439964604, 0.4300377379375726, 0.4287135748732849, 0.3724659397251737, 0.3812650146753085, 0.4140236085973048, 0.420038672334077, 0.40633869322496685, 0.4030078299505906, 0.455422464251775, 0.48675636480982165, 0.49851954208585436, 0.5448028552223563, 0.5722760011529764, 0.5872231523528237, 0.5804423930191618, 0.5965753495740342, 0.6009614727446659, 0.5791788770366324, 0.5944603069190497, 0.5571629441389296, 0.5699265933515414, 0.5408704547650716, 0.5606810939075324, 0.5555604210410516, 0.592407761636452, 0.6199686917184177, 0.6294203913877676, 0.656740788793114, 0.6271920722321751, 0.6257774524446955, 0.6431013539806107, 0.6320623444158702, 0.6039585471153259, 0.6097084283828735, 0.614708423614502]\n",
            "[0.8905140604439015, 0.9387788897440559, 0.9573718580291262, 0.9659699751650885, 0.9573293022920057, 0.9487912155268887, 0.961239088542178, 0.9796466205710201, 0.9740621514147216, 0.9634283468137141, 0.9527947478356409, 0.944304973197204, 0.9668630297231418, 0.9588171097918856, 0.916350967588909, 0.912033714891137, 0.891390462754706, 0.8838486334191509, 0.8076217807425334, 0.7995553024124677, 0.8248005403807332, 0.8135263433356954, 0.8167435189162249, 0.7696934822786812, 0.667504522089349, 0.6707911849062811, 0.5171524963739804, 0.5869042923904169, 0.44409923558399145, 0.4014178474833543, 0.31144373147509885, 0.2808513704769171, 0.36651779343811075, 0.1594359365320892, 0.1958969858422419, 0.2938797084031737, 0.3681392301618449, 0.3612353263740371, 0.28885576257520507, 0.34296769388437, 0.27964510950823507, 0.24415390021201056, 0.3744779850789546, 0.36535994738126076, 0.43197073645687056, 0.4072560066051978, 0.39092990438138675, 0.4026556654936866, 0.4545540797091374, 0.45767391154024173, 0.40445040914150354, 0.44354559928189574, 0.46899343973202745, 0.4407915004424885, 0.46267791578557294, 0.48222653878623567, 0.5141010210373458, 0.5665967580339462, 0.461218478777107, 0.4474380137887539, 0.45966067011506384, 0.44690493583283764, 0.45739493479573823, 0.4531067721380748, 0.4431018474124968, 0.47665255439964604, 0.4300377379375726, 0.4287135748732849, 0.3724659397251737, 0.3812650146753085, 0.4140236085973048, 0.420038672334077, 0.40633869322496685, 0.4030078299505906, 0.455422464251775, 0.48675636480982165, 0.49851954208585436, 0.5448028552223563, 0.5722760011529764, 0.5872231523528237, 0.5804423930191618, 0.5965753495740342, 0.6009614727446659, 0.5791788770366324, 0.5944603069190497, 0.5571629441389296, 0.5699265933515414, 0.5408704547650716, 0.5606810939075324, 0.5555604210410516, 0.592407761636452, 0.6199686917184177, 0.6294203913877676, 0.656740788793114, 0.6271920722321751, 0.6257774524446955, 0.6431013539806107, 0.6320623444158702, 0.6039585471153259, 0.6097084283828735, 0.614708423614502]\n",
            "3 day input [0.93877889 0.95737186 0.96596998 0.9573293  0.94879122 0.96123909\n",
            " 0.97964662 0.97406215 0.96342835 0.95279475 0.94430497 0.96686303\n",
            " 0.95881711 0.91635097 0.91203371 0.89139046 0.88384863 0.80762178\n",
            " 0.7995553  0.82480054 0.81352634 0.81674352 0.76969348 0.66750452\n",
            " 0.67079118 0.5171525  0.58690429 0.44409924 0.40141785 0.31144373\n",
            " 0.28085137 0.36651779 0.15943594 0.19589699 0.29387971 0.36813923\n",
            " 0.36123533 0.28885576 0.34296769 0.27964511 0.2441539  0.37447799\n",
            " 0.36535995 0.43197074 0.40725601 0.3909299  0.40265567 0.45455408\n",
            " 0.45767391 0.40445041 0.4435456  0.46899344 0.4407915  0.46267792\n",
            " 0.48222654 0.51410102 0.56659676 0.46121848 0.44743801 0.45966067\n",
            " 0.44690494 0.45739493 0.45310677 0.44310185 0.47665255 0.43003774\n",
            " 0.42871357 0.37246594 0.38126501 0.41402361 0.42003867 0.40633869\n",
            " 0.40300783 0.45542246 0.48675636 0.49851954 0.54480286 0.572276\n",
            " 0.58722315 0.58044239 0.59657535 0.60096147 0.57917888 0.59446031\n",
            " 0.55716294 0.56992659 0.54087045 0.56068109 0.55556042 0.59240776\n",
            " 0.61996869 0.62942039 0.65674079 0.62719207 0.62577745 0.64310135\n",
            " 0.63206234 0.60395855 0.60970843 0.61470842]\n",
            "[[[0.93877889]\n",
            "  [0.95737186]\n",
            "  [0.96596998]\n",
            "  [0.9573293 ]\n",
            "  [0.94879122]\n",
            "  [0.96123909]\n",
            "  [0.97964662]\n",
            "  [0.97406215]\n",
            "  [0.96342835]\n",
            "  [0.95279475]\n",
            "  [0.94430497]\n",
            "  [0.96686303]\n",
            "  [0.95881711]\n",
            "  [0.91635097]\n",
            "  [0.91203371]\n",
            "  [0.89139046]\n",
            "  [0.88384863]\n",
            "  [0.80762178]\n",
            "  [0.7995553 ]\n",
            "  [0.82480054]\n",
            "  [0.81352634]\n",
            "  [0.81674352]\n",
            "  [0.76969348]\n",
            "  [0.66750452]\n",
            "  [0.67079118]\n",
            "  [0.5171525 ]\n",
            "  [0.58690429]\n",
            "  [0.44409924]\n",
            "  [0.40141785]\n",
            "  [0.31144373]\n",
            "  [0.28085137]\n",
            "  [0.36651779]\n",
            "  [0.15943594]\n",
            "  [0.19589699]\n",
            "  [0.29387971]\n",
            "  [0.36813923]\n",
            "  [0.36123533]\n",
            "  [0.28885576]\n",
            "  [0.34296769]\n",
            "  [0.27964511]\n",
            "  [0.2441539 ]\n",
            "  [0.37447799]\n",
            "  [0.36535995]\n",
            "  [0.43197074]\n",
            "  [0.40725601]\n",
            "  [0.3909299 ]\n",
            "  [0.40265567]\n",
            "  [0.45455408]\n",
            "  [0.45767391]\n",
            "  [0.40445041]\n",
            "  [0.4435456 ]\n",
            "  [0.46899344]\n",
            "  [0.4407915 ]\n",
            "  [0.46267792]\n",
            "  [0.48222654]\n",
            "  [0.51410102]\n",
            "  [0.56659676]\n",
            "  [0.46121848]\n",
            "  [0.44743801]\n",
            "  [0.45966067]\n",
            "  [0.44690494]\n",
            "  [0.45739493]\n",
            "  [0.45310677]\n",
            "  [0.44310185]\n",
            "  [0.47665255]\n",
            "  [0.43003774]\n",
            "  [0.42871357]\n",
            "  [0.37246594]\n",
            "  [0.38126501]\n",
            "  [0.41402361]\n",
            "  [0.42003867]\n",
            "  [0.40633869]\n",
            "  [0.40300783]\n",
            "  [0.45542246]\n",
            "  [0.48675636]\n",
            "  [0.49851954]\n",
            "  [0.54480286]\n",
            "  [0.572276  ]\n",
            "  [0.58722315]\n",
            "  [0.58044239]\n",
            "  [0.59657535]\n",
            "  [0.60096147]\n",
            "  [0.57917888]\n",
            "  [0.59446031]\n",
            "  [0.55716294]\n",
            "  [0.56992659]\n",
            "  [0.54087045]\n",
            "  [0.56068109]\n",
            "  [0.55556042]\n",
            "  [0.59240776]\n",
            "  [0.61996869]\n",
            "  [0.62942039]\n",
            "  [0.65674079]\n",
            "  [0.62719207]\n",
            "  [0.62577745]\n",
            "  [0.64310135]\n",
            "  [0.63206234]\n",
            "  [0.60395855]\n",
            "  [0.60970843]\n",
            "  [0.61470842]]]\n",
            "3 day output [[0.61898375]]\n",
            "[0.9387788897440559, 0.9573718580291262, 0.9659699751650885, 0.9573293022920057, 0.9487912155268887, 0.961239088542178, 0.9796466205710201, 0.9740621514147216, 0.9634283468137141, 0.9527947478356409, 0.944304973197204, 0.9668630297231418, 0.9588171097918856, 0.916350967588909, 0.912033714891137, 0.891390462754706, 0.8838486334191509, 0.8076217807425334, 0.7995553024124677, 0.8248005403807332, 0.8135263433356954, 0.8167435189162249, 0.7696934822786812, 0.667504522089349, 0.6707911849062811, 0.5171524963739804, 0.5869042923904169, 0.44409923558399145, 0.4014178474833543, 0.31144373147509885, 0.2808513704769171, 0.36651779343811075, 0.1594359365320892, 0.1958969858422419, 0.2938797084031737, 0.3681392301618449, 0.3612353263740371, 0.28885576257520507, 0.34296769388437, 0.27964510950823507, 0.24415390021201056, 0.3744779850789546, 0.36535994738126076, 0.43197073645687056, 0.4072560066051978, 0.39092990438138675, 0.4026556654936866, 0.4545540797091374, 0.45767391154024173, 0.40445040914150354, 0.44354559928189574, 0.46899343973202745, 0.4407915004424885, 0.46267791578557294, 0.48222653878623567, 0.5141010210373458, 0.5665967580339462, 0.461218478777107, 0.4474380137887539, 0.45966067011506384, 0.44690493583283764, 0.45739493479573823, 0.4531067721380748, 0.4431018474124968, 0.47665255439964604, 0.4300377379375726, 0.4287135748732849, 0.3724659397251737, 0.3812650146753085, 0.4140236085973048, 0.420038672334077, 0.40633869322496685, 0.4030078299505906, 0.455422464251775, 0.48675636480982165, 0.49851954208585436, 0.5448028552223563, 0.5722760011529764, 0.5872231523528237, 0.5804423930191618, 0.5965753495740342, 0.6009614727446659, 0.5791788770366324, 0.5944603069190497, 0.5571629441389296, 0.5699265933515414, 0.5408704547650716, 0.5606810939075324, 0.5555604210410516, 0.592407761636452, 0.6199686917184177, 0.6294203913877676, 0.656740788793114, 0.6271920722321751, 0.6257774524446955, 0.6431013539806107, 0.6320623444158702, 0.6039585471153259, 0.6097084283828735, 0.614708423614502, 0.6189837455749512]\n",
            "[0.9387788897440559, 0.9573718580291262, 0.9659699751650885, 0.9573293022920057, 0.9487912155268887, 0.961239088542178, 0.9796466205710201, 0.9740621514147216, 0.9634283468137141, 0.9527947478356409, 0.944304973197204, 0.9668630297231418, 0.9588171097918856, 0.916350967588909, 0.912033714891137, 0.891390462754706, 0.8838486334191509, 0.8076217807425334, 0.7995553024124677, 0.8248005403807332, 0.8135263433356954, 0.8167435189162249, 0.7696934822786812, 0.667504522089349, 0.6707911849062811, 0.5171524963739804, 0.5869042923904169, 0.44409923558399145, 0.4014178474833543, 0.31144373147509885, 0.2808513704769171, 0.36651779343811075, 0.1594359365320892, 0.1958969858422419, 0.2938797084031737, 0.3681392301618449, 0.3612353263740371, 0.28885576257520507, 0.34296769388437, 0.27964510950823507, 0.24415390021201056, 0.3744779850789546, 0.36535994738126076, 0.43197073645687056, 0.4072560066051978, 0.39092990438138675, 0.4026556654936866, 0.4545540797091374, 0.45767391154024173, 0.40445040914150354, 0.44354559928189574, 0.46899343973202745, 0.4407915004424885, 0.46267791578557294, 0.48222653878623567, 0.5141010210373458, 0.5665967580339462, 0.461218478777107, 0.4474380137887539, 0.45966067011506384, 0.44690493583283764, 0.45739493479573823, 0.4531067721380748, 0.4431018474124968, 0.47665255439964604, 0.4300377379375726, 0.4287135748732849, 0.3724659397251737, 0.3812650146753085, 0.4140236085973048, 0.420038672334077, 0.40633869322496685, 0.4030078299505906, 0.455422464251775, 0.48675636480982165, 0.49851954208585436, 0.5448028552223563, 0.5722760011529764, 0.5872231523528237, 0.5804423930191618, 0.5965753495740342, 0.6009614727446659, 0.5791788770366324, 0.5944603069190497, 0.5571629441389296, 0.5699265933515414, 0.5408704547650716, 0.5606810939075324, 0.5555604210410516, 0.592407761636452, 0.6199686917184177, 0.6294203913877676, 0.656740788793114, 0.6271920722321751, 0.6257774524446955, 0.6431013539806107, 0.6320623444158702, 0.6039585471153259, 0.6097084283828735, 0.614708423614502, 0.6189837455749512]\n",
            "4 day input [0.95737186 0.96596998 0.9573293  0.94879122 0.96123909 0.97964662\n",
            " 0.97406215 0.96342835 0.95279475 0.94430497 0.96686303 0.95881711\n",
            " 0.91635097 0.91203371 0.89139046 0.88384863 0.80762178 0.7995553\n",
            " 0.82480054 0.81352634 0.81674352 0.76969348 0.66750452 0.67079118\n",
            " 0.5171525  0.58690429 0.44409924 0.40141785 0.31144373 0.28085137\n",
            " 0.36651779 0.15943594 0.19589699 0.29387971 0.36813923 0.36123533\n",
            " 0.28885576 0.34296769 0.27964511 0.2441539  0.37447799 0.36535995\n",
            " 0.43197074 0.40725601 0.3909299  0.40265567 0.45455408 0.45767391\n",
            " 0.40445041 0.4435456  0.46899344 0.4407915  0.46267792 0.48222654\n",
            " 0.51410102 0.56659676 0.46121848 0.44743801 0.45966067 0.44690494\n",
            " 0.45739493 0.45310677 0.44310185 0.47665255 0.43003774 0.42871357\n",
            " 0.37246594 0.38126501 0.41402361 0.42003867 0.40633869 0.40300783\n",
            " 0.45542246 0.48675636 0.49851954 0.54480286 0.572276   0.58722315\n",
            " 0.58044239 0.59657535 0.60096147 0.57917888 0.59446031 0.55716294\n",
            " 0.56992659 0.54087045 0.56068109 0.55556042 0.59240776 0.61996869\n",
            " 0.62942039 0.65674079 0.62719207 0.62577745 0.64310135 0.63206234\n",
            " 0.60395855 0.60970843 0.61470842 0.61898375]\n",
            "[[[0.95737186]\n",
            "  [0.96596998]\n",
            "  [0.9573293 ]\n",
            "  [0.94879122]\n",
            "  [0.96123909]\n",
            "  [0.97964662]\n",
            "  [0.97406215]\n",
            "  [0.96342835]\n",
            "  [0.95279475]\n",
            "  [0.94430497]\n",
            "  [0.96686303]\n",
            "  [0.95881711]\n",
            "  [0.91635097]\n",
            "  [0.91203371]\n",
            "  [0.89139046]\n",
            "  [0.88384863]\n",
            "  [0.80762178]\n",
            "  [0.7995553 ]\n",
            "  [0.82480054]\n",
            "  [0.81352634]\n",
            "  [0.81674352]\n",
            "  [0.76969348]\n",
            "  [0.66750452]\n",
            "  [0.67079118]\n",
            "  [0.5171525 ]\n",
            "  [0.58690429]\n",
            "  [0.44409924]\n",
            "  [0.40141785]\n",
            "  [0.31144373]\n",
            "  [0.28085137]\n",
            "  [0.36651779]\n",
            "  [0.15943594]\n",
            "  [0.19589699]\n",
            "  [0.29387971]\n",
            "  [0.36813923]\n",
            "  [0.36123533]\n",
            "  [0.28885576]\n",
            "  [0.34296769]\n",
            "  [0.27964511]\n",
            "  [0.2441539 ]\n",
            "  [0.37447799]\n",
            "  [0.36535995]\n",
            "  [0.43197074]\n",
            "  [0.40725601]\n",
            "  [0.3909299 ]\n",
            "  [0.40265567]\n",
            "  [0.45455408]\n",
            "  [0.45767391]\n",
            "  [0.40445041]\n",
            "  [0.4435456 ]\n",
            "  [0.46899344]\n",
            "  [0.4407915 ]\n",
            "  [0.46267792]\n",
            "  [0.48222654]\n",
            "  [0.51410102]\n",
            "  [0.56659676]\n",
            "  [0.46121848]\n",
            "  [0.44743801]\n",
            "  [0.45966067]\n",
            "  [0.44690494]\n",
            "  [0.45739493]\n",
            "  [0.45310677]\n",
            "  [0.44310185]\n",
            "  [0.47665255]\n",
            "  [0.43003774]\n",
            "  [0.42871357]\n",
            "  [0.37246594]\n",
            "  [0.38126501]\n",
            "  [0.41402361]\n",
            "  [0.42003867]\n",
            "  [0.40633869]\n",
            "  [0.40300783]\n",
            "  [0.45542246]\n",
            "  [0.48675636]\n",
            "  [0.49851954]\n",
            "  [0.54480286]\n",
            "  [0.572276  ]\n",
            "  [0.58722315]\n",
            "  [0.58044239]\n",
            "  [0.59657535]\n",
            "  [0.60096147]\n",
            "  [0.57917888]\n",
            "  [0.59446031]\n",
            "  [0.55716294]\n",
            "  [0.56992659]\n",
            "  [0.54087045]\n",
            "  [0.56068109]\n",
            "  [0.55556042]\n",
            "  [0.59240776]\n",
            "  [0.61996869]\n",
            "  [0.62942039]\n",
            "  [0.65674079]\n",
            "  [0.62719207]\n",
            "  [0.62577745]\n",
            "  [0.64310135]\n",
            "  [0.63206234]\n",
            "  [0.60395855]\n",
            "  [0.60970843]\n",
            "  [0.61470842]\n",
            "  [0.61898375]]]\n",
            "4 day output [[0.6226301]]\n",
            "[0.9573718580291262, 0.9659699751650885, 0.9573293022920057, 0.9487912155268887, 0.961239088542178, 0.9796466205710201, 0.9740621514147216, 0.9634283468137141, 0.9527947478356409, 0.944304973197204, 0.9668630297231418, 0.9588171097918856, 0.916350967588909, 0.912033714891137, 0.891390462754706, 0.8838486334191509, 0.8076217807425334, 0.7995553024124677, 0.8248005403807332, 0.8135263433356954, 0.8167435189162249, 0.7696934822786812, 0.667504522089349, 0.6707911849062811, 0.5171524963739804, 0.5869042923904169, 0.44409923558399145, 0.4014178474833543, 0.31144373147509885, 0.2808513704769171, 0.36651779343811075, 0.1594359365320892, 0.1958969858422419, 0.2938797084031737, 0.3681392301618449, 0.3612353263740371, 0.28885576257520507, 0.34296769388437, 0.27964510950823507, 0.24415390021201056, 0.3744779850789546, 0.36535994738126076, 0.43197073645687056, 0.4072560066051978, 0.39092990438138675, 0.4026556654936866, 0.4545540797091374, 0.45767391154024173, 0.40445040914150354, 0.44354559928189574, 0.46899343973202745, 0.4407915004424885, 0.46267791578557294, 0.48222653878623567, 0.5141010210373458, 0.5665967580339462, 0.461218478777107, 0.4474380137887539, 0.45966067011506384, 0.44690493583283764, 0.45739493479573823, 0.4531067721380748, 0.4431018474124968, 0.47665255439964604, 0.4300377379375726, 0.4287135748732849, 0.3724659397251737, 0.3812650146753085, 0.4140236085973048, 0.420038672334077, 0.40633869322496685, 0.4030078299505906, 0.455422464251775, 0.48675636480982165, 0.49851954208585436, 0.5448028552223563, 0.5722760011529764, 0.5872231523528237, 0.5804423930191618, 0.5965753495740342, 0.6009614727446659, 0.5791788770366324, 0.5944603069190497, 0.5571629441389296, 0.5699265933515414, 0.5408704547650716, 0.5606810939075324, 0.5555604210410516, 0.592407761636452, 0.6199686917184177, 0.6294203913877676, 0.656740788793114, 0.6271920722321751, 0.6257774524446955, 0.6431013539806107, 0.6320623444158702, 0.6039585471153259, 0.6097084283828735, 0.614708423614502, 0.6189837455749512, 0.6226301193237305]\n",
            "[0.9573718580291262, 0.9659699751650885, 0.9573293022920057, 0.9487912155268887, 0.961239088542178, 0.9796466205710201, 0.9740621514147216, 0.9634283468137141, 0.9527947478356409, 0.944304973197204, 0.9668630297231418, 0.9588171097918856, 0.916350967588909, 0.912033714891137, 0.891390462754706, 0.8838486334191509, 0.8076217807425334, 0.7995553024124677, 0.8248005403807332, 0.8135263433356954, 0.8167435189162249, 0.7696934822786812, 0.667504522089349, 0.6707911849062811, 0.5171524963739804, 0.5869042923904169, 0.44409923558399145, 0.4014178474833543, 0.31144373147509885, 0.2808513704769171, 0.36651779343811075, 0.1594359365320892, 0.1958969858422419, 0.2938797084031737, 0.3681392301618449, 0.3612353263740371, 0.28885576257520507, 0.34296769388437, 0.27964510950823507, 0.24415390021201056, 0.3744779850789546, 0.36535994738126076, 0.43197073645687056, 0.4072560066051978, 0.39092990438138675, 0.4026556654936866, 0.4545540797091374, 0.45767391154024173, 0.40445040914150354, 0.44354559928189574, 0.46899343973202745, 0.4407915004424885, 0.46267791578557294, 0.48222653878623567, 0.5141010210373458, 0.5665967580339462, 0.461218478777107, 0.4474380137887539, 0.45966067011506384, 0.44690493583283764, 0.45739493479573823, 0.4531067721380748, 0.4431018474124968, 0.47665255439964604, 0.4300377379375726, 0.4287135748732849, 0.3724659397251737, 0.3812650146753085, 0.4140236085973048, 0.420038672334077, 0.40633869322496685, 0.4030078299505906, 0.455422464251775, 0.48675636480982165, 0.49851954208585436, 0.5448028552223563, 0.5722760011529764, 0.5872231523528237, 0.5804423930191618, 0.5965753495740342, 0.6009614727446659, 0.5791788770366324, 0.5944603069190497, 0.5571629441389296, 0.5699265933515414, 0.5408704547650716, 0.5606810939075324, 0.5555604210410516, 0.592407761636452, 0.6199686917184177, 0.6294203913877676, 0.656740788793114, 0.6271920722321751, 0.6257774524446955, 0.6431013539806107, 0.6320623444158702, 0.6039585471153259, 0.6097084283828735, 0.614708423614502, 0.6189837455749512, 0.6226301193237305]\n",
            "5 day input [0.96596998 0.9573293  0.94879122 0.96123909 0.97964662 0.97406215\n",
            " 0.96342835 0.95279475 0.94430497 0.96686303 0.95881711 0.91635097\n",
            " 0.91203371 0.89139046 0.88384863 0.80762178 0.7995553  0.82480054\n",
            " 0.81352634 0.81674352 0.76969348 0.66750452 0.67079118 0.5171525\n",
            " 0.58690429 0.44409924 0.40141785 0.31144373 0.28085137 0.36651779\n",
            " 0.15943594 0.19589699 0.29387971 0.36813923 0.36123533 0.28885576\n",
            " 0.34296769 0.27964511 0.2441539  0.37447799 0.36535995 0.43197074\n",
            " 0.40725601 0.3909299  0.40265567 0.45455408 0.45767391 0.40445041\n",
            " 0.4435456  0.46899344 0.4407915  0.46267792 0.48222654 0.51410102\n",
            " 0.56659676 0.46121848 0.44743801 0.45966067 0.44690494 0.45739493\n",
            " 0.45310677 0.44310185 0.47665255 0.43003774 0.42871357 0.37246594\n",
            " 0.38126501 0.41402361 0.42003867 0.40633869 0.40300783 0.45542246\n",
            " 0.48675636 0.49851954 0.54480286 0.572276   0.58722315 0.58044239\n",
            " 0.59657535 0.60096147 0.57917888 0.59446031 0.55716294 0.56992659\n",
            " 0.54087045 0.56068109 0.55556042 0.59240776 0.61996869 0.62942039\n",
            " 0.65674079 0.62719207 0.62577745 0.64310135 0.63206234 0.60395855\n",
            " 0.60970843 0.61470842 0.61898375 0.62263012]\n",
            "[[[0.96596998]\n",
            "  [0.9573293 ]\n",
            "  [0.94879122]\n",
            "  [0.96123909]\n",
            "  [0.97964662]\n",
            "  [0.97406215]\n",
            "  [0.96342835]\n",
            "  [0.95279475]\n",
            "  [0.94430497]\n",
            "  [0.96686303]\n",
            "  [0.95881711]\n",
            "  [0.91635097]\n",
            "  [0.91203371]\n",
            "  [0.89139046]\n",
            "  [0.88384863]\n",
            "  [0.80762178]\n",
            "  [0.7995553 ]\n",
            "  [0.82480054]\n",
            "  [0.81352634]\n",
            "  [0.81674352]\n",
            "  [0.76969348]\n",
            "  [0.66750452]\n",
            "  [0.67079118]\n",
            "  [0.5171525 ]\n",
            "  [0.58690429]\n",
            "  [0.44409924]\n",
            "  [0.40141785]\n",
            "  [0.31144373]\n",
            "  [0.28085137]\n",
            "  [0.36651779]\n",
            "  [0.15943594]\n",
            "  [0.19589699]\n",
            "  [0.29387971]\n",
            "  [0.36813923]\n",
            "  [0.36123533]\n",
            "  [0.28885576]\n",
            "  [0.34296769]\n",
            "  [0.27964511]\n",
            "  [0.2441539 ]\n",
            "  [0.37447799]\n",
            "  [0.36535995]\n",
            "  [0.43197074]\n",
            "  [0.40725601]\n",
            "  [0.3909299 ]\n",
            "  [0.40265567]\n",
            "  [0.45455408]\n",
            "  [0.45767391]\n",
            "  [0.40445041]\n",
            "  [0.4435456 ]\n",
            "  [0.46899344]\n",
            "  [0.4407915 ]\n",
            "  [0.46267792]\n",
            "  [0.48222654]\n",
            "  [0.51410102]\n",
            "  [0.56659676]\n",
            "  [0.46121848]\n",
            "  [0.44743801]\n",
            "  [0.45966067]\n",
            "  [0.44690494]\n",
            "  [0.45739493]\n",
            "  [0.45310677]\n",
            "  [0.44310185]\n",
            "  [0.47665255]\n",
            "  [0.43003774]\n",
            "  [0.42871357]\n",
            "  [0.37246594]\n",
            "  [0.38126501]\n",
            "  [0.41402361]\n",
            "  [0.42003867]\n",
            "  [0.40633869]\n",
            "  [0.40300783]\n",
            "  [0.45542246]\n",
            "  [0.48675636]\n",
            "  [0.49851954]\n",
            "  [0.54480286]\n",
            "  [0.572276  ]\n",
            "  [0.58722315]\n",
            "  [0.58044239]\n",
            "  [0.59657535]\n",
            "  [0.60096147]\n",
            "  [0.57917888]\n",
            "  [0.59446031]\n",
            "  [0.55716294]\n",
            "  [0.56992659]\n",
            "  [0.54087045]\n",
            "  [0.56068109]\n",
            "  [0.55556042]\n",
            "  [0.59240776]\n",
            "  [0.61996869]\n",
            "  [0.62942039]\n",
            "  [0.65674079]\n",
            "  [0.62719207]\n",
            "  [0.62577745]\n",
            "  [0.64310135]\n",
            "  [0.63206234]\n",
            "  [0.60395855]\n",
            "  [0.60970843]\n",
            "  [0.61470842]\n",
            "  [0.61898375]\n",
            "  [0.62263012]]]\n",
            "5 day output [[0.6257689]]\n",
            "[0.9659699751650885, 0.9573293022920057, 0.9487912155268887, 0.961239088542178, 0.9796466205710201, 0.9740621514147216, 0.9634283468137141, 0.9527947478356409, 0.944304973197204, 0.9668630297231418, 0.9588171097918856, 0.916350967588909, 0.912033714891137, 0.891390462754706, 0.8838486334191509, 0.8076217807425334, 0.7995553024124677, 0.8248005403807332, 0.8135263433356954, 0.8167435189162249, 0.7696934822786812, 0.667504522089349, 0.6707911849062811, 0.5171524963739804, 0.5869042923904169, 0.44409923558399145, 0.4014178474833543, 0.31144373147509885, 0.2808513704769171, 0.36651779343811075, 0.1594359365320892, 0.1958969858422419, 0.2938797084031737, 0.3681392301618449, 0.3612353263740371, 0.28885576257520507, 0.34296769388437, 0.27964510950823507, 0.24415390021201056, 0.3744779850789546, 0.36535994738126076, 0.43197073645687056, 0.4072560066051978, 0.39092990438138675, 0.4026556654936866, 0.4545540797091374, 0.45767391154024173, 0.40445040914150354, 0.44354559928189574, 0.46899343973202745, 0.4407915004424885, 0.46267791578557294, 0.48222653878623567, 0.5141010210373458, 0.5665967580339462, 0.461218478777107, 0.4474380137887539, 0.45966067011506384, 0.44690493583283764, 0.45739493479573823, 0.4531067721380748, 0.4431018474124968, 0.47665255439964604, 0.4300377379375726, 0.4287135748732849, 0.3724659397251737, 0.3812650146753085, 0.4140236085973048, 0.420038672334077, 0.40633869322496685, 0.4030078299505906, 0.455422464251775, 0.48675636480982165, 0.49851954208585436, 0.5448028552223563, 0.5722760011529764, 0.5872231523528237, 0.5804423930191618, 0.5965753495740342, 0.6009614727446659, 0.5791788770366324, 0.5944603069190497, 0.5571629441389296, 0.5699265933515414, 0.5408704547650716, 0.5606810939075324, 0.5555604210410516, 0.592407761636452, 0.6199686917184177, 0.6294203913877676, 0.656740788793114, 0.6271920722321751, 0.6257774524446955, 0.6431013539806107, 0.6320623444158702, 0.6039585471153259, 0.6097084283828735, 0.614708423614502, 0.6189837455749512, 0.6226301193237305, 0.6257688999176025]\n",
            "[0.9659699751650885, 0.9573293022920057, 0.9487912155268887, 0.961239088542178, 0.9796466205710201, 0.9740621514147216, 0.9634283468137141, 0.9527947478356409, 0.944304973197204, 0.9668630297231418, 0.9588171097918856, 0.916350967588909, 0.912033714891137, 0.891390462754706, 0.8838486334191509, 0.8076217807425334, 0.7995553024124677, 0.8248005403807332, 0.8135263433356954, 0.8167435189162249, 0.7696934822786812, 0.667504522089349, 0.6707911849062811, 0.5171524963739804, 0.5869042923904169, 0.44409923558399145, 0.4014178474833543, 0.31144373147509885, 0.2808513704769171, 0.36651779343811075, 0.1594359365320892, 0.1958969858422419, 0.2938797084031737, 0.3681392301618449, 0.3612353263740371, 0.28885576257520507, 0.34296769388437, 0.27964510950823507, 0.24415390021201056, 0.3744779850789546, 0.36535994738126076, 0.43197073645687056, 0.4072560066051978, 0.39092990438138675, 0.4026556654936866, 0.4545540797091374, 0.45767391154024173, 0.40445040914150354, 0.44354559928189574, 0.46899343973202745, 0.4407915004424885, 0.46267791578557294, 0.48222653878623567, 0.5141010210373458, 0.5665967580339462, 0.461218478777107, 0.4474380137887539, 0.45966067011506384, 0.44690493583283764, 0.45739493479573823, 0.4531067721380748, 0.4431018474124968, 0.47665255439964604, 0.4300377379375726, 0.4287135748732849, 0.3724659397251737, 0.3812650146753085, 0.4140236085973048, 0.420038672334077, 0.40633869322496685, 0.4030078299505906, 0.455422464251775, 0.48675636480982165, 0.49851954208585436, 0.5448028552223563, 0.5722760011529764, 0.5872231523528237, 0.5804423930191618, 0.5965753495740342, 0.6009614727446659, 0.5791788770366324, 0.5944603069190497, 0.5571629441389296, 0.5699265933515414, 0.5408704547650716, 0.5606810939075324, 0.5555604210410516, 0.592407761636452, 0.6199686917184177, 0.6294203913877676, 0.656740788793114, 0.6271920722321751, 0.6257774524446955, 0.6431013539806107, 0.6320623444158702, 0.6039585471153259, 0.6097084283828735, 0.614708423614502, 0.6189837455749512, 0.6226301193237305, 0.6257688999176025]\n",
            "6 day input [0.9573293  0.94879122 0.96123909 0.97964662 0.97406215 0.96342835\n",
            " 0.95279475 0.94430497 0.96686303 0.95881711 0.91635097 0.91203371\n",
            " 0.89139046 0.88384863 0.80762178 0.7995553  0.82480054 0.81352634\n",
            " 0.81674352 0.76969348 0.66750452 0.67079118 0.5171525  0.58690429\n",
            " 0.44409924 0.40141785 0.31144373 0.28085137 0.36651779 0.15943594\n",
            " 0.19589699 0.29387971 0.36813923 0.36123533 0.28885576 0.34296769\n",
            " 0.27964511 0.2441539  0.37447799 0.36535995 0.43197074 0.40725601\n",
            " 0.3909299  0.40265567 0.45455408 0.45767391 0.40445041 0.4435456\n",
            " 0.46899344 0.4407915  0.46267792 0.48222654 0.51410102 0.56659676\n",
            " 0.46121848 0.44743801 0.45966067 0.44690494 0.45739493 0.45310677\n",
            " 0.44310185 0.47665255 0.43003774 0.42871357 0.37246594 0.38126501\n",
            " 0.41402361 0.42003867 0.40633869 0.40300783 0.45542246 0.48675636\n",
            " 0.49851954 0.54480286 0.572276   0.58722315 0.58044239 0.59657535\n",
            " 0.60096147 0.57917888 0.59446031 0.55716294 0.56992659 0.54087045\n",
            " 0.56068109 0.55556042 0.59240776 0.61996869 0.62942039 0.65674079\n",
            " 0.62719207 0.62577745 0.64310135 0.63206234 0.60395855 0.60970843\n",
            " 0.61470842 0.61898375 0.62263012 0.6257689 ]\n",
            "[[[0.9573293 ]\n",
            "  [0.94879122]\n",
            "  [0.96123909]\n",
            "  [0.97964662]\n",
            "  [0.97406215]\n",
            "  [0.96342835]\n",
            "  [0.95279475]\n",
            "  [0.94430497]\n",
            "  [0.96686303]\n",
            "  [0.95881711]\n",
            "  [0.91635097]\n",
            "  [0.91203371]\n",
            "  [0.89139046]\n",
            "  [0.88384863]\n",
            "  [0.80762178]\n",
            "  [0.7995553 ]\n",
            "  [0.82480054]\n",
            "  [0.81352634]\n",
            "  [0.81674352]\n",
            "  [0.76969348]\n",
            "  [0.66750452]\n",
            "  [0.67079118]\n",
            "  [0.5171525 ]\n",
            "  [0.58690429]\n",
            "  [0.44409924]\n",
            "  [0.40141785]\n",
            "  [0.31144373]\n",
            "  [0.28085137]\n",
            "  [0.36651779]\n",
            "  [0.15943594]\n",
            "  [0.19589699]\n",
            "  [0.29387971]\n",
            "  [0.36813923]\n",
            "  [0.36123533]\n",
            "  [0.28885576]\n",
            "  [0.34296769]\n",
            "  [0.27964511]\n",
            "  [0.2441539 ]\n",
            "  [0.37447799]\n",
            "  [0.36535995]\n",
            "  [0.43197074]\n",
            "  [0.40725601]\n",
            "  [0.3909299 ]\n",
            "  [0.40265567]\n",
            "  [0.45455408]\n",
            "  [0.45767391]\n",
            "  [0.40445041]\n",
            "  [0.4435456 ]\n",
            "  [0.46899344]\n",
            "  [0.4407915 ]\n",
            "  [0.46267792]\n",
            "  [0.48222654]\n",
            "  [0.51410102]\n",
            "  [0.56659676]\n",
            "  [0.46121848]\n",
            "  [0.44743801]\n",
            "  [0.45966067]\n",
            "  [0.44690494]\n",
            "  [0.45739493]\n",
            "  [0.45310677]\n",
            "  [0.44310185]\n",
            "  [0.47665255]\n",
            "  [0.43003774]\n",
            "  [0.42871357]\n",
            "  [0.37246594]\n",
            "  [0.38126501]\n",
            "  [0.41402361]\n",
            "  [0.42003867]\n",
            "  [0.40633869]\n",
            "  [0.40300783]\n",
            "  [0.45542246]\n",
            "  [0.48675636]\n",
            "  [0.49851954]\n",
            "  [0.54480286]\n",
            "  [0.572276  ]\n",
            "  [0.58722315]\n",
            "  [0.58044239]\n",
            "  [0.59657535]\n",
            "  [0.60096147]\n",
            "  [0.57917888]\n",
            "  [0.59446031]\n",
            "  [0.55716294]\n",
            "  [0.56992659]\n",
            "  [0.54087045]\n",
            "  [0.56068109]\n",
            "  [0.55556042]\n",
            "  [0.59240776]\n",
            "  [0.61996869]\n",
            "  [0.62942039]\n",
            "  [0.65674079]\n",
            "  [0.62719207]\n",
            "  [0.62577745]\n",
            "  [0.64310135]\n",
            "  [0.63206234]\n",
            "  [0.60395855]\n",
            "  [0.60970843]\n",
            "  [0.61470842]\n",
            "  [0.61898375]\n",
            "  [0.62263012]\n",
            "  [0.6257689 ]]]\n",
            "6 day output [[0.6285191]]\n",
            "[0.9573293022920057, 0.9487912155268887, 0.961239088542178, 0.9796466205710201, 0.9740621514147216, 0.9634283468137141, 0.9527947478356409, 0.944304973197204, 0.9668630297231418, 0.9588171097918856, 0.916350967588909, 0.912033714891137, 0.891390462754706, 0.8838486334191509, 0.8076217807425334, 0.7995553024124677, 0.8248005403807332, 0.8135263433356954, 0.8167435189162249, 0.7696934822786812, 0.667504522089349, 0.6707911849062811, 0.5171524963739804, 0.5869042923904169, 0.44409923558399145, 0.4014178474833543, 0.31144373147509885, 0.2808513704769171, 0.36651779343811075, 0.1594359365320892, 0.1958969858422419, 0.2938797084031737, 0.3681392301618449, 0.3612353263740371, 0.28885576257520507, 0.34296769388437, 0.27964510950823507, 0.24415390021201056, 0.3744779850789546, 0.36535994738126076, 0.43197073645687056, 0.4072560066051978, 0.39092990438138675, 0.4026556654936866, 0.4545540797091374, 0.45767391154024173, 0.40445040914150354, 0.44354559928189574, 0.46899343973202745, 0.4407915004424885, 0.46267791578557294, 0.48222653878623567, 0.5141010210373458, 0.5665967580339462, 0.461218478777107, 0.4474380137887539, 0.45966067011506384, 0.44690493583283764, 0.45739493479573823, 0.4531067721380748, 0.4431018474124968, 0.47665255439964604, 0.4300377379375726, 0.4287135748732849, 0.3724659397251737, 0.3812650146753085, 0.4140236085973048, 0.420038672334077, 0.40633869322496685, 0.4030078299505906, 0.455422464251775, 0.48675636480982165, 0.49851954208585436, 0.5448028552223563, 0.5722760011529764, 0.5872231523528237, 0.5804423930191618, 0.5965753495740342, 0.6009614727446659, 0.5791788770366324, 0.5944603069190497, 0.5571629441389296, 0.5699265933515414, 0.5408704547650716, 0.5606810939075324, 0.5555604210410516, 0.592407761636452, 0.6199686917184177, 0.6294203913877676, 0.656740788793114, 0.6271920722321751, 0.6257774524446955, 0.6431013539806107, 0.6320623444158702, 0.6039585471153259, 0.6097084283828735, 0.614708423614502, 0.6189837455749512, 0.6226301193237305, 0.6257688999176025, 0.6285191178321838]\n",
            "[0.9573293022920057, 0.9487912155268887, 0.961239088542178, 0.9796466205710201, 0.9740621514147216, 0.9634283468137141, 0.9527947478356409, 0.944304973197204, 0.9668630297231418, 0.9588171097918856, 0.916350967588909, 0.912033714891137, 0.891390462754706, 0.8838486334191509, 0.8076217807425334, 0.7995553024124677, 0.8248005403807332, 0.8135263433356954, 0.8167435189162249, 0.7696934822786812, 0.667504522089349, 0.6707911849062811, 0.5171524963739804, 0.5869042923904169, 0.44409923558399145, 0.4014178474833543, 0.31144373147509885, 0.2808513704769171, 0.36651779343811075, 0.1594359365320892, 0.1958969858422419, 0.2938797084031737, 0.3681392301618449, 0.3612353263740371, 0.28885576257520507, 0.34296769388437, 0.27964510950823507, 0.24415390021201056, 0.3744779850789546, 0.36535994738126076, 0.43197073645687056, 0.4072560066051978, 0.39092990438138675, 0.4026556654936866, 0.4545540797091374, 0.45767391154024173, 0.40445040914150354, 0.44354559928189574, 0.46899343973202745, 0.4407915004424885, 0.46267791578557294, 0.48222653878623567, 0.5141010210373458, 0.5665967580339462, 0.461218478777107, 0.4474380137887539, 0.45966067011506384, 0.44690493583283764, 0.45739493479573823, 0.4531067721380748, 0.4431018474124968, 0.47665255439964604, 0.4300377379375726, 0.4287135748732849, 0.3724659397251737, 0.3812650146753085, 0.4140236085973048, 0.420038672334077, 0.40633869322496685, 0.4030078299505906, 0.455422464251775, 0.48675636480982165, 0.49851954208585436, 0.5448028552223563, 0.5722760011529764, 0.5872231523528237, 0.5804423930191618, 0.5965753495740342, 0.6009614727446659, 0.5791788770366324, 0.5944603069190497, 0.5571629441389296, 0.5699265933515414, 0.5408704547650716, 0.5606810939075324, 0.5555604210410516, 0.592407761636452, 0.6199686917184177, 0.6294203913877676, 0.656740788793114, 0.6271920722321751, 0.6257774524446955, 0.6431013539806107, 0.6320623444158702, 0.6039585471153259, 0.6097084283828735, 0.614708423614502, 0.6189837455749512, 0.6226301193237305, 0.6257688999176025, 0.6285191178321838]\n",
            "7 day input [0.94879122 0.96123909 0.97964662 0.97406215 0.96342835 0.95279475\n",
            " 0.94430497 0.96686303 0.95881711 0.91635097 0.91203371 0.89139046\n",
            " 0.88384863 0.80762178 0.7995553  0.82480054 0.81352634 0.81674352\n",
            " 0.76969348 0.66750452 0.67079118 0.5171525  0.58690429 0.44409924\n",
            " 0.40141785 0.31144373 0.28085137 0.36651779 0.15943594 0.19589699\n",
            " 0.29387971 0.36813923 0.36123533 0.28885576 0.34296769 0.27964511\n",
            " 0.2441539  0.37447799 0.36535995 0.43197074 0.40725601 0.3909299\n",
            " 0.40265567 0.45455408 0.45767391 0.40445041 0.4435456  0.46899344\n",
            " 0.4407915  0.46267792 0.48222654 0.51410102 0.56659676 0.46121848\n",
            " 0.44743801 0.45966067 0.44690494 0.45739493 0.45310677 0.44310185\n",
            " 0.47665255 0.43003774 0.42871357 0.37246594 0.38126501 0.41402361\n",
            " 0.42003867 0.40633869 0.40300783 0.45542246 0.48675636 0.49851954\n",
            " 0.54480286 0.572276   0.58722315 0.58044239 0.59657535 0.60096147\n",
            " 0.57917888 0.59446031 0.55716294 0.56992659 0.54087045 0.56068109\n",
            " 0.55556042 0.59240776 0.61996869 0.62942039 0.65674079 0.62719207\n",
            " 0.62577745 0.64310135 0.63206234 0.60395855 0.60970843 0.61470842\n",
            " 0.61898375 0.62263012 0.6257689  0.62851912]\n",
            "[[[0.94879122]\n",
            "  [0.96123909]\n",
            "  [0.97964662]\n",
            "  [0.97406215]\n",
            "  [0.96342835]\n",
            "  [0.95279475]\n",
            "  [0.94430497]\n",
            "  [0.96686303]\n",
            "  [0.95881711]\n",
            "  [0.91635097]\n",
            "  [0.91203371]\n",
            "  [0.89139046]\n",
            "  [0.88384863]\n",
            "  [0.80762178]\n",
            "  [0.7995553 ]\n",
            "  [0.82480054]\n",
            "  [0.81352634]\n",
            "  [0.81674352]\n",
            "  [0.76969348]\n",
            "  [0.66750452]\n",
            "  [0.67079118]\n",
            "  [0.5171525 ]\n",
            "  [0.58690429]\n",
            "  [0.44409924]\n",
            "  [0.40141785]\n",
            "  [0.31144373]\n",
            "  [0.28085137]\n",
            "  [0.36651779]\n",
            "  [0.15943594]\n",
            "  [0.19589699]\n",
            "  [0.29387971]\n",
            "  [0.36813923]\n",
            "  [0.36123533]\n",
            "  [0.28885576]\n",
            "  [0.34296769]\n",
            "  [0.27964511]\n",
            "  [0.2441539 ]\n",
            "  [0.37447799]\n",
            "  [0.36535995]\n",
            "  [0.43197074]\n",
            "  [0.40725601]\n",
            "  [0.3909299 ]\n",
            "  [0.40265567]\n",
            "  [0.45455408]\n",
            "  [0.45767391]\n",
            "  [0.40445041]\n",
            "  [0.4435456 ]\n",
            "  [0.46899344]\n",
            "  [0.4407915 ]\n",
            "  [0.46267792]\n",
            "  [0.48222654]\n",
            "  [0.51410102]\n",
            "  [0.56659676]\n",
            "  [0.46121848]\n",
            "  [0.44743801]\n",
            "  [0.45966067]\n",
            "  [0.44690494]\n",
            "  [0.45739493]\n",
            "  [0.45310677]\n",
            "  [0.44310185]\n",
            "  [0.47665255]\n",
            "  [0.43003774]\n",
            "  [0.42871357]\n",
            "  [0.37246594]\n",
            "  [0.38126501]\n",
            "  [0.41402361]\n",
            "  [0.42003867]\n",
            "  [0.40633869]\n",
            "  [0.40300783]\n",
            "  [0.45542246]\n",
            "  [0.48675636]\n",
            "  [0.49851954]\n",
            "  [0.54480286]\n",
            "  [0.572276  ]\n",
            "  [0.58722315]\n",
            "  [0.58044239]\n",
            "  [0.59657535]\n",
            "  [0.60096147]\n",
            "  [0.57917888]\n",
            "  [0.59446031]\n",
            "  [0.55716294]\n",
            "  [0.56992659]\n",
            "  [0.54087045]\n",
            "  [0.56068109]\n",
            "  [0.55556042]\n",
            "  [0.59240776]\n",
            "  [0.61996869]\n",
            "  [0.62942039]\n",
            "  [0.65674079]\n",
            "  [0.62719207]\n",
            "  [0.62577745]\n",
            "  [0.64310135]\n",
            "  [0.63206234]\n",
            "  [0.60395855]\n",
            "  [0.60970843]\n",
            "  [0.61470842]\n",
            "  [0.61898375]\n",
            "  [0.62263012]\n",
            "  [0.6257689 ]\n",
            "  [0.62851912]]]\n",
            "7 day output [[0.630986]]\n",
            "[0.9487912155268887, 0.961239088542178, 0.9796466205710201, 0.9740621514147216, 0.9634283468137141, 0.9527947478356409, 0.944304973197204, 0.9668630297231418, 0.9588171097918856, 0.916350967588909, 0.912033714891137, 0.891390462754706, 0.8838486334191509, 0.8076217807425334, 0.7995553024124677, 0.8248005403807332, 0.8135263433356954, 0.8167435189162249, 0.7696934822786812, 0.667504522089349, 0.6707911849062811, 0.5171524963739804, 0.5869042923904169, 0.44409923558399145, 0.4014178474833543, 0.31144373147509885, 0.2808513704769171, 0.36651779343811075, 0.1594359365320892, 0.1958969858422419, 0.2938797084031737, 0.3681392301618449, 0.3612353263740371, 0.28885576257520507, 0.34296769388437, 0.27964510950823507, 0.24415390021201056, 0.3744779850789546, 0.36535994738126076, 0.43197073645687056, 0.4072560066051978, 0.39092990438138675, 0.4026556654936866, 0.4545540797091374, 0.45767391154024173, 0.40445040914150354, 0.44354559928189574, 0.46899343973202745, 0.4407915004424885, 0.46267791578557294, 0.48222653878623567, 0.5141010210373458, 0.5665967580339462, 0.461218478777107, 0.4474380137887539, 0.45966067011506384, 0.44690493583283764, 0.45739493479573823, 0.4531067721380748, 0.4431018474124968, 0.47665255439964604, 0.4300377379375726, 0.4287135748732849, 0.3724659397251737, 0.3812650146753085, 0.4140236085973048, 0.420038672334077, 0.40633869322496685, 0.4030078299505906, 0.455422464251775, 0.48675636480982165, 0.49851954208585436, 0.5448028552223563, 0.5722760011529764, 0.5872231523528237, 0.5804423930191618, 0.5965753495740342, 0.6009614727446659, 0.5791788770366324, 0.5944603069190497, 0.5571629441389296, 0.5699265933515414, 0.5408704547650716, 0.5606810939075324, 0.5555604210410516, 0.592407761636452, 0.6199686917184177, 0.6294203913877676, 0.656740788793114, 0.6271920722321751, 0.6257774524446955, 0.6431013539806107, 0.6320623444158702, 0.6039585471153259, 0.6097084283828735, 0.614708423614502, 0.6189837455749512, 0.6226301193237305, 0.6257688999176025, 0.6285191178321838, 0.6309859752655029]\n",
            "[0.9487912155268887, 0.961239088542178, 0.9796466205710201, 0.9740621514147216, 0.9634283468137141, 0.9527947478356409, 0.944304973197204, 0.9668630297231418, 0.9588171097918856, 0.916350967588909, 0.912033714891137, 0.891390462754706, 0.8838486334191509, 0.8076217807425334, 0.7995553024124677, 0.8248005403807332, 0.8135263433356954, 0.8167435189162249, 0.7696934822786812, 0.667504522089349, 0.6707911849062811, 0.5171524963739804, 0.5869042923904169, 0.44409923558399145, 0.4014178474833543, 0.31144373147509885, 0.2808513704769171, 0.36651779343811075, 0.1594359365320892, 0.1958969858422419, 0.2938797084031737, 0.3681392301618449, 0.3612353263740371, 0.28885576257520507, 0.34296769388437, 0.27964510950823507, 0.24415390021201056, 0.3744779850789546, 0.36535994738126076, 0.43197073645687056, 0.4072560066051978, 0.39092990438138675, 0.4026556654936866, 0.4545540797091374, 0.45767391154024173, 0.40445040914150354, 0.44354559928189574, 0.46899343973202745, 0.4407915004424885, 0.46267791578557294, 0.48222653878623567, 0.5141010210373458, 0.5665967580339462, 0.461218478777107, 0.4474380137887539, 0.45966067011506384, 0.44690493583283764, 0.45739493479573823, 0.4531067721380748, 0.4431018474124968, 0.47665255439964604, 0.4300377379375726, 0.4287135748732849, 0.3724659397251737, 0.3812650146753085, 0.4140236085973048, 0.420038672334077, 0.40633869322496685, 0.4030078299505906, 0.455422464251775, 0.48675636480982165, 0.49851954208585436, 0.5448028552223563, 0.5722760011529764, 0.5872231523528237, 0.5804423930191618, 0.5965753495740342, 0.6009614727446659, 0.5791788770366324, 0.5944603069190497, 0.5571629441389296, 0.5699265933515414, 0.5408704547650716, 0.5606810939075324, 0.5555604210410516, 0.592407761636452, 0.6199686917184177, 0.6294203913877676, 0.656740788793114, 0.6271920722321751, 0.6257774524446955, 0.6431013539806107, 0.6320623444158702, 0.6039585471153259, 0.6097084283828735, 0.614708423614502, 0.6189837455749512, 0.6226301193237305, 0.6257688999176025, 0.6285191178321838, 0.6309859752655029]\n",
            "8 day input [0.96123909 0.97964662 0.97406215 0.96342835 0.95279475 0.94430497\n",
            " 0.96686303 0.95881711 0.91635097 0.91203371 0.89139046 0.88384863\n",
            " 0.80762178 0.7995553  0.82480054 0.81352634 0.81674352 0.76969348\n",
            " 0.66750452 0.67079118 0.5171525  0.58690429 0.44409924 0.40141785\n",
            " 0.31144373 0.28085137 0.36651779 0.15943594 0.19589699 0.29387971\n",
            " 0.36813923 0.36123533 0.28885576 0.34296769 0.27964511 0.2441539\n",
            " 0.37447799 0.36535995 0.43197074 0.40725601 0.3909299  0.40265567\n",
            " 0.45455408 0.45767391 0.40445041 0.4435456  0.46899344 0.4407915\n",
            " 0.46267792 0.48222654 0.51410102 0.56659676 0.46121848 0.44743801\n",
            " 0.45966067 0.44690494 0.45739493 0.45310677 0.44310185 0.47665255\n",
            " 0.43003774 0.42871357 0.37246594 0.38126501 0.41402361 0.42003867\n",
            " 0.40633869 0.40300783 0.45542246 0.48675636 0.49851954 0.54480286\n",
            " 0.572276   0.58722315 0.58044239 0.59657535 0.60096147 0.57917888\n",
            " 0.59446031 0.55716294 0.56992659 0.54087045 0.56068109 0.55556042\n",
            " 0.59240776 0.61996869 0.62942039 0.65674079 0.62719207 0.62577745\n",
            " 0.64310135 0.63206234 0.60395855 0.60970843 0.61470842 0.61898375\n",
            " 0.62263012 0.6257689  0.62851912 0.63098598]\n",
            "[[[0.96123909]\n",
            "  [0.97964662]\n",
            "  [0.97406215]\n",
            "  [0.96342835]\n",
            "  [0.95279475]\n",
            "  [0.94430497]\n",
            "  [0.96686303]\n",
            "  [0.95881711]\n",
            "  [0.91635097]\n",
            "  [0.91203371]\n",
            "  [0.89139046]\n",
            "  [0.88384863]\n",
            "  [0.80762178]\n",
            "  [0.7995553 ]\n",
            "  [0.82480054]\n",
            "  [0.81352634]\n",
            "  [0.81674352]\n",
            "  [0.76969348]\n",
            "  [0.66750452]\n",
            "  [0.67079118]\n",
            "  [0.5171525 ]\n",
            "  [0.58690429]\n",
            "  [0.44409924]\n",
            "  [0.40141785]\n",
            "  [0.31144373]\n",
            "  [0.28085137]\n",
            "  [0.36651779]\n",
            "  [0.15943594]\n",
            "  [0.19589699]\n",
            "  [0.29387971]\n",
            "  [0.36813923]\n",
            "  [0.36123533]\n",
            "  [0.28885576]\n",
            "  [0.34296769]\n",
            "  [0.27964511]\n",
            "  [0.2441539 ]\n",
            "  [0.37447799]\n",
            "  [0.36535995]\n",
            "  [0.43197074]\n",
            "  [0.40725601]\n",
            "  [0.3909299 ]\n",
            "  [0.40265567]\n",
            "  [0.45455408]\n",
            "  [0.45767391]\n",
            "  [0.40445041]\n",
            "  [0.4435456 ]\n",
            "  [0.46899344]\n",
            "  [0.4407915 ]\n",
            "  [0.46267792]\n",
            "  [0.48222654]\n",
            "  [0.51410102]\n",
            "  [0.56659676]\n",
            "  [0.46121848]\n",
            "  [0.44743801]\n",
            "  [0.45966067]\n",
            "  [0.44690494]\n",
            "  [0.45739493]\n",
            "  [0.45310677]\n",
            "  [0.44310185]\n",
            "  [0.47665255]\n",
            "  [0.43003774]\n",
            "  [0.42871357]\n",
            "  [0.37246594]\n",
            "  [0.38126501]\n",
            "  [0.41402361]\n",
            "  [0.42003867]\n",
            "  [0.40633869]\n",
            "  [0.40300783]\n",
            "  [0.45542246]\n",
            "  [0.48675636]\n",
            "  [0.49851954]\n",
            "  [0.54480286]\n",
            "  [0.572276  ]\n",
            "  [0.58722315]\n",
            "  [0.58044239]\n",
            "  [0.59657535]\n",
            "  [0.60096147]\n",
            "  [0.57917888]\n",
            "  [0.59446031]\n",
            "  [0.55716294]\n",
            "  [0.56992659]\n",
            "  [0.54087045]\n",
            "  [0.56068109]\n",
            "  [0.55556042]\n",
            "  [0.59240776]\n",
            "  [0.61996869]\n",
            "  [0.62942039]\n",
            "  [0.65674079]\n",
            "  [0.62719207]\n",
            "  [0.62577745]\n",
            "  [0.64310135]\n",
            "  [0.63206234]\n",
            "  [0.60395855]\n",
            "  [0.60970843]\n",
            "  [0.61470842]\n",
            "  [0.61898375]\n",
            "  [0.62263012]\n",
            "  [0.6257689 ]\n",
            "  [0.62851912]\n",
            "  [0.63098598]]]\n",
            "8 day output [[0.63325554]]\n",
            "[0.961239088542178, 0.9796466205710201, 0.9740621514147216, 0.9634283468137141, 0.9527947478356409, 0.944304973197204, 0.9668630297231418, 0.9588171097918856, 0.916350967588909, 0.912033714891137, 0.891390462754706, 0.8838486334191509, 0.8076217807425334, 0.7995553024124677, 0.8248005403807332, 0.8135263433356954, 0.8167435189162249, 0.7696934822786812, 0.667504522089349, 0.6707911849062811, 0.5171524963739804, 0.5869042923904169, 0.44409923558399145, 0.4014178474833543, 0.31144373147509885, 0.2808513704769171, 0.36651779343811075, 0.1594359365320892, 0.1958969858422419, 0.2938797084031737, 0.3681392301618449, 0.3612353263740371, 0.28885576257520507, 0.34296769388437, 0.27964510950823507, 0.24415390021201056, 0.3744779850789546, 0.36535994738126076, 0.43197073645687056, 0.4072560066051978, 0.39092990438138675, 0.4026556654936866, 0.4545540797091374, 0.45767391154024173, 0.40445040914150354, 0.44354559928189574, 0.46899343973202745, 0.4407915004424885, 0.46267791578557294, 0.48222653878623567, 0.5141010210373458, 0.5665967580339462, 0.461218478777107, 0.4474380137887539, 0.45966067011506384, 0.44690493583283764, 0.45739493479573823, 0.4531067721380748, 0.4431018474124968, 0.47665255439964604, 0.4300377379375726, 0.4287135748732849, 0.3724659397251737, 0.3812650146753085, 0.4140236085973048, 0.420038672334077, 0.40633869322496685, 0.4030078299505906, 0.455422464251775, 0.48675636480982165, 0.49851954208585436, 0.5448028552223563, 0.5722760011529764, 0.5872231523528237, 0.5804423930191618, 0.5965753495740342, 0.6009614727446659, 0.5791788770366324, 0.5944603069190497, 0.5571629441389296, 0.5699265933515414, 0.5408704547650716, 0.5606810939075324, 0.5555604210410516, 0.592407761636452, 0.6199686917184177, 0.6294203913877676, 0.656740788793114, 0.6271920722321751, 0.6257774524446955, 0.6431013539806107, 0.6320623444158702, 0.6039585471153259, 0.6097084283828735, 0.614708423614502, 0.6189837455749512, 0.6226301193237305, 0.6257688999176025, 0.6285191178321838, 0.6309859752655029, 0.6332555413246155]\n",
            "[0.961239088542178, 0.9796466205710201, 0.9740621514147216, 0.9634283468137141, 0.9527947478356409, 0.944304973197204, 0.9668630297231418, 0.9588171097918856, 0.916350967588909, 0.912033714891137, 0.891390462754706, 0.8838486334191509, 0.8076217807425334, 0.7995553024124677, 0.8248005403807332, 0.8135263433356954, 0.8167435189162249, 0.7696934822786812, 0.667504522089349, 0.6707911849062811, 0.5171524963739804, 0.5869042923904169, 0.44409923558399145, 0.4014178474833543, 0.31144373147509885, 0.2808513704769171, 0.36651779343811075, 0.1594359365320892, 0.1958969858422419, 0.2938797084031737, 0.3681392301618449, 0.3612353263740371, 0.28885576257520507, 0.34296769388437, 0.27964510950823507, 0.24415390021201056, 0.3744779850789546, 0.36535994738126076, 0.43197073645687056, 0.4072560066051978, 0.39092990438138675, 0.4026556654936866, 0.4545540797091374, 0.45767391154024173, 0.40445040914150354, 0.44354559928189574, 0.46899343973202745, 0.4407915004424885, 0.46267791578557294, 0.48222653878623567, 0.5141010210373458, 0.5665967580339462, 0.461218478777107, 0.4474380137887539, 0.45966067011506384, 0.44690493583283764, 0.45739493479573823, 0.4531067721380748, 0.4431018474124968, 0.47665255439964604, 0.4300377379375726, 0.4287135748732849, 0.3724659397251737, 0.3812650146753085, 0.4140236085973048, 0.420038672334077, 0.40633869322496685, 0.4030078299505906, 0.455422464251775, 0.48675636480982165, 0.49851954208585436, 0.5448028552223563, 0.5722760011529764, 0.5872231523528237, 0.5804423930191618, 0.5965753495740342, 0.6009614727446659, 0.5791788770366324, 0.5944603069190497, 0.5571629441389296, 0.5699265933515414, 0.5408704547650716, 0.5606810939075324, 0.5555604210410516, 0.592407761636452, 0.6199686917184177, 0.6294203913877676, 0.656740788793114, 0.6271920722321751, 0.6257774524446955, 0.6431013539806107, 0.6320623444158702, 0.6039585471153259, 0.6097084283828735, 0.614708423614502, 0.6189837455749512, 0.6226301193237305, 0.6257688999176025, 0.6285191178321838, 0.6309859752655029, 0.6332555413246155]\n",
            "9 day input [0.97964662 0.97406215 0.96342835 0.95279475 0.94430497 0.96686303\n",
            " 0.95881711 0.91635097 0.91203371 0.89139046 0.88384863 0.80762178\n",
            " 0.7995553  0.82480054 0.81352634 0.81674352 0.76969348 0.66750452\n",
            " 0.67079118 0.5171525  0.58690429 0.44409924 0.40141785 0.31144373\n",
            " 0.28085137 0.36651779 0.15943594 0.19589699 0.29387971 0.36813923\n",
            " 0.36123533 0.28885576 0.34296769 0.27964511 0.2441539  0.37447799\n",
            " 0.36535995 0.43197074 0.40725601 0.3909299  0.40265567 0.45455408\n",
            " 0.45767391 0.40445041 0.4435456  0.46899344 0.4407915  0.46267792\n",
            " 0.48222654 0.51410102 0.56659676 0.46121848 0.44743801 0.45966067\n",
            " 0.44690494 0.45739493 0.45310677 0.44310185 0.47665255 0.43003774\n",
            " 0.42871357 0.37246594 0.38126501 0.41402361 0.42003867 0.40633869\n",
            " 0.40300783 0.45542246 0.48675636 0.49851954 0.54480286 0.572276\n",
            " 0.58722315 0.58044239 0.59657535 0.60096147 0.57917888 0.59446031\n",
            " 0.55716294 0.56992659 0.54087045 0.56068109 0.55556042 0.59240776\n",
            " 0.61996869 0.62942039 0.65674079 0.62719207 0.62577745 0.64310135\n",
            " 0.63206234 0.60395855 0.60970843 0.61470842 0.61898375 0.62263012\n",
            " 0.6257689  0.62851912 0.63098598 0.63325554]\n",
            "[[[0.97964662]\n",
            "  [0.97406215]\n",
            "  [0.96342835]\n",
            "  [0.95279475]\n",
            "  [0.94430497]\n",
            "  [0.96686303]\n",
            "  [0.95881711]\n",
            "  [0.91635097]\n",
            "  [0.91203371]\n",
            "  [0.89139046]\n",
            "  [0.88384863]\n",
            "  [0.80762178]\n",
            "  [0.7995553 ]\n",
            "  [0.82480054]\n",
            "  [0.81352634]\n",
            "  [0.81674352]\n",
            "  [0.76969348]\n",
            "  [0.66750452]\n",
            "  [0.67079118]\n",
            "  [0.5171525 ]\n",
            "  [0.58690429]\n",
            "  [0.44409924]\n",
            "  [0.40141785]\n",
            "  [0.31144373]\n",
            "  [0.28085137]\n",
            "  [0.36651779]\n",
            "  [0.15943594]\n",
            "  [0.19589699]\n",
            "  [0.29387971]\n",
            "  [0.36813923]\n",
            "  [0.36123533]\n",
            "  [0.28885576]\n",
            "  [0.34296769]\n",
            "  [0.27964511]\n",
            "  [0.2441539 ]\n",
            "  [0.37447799]\n",
            "  [0.36535995]\n",
            "  [0.43197074]\n",
            "  [0.40725601]\n",
            "  [0.3909299 ]\n",
            "  [0.40265567]\n",
            "  [0.45455408]\n",
            "  [0.45767391]\n",
            "  [0.40445041]\n",
            "  [0.4435456 ]\n",
            "  [0.46899344]\n",
            "  [0.4407915 ]\n",
            "  [0.46267792]\n",
            "  [0.48222654]\n",
            "  [0.51410102]\n",
            "  [0.56659676]\n",
            "  [0.46121848]\n",
            "  [0.44743801]\n",
            "  [0.45966067]\n",
            "  [0.44690494]\n",
            "  [0.45739493]\n",
            "  [0.45310677]\n",
            "  [0.44310185]\n",
            "  [0.47665255]\n",
            "  [0.43003774]\n",
            "  [0.42871357]\n",
            "  [0.37246594]\n",
            "  [0.38126501]\n",
            "  [0.41402361]\n",
            "  [0.42003867]\n",
            "  [0.40633869]\n",
            "  [0.40300783]\n",
            "  [0.45542246]\n",
            "  [0.48675636]\n",
            "  [0.49851954]\n",
            "  [0.54480286]\n",
            "  [0.572276  ]\n",
            "  [0.58722315]\n",
            "  [0.58044239]\n",
            "  [0.59657535]\n",
            "  [0.60096147]\n",
            "  [0.57917888]\n",
            "  [0.59446031]\n",
            "  [0.55716294]\n",
            "  [0.56992659]\n",
            "  [0.54087045]\n",
            "  [0.56068109]\n",
            "  [0.55556042]\n",
            "  [0.59240776]\n",
            "  [0.61996869]\n",
            "  [0.62942039]\n",
            "  [0.65674079]\n",
            "  [0.62719207]\n",
            "  [0.62577745]\n",
            "  [0.64310135]\n",
            "  [0.63206234]\n",
            "  [0.60395855]\n",
            "  [0.60970843]\n",
            "  [0.61470842]\n",
            "  [0.61898375]\n",
            "  [0.62263012]\n",
            "  [0.6257689 ]\n",
            "  [0.62851912]\n",
            "  [0.63098598]\n",
            "  [0.63325554]]]\n",
            "9 day output [[0.6353938]]\n",
            "[0.9796466205710201, 0.9740621514147216, 0.9634283468137141, 0.9527947478356409, 0.944304973197204, 0.9668630297231418, 0.9588171097918856, 0.916350967588909, 0.912033714891137, 0.891390462754706, 0.8838486334191509, 0.8076217807425334, 0.7995553024124677, 0.8248005403807332, 0.8135263433356954, 0.8167435189162249, 0.7696934822786812, 0.667504522089349, 0.6707911849062811, 0.5171524963739804, 0.5869042923904169, 0.44409923558399145, 0.4014178474833543, 0.31144373147509885, 0.2808513704769171, 0.36651779343811075, 0.1594359365320892, 0.1958969858422419, 0.2938797084031737, 0.3681392301618449, 0.3612353263740371, 0.28885576257520507, 0.34296769388437, 0.27964510950823507, 0.24415390021201056, 0.3744779850789546, 0.36535994738126076, 0.43197073645687056, 0.4072560066051978, 0.39092990438138675, 0.4026556654936866, 0.4545540797091374, 0.45767391154024173, 0.40445040914150354, 0.44354559928189574, 0.46899343973202745, 0.4407915004424885, 0.46267791578557294, 0.48222653878623567, 0.5141010210373458, 0.5665967580339462, 0.461218478777107, 0.4474380137887539, 0.45966067011506384, 0.44690493583283764, 0.45739493479573823, 0.4531067721380748, 0.4431018474124968, 0.47665255439964604, 0.4300377379375726, 0.4287135748732849, 0.3724659397251737, 0.3812650146753085, 0.4140236085973048, 0.420038672334077, 0.40633869322496685, 0.4030078299505906, 0.455422464251775, 0.48675636480982165, 0.49851954208585436, 0.5448028552223563, 0.5722760011529764, 0.5872231523528237, 0.5804423930191618, 0.5965753495740342, 0.6009614727446659, 0.5791788770366324, 0.5944603069190497, 0.5571629441389296, 0.5699265933515414, 0.5408704547650716, 0.5606810939075324, 0.5555604210410516, 0.592407761636452, 0.6199686917184177, 0.6294203913877676, 0.656740788793114, 0.6271920722321751, 0.6257774524446955, 0.6431013539806107, 0.6320623444158702, 0.6039585471153259, 0.6097084283828735, 0.614708423614502, 0.6189837455749512, 0.6226301193237305, 0.6257688999176025, 0.6285191178321838, 0.6309859752655029, 0.6332555413246155, 0.6353937983512878]\n",
            "[0.9796466205710201, 0.9740621514147216, 0.9634283468137141, 0.9527947478356409, 0.944304973197204, 0.9668630297231418, 0.9588171097918856, 0.916350967588909, 0.912033714891137, 0.891390462754706, 0.8838486334191509, 0.8076217807425334, 0.7995553024124677, 0.8248005403807332, 0.8135263433356954, 0.8167435189162249, 0.7696934822786812, 0.667504522089349, 0.6707911849062811, 0.5171524963739804, 0.5869042923904169, 0.44409923558399145, 0.4014178474833543, 0.31144373147509885, 0.2808513704769171, 0.36651779343811075, 0.1594359365320892, 0.1958969858422419, 0.2938797084031737, 0.3681392301618449, 0.3612353263740371, 0.28885576257520507, 0.34296769388437, 0.27964510950823507, 0.24415390021201056, 0.3744779850789546, 0.36535994738126076, 0.43197073645687056, 0.4072560066051978, 0.39092990438138675, 0.4026556654936866, 0.4545540797091374, 0.45767391154024173, 0.40445040914150354, 0.44354559928189574, 0.46899343973202745, 0.4407915004424885, 0.46267791578557294, 0.48222653878623567, 0.5141010210373458, 0.5665967580339462, 0.461218478777107, 0.4474380137887539, 0.45966067011506384, 0.44690493583283764, 0.45739493479573823, 0.4531067721380748, 0.4431018474124968, 0.47665255439964604, 0.4300377379375726, 0.4287135748732849, 0.3724659397251737, 0.3812650146753085, 0.4140236085973048, 0.420038672334077, 0.40633869322496685, 0.4030078299505906, 0.455422464251775, 0.48675636480982165, 0.49851954208585436, 0.5448028552223563, 0.5722760011529764, 0.5872231523528237, 0.5804423930191618, 0.5965753495740342, 0.6009614727446659, 0.5791788770366324, 0.5944603069190497, 0.5571629441389296, 0.5699265933515414, 0.5408704547650716, 0.5606810939075324, 0.5555604210410516, 0.592407761636452, 0.6199686917184177, 0.6294203913877676, 0.656740788793114, 0.6271920722321751, 0.6257774524446955, 0.6431013539806107, 0.6320623444158702, 0.6039585471153259, 0.6097084283828735, 0.614708423614502, 0.6189837455749512, 0.6226301193237305, 0.6257688999176025, 0.6285191178321838, 0.6309859752655029, 0.6332555413246155, 0.6353937983512878]\n",
            "10 day input [0.97406215 0.96342835 0.95279475 0.94430497 0.96686303 0.95881711\n",
            " 0.91635097 0.91203371 0.89139046 0.88384863 0.80762178 0.7995553\n",
            " 0.82480054 0.81352634 0.81674352 0.76969348 0.66750452 0.67079118\n",
            " 0.5171525  0.58690429 0.44409924 0.40141785 0.31144373 0.28085137\n",
            " 0.36651779 0.15943594 0.19589699 0.29387971 0.36813923 0.36123533\n",
            " 0.28885576 0.34296769 0.27964511 0.2441539  0.37447799 0.36535995\n",
            " 0.43197074 0.40725601 0.3909299  0.40265567 0.45455408 0.45767391\n",
            " 0.40445041 0.4435456  0.46899344 0.4407915  0.46267792 0.48222654\n",
            " 0.51410102 0.56659676 0.46121848 0.44743801 0.45966067 0.44690494\n",
            " 0.45739493 0.45310677 0.44310185 0.47665255 0.43003774 0.42871357\n",
            " 0.37246594 0.38126501 0.41402361 0.42003867 0.40633869 0.40300783\n",
            " 0.45542246 0.48675636 0.49851954 0.54480286 0.572276   0.58722315\n",
            " 0.58044239 0.59657535 0.60096147 0.57917888 0.59446031 0.55716294\n",
            " 0.56992659 0.54087045 0.56068109 0.55556042 0.59240776 0.61996869\n",
            " 0.62942039 0.65674079 0.62719207 0.62577745 0.64310135 0.63206234\n",
            " 0.60395855 0.60970843 0.61470842 0.61898375 0.62263012 0.6257689\n",
            " 0.62851912 0.63098598 0.63325554 0.6353938 ]\n",
            "[[[0.97406215]\n",
            "  [0.96342835]\n",
            "  [0.95279475]\n",
            "  [0.94430497]\n",
            "  [0.96686303]\n",
            "  [0.95881711]\n",
            "  [0.91635097]\n",
            "  [0.91203371]\n",
            "  [0.89139046]\n",
            "  [0.88384863]\n",
            "  [0.80762178]\n",
            "  [0.7995553 ]\n",
            "  [0.82480054]\n",
            "  [0.81352634]\n",
            "  [0.81674352]\n",
            "  [0.76969348]\n",
            "  [0.66750452]\n",
            "  [0.67079118]\n",
            "  [0.5171525 ]\n",
            "  [0.58690429]\n",
            "  [0.44409924]\n",
            "  [0.40141785]\n",
            "  [0.31144373]\n",
            "  [0.28085137]\n",
            "  [0.36651779]\n",
            "  [0.15943594]\n",
            "  [0.19589699]\n",
            "  [0.29387971]\n",
            "  [0.36813923]\n",
            "  [0.36123533]\n",
            "  [0.28885576]\n",
            "  [0.34296769]\n",
            "  [0.27964511]\n",
            "  [0.2441539 ]\n",
            "  [0.37447799]\n",
            "  [0.36535995]\n",
            "  [0.43197074]\n",
            "  [0.40725601]\n",
            "  [0.3909299 ]\n",
            "  [0.40265567]\n",
            "  [0.45455408]\n",
            "  [0.45767391]\n",
            "  [0.40445041]\n",
            "  [0.4435456 ]\n",
            "  [0.46899344]\n",
            "  [0.4407915 ]\n",
            "  [0.46267792]\n",
            "  [0.48222654]\n",
            "  [0.51410102]\n",
            "  [0.56659676]\n",
            "  [0.46121848]\n",
            "  [0.44743801]\n",
            "  [0.45966067]\n",
            "  [0.44690494]\n",
            "  [0.45739493]\n",
            "  [0.45310677]\n",
            "  [0.44310185]\n",
            "  [0.47665255]\n",
            "  [0.43003774]\n",
            "  [0.42871357]\n",
            "  [0.37246594]\n",
            "  [0.38126501]\n",
            "  [0.41402361]\n",
            "  [0.42003867]\n",
            "  [0.40633869]\n",
            "  [0.40300783]\n",
            "  [0.45542246]\n",
            "  [0.48675636]\n",
            "  [0.49851954]\n",
            "  [0.54480286]\n",
            "  [0.572276  ]\n",
            "  [0.58722315]\n",
            "  [0.58044239]\n",
            "  [0.59657535]\n",
            "  [0.60096147]\n",
            "  [0.57917888]\n",
            "  [0.59446031]\n",
            "  [0.55716294]\n",
            "  [0.56992659]\n",
            "  [0.54087045]\n",
            "  [0.56068109]\n",
            "  [0.55556042]\n",
            "  [0.59240776]\n",
            "  [0.61996869]\n",
            "  [0.62942039]\n",
            "  [0.65674079]\n",
            "  [0.62719207]\n",
            "  [0.62577745]\n",
            "  [0.64310135]\n",
            "  [0.63206234]\n",
            "  [0.60395855]\n",
            "  [0.60970843]\n",
            "  [0.61470842]\n",
            "  [0.61898375]\n",
            "  [0.62263012]\n",
            "  [0.6257689 ]\n",
            "  [0.62851912]\n",
            "  [0.63098598]\n",
            "  [0.63325554]\n",
            "  [0.6353938 ]]]\n",
            "10 day output [[0.6374495]]\n",
            "[0.9740621514147216, 0.9634283468137141, 0.9527947478356409, 0.944304973197204, 0.9668630297231418, 0.9588171097918856, 0.916350967588909, 0.912033714891137, 0.891390462754706, 0.8838486334191509, 0.8076217807425334, 0.7995553024124677, 0.8248005403807332, 0.8135263433356954, 0.8167435189162249, 0.7696934822786812, 0.667504522089349, 0.6707911849062811, 0.5171524963739804, 0.5869042923904169, 0.44409923558399145, 0.4014178474833543, 0.31144373147509885, 0.2808513704769171, 0.36651779343811075, 0.1594359365320892, 0.1958969858422419, 0.2938797084031737, 0.3681392301618449, 0.3612353263740371, 0.28885576257520507, 0.34296769388437, 0.27964510950823507, 0.24415390021201056, 0.3744779850789546, 0.36535994738126076, 0.43197073645687056, 0.4072560066051978, 0.39092990438138675, 0.4026556654936866, 0.4545540797091374, 0.45767391154024173, 0.40445040914150354, 0.44354559928189574, 0.46899343973202745, 0.4407915004424885, 0.46267791578557294, 0.48222653878623567, 0.5141010210373458, 0.5665967580339462, 0.461218478777107, 0.4474380137887539, 0.45966067011506384, 0.44690493583283764, 0.45739493479573823, 0.4531067721380748, 0.4431018474124968, 0.47665255439964604, 0.4300377379375726, 0.4287135748732849, 0.3724659397251737, 0.3812650146753085, 0.4140236085973048, 0.420038672334077, 0.40633869322496685, 0.4030078299505906, 0.455422464251775, 0.48675636480982165, 0.49851954208585436, 0.5448028552223563, 0.5722760011529764, 0.5872231523528237, 0.5804423930191618, 0.5965753495740342, 0.6009614727446659, 0.5791788770366324, 0.5944603069190497, 0.5571629441389296, 0.5699265933515414, 0.5408704547650716, 0.5606810939075324, 0.5555604210410516, 0.592407761636452, 0.6199686917184177, 0.6294203913877676, 0.656740788793114, 0.6271920722321751, 0.6257774524446955, 0.6431013539806107, 0.6320623444158702, 0.6039585471153259, 0.6097084283828735, 0.614708423614502, 0.6189837455749512, 0.6226301193237305, 0.6257688999176025, 0.6285191178321838, 0.6309859752655029, 0.6332555413246155, 0.6353937983512878, 0.6374495029449463]\n",
            "[0.9740621514147216, 0.9634283468137141, 0.9527947478356409, 0.944304973197204, 0.9668630297231418, 0.9588171097918856, 0.916350967588909, 0.912033714891137, 0.891390462754706, 0.8838486334191509, 0.8076217807425334, 0.7995553024124677, 0.8248005403807332, 0.8135263433356954, 0.8167435189162249, 0.7696934822786812, 0.667504522089349, 0.6707911849062811, 0.5171524963739804, 0.5869042923904169, 0.44409923558399145, 0.4014178474833543, 0.31144373147509885, 0.2808513704769171, 0.36651779343811075, 0.1594359365320892, 0.1958969858422419, 0.2938797084031737, 0.3681392301618449, 0.3612353263740371, 0.28885576257520507, 0.34296769388437, 0.27964510950823507, 0.24415390021201056, 0.3744779850789546, 0.36535994738126076, 0.43197073645687056, 0.4072560066051978, 0.39092990438138675, 0.4026556654936866, 0.4545540797091374, 0.45767391154024173, 0.40445040914150354, 0.44354559928189574, 0.46899343973202745, 0.4407915004424885, 0.46267791578557294, 0.48222653878623567, 0.5141010210373458, 0.5665967580339462, 0.461218478777107, 0.4474380137887539, 0.45966067011506384, 0.44690493583283764, 0.45739493479573823, 0.4531067721380748, 0.4431018474124968, 0.47665255439964604, 0.4300377379375726, 0.4287135748732849, 0.3724659397251737, 0.3812650146753085, 0.4140236085973048, 0.420038672334077, 0.40633869322496685, 0.4030078299505906, 0.455422464251775, 0.48675636480982165, 0.49851954208585436, 0.5448028552223563, 0.5722760011529764, 0.5872231523528237, 0.5804423930191618, 0.5965753495740342, 0.6009614727446659, 0.5791788770366324, 0.5944603069190497, 0.5571629441389296, 0.5699265933515414, 0.5408704547650716, 0.5606810939075324, 0.5555604210410516, 0.592407761636452, 0.6199686917184177, 0.6294203913877676, 0.656740788793114, 0.6271920722321751, 0.6257774524446955, 0.6431013539806107, 0.6320623444158702, 0.6039585471153259, 0.6097084283828735, 0.614708423614502, 0.6189837455749512, 0.6226301193237305, 0.6257688999176025, 0.6285191178321838, 0.6309859752655029, 0.6332555413246155, 0.6353937983512878, 0.6374495029449463]\n",
            "11 day input [0.96342835 0.95279475 0.94430497 0.96686303 0.95881711 0.91635097\n",
            " 0.91203371 0.89139046 0.88384863 0.80762178 0.7995553  0.82480054\n",
            " 0.81352634 0.81674352 0.76969348 0.66750452 0.67079118 0.5171525\n",
            " 0.58690429 0.44409924 0.40141785 0.31144373 0.28085137 0.36651779\n",
            " 0.15943594 0.19589699 0.29387971 0.36813923 0.36123533 0.28885576\n",
            " 0.34296769 0.27964511 0.2441539  0.37447799 0.36535995 0.43197074\n",
            " 0.40725601 0.3909299  0.40265567 0.45455408 0.45767391 0.40445041\n",
            " 0.4435456  0.46899344 0.4407915  0.46267792 0.48222654 0.51410102\n",
            " 0.56659676 0.46121848 0.44743801 0.45966067 0.44690494 0.45739493\n",
            " 0.45310677 0.44310185 0.47665255 0.43003774 0.42871357 0.37246594\n",
            " 0.38126501 0.41402361 0.42003867 0.40633869 0.40300783 0.45542246\n",
            " 0.48675636 0.49851954 0.54480286 0.572276   0.58722315 0.58044239\n",
            " 0.59657535 0.60096147 0.57917888 0.59446031 0.55716294 0.56992659\n",
            " 0.54087045 0.56068109 0.55556042 0.59240776 0.61996869 0.62942039\n",
            " 0.65674079 0.62719207 0.62577745 0.64310135 0.63206234 0.60395855\n",
            " 0.60970843 0.61470842 0.61898375 0.62263012 0.6257689  0.62851912\n",
            " 0.63098598 0.63325554 0.6353938  0.6374495 ]\n",
            "[[[0.96342835]\n",
            "  [0.95279475]\n",
            "  [0.94430497]\n",
            "  [0.96686303]\n",
            "  [0.95881711]\n",
            "  [0.91635097]\n",
            "  [0.91203371]\n",
            "  [0.89139046]\n",
            "  [0.88384863]\n",
            "  [0.80762178]\n",
            "  [0.7995553 ]\n",
            "  [0.82480054]\n",
            "  [0.81352634]\n",
            "  [0.81674352]\n",
            "  [0.76969348]\n",
            "  [0.66750452]\n",
            "  [0.67079118]\n",
            "  [0.5171525 ]\n",
            "  [0.58690429]\n",
            "  [0.44409924]\n",
            "  [0.40141785]\n",
            "  [0.31144373]\n",
            "  [0.28085137]\n",
            "  [0.36651779]\n",
            "  [0.15943594]\n",
            "  [0.19589699]\n",
            "  [0.29387971]\n",
            "  [0.36813923]\n",
            "  [0.36123533]\n",
            "  [0.28885576]\n",
            "  [0.34296769]\n",
            "  [0.27964511]\n",
            "  [0.2441539 ]\n",
            "  [0.37447799]\n",
            "  [0.36535995]\n",
            "  [0.43197074]\n",
            "  [0.40725601]\n",
            "  [0.3909299 ]\n",
            "  [0.40265567]\n",
            "  [0.45455408]\n",
            "  [0.45767391]\n",
            "  [0.40445041]\n",
            "  [0.4435456 ]\n",
            "  [0.46899344]\n",
            "  [0.4407915 ]\n",
            "  [0.46267792]\n",
            "  [0.48222654]\n",
            "  [0.51410102]\n",
            "  [0.56659676]\n",
            "  [0.46121848]\n",
            "  [0.44743801]\n",
            "  [0.45966067]\n",
            "  [0.44690494]\n",
            "  [0.45739493]\n",
            "  [0.45310677]\n",
            "  [0.44310185]\n",
            "  [0.47665255]\n",
            "  [0.43003774]\n",
            "  [0.42871357]\n",
            "  [0.37246594]\n",
            "  [0.38126501]\n",
            "  [0.41402361]\n",
            "  [0.42003867]\n",
            "  [0.40633869]\n",
            "  [0.40300783]\n",
            "  [0.45542246]\n",
            "  [0.48675636]\n",
            "  [0.49851954]\n",
            "  [0.54480286]\n",
            "  [0.572276  ]\n",
            "  [0.58722315]\n",
            "  [0.58044239]\n",
            "  [0.59657535]\n",
            "  [0.60096147]\n",
            "  [0.57917888]\n",
            "  [0.59446031]\n",
            "  [0.55716294]\n",
            "  [0.56992659]\n",
            "  [0.54087045]\n",
            "  [0.56068109]\n",
            "  [0.55556042]\n",
            "  [0.59240776]\n",
            "  [0.61996869]\n",
            "  [0.62942039]\n",
            "  [0.65674079]\n",
            "  [0.62719207]\n",
            "  [0.62577745]\n",
            "  [0.64310135]\n",
            "  [0.63206234]\n",
            "  [0.60395855]\n",
            "  [0.60970843]\n",
            "  [0.61470842]\n",
            "  [0.61898375]\n",
            "  [0.62263012]\n",
            "  [0.6257689 ]\n",
            "  [0.62851912]\n",
            "  [0.63098598]\n",
            "  [0.63325554]\n",
            "  [0.6353938 ]\n",
            "  [0.6374495 ]]]\n",
            "11 day output [[0.6394569]]\n",
            "[0.9634283468137141, 0.9527947478356409, 0.944304973197204, 0.9668630297231418, 0.9588171097918856, 0.916350967588909, 0.912033714891137, 0.891390462754706, 0.8838486334191509, 0.8076217807425334, 0.7995553024124677, 0.8248005403807332, 0.8135263433356954, 0.8167435189162249, 0.7696934822786812, 0.667504522089349, 0.6707911849062811, 0.5171524963739804, 0.5869042923904169, 0.44409923558399145, 0.4014178474833543, 0.31144373147509885, 0.2808513704769171, 0.36651779343811075, 0.1594359365320892, 0.1958969858422419, 0.2938797084031737, 0.3681392301618449, 0.3612353263740371, 0.28885576257520507, 0.34296769388437, 0.27964510950823507, 0.24415390021201056, 0.3744779850789546, 0.36535994738126076, 0.43197073645687056, 0.4072560066051978, 0.39092990438138675, 0.4026556654936866, 0.4545540797091374, 0.45767391154024173, 0.40445040914150354, 0.44354559928189574, 0.46899343973202745, 0.4407915004424885, 0.46267791578557294, 0.48222653878623567, 0.5141010210373458, 0.5665967580339462, 0.461218478777107, 0.4474380137887539, 0.45966067011506384, 0.44690493583283764, 0.45739493479573823, 0.4531067721380748, 0.4431018474124968, 0.47665255439964604, 0.4300377379375726, 0.4287135748732849, 0.3724659397251737, 0.3812650146753085, 0.4140236085973048, 0.420038672334077, 0.40633869322496685, 0.4030078299505906, 0.455422464251775, 0.48675636480982165, 0.49851954208585436, 0.5448028552223563, 0.5722760011529764, 0.5872231523528237, 0.5804423930191618, 0.5965753495740342, 0.6009614727446659, 0.5791788770366324, 0.5944603069190497, 0.5571629441389296, 0.5699265933515414, 0.5408704547650716, 0.5606810939075324, 0.5555604210410516, 0.592407761636452, 0.6199686917184177, 0.6294203913877676, 0.656740788793114, 0.6271920722321751, 0.6257774524446955, 0.6431013539806107, 0.6320623444158702, 0.6039585471153259, 0.6097084283828735, 0.614708423614502, 0.6189837455749512, 0.6226301193237305, 0.6257688999176025, 0.6285191178321838, 0.6309859752655029, 0.6332555413246155, 0.6353937983512878, 0.6374495029449463, 0.6394569277763367]\n",
            "[0.9634283468137141, 0.9527947478356409, 0.944304973197204, 0.9668630297231418, 0.9588171097918856, 0.916350967588909, 0.912033714891137, 0.891390462754706, 0.8838486334191509, 0.8076217807425334, 0.7995553024124677, 0.8248005403807332, 0.8135263433356954, 0.8167435189162249, 0.7696934822786812, 0.667504522089349, 0.6707911849062811, 0.5171524963739804, 0.5869042923904169, 0.44409923558399145, 0.4014178474833543, 0.31144373147509885, 0.2808513704769171, 0.36651779343811075, 0.1594359365320892, 0.1958969858422419, 0.2938797084031737, 0.3681392301618449, 0.3612353263740371, 0.28885576257520507, 0.34296769388437, 0.27964510950823507, 0.24415390021201056, 0.3744779850789546, 0.36535994738126076, 0.43197073645687056, 0.4072560066051978, 0.39092990438138675, 0.4026556654936866, 0.4545540797091374, 0.45767391154024173, 0.40445040914150354, 0.44354559928189574, 0.46899343973202745, 0.4407915004424885, 0.46267791578557294, 0.48222653878623567, 0.5141010210373458, 0.5665967580339462, 0.461218478777107, 0.4474380137887539, 0.45966067011506384, 0.44690493583283764, 0.45739493479573823, 0.4531067721380748, 0.4431018474124968, 0.47665255439964604, 0.4300377379375726, 0.4287135748732849, 0.3724659397251737, 0.3812650146753085, 0.4140236085973048, 0.420038672334077, 0.40633869322496685, 0.4030078299505906, 0.455422464251775, 0.48675636480982165, 0.49851954208585436, 0.5448028552223563, 0.5722760011529764, 0.5872231523528237, 0.5804423930191618, 0.5965753495740342, 0.6009614727446659, 0.5791788770366324, 0.5944603069190497, 0.5571629441389296, 0.5699265933515414, 0.5408704547650716, 0.5606810939075324, 0.5555604210410516, 0.592407761636452, 0.6199686917184177, 0.6294203913877676, 0.656740788793114, 0.6271920722321751, 0.6257774524446955, 0.6431013539806107, 0.6320623444158702, 0.6039585471153259, 0.6097084283828735, 0.614708423614502, 0.6189837455749512, 0.6226301193237305, 0.6257688999176025, 0.6285191178321838, 0.6309859752655029, 0.6332555413246155, 0.6353937983512878, 0.6374495029449463, 0.6394569277763367]\n",
            "12 day input [0.95279475 0.94430497 0.96686303 0.95881711 0.91635097 0.91203371\n",
            " 0.89139046 0.88384863 0.80762178 0.7995553  0.82480054 0.81352634\n",
            " 0.81674352 0.76969348 0.66750452 0.67079118 0.5171525  0.58690429\n",
            " 0.44409924 0.40141785 0.31144373 0.28085137 0.36651779 0.15943594\n",
            " 0.19589699 0.29387971 0.36813923 0.36123533 0.28885576 0.34296769\n",
            " 0.27964511 0.2441539  0.37447799 0.36535995 0.43197074 0.40725601\n",
            " 0.3909299  0.40265567 0.45455408 0.45767391 0.40445041 0.4435456\n",
            " 0.46899344 0.4407915  0.46267792 0.48222654 0.51410102 0.56659676\n",
            " 0.46121848 0.44743801 0.45966067 0.44690494 0.45739493 0.45310677\n",
            " 0.44310185 0.47665255 0.43003774 0.42871357 0.37246594 0.38126501\n",
            " 0.41402361 0.42003867 0.40633869 0.40300783 0.45542246 0.48675636\n",
            " 0.49851954 0.54480286 0.572276   0.58722315 0.58044239 0.59657535\n",
            " 0.60096147 0.57917888 0.59446031 0.55716294 0.56992659 0.54087045\n",
            " 0.56068109 0.55556042 0.59240776 0.61996869 0.62942039 0.65674079\n",
            " 0.62719207 0.62577745 0.64310135 0.63206234 0.60395855 0.60970843\n",
            " 0.61470842 0.61898375 0.62263012 0.6257689  0.62851912 0.63098598\n",
            " 0.63325554 0.6353938  0.6374495  0.63945693]\n",
            "[[[0.95279475]\n",
            "  [0.94430497]\n",
            "  [0.96686303]\n",
            "  [0.95881711]\n",
            "  [0.91635097]\n",
            "  [0.91203371]\n",
            "  [0.89139046]\n",
            "  [0.88384863]\n",
            "  [0.80762178]\n",
            "  [0.7995553 ]\n",
            "  [0.82480054]\n",
            "  [0.81352634]\n",
            "  [0.81674352]\n",
            "  [0.76969348]\n",
            "  [0.66750452]\n",
            "  [0.67079118]\n",
            "  [0.5171525 ]\n",
            "  [0.58690429]\n",
            "  [0.44409924]\n",
            "  [0.40141785]\n",
            "  [0.31144373]\n",
            "  [0.28085137]\n",
            "  [0.36651779]\n",
            "  [0.15943594]\n",
            "  [0.19589699]\n",
            "  [0.29387971]\n",
            "  [0.36813923]\n",
            "  [0.36123533]\n",
            "  [0.28885576]\n",
            "  [0.34296769]\n",
            "  [0.27964511]\n",
            "  [0.2441539 ]\n",
            "  [0.37447799]\n",
            "  [0.36535995]\n",
            "  [0.43197074]\n",
            "  [0.40725601]\n",
            "  [0.3909299 ]\n",
            "  [0.40265567]\n",
            "  [0.45455408]\n",
            "  [0.45767391]\n",
            "  [0.40445041]\n",
            "  [0.4435456 ]\n",
            "  [0.46899344]\n",
            "  [0.4407915 ]\n",
            "  [0.46267792]\n",
            "  [0.48222654]\n",
            "  [0.51410102]\n",
            "  [0.56659676]\n",
            "  [0.46121848]\n",
            "  [0.44743801]\n",
            "  [0.45966067]\n",
            "  [0.44690494]\n",
            "  [0.45739493]\n",
            "  [0.45310677]\n",
            "  [0.44310185]\n",
            "  [0.47665255]\n",
            "  [0.43003774]\n",
            "  [0.42871357]\n",
            "  [0.37246594]\n",
            "  [0.38126501]\n",
            "  [0.41402361]\n",
            "  [0.42003867]\n",
            "  [0.40633869]\n",
            "  [0.40300783]\n",
            "  [0.45542246]\n",
            "  [0.48675636]\n",
            "  [0.49851954]\n",
            "  [0.54480286]\n",
            "  [0.572276  ]\n",
            "  [0.58722315]\n",
            "  [0.58044239]\n",
            "  [0.59657535]\n",
            "  [0.60096147]\n",
            "  [0.57917888]\n",
            "  [0.59446031]\n",
            "  [0.55716294]\n",
            "  [0.56992659]\n",
            "  [0.54087045]\n",
            "  [0.56068109]\n",
            "  [0.55556042]\n",
            "  [0.59240776]\n",
            "  [0.61996869]\n",
            "  [0.62942039]\n",
            "  [0.65674079]\n",
            "  [0.62719207]\n",
            "  [0.62577745]\n",
            "  [0.64310135]\n",
            "  [0.63206234]\n",
            "  [0.60395855]\n",
            "  [0.60970843]\n",
            "  [0.61470842]\n",
            "  [0.61898375]\n",
            "  [0.62263012]\n",
            "  [0.6257689 ]\n",
            "  [0.62851912]\n",
            "  [0.63098598]\n",
            "  [0.63325554]\n",
            "  [0.6353938 ]\n",
            "  [0.6374495 ]\n",
            "  [0.63945693]]]\n",
            "12 day output [[0.64143914]]\n",
            "[0.9527947478356409, 0.944304973197204, 0.9668630297231418, 0.9588171097918856, 0.916350967588909, 0.912033714891137, 0.891390462754706, 0.8838486334191509, 0.8076217807425334, 0.7995553024124677, 0.8248005403807332, 0.8135263433356954, 0.8167435189162249, 0.7696934822786812, 0.667504522089349, 0.6707911849062811, 0.5171524963739804, 0.5869042923904169, 0.44409923558399145, 0.4014178474833543, 0.31144373147509885, 0.2808513704769171, 0.36651779343811075, 0.1594359365320892, 0.1958969858422419, 0.2938797084031737, 0.3681392301618449, 0.3612353263740371, 0.28885576257520507, 0.34296769388437, 0.27964510950823507, 0.24415390021201056, 0.3744779850789546, 0.36535994738126076, 0.43197073645687056, 0.4072560066051978, 0.39092990438138675, 0.4026556654936866, 0.4545540797091374, 0.45767391154024173, 0.40445040914150354, 0.44354559928189574, 0.46899343973202745, 0.4407915004424885, 0.46267791578557294, 0.48222653878623567, 0.5141010210373458, 0.5665967580339462, 0.461218478777107, 0.4474380137887539, 0.45966067011506384, 0.44690493583283764, 0.45739493479573823, 0.4531067721380748, 0.4431018474124968, 0.47665255439964604, 0.4300377379375726, 0.4287135748732849, 0.3724659397251737, 0.3812650146753085, 0.4140236085973048, 0.420038672334077, 0.40633869322496685, 0.4030078299505906, 0.455422464251775, 0.48675636480982165, 0.49851954208585436, 0.5448028552223563, 0.5722760011529764, 0.5872231523528237, 0.5804423930191618, 0.5965753495740342, 0.6009614727446659, 0.5791788770366324, 0.5944603069190497, 0.5571629441389296, 0.5699265933515414, 0.5408704547650716, 0.5606810939075324, 0.5555604210410516, 0.592407761636452, 0.6199686917184177, 0.6294203913877676, 0.656740788793114, 0.6271920722321751, 0.6257774524446955, 0.6431013539806107, 0.6320623444158702, 0.6039585471153259, 0.6097084283828735, 0.614708423614502, 0.6189837455749512, 0.6226301193237305, 0.6257688999176025, 0.6285191178321838, 0.6309859752655029, 0.6332555413246155, 0.6353937983512878, 0.6374495029449463, 0.6394569277763367, 0.6414391398429871]\n",
            "[0.9527947478356409, 0.944304973197204, 0.9668630297231418, 0.9588171097918856, 0.916350967588909, 0.912033714891137, 0.891390462754706, 0.8838486334191509, 0.8076217807425334, 0.7995553024124677, 0.8248005403807332, 0.8135263433356954, 0.8167435189162249, 0.7696934822786812, 0.667504522089349, 0.6707911849062811, 0.5171524963739804, 0.5869042923904169, 0.44409923558399145, 0.4014178474833543, 0.31144373147509885, 0.2808513704769171, 0.36651779343811075, 0.1594359365320892, 0.1958969858422419, 0.2938797084031737, 0.3681392301618449, 0.3612353263740371, 0.28885576257520507, 0.34296769388437, 0.27964510950823507, 0.24415390021201056, 0.3744779850789546, 0.36535994738126076, 0.43197073645687056, 0.4072560066051978, 0.39092990438138675, 0.4026556654936866, 0.4545540797091374, 0.45767391154024173, 0.40445040914150354, 0.44354559928189574, 0.46899343973202745, 0.4407915004424885, 0.46267791578557294, 0.48222653878623567, 0.5141010210373458, 0.5665967580339462, 0.461218478777107, 0.4474380137887539, 0.45966067011506384, 0.44690493583283764, 0.45739493479573823, 0.4531067721380748, 0.4431018474124968, 0.47665255439964604, 0.4300377379375726, 0.4287135748732849, 0.3724659397251737, 0.3812650146753085, 0.4140236085973048, 0.420038672334077, 0.40633869322496685, 0.4030078299505906, 0.455422464251775, 0.48675636480982165, 0.49851954208585436, 0.5448028552223563, 0.5722760011529764, 0.5872231523528237, 0.5804423930191618, 0.5965753495740342, 0.6009614727446659, 0.5791788770366324, 0.5944603069190497, 0.5571629441389296, 0.5699265933515414, 0.5408704547650716, 0.5606810939075324, 0.5555604210410516, 0.592407761636452, 0.6199686917184177, 0.6294203913877676, 0.656740788793114, 0.6271920722321751, 0.6257774524446955, 0.6431013539806107, 0.6320623444158702, 0.6039585471153259, 0.6097084283828735, 0.614708423614502, 0.6189837455749512, 0.6226301193237305, 0.6257688999176025, 0.6285191178321838, 0.6309859752655029, 0.6332555413246155, 0.6353937983512878, 0.6374495029449463, 0.6394569277763367, 0.6414391398429871]\n",
            "13 day input [0.94430497 0.96686303 0.95881711 0.91635097 0.91203371 0.89139046\n",
            " 0.88384863 0.80762178 0.7995553  0.82480054 0.81352634 0.81674352\n",
            " 0.76969348 0.66750452 0.67079118 0.5171525  0.58690429 0.44409924\n",
            " 0.40141785 0.31144373 0.28085137 0.36651779 0.15943594 0.19589699\n",
            " 0.29387971 0.36813923 0.36123533 0.28885576 0.34296769 0.27964511\n",
            " 0.2441539  0.37447799 0.36535995 0.43197074 0.40725601 0.3909299\n",
            " 0.40265567 0.45455408 0.45767391 0.40445041 0.4435456  0.46899344\n",
            " 0.4407915  0.46267792 0.48222654 0.51410102 0.56659676 0.46121848\n",
            " 0.44743801 0.45966067 0.44690494 0.45739493 0.45310677 0.44310185\n",
            " 0.47665255 0.43003774 0.42871357 0.37246594 0.38126501 0.41402361\n",
            " 0.42003867 0.40633869 0.40300783 0.45542246 0.48675636 0.49851954\n",
            " 0.54480286 0.572276   0.58722315 0.58044239 0.59657535 0.60096147\n",
            " 0.57917888 0.59446031 0.55716294 0.56992659 0.54087045 0.56068109\n",
            " 0.55556042 0.59240776 0.61996869 0.62942039 0.65674079 0.62719207\n",
            " 0.62577745 0.64310135 0.63206234 0.60395855 0.60970843 0.61470842\n",
            " 0.61898375 0.62263012 0.6257689  0.62851912 0.63098598 0.63325554\n",
            " 0.6353938  0.6374495  0.63945693 0.64143914]\n",
            "[[[0.94430497]\n",
            "  [0.96686303]\n",
            "  [0.95881711]\n",
            "  [0.91635097]\n",
            "  [0.91203371]\n",
            "  [0.89139046]\n",
            "  [0.88384863]\n",
            "  [0.80762178]\n",
            "  [0.7995553 ]\n",
            "  [0.82480054]\n",
            "  [0.81352634]\n",
            "  [0.81674352]\n",
            "  [0.76969348]\n",
            "  [0.66750452]\n",
            "  [0.67079118]\n",
            "  [0.5171525 ]\n",
            "  [0.58690429]\n",
            "  [0.44409924]\n",
            "  [0.40141785]\n",
            "  [0.31144373]\n",
            "  [0.28085137]\n",
            "  [0.36651779]\n",
            "  [0.15943594]\n",
            "  [0.19589699]\n",
            "  [0.29387971]\n",
            "  [0.36813923]\n",
            "  [0.36123533]\n",
            "  [0.28885576]\n",
            "  [0.34296769]\n",
            "  [0.27964511]\n",
            "  [0.2441539 ]\n",
            "  [0.37447799]\n",
            "  [0.36535995]\n",
            "  [0.43197074]\n",
            "  [0.40725601]\n",
            "  [0.3909299 ]\n",
            "  [0.40265567]\n",
            "  [0.45455408]\n",
            "  [0.45767391]\n",
            "  [0.40445041]\n",
            "  [0.4435456 ]\n",
            "  [0.46899344]\n",
            "  [0.4407915 ]\n",
            "  [0.46267792]\n",
            "  [0.48222654]\n",
            "  [0.51410102]\n",
            "  [0.56659676]\n",
            "  [0.46121848]\n",
            "  [0.44743801]\n",
            "  [0.45966067]\n",
            "  [0.44690494]\n",
            "  [0.45739493]\n",
            "  [0.45310677]\n",
            "  [0.44310185]\n",
            "  [0.47665255]\n",
            "  [0.43003774]\n",
            "  [0.42871357]\n",
            "  [0.37246594]\n",
            "  [0.38126501]\n",
            "  [0.41402361]\n",
            "  [0.42003867]\n",
            "  [0.40633869]\n",
            "  [0.40300783]\n",
            "  [0.45542246]\n",
            "  [0.48675636]\n",
            "  [0.49851954]\n",
            "  [0.54480286]\n",
            "  [0.572276  ]\n",
            "  [0.58722315]\n",
            "  [0.58044239]\n",
            "  [0.59657535]\n",
            "  [0.60096147]\n",
            "  [0.57917888]\n",
            "  [0.59446031]\n",
            "  [0.55716294]\n",
            "  [0.56992659]\n",
            "  [0.54087045]\n",
            "  [0.56068109]\n",
            "  [0.55556042]\n",
            "  [0.59240776]\n",
            "  [0.61996869]\n",
            "  [0.62942039]\n",
            "  [0.65674079]\n",
            "  [0.62719207]\n",
            "  [0.62577745]\n",
            "  [0.64310135]\n",
            "  [0.63206234]\n",
            "  [0.60395855]\n",
            "  [0.60970843]\n",
            "  [0.61470842]\n",
            "  [0.61898375]\n",
            "  [0.62263012]\n",
            "  [0.6257689 ]\n",
            "  [0.62851912]\n",
            "  [0.63098598]\n",
            "  [0.63325554]\n",
            "  [0.6353938 ]\n",
            "  [0.6374495 ]\n",
            "  [0.63945693]\n",
            "  [0.64143914]]]\n",
            "13 day output [[0.6434109]]\n",
            "[0.944304973197204, 0.9668630297231418, 0.9588171097918856, 0.916350967588909, 0.912033714891137, 0.891390462754706, 0.8838486334191509, 0.8076217807425334, 0.7995553024124677, 0.8248005403807332, 0.8135263433356954, 0.8167435189162249, 0.7696934822786812, 0.667504522089349, 0.6707911849062811, 0.5171524963739804, 0.5869042923904169, 0.44409923558399145, 0.4014178474833543, 0.31144373147509885, 0.2808513704769171, 0.36651779343811075, 0.1594359365320892, 0.1958969858422419, 0.2938797084031737, 0.3681392301618449, 0.3612353263740371, 0.28885576257520507, 0.34296769388437, 0.27964510950823507, 0.24415390021201056, 0.3744779850789546, 0.36535994738126076, 0.43197073645687056, 0.4072560066051978, 0.39092990438138675, 0.4026556654936866, 0.4545540797091374, 0.45767391154024173, 0.40445040914150354, 0.44354559928189574, 0.46899343973202745, 0.4407915004424885, 0.46267791578557294, 0.48222653878623567, 0.5141010210373458, 0.5665967580339462, 0.461218478777107, 0.4474380137887539, 0.45966067011506384, 0.44690493583283764, 0.45739493479573823, 0.4531067721380748, 0.4431018474124968, 0.47665255439964604, 0.4300377379375726, 0.4287135748732849, 0.3724659397251737, 0.3812650146753085, 0.4140236085973048, 0.420038672334077, 0.40633869322496685, 0.4030078299505906, 0.455422464251775, 0.48675636480982165, 0.49851954208585436, 0.5448028552223563, 0.5722760011529764, 0.5872231523528237, 0.5804423930191618, 0.5965753495740342, 0.6009614727446659, 0.5791788770366324, 0.5944603069190497, 0.5571629441389296, 0.5699265933515414, 0.5408704547650716, 0.5606810939075324, 0.5555604210410516, 0.592407761636452, 0.6199686917184177, 0.6294203913877676, 0.656740788793114, 0.6271920722321751, 0.6257774524446955, 0.6431013539806107, 0.6320623444158702, 0.6039585471153259, 0.6097084283828735, 0.614708423614502, 0.6189837455749512, 0.6226301193237305, 0.6257688999176025, 0.6285191178321838, 0.6309859752655029, 0.6332555413246155, 0.6353937983512878, 0.6374495029449463, 0.6394569277763367, 0.6414391398429871, 0.6434109210968018]\n",
            "[0.944304973197204, 0.9668630297231418, 0.9588171097918856, 0.916350967588909, 0.912033714891137, 0.891390462754706, 0.8838486334191509, 0.8076217807425334, 0.7995553024124677, 0.8248005403807332, 0.8135263433356954, 0.8167435189162249, 0.7696934822786812, 0.667504522089349, 0.6707911849062811, 0.5171524963739804, 0.5869042923904169, 0.44409923558399145, 0.4014178474833543, 0.31144373147509885, 0.2808513704769171, 0.36651779343811075, 0.1594359365320892, 0.1958969858422419, 0.2938797084031737, 0.3681392301618449, 0.3612353263740371, 0.28885576257520507, 0.34296769388437, 0.27964510950823507, 0.24415390021201056, 0.3744779850789546, 0.36535994738126076, 0.43197073645687056, 0.4072560066051978, 0.39092990438138675, 0.4026556654936866, 0.4545540797091374, 0.45767391154024173, 0.40445040914150354, 0.44354559928189574, 0.46899343973202745, 0.4407915004424885, 0.46267791578557294, 0.48222653878623567, 0.5141010210373458, 0.5665967580339462, 0.461218478777107, 0.4474380137887539, 0.45966067011506384, 0.44690493583283764, 0.45739493479573823, 0.4531067721380748, 0.4431018474124968, 0.47665255439964604, 0.4300377379375726, 0.4287135748732849, 0.3724659397251737, 0.3812650146753085, 0.4140236085973048, 0.420038672334077, 0.40633869322496685, 0.4030078299505906, 0.455422464251775, 0.48675636480982165, 0.49851954208585436, 0.5448028552223563, 0.5722760011529764, 0.5872231523528237, 0.5804423930191618, 0.5965753495740342, 0.6009614727446659, 0.5791788770366324, 0.5944603069190497, 0.5571629441389296, 0.5699265933515414, 0.5408704547650716, 0.5606810939075324, 0.5555604210410516, 0.592407761636452, 0.6199686917184177, 0.6294203913877676, 0.656740788793114, 0.6271920722321751, 0.6257774524446955, 0.6431013539806107, 0.6320623444158702, 0.6039585471153259, 0.6097084283828735, 0.614708423614502, 0.6189837455749512, 0.6226301193237305, 0.6257688999176025, 0.6285191178321838, 0.6309859752655029, 0.6332555413246155, 0.6353937983512878, 0.6374495029449463, 0.6394569277763367, 0.6414391398429871, 0.6434109210968018]\n",
            "14 day input [0.96686303 0.95881711 0.91635097 0.91203371 0.89139046 0.88384863\n",
            " 0.80762178 0.7995553  0.82480054 0.81352634 0.81674352 0.76969348\n",
            " 0.66750452 0.67079118 0.5171525  0.58690429 0.44409924 0.40141785\n",
            " 0.31144373 0.28085137 0.36651779 0.15943594 0.19589699 0.29387971\n",
            " 0.36813923 0.36123533 0.28885576 0.34296769 0.27964511 0.2441539\n",
            " 0.37447799 0.36535995 0.43197074 0.40725601 0.3909299  0.40265567\n",
            " 0.45455408 0.45767391 0.40445041 0.4435456  0.46899344 0.4407915\n",
            " 0.46267792 0.48222654 0.51410102 0.56659676 0.46121848 0.44743801\n",
            " 0.45966067 0.44690494 0.45739493 0.45310677 0.44310185 0.47665255\n",
            " 0.43003774 0.42871357 0.37246594 0.38126501 0.41402361 0.42003867\n",
            " 0.40633869 0.40300783 0.45542246 0.48675636 0.49851954 0.54480286\n",
            " 0.572276   0.58722315 0.58044239 0.59657535 0.60096147 0.57917888\n",
            " 0.59446031 0.55716294 0.56992659 0.54087045 0.56068109 0.55556042\n",
            " 0.59240776 0.61996869 0.62942039 0.65674079 0.62719207 0.62577745\n",
            " 0.64310135 0.63206234 0.60395855 0.60970843 0.61470842 0.61898375\n",
            " 0.62263012 0.6257689  0.62851912 0.63098598 0.63325554 0.6353938\n",
            " 0.6374495  0.63945693 0.64143914 0.64341092]\n",
            "[[[0.96686303]\n",
            "  [0.95881711]\n",
            "  [0.91635097]\n",
            "  [0.91203371]\n",
            "  [0.89139046]\n",
            "  [0.88384863]\n",
            "  [0.80762178]\n",
            "  [0.7995553 ]\n",
            "  [0.82480054]\n",
            "  [0.81352634]\n",
            "  [0.81674352]\n",
            "  [0.76969348]\n",
            "  [0.66750452]\n",
            "  [0.67079118]\n",
            "  [0.5171525 ]\n",
            "  [0.58690429]\n",
            "  [0.44409924]\n",
            "  [0.40141785]\n",
            "  [0.31144373]\n",
            "  [0.28085137]\n",
            "  [0.36651779]\n",
            "  [0.15943594]\n",
            "  [0.19589699]\n",
            "  [0.29387971]\n",
            "  [0.36813923]\n",
            "  [0.36123533]\n",
            "  [0.28885576]\n",
            "  [0.34296769]\n",
            "  [0.27964511]\n",
            "  [0.2441539 ]\n",
            "  [0.37447799]\n",
            "  [0.36535995]\n",
            "  [0.43197074]\n",
            "  [0.40725601]\n",
            "  [0.3909299 ]\n",
            "  [0.40265567]\n",
            "  [0.45455408]\n",
            "  [0.45767391]\n",
            "  [0.40445041]\n",
            "  [0.4435456 ]\n",
            "  [0.46899344]\n",
            "  [0.4407915 ]\n",
            "  [0.46267792]\n",
            "  [0.48222654]\n",
            "  [0.51410102]\n",
            "  [0.56659676]\n",
            "  [0.46121848]\n",
            "  [0.44743801]\n",
            "  [0.45966067]\n",
            "  [0.44690494]\n",
            "  [0.45739493]\n",
            "  [0.45310677]\n",
            "  [0.44310185]\n",
            "  [0.47665255]\n",
            "  [0.43003774]\n",
            "  [0.42871357]\n",
            "  [0.37246594]\n",
            "  [0.38126501]\n",
            "  [0.41402361]\n",
            "  [0.42003867]\n",
            "  [0.40633869]\n",
            "  [0.40300783]\n",
            "  [0.45542246]\n",
            "  [0.48675636]\n",
            "  [0.49851954]\n",
            "  [0.54480286]\n",
            "  [0.572276  ]\n",
            "  [0.58722315]\n",
            "  [0.58044239]\n",
            "  [0.59657535]\n",
            "  [0.60096147]\n",
            "  [0.57917888]\n",
            "  [0.59446031]\n",
            "  [0.55716294]\n",
            "  [0.56992659]\n",
            "  [0.54087045]\n",
            "  [0.56068109]\n",
            "  [0.55556042]\n",
            "  [0.59240776]\n",
            "  [0.61996869]\n",
            "  [0.62942039]\n",
            "  [0.65674079]\n",
            "  [0.62719207]\n",
            "  [0.62577745]\n",
            "  [0.64310135]\n",
            "  [0.63206234]\n",
            "  [0.60395855]\n",
            "  [0.60970843]\n",
            "  [0.61470842]\n",
            "  [0.61898375]\n",
            "  [0.62263012]\n",
            "  [0.6257689 ]\n",
            "  [0.62851912]\n",
            "  [0.63098598]\n",
            "  [0.63325554]\n",
            "  [0.6353938 ]\n",
            "  [0.6374495 ]\n",
            "  [0.63945693]\n",
            "  [0.64143914]\n",
            "  [0.64341092]]]\n",
            "14 day output [[0.6453808]]\n",
            "[0.9668630297231418, 0.9588171097918856, 0.916350967588909, 0.912033714891137, 0.891390462754706, 0.8838486334191509, 0.8076217807425334, 0.7995553024124677, 0.8248005403807332, 0.8135263433356954, 0.8167435189162249, 0.7696934822786812, 0.667504522089349, 0.6707911849062811, 0.5171524963739804, 0.5869042923904169, 0.44409923558399145, 0.4014178474833543, 0.31144373147509885, 0.2808513704769171, 0.36651779343811075, 0.1594359365320892, 0.1958969858422419, 0.2938797084031737, 0.3681392301618449, 0.3612353263740371, 0.28885576257520507, 0.34296769388437, 0.27964510950823507, 0.24415390021201056, 0.3744779850789546, 0.36535994738126076, 0.43197073645687056, 0.4072560066051978, 0.39092990438138675, 0.4026556654936866, 0.4545540797091374, 0.45767391154024173, 0.40445040914150354, 0.44354559928189574, 0.46899343973202745, 0.4407915004424885, 0.46267791578557294, 0.48222653878623567, 0.5141010210373458, 0.5665967580339462, 0.461218478777107, 0.4474380137887539, 0.45966067011506384, 0.44690493583283764, 0.45739493479573823, 0.4531067721380748, 0.4431018474124968, 0.47665255439964604, 0.4300377379375726, 0.4287135748732849, 0.3724659397251737, 0.3812650146753085, 0.4140236085973048, 0.420038672334077, 0.40633869322496685, 0.4030078299505906, 0.455422464251775, 0.48675636480982165, 0.49851954208585436, 0.5448028552223563, 0.5722760011529764, 0.5872231523528237, 0.5804423930191618, 0.5965753495740342, 0.6009614727446659, 0.5791788770366324, 0.5944603069190497, 0.5571629441389296, 0.5699265933515414, 0.5408704547650716, 0.5606810939075324, 0.5555604210410516, 0.592407761636452, 0.6199686917184177, 0.6294203913877676, 0.656740788793114, 0.6271920722321751, 0.6257774524446955, 0.6431013539806107, 0.6320623444158702, 0.6039585471153259, 0.6097084283828735, 0.614708423614502, 0.6189837455749512, 0.6226301193237305, 0.6257688999176025, 0.6285191178321838, 0.6309859752655029, 0.6332555413246155, 0.6353937983512878, 0.6374495029449463, 0.6394569277763367, 0.6414391398429871, 0.6434109210968018, 0.6453807950019836]\n",
            "[0.9668630297231418, 0.9588171097918856, 0.916350967588909, 0.912033714891137, 0.891390462754706, 0.8838486334191509, 0.8076217807425334, 0.7995553024124677, 0.8248005403807332, 0.8135263433356954, 0.8167435189162249, 0.7696934822786812, 0.667504522089349, 0.6707911849062811, 0.5171524963739804, 0.5869042923904169, 0.44409923558399145, 0.4014178474833543, 0.31144373147509885, 0.2808513704769171, 0.36651779343811075, 0.1594359365320892, 0.1958969858422419, 0.2938797084031737, 0.3681392301618449, 0.3612353263740371, 0.28885576257520507, 0.34296769388437, 0.27964510950823507, 0.24415390021201056, 0.3744779850789546, 0.36535994738126076, 0.43197073645687056, 0.4072560066051978, 0.39092990438138675, 0.4026556654936866, 0.4545540797091374, 0.45767391154024173, 0.40445040914150354, 0.44354559928189574, 0.46899343973202745, 0.4407915004424885, 0.46267791578557294, 0.48222653878623567, 0.5141010210373458, 0.5665967580339462, 0.461218478777107, 0.4474380137887539, 0.45966067011506384, 0.44690493583283764, 0.45739493479573823, 0.4531067721380748, 0.4431018474124968, 0.47665255439964604, 0.4300377379375726, 0.4287135748732849, 0.3724659397251737, 0.3812650146753085, 0.4140236085973048, 0.420038672334077, 0.40633869322496685, 0.4030078299505906, 0.455422464251775, 0.48675636480982165, 0.49851954208585436, 0.5448028552223563, 0.5722760011529764, 0.5872231523528237, 0.5804423930191618, 0.5965753495740342, 0.6009614727446659, 0.5791788770366324, 0.5944603069190497, 0.5571629441389296, 0.5699265933515414, 0.5408704547650716, 0.5606810939075324, 0.5555604210410516, 0.592407761636452, 0.6199686917184177, 0.6294203913877676, 0.656740788793114, 0.6271920722321751, 0.6257774524446955, 0.6431013539806107, 0.6320623444158702, 0.6039585471153259, 0.6097084283828735, 0.614708423614502, 0.6189837455749512, 0.6226301193237305, 0.6257688999176025, 0.6285191178321838, 0.6309859752655029, 0.6332555413246155, 0.6353937983512878, 0.6374495029449463, 0.6394569277763367, 0.6414391398429871, 0.6434109210968018, 0.6453807950019836]\n",
            "15 day input [0.95881711 0.91635097 0.91203371 0.89139046 0.88384863 0.80762178\n",
            " 0.7995553  0.82480054 0.81352634 0.81674352 0.76969348 0.66750452\n",
            " 0.67079118 0.5171525  0.58690429 0.44409924 0.40141785 0.31144373\n",
            " 0.28085137 0.36651779 0.15943594 0.19589699 0.29387971 0.36813923\n",
            " 0.36123533 0.28885576 0.34296769 0.27964511 0.2441539  0.37447799\n",
            " 0.36535995 0.43197074 0.40725601 0.3909299  0.40265567 0.45455408\n",
            " 0.45767391 0.40445041 0.4435456  0.46899344 0.4407915  0.46267792\n",
            " 0.48222654 0.51410102 0.56659676 0.46121848 0.44743801 0.45966067\n",
            " 0.44690494 0.45739493 0.45310677 0.44310185 0.47665255 0.43003774\n",
            " 0.42871357 0.37246594 0.38126501 0.41402361 0.42003867 0.40633869\n",
            " 0.40300783 0.45542246 0.48675636 0.49851954 0.54480286 0.572276\n",
            " 0.58722315 0.58044239 0.59657535 0.60096147 0.57917888 0.59446031\n",
            " 0.55716294 0.56992659 0.54087045 0.56068109 0.55556042 0.59240776\n",
            " 0.61996869 0.62942039 0.65674079 0.62719207 0.62577745 0.64310135\n",
            " 0.63206234 0.60395855 0.60970843 0.61470842 0.61898375 0.62263012\n",
            " 0.6257689  0.62851912 0.63098598 0.63325554 0.6353938  0.6374495\n",
            " 0.63945693 0.64143914 0.64341092 0.6453808 ]\n",
            "[[[0.95881711]\n",
            "  [0.91635097]\n",
            "  [0.91203371]\n",
            "  [0.89139046]\n",
            "  [0.88384863]\n",
            "  [0.80762178]\n",
            "  [0.7995553 ]\n",
            "  [0.82480054]\n",
            "  [0.81352634]\n",
            "  [0.81674352]\n",
            "  [0.76969348]\n",
            "  [0.66750452]\n",
            "  [0.67079118]\n",
            "  [0.5171525 ]\n",
            "  [0.58690429]\n",
            "  [0.44409924]\n",
            "  [0.40141785]\n",
            "  [0.31144373]\n",
            "  [0.28085137]\n",
            "  [0.36651779]\n",
            "  [0.15943594]\n",
            "  [0.19589699]\n",
            "  [0.29387971]\n",
            "  [0.36813923]\n",
            "  [0.36123533]\n",
            "  [0.28885576]\n",
            "  [0.34296769]\n",
            "  [0.27964511]\n",
            "  [0.2441539 ]\n",
            "  [0.37447799]\n",
            "  [0.36535995]\n",
            "  [0.43197074]\n",
            "  [0.40725601]\n",
            "  [0.3909299 ]\n",
            "  [0.40265567]\n",
            "  [0.45455408]\n",
            "  [0.45767391]\n",
            "  [0.40445041]\n",
            "  [0.4435456 ]\n",
            "  [0.46899344]\n",
            "  [0.4407915 ]\n",
            "  [0.46267792]\n",
            "  [0.48222654]\n",
            "  [0.51410102]\n",
            "  [0.56659676]\n",
            "  [0.46121848]\n",
            "  [0.44743801]\n",
            "  [0.45966067]\n",
            "  [0.44690494]\n",
            "  [0.45739493]\n",
            "  [0.45310677]\n",
            "  [0.44310185]\n",
            "  [0.47665255]\n",
            "  [0.43003774]\n",
            "  [0.42871357]\n",
            "  [0.37246594]\n",
            "  [0.38126501]\n",
            "  [0.41402361]\n",
            "  [0.42003867]\n",
            "  [0.40633869]\n",
            "  [0.40300783]\n",
            "  [0.45542246]\n",
            "  [0.48675636]\n",
            "  [0.49851954]\n",
            "  [0.54480286]\n",
            "  [0.572276  ]\n",
            "  [0.58722315]\n",
            "  [0.58044239]\n",
            "  [0.59657535]\n",
            "  [0.60096147]\n",
            "  [0.57917888]\n",
            "  [0.59446031]\n",
            "  [0.55716294]\n",
            "  [0.56992659]\n",
            "  [0.54087045]\n",
            "  [0.56068109]\n",
            "  [0.55556042]\n",
            "  [0.59240776]\n",
            "  [0.61996869]\n",
            "  [0.62942039]\n",
            "  [0.65674079]\n",
            "  [0.62719207]\n",
            "  [0.62577745]\n",
            "  [0.64310135]\n",
            "  [0.63206234]\n",
            "  [0.60395855]\n",
            "  [0.60970843]\n",
            "  [0.61470842]\n",
            "  [0.61898375]\n",
            "  [0.62263012]\n",
            "  [0.6257689 ]\n",
            "  [0.62851912]\n",
            "  [0.63098598]\n",
            "  [0.63325554]\n",
            "  [0.6353938 ]\n",
            "  [0.6374495 ]\n",
            "  [0.63945693]\n",
            "  [0.64143914]\n",
            "  [0.64341092]\n",
            "  [0.6453808 ]]]\n",
            "15 day output [[0.64735365]]\n",
            "[0.9588171097918856, 0.916350967588909, 0.912033714891137, 0.891390462754706, 0.8838486334191509, 0.8076217807425334, 0.7995553024124677, 0.8248005403807332, 0.8135263433356954, 0.8167435189162249, 0.7696934822786812, 0.667504522089349, 0.6707911849062811, 0.5171524963739804, 0.5869042923904169, 0.44409923558399145, 0.4014178474833543, 0.31144373147509885, 0.2808513704769171, 0.36651779343811075, 0.1594359365320892, 0.1958969858422419, 0.2938797084031737, 0.3681392301618449, 0.3612353263740371, 0.28885576257520507, 0.34296769388437, 0.27964510950823507, 0.24415390021201056, 0.3744779850789546, 0.36535994738126076, 0.43197073645687056, 0.4072560066051978, 0.39092990438138675, 0.4026556654936866, 0.4545540797091374, 0.45767391154024173, 0.40445040914150354, 0.44354559928189574, 0.46899343973202745, 0.4407915004424885, 0.46267791578557294, 0.48222653878623567, 0.5141010210373458, 0.5665967580339462, 0.461218478777107, 0.4474380137887539, 0.45966067011506384, 0.44690493583283764, 0.45739493479573823, 0.4531067721380748, 0.4431018474124968, 0.47665255439964604, 0.4300377379375726, 0.4287135748732849, 0.3724659397251737, 0.3812650146753085, 0.4140236085973048, 0.420038672334077, 0.40633869322496685, 0.4030078299505906, 0.455422464251775, 0.48675636480982165, 0.49851954208585436, 0.5448028552223563, 0.5722760011529764, 0.5872231523528237, 0.5804423930191618, 0.5965753495740342, 0.6009614727446659, 0.5791788770366324, 0.5944603069190497, 0.5571629441389296, 0.5699265933515414, 0.5408704547650716, 0.5606810939075324, 0.5555604210410516, 0.592407761636452, 0.6199686917184177, 0.6294203913877676, 0.656740788793114, 0.6271920722321751, 0.6257774524446955, 0.6431013539806107, 0.6320623444158702, 0.6039585471153259, 0.6097084283828735, 0.614708423614502, 0.6189837455749512, 0.6226301193237305, 0.6257688999176025, 0.6285191178321838, 0.6309859752655029, 0.6332555413246155, 0.6353937983512878, 0.6374495029449463, 0.6394569277763367, 0.6414391398429871, 0.6434109210968018, 0.6453807950019836, 0.6473536491394043]\n",
            "[0.9588171097918856, 0.916350967588909, 0.912033714891137, 0.891390462754706, 0.8838486334191509, 0.8076217807425334, 0.7995553024124677, 0.8248005403807332, 0.8135263433356954, 0.8167435189162249, 0.7696934822786812, 0.667504522089349, 0.6707911849062811, 0.5171524963739804, 0.5869042923904169, 0.44409923558399145, 0.4014178474833543, 0.31144373147509885, 0.2808513704769171, 0.36651779343811075, 0.1594359365320892, 0.1958969858422419, 0.2938797084031737, 0.3681392301618449, 0.3612353263740371, 0.28885576257520507, 0.34296769388437, 0.27964510950823507, 0.24415390021201056, 0.3744779850789546, 0.36535994738126076, 0.43197073645687056, 0.4072560066051978, 0.39092990438138675, 0.4026556654936866, 0.4545540797091374, 0.45767391154024173, 0.40445040914150354, 0.44354559928189574, 0.46899343973202745, 0.4407915004424885, 0.46267791578557294, 0.48222653878623567, 0.5141010210373458, 0.5665967580339462, 0.461218478777107, 0.4474380137887539, 0.45966067011506384, 0.44690493583283764, 0.45739493479573823, 0.4531067721380748, 0.4431018474124968, 0.47665255439964604, 0.4300377379375726, 0.4287135748732849, 0.3724659397251737, 0.3812650146753085, 0.4140236085973048, 0.420038672334077, 0.40633869322496685, 0.4030078299505906, 0.455422464251775, 0.48675636480982165, 0.49851954208585436, 0.5448028552223563, 0.5722760011529764, 0.5872231523528237, 0.5804423930191618, 0.5965753495740342, 0.6009614727446659, 0.5791788770366324, 0.5944603069190497, 0.5571629441389296, 0.5699265933515414, 0.5408704547650716, 0.5606810939075324, 0.5555604210410516, 0.592407761636452, 0.6199686917184177, 0.6294203913877676, 0.656740788793114, 0.6271920722321751, 0.6257774524446955, 0.6431013539806107, 0.6320623444158702, 0.6039585471153259, 0.6097084283828735, 0.614708423614502, 0.6189837455749512, 0.6226301193237305, 0.6257688999176025, 0.6285191178321838, 0.6309859752655029, 0.6332555413246155, 0.6353937983512878, 0.6374495029449463, 0.6394569277763367, 0.6414391398429871, 0.6434109210968018, 0.6453807950019836, 0.6473536491394043]\n",
            "16 day input [0.91635097 0.91203371 0.89139046 0.88384863 0.80762178 0.7995553\n",
            " 0.82480054 0.81352634 0.81674352 0.76969348 0.66750452 0.67079118\n",
            " 0.5171525  0.58690429 0.44409924 0.40141785 0.31144373 0.28085137\n",
            " 0.36651779 0.15943594 0.19589699 0.29387971 0.36813923 0.36123533\n",
            " 0.28885576 0.34296769 0.27964511 0.2441539  0.37447799 0.36535995\n",
            " 0.43197074 0.40725601 0.3909299  0.40265567 0.45455408 0.45767391\n",
            " 0.40445041 0.4435456  0.46899344 0.4407915  0.46267792 0.48222654\n",
            " 0.51410102 0.56659676 0.46121848 0.44743801 0.45966067 0.44690494\n",
            " 0.45739493 0.45310677 0.44310185 0.47665255 0.43003774 0.42871357\n",
            " 0.37246594 0.38126501 0.41402361 0.42003867 0.40633869 0.40300783\n",
            " 0.45542246 0.48675636 0.49851954 0.54480286 0.572276   0.58722315\n",
            " 0.58044239 0.59657535 0.60096147 0.57917888 0.59446031 0.55716294\n",
            " 0.56992659 0.54087045 0.56068109 0.55556042 0.59240776 0.61996869\n",
            " 0.62942039 0.65674079 0.62719207 0.62577745 0.64310135 0.63206234\n",
            " 0.60395855 0.60970843 0.61470842 0.61898375 0.62263012 0.6257689\n",
            " 0.62851912 0.63098598 0.63325554 0.6353938  0.6374495  0.63945693\n",
            " 0.64143914 0.64341092 0.6453808  0.64735365]\n",
            "[[[0.91635097]\n",
            "  [0.91203371]\n",
            "  [0.89139046]\n",
            "  [0.88384863]\n",
            "  [0.80762178]\n",
            "  [0.7995553 ]\n",
            "  [0.82480054]\n",
            "  [0.81352634]\n",
            "  [0.81674352]\n",
            "  [0.76969348]\n",
            "  [0.66750452]\n",
            "  [0.67079118]\n",
            "  [0.5171525 ]\n",
            "  [0.58690429]\n",
            "  [0.44409924]\n",
            "  [0.40141785]\n",
            "  [0.31144373]\n",
            "  [0.28085137]\n",
            "  [0.36651779]\n",
            "  [0.15943594]\n",
            "  [0.19589699]\n",
            "  [0.29387971]\n",
            "  [0.36813923]\n",
            "  [0.36123533]\n",
            "  [0.28885576]\n",
            "  [0.34296769]\n",
            "  [0.27964511]\n",
            "  [0.2441539 ]\n",
            "  [0.37447799]\n",
            "  [0.36535995]\n",
            "  [0.43197074]\n",
            "  [0.40725601]\n",
            "  [0.3909299 ]\n",
            "  [0.40265567]\n",
            "  [0.45455408]\n",
            "  [0.45767391]\n",
            "  [0.40445041]\n",
            "  [0.4435456 ]\n",
            "  [0.46899344]\n",
            "  [0.4407915 ]\n",
            "  [0.46267792]\n",
            "  [0.48222654]\n",
            "  [0.51410102]\n",
            "  [0.56659676]\n",
            "  [0.46121848]\n",
            "  [0.44743801]\n",
            "  [0.45966067]\n",
            "  [0.44690494]\n",
            "  [0.45739493]\n",
            "  [0.45310677]\n",
            "  [0.44310185]\n",
            "  [0.47665255]\n",
            "  [0.43003774]\n",
            "  [0.42871357]\n",
            "  [0.37246594]\n",
            "  [0.38126501]\n",
            "  [0.41402361]\n",
            "  [0.42003867]\n",
            "  [0.40633869]\n",
            "  [0.40300783]\n",
            "  [0.45542246]\n",
            "  [0.48675636]\n",
            "  [0.49851954]\n",
            "  [0.54480286]\n",
            "  [0.572276  ]\n",
            "  [0.58722315]\n",
            "  [0.58044239]\n",
            "  [0.59657535]\n",
            "  [0.60096147]\n",
            "  [0.57917888]\n",
            "  [0.59446031]\n",
            "  [0.55716294]\n",
            "  [0.56992659]\n",
            "  [0.54087045]\n",
            "  [0.56068109]\n",
            "  [0.55556042]\n",
            "  [0.59240776]\n",
            "  [0.61996869]\n",
            "  [0.62942039]\n",
            "  [0.65674079]\n",
            "  [0.62719207]\n",
            "  [0.62577745]\n",
            "  [0.64310135]\n",
            "  [0.63206234]\n",
            "  [0.60395855]\n",
            "  [0.60970843]\n",
            "  [0.61470842]\n",
            "  [0.61898375]\n",
            "  [0.62263012]\n",
            "  [0.6257689 ]\n",
            "  [0.62851912]\n",
            "  [0.63098598]\n",
            "  [0.63325554]\n",
            "  [0.6353938 ]\n",
            "  [0.6374495 ]\n",
            "  [0.63945693]\n",
            "  [0.64143914]\n",
            "  [0.64341092]\n",
            "  [0.6453808 ]\n",
            "  [0.64735365]]]\n",
            "16 day output [[0.6493313]]\n",
            "[0.916350967588909, 0.912033714891137, 0.891390462754706, 0.8838486334191509, 0.8076217807425334, 0.7995553024124677, 0.8248005403807332, 0.8135263433356954, 0.8167435189162249, 0.7696934822786812, 0.667504522089349, 0.6707911849062811, 0.5171524963739804, 0.5869042923904169, 0.44409923558399145, 0.4014178474833543, 0.31144373147509885, 0.2808513704769171, 0.36651779343811075, 0.1594359365320892, 0.1958969858422419, 0.2938797084031737, 0.3681392301618449, 0.3612353263740371, 0.28885576257520507, 0.34296769388437, 0.27964510950823507, 0.24415390021201056, 0.3744779850789546, 0.36535994738126076, 0.43197073645687056, 0.4072560066051978, 0.39092990438138675, 0.4026556654936866, 0.4545540797091374, 0.45767391154024173, 0.40445040914150354, 0.44354559928189574, 0.46899343973202745, 0.4407915004424885, 0.46267791578557294, 0.48222653878623567, 0.5141010210373458, 0.5665967580339462, 0.461218478777107, 0.4474380137887539, 0.45966067011506384, 0.44690493583283764, 0.45739493479573823, 0.4531067721380748, 0.4431018474124968, 0.47665255439964604, 0.4300377379375726, 0.4287135748732849, 0.3724659397251737, 0.3812650146753085, 0.4140236085973048, 0.420038672334077, 0.40633869322496685, 0.4030078299505906, 0.455422464251775, 0.48675636480982165, 0.49851954208585436, 0.5448028552223563, 0.5722760011529764, 0.5872231523528237, 0.5804423930191618, 0.5965753495740342, 0.6009614727446659, 0.5791788770366324, 0.5944603069190497, 0.5571629441389296, 0.5699265933515414, 0.5408704547650716, 0.5606810939075324, 0.5555604210410516, 0.592407761636452, 0.6199686917184177, 0.6294203913877676, 0.656740788793114, 0.6271920722321751, 0.6257774524446955, 0.6431013539806107, 0.6320623444158702, 0.6039585471153259, 0.6097084283828735, 0.614708423614502, 0.6189837455749512, 0.6226301193237305, 0.6257688999176025, 0.6285191178321838, 0.6309859752655029, 0.6332555413246155, 0.6353937983512878, 0.6374495029449463, 0.6394569277763367, 0.6414391398429871, 0.6434109210968018, 0.6453807950019836, 0.6473536491394043, 0.649331271648407]\n",
            "[0.916350967588909, 0.912033714891137, 0.891390462754706, 0.8838486334191509, 0.8076217807425334, 0.7995553024124677, 0.8248005403807332, 0.8135263433356954, 0.8167435189162249, 0.7696934822786812, 0.667504522089349, 0.6707911849062811, 0.5171524963739804, 0.5869042923904169, 0.44409923558399145, 0.4014178474833543, 0.31144373147509885, 0.2808513704769171, 0.36651779343811075, 0.1594359365320892, 0.1958969858422419, 0.2938797084031737, 0.3681392301618449, 0.3612353263740371, 0.28885576257520507, 0.34296769388437, 0.27964510950823507, 0.24415390021201056, 0.3744779850789546, 0.36535994738126076, 0.43197073645687056, 0.4072560066051978, 0.39092990438138675, 0.4026556654936866, 0.4545540797091374, 0.45767391154024173, 0.40445040914150354, 0.44354559928189574, 0.46899343973202745, 0.4407915004424885, 0.46267791578557294, 0.48222653878623567, 0.5141010210373458, 0.5665967580339462, 0.461218478777107, 0.4474380137887539, 0.45966067011506384, 0.44690493583283764, 0.45739493479573823, 0.4531067721380748, 0.4431018474124968, 0.47665255439964604, 0.4300377379375726, 0.4287135748732849, 0.3724659397251737, 0.3812650146753085, 0.4140236085973048, 0.420038672334077, 0.40633869322496685, 0.4030078299505906, 0.455422464251775, 0.48675636480982165, 0.49851954208585436, 0.5448028552223563, 0.5722760011529764, 0.5872231523528237, 0.5804423930191618, 0.5965753495740342, 0.6009614727446659, 0.5791788770366324, 0.5944603069190497, 0.5571629441389296, 0.5699265933515414, 0.5408704547650716, 0.5606810939075324, 0.5555604210410516, 0.592407761636452, 0.6199686917184177, 0.6294203913877676, 0.656740788793114, 0.6271920722321751, 0.6257774524446955, 0.6431013539806107, 0.6320623444158702, 0.6039585471153259, 0.6097084283828735, 0.614708423614502, 0.6189837455749512, 0.6226301193237305, 0.6257688999176025, 0.6285191178321838, 0.6309859752655029, 0.6332555413246155, 0.6353937983512878, 0.6374495029449463, 0.6394569277763367, 0.6414391398429871, 0.6434109210968018, 0.6453807950019836, 0.6473536491394043, 0.649331271648407]\n",
            "17 day input [0.91203371 0.89139046 0.88384863 0.80762178 0.7995553  0.82480054\n",
            " 0.81352634 0.81674352 0.76969348 0.66750452 0.67079118 0.5171525\n",
            " 0.58690429 0.44409924 0.40141785 0.31144373 0.28085137 0.36651779\n",
            " 0.15943594 0.19589699 0.29387971 0.36813923 0.36123533 0.28885576\n",
            " 0.34296769 0.27964511 0.2441539  0.37447799 0.36535995 0.43197074\n",
            " 0.40725601 0.3909299  0.40265567 0.45455408 0.45767391 0.40445041\n",
            " 0.4435456  0.46899344 0.4407915  0.46267792 0.48222654 0.51410102\n",
            " 0.56659676 0.46121848 0.44743801 0.45966067 0.44690494 0.45739493\n",
            " 0.45310677 0.44310185 0.47665255 0.43003774 0.42871357 0.37246594\n",
            " 0.38126501 0.41402361 0.42003867 0.40633869 0.40300783 0.45542246\n",
            " 0.48675636 0.49851954 0.54480286 0.572276   0.58722315 0.58044239\n",
            " 0.59657535 0.60096147 0.57917888 0.59446031 0.55716294 0.56992659\n",
            " 0.54087045 0.56068109 0.55556042 0.59240776 0.61996869 0.62942039\n",
            " 0.65674079 0.62719207 0.62577745 0.64310135 0.63206234 0.60395855\n",
            " 0.60970843 0.61470842 0.61898375 0.62263012 0.6257689  0.62851912\n",
            " 0.63098598 0.63325554 0.6353938  0.6374495  0.63945693 0.64143914\n",
            " 0.64341092 0.6453808  0.64735365 0.64933127]\n",
            "[[[0.91203371]\n",
            "  [0.89139046]\n",
            "  [0.88384863]\n",
            "  [0.80762178]\n",
            "  [0.7995553 ]\n",
            "  [0.82480054]\n",
            "  [0.81352634]\n",
            "  [0.81674352]\n",
            "  [0.76969348]\n",
            "  [0.66750452]\n",
            "  [0.67079118]\n",
            "  [0.5171525 ]\n",
            "  [0.58690429]\n",
            "  [0.44409924]\n",
            "  [0.40141785]\n",
            "  [0.31144373]\n",
            "  [0.28085137]\n",
            "  [0.36651779]\n",
            "  [0.15943594]\n",
            "  [0.19589699]\n",
            "  [0.29387971]\n",
            "  [0.36813923]\n",
            "  [0.36123533]\n",
            "  [0.28885576]\n",
            "  [0.34296769]\n",
            "  [0.27964511]\n",
            "  [0.2441539 ]\n",
            "  [0.37447799]\n",
            "  [0.36535995]\n",
            "  [0.43197074]\n",
            "  [0.40725601]\n",
            "  [0.3909299 ]\n",
            "  [0.40265567]\n",
            "  [0.45455408]\n",
            "  [0.45767391]\n",
            "  [0.40445041]\n",
            "  [0.4435456 ]\n",
            "  [0.46899344]\n",
            "  [0.4407915 ]\n",
            "  [0.46267792]\n",
            "  [0.48222654]\n",
            "  [0.51410102]\n",
            "  [0.56659676]\n",
            "  [0.46121848]\n",
            "  [0.44743801]\n",
            "  [0.45966067]\n",
            "  [0.44690494]\n",
            "  [0.45739493]\n",
            "  [0.45310677]\n",
            "  [0.44310185]\n",
            "  [0.47665255]\n",
            "  [0.43003774]\n",
            "  [0.42871357]\n",
            "  [0.37246594]\n",
            "  [0.38126501]\n",
            "  [0.41402361]\n",
            "  [0.42003867]\n",
            "  [0.40633869]\n",
            "  [0.40300783]\n",
            "  [0.45542246]\n",
            "  [0.48675636]\n",
            "  [0.49851954]\n",
            "  [0.54480286]\n",
            "  [0.572276  ]\n",
            "  [0.58722315]\n",
            "  [0.58044239]\n",
            "  [0.59657535]\n",
            "  [0.60096147]\n",
            "  [0.57917888]\n",
            "  [0.59446031]\n",
            "  [0.55716294]\n",
            "  [0.56992659]\n",
            "  [0.54087045]\n",
            "  [0.56068109]\n",
            "  [0.55556042]\n",
            "  [0.59240776]\n",
            "  [0.61996869]\n",
            "  [0.62942039]\n",
            "  [0.65674079]\n",
            "  [0.62719207]\n",
            "  [0.62577745]\n",
            "  [0.64310135]\n",
            "  [0.63206234]\n",
            "  [0.60395855]\n",
            "  [0.60970843]\n",
            "  [0.61470842]\n",
            "  [0.61898375]\n",
            "  [0.62263012]\n",
            "  [0.6257689 ]\n",
            "  [0.62851912]\n",
            "  [0.63098598]\n",
            "  [0.63325554]\n",
            "  [0.6353938 ]\n",
            "  [0.6374495 ]\n",
            "  [0.63945693]\n",
            "  [0.64143914]\n",
            "  [0.64341092]\n",
            "  [0.6453808 ]\n",
            "  [0.64735365]\n",
            "  [0.64933127]]]\n",
            "17 day output [[0.65131456]]\n",
            "[0.912033714891137, 0.891390462754706, 0.8838486334191509, 0.8076217807425334, 0.7995553024124677, 0.8248005403807332, 0.8135263433356954, 0.8167435189162249, 0.7696934822786812, 0.667504522089349, 0.6707911849062811, 0.5171524963739804, 0.5869042923904169, 0.44409923558399145, 0.4014178474833543, 0.31144373147509885, 0.2808513704769171, 0.36651779343811075, 0.1594359365320892, 0.1958969858422419, 0.2938797084031737, 0.3681392301618449, 0.3612353263740371, 0.28885576257520507, 0.34296769388437, 0.27964510950823507, 0.24415390021201056, 0.3744779850789546, 0.36535994738126076, 0.43197073645687056, 0.4072560066051978, 0.39092990438138675, 0.4026556654936866, 0.4545540797091374, 0.45767391154024173, 0.40445040914150354, 0.44354559928189574, 0.46899343973202745, 0.4407915004424885, 0.46267791578557294, 0.48222653878623567, 0.5141010210373458, 0.5665967580339462, 0.461218478777107, 0.4474380137887539, 0.45966067011506384, 0.44690493583283764, 0.45739493479573823, 0.4531067721380748, 0.4431018474124968, 0.47665255439964604, 0.4300377379375726, 0.4287135748732849, 0.3724659397251737, 0.3812650146753085, 0.4140236085973048, 0.420038672334077, 0.40633869322496685, 0.4030078299505906, 0.455422464251775, 0.48675636480982165, 0.49851954208585436, 0.5448028552223563, 0.5722760011529764, 0.5872231523528237, 0.5804423930191618, 0.5965753495740342, 0.6009614727446659, 0.5791788770366324, 0.5944603069190497, 0.5571629441389296, 0.5699265933515414, 0.5408704547650716, 0.5606810939075324, 0.5555604210410516, 0.592407761636452, 0.6199686917184177, 0.6294203913877676, 0.656740788793114, 0.6271920722321751, 0.6257774524446955, 0.6431013539806107, 0.6320623444158702, 0.6039585471153259, 0.6097084283828735, 0.614708423614502, 0.6189837455749512, 0.6226301193237305, 0.6257688999176025, 0.6285191178321838, 0.6309859752655029, 0.6332555413246155, 0.6353937983512878, 0.6374495029449463, 0.6394569277763367, 0.6414391398429871, 0.6434109210968018, 0.6453807950019836, 0.6473536491394043, 0.649331271648407, 0.6513145565986633]\n",
            "[0.912033714891137, 0.891390462754706, 0.8838486334191509, 0.8076217807425334, 0.7995553024124677, 0.8248005403807332, 0.8135263433356954, 0.8167435189162249, 0.7696934822786812, 0.667504522089349, 0.6707911849062811, 0.5171524963739804, 0.5869042923904169, 0.44409923558399145, 0.4014178474833543, 0.31144373147509885, 0.2808513704769171, 0.36651779343811075, 0.1594359365320892, 0.1958969858422419, 0.2938797084031737, 0.3681392301618449, 0.3612353263740371, 0.28885576257520507, 0.34296769388437, 0.27964510950823507, 0.24415390021201056, 0.3744779850789546, 0.36535994738126076, 0.43197073645687056, 0.4072560066051978, 0.39092990438138675, 0.4026556654936866, 0.4545540797091374, 0.45767391154024173, 0.40445040914150354, 0.44354559928189574, 0.46899343973202745, 0.4407915004424885, 0.46267791578557294, 0.48222653878623567, 0.5141010210373458, 0.5665967580339462, 0.461218478777107, 0.4474380137887539, 0.45966067011506384, 0.44690493583283764, 0.45739493479573823, 0.4531067721380748, 0.4431018474124968, 0.47665255439964604, 0.4300377379375726, 0.4287135748732849, 0.3724659397251737, 0.3812650146753085, 0.4140236085973048, 0.420038672334077, 0.40633869322496685, 0.4030078299505906, 0.455422464251775, 0.48675636480982165, 0.49851954208585436, 0.5448028552223563, 0.5722760011529764, 0.5872231523528237, 0.5804423930191618, 0.5965753495740342, 0.6009614727446659, 0.5791788770366324, 0.5944603069190497, 0.5571629441389296, 0.5699265933515414, 0.5408704547650716, 0.5606810939075324, 0.5555604210410516, 0.592407761636452, 0.6199686917184177, 0.6294203913877676, 0.656740788793114, 0.6271920722321751, 0.6257774524446955, 0.6431013539806107, 0.6320623444158702, 0.6039585471153259, 0.6097084283828735, 0.614708423614502, 0.6189837455749512, 0.6226301193237305, 0.6257688999176025, 0.6285191178321838, 0.6309859752655029, 0.6332555413246155, 0.6353937983512878, 0.6374495029449463, 0.6394569277763367, 0.6414391398429871, 0.6434109210968018, 0.6453807950019836, 0.6473536491394043, 0.649331271648407, 0.6513145565986633]\n",
            "18 day input [0.89139046 0.88384863 0.80762178 0.7995553  0.82480054 0.81352634\n",
            " 0.81674352 0.76969348 0.66750452 0.67079118 0.5171525  0.58690429\n",
            " 0.44409924 0.40141785 0.31144373 0.28085137 0.36651779 0.15943594\n",
            " 0.19589699 0.29387971 0.36813923 0.36123533 0.28885576 0.34296769\n",
            " 0.27964511 0.2441539  0.37447799 0.36535995 0.43197074 0.40725601\n",
            " 0.3909299  0.40265567 0.45455408 0.45767391 0.40445041 0.4435456\n",
            " 0.46899344 0.4407915  0.46267792 0.48222654 0.51410102 0.56659676\n",
            " 0.46121848 0.44743801 0.45966067 0.44690494 0.45739493 0.45310677\n",
            " 0.44310185 0.47665255 0.43003774 0.42871357 0.37246594 0.38126501\n",
            " 0.41402361 0.42003867 0.40633869 0.40300783 0.45542246 0.48675636\n",
            " 0.49851954 0.54480286 0.572276   0.58722315 0.58044239 0.59657535\n",
            " 0.60096147 0.57917888 0.59446031 0.55716294 0.56992659 0.54087045\n",
            " 0.56068109 0.55556042 0.59240776 0.61996869 0.62942039 0.65674079\n",
            " 0.62719207 0.62577745 0.64310135 0.63206234 0.60395855 0.60970843\n",
            " 0.61470842 0.61898375 0.62263012 0.6257689  0.62851912 0.63098598\n",
            " 0.63325554 0.6353938  0.6374495  0.63945693 0.64143914 0.64341092\n",
            " 0.6453808  0.64735365 0.64933127 0.65131456]\n",
            "[[[0.89139046]\n",
            "  [0.88384863]\n",
            "  [0.80762178]\n",
            "  [0.7995553 ]\n",
            "  [0.82480054]\n",
            "  [0.81352634]\n",
            "  [0.81674352]\n",
            "  [0.76969348]\n",
            "  [0.66750452]\n",
            "  [0.67079118]\n",
            "  [0.5171525 ]\n",
            "  [0.58690429]\n",
            "  [0.44409924]\n",
            "  [0.40141785]\n",
            "  [0.31144373]\n",
            "  [0.28085137]\n",
            "  [0.36651779]\n",
            "  [0.15943594]\n",
            "  [0.19589699]\n",
            "  [0.29387971]\n",
            "  [0.36813923]\n",
            "  [0.36123533]\n",
            "  [0.28885576]\n",
            "  [0.34296769]\n",
            "  [0.27964511]\n",
            "  [0.2441539 ]\n",
            "  [0.37447799]\n",
            "  [0.36535995]\n",
            "  [0.43197074]\n",
            "  [0.40725601]\n",
            "  [0.3909299 ]\n",
            "  [0.40265567]\n",
            "  [0.45455408]\n",
            "  [0.45767391]\n",
            "  [0.40445041]\n",
            "  [0.4435456 ]\n",
            "  [0.46899344]\n",
            "  [0.4407915 ]\n",
            "  [0.46267792]\n",
            "  [0.48222654]\n",
            "  [0.51410102]\n",
            "  [0.56659676]\n",
            "  [0.46121848]\n",
            "  [0.44743801]\n",
            "  [0.45966067]\n",
            "  [0.44690494]\n",
            "  [0.45739493]\n",
            "  [0.45310677]\n",
            "  [0.44310185]\n",
            "  [0.47665255]\n",
            "  [0.43003774]\n",
            "  [0.42871357]\n",
            "  [0.37246594]\n",
            "  [0.38126501]\n",
            "  [0.41402361]\n",
            "  [0.42003867]\n",
            "  [0.40633869]\n",
            "  [0.40300783]\n",
            "  [0.45542246]\n",
            "  [0.48675636]\n",
            "  [0.49851954]\n",
            "  [0.54480286]\n",
            "  [0.572276  ]\n",
            "  [0.58722315]\n",
            "  [0.58044239]\n",
            "  [0.59657535]\n",
            "  [0.60096147]\n",
            "  [0.57917888]\n",
            "  [0.59446031]\n",
            "  [0.55716294]\n",
            "  [0.56992659]\n",
            "  [0.54087045]\n",
            "  [0.56068109]\n",
            "  [0.55556042]\n",
            "  [0.59240776]\n",
            "  [0.61996869]\n",
            "  [0.62942039]\n",
            "  [0.65674079]\n",
            "  [0.62719207]\n",
            "  [0.62577745]\n",
            "  [0.64310135]\n",
            "  [0.63206234]\n",
            "  [0.60395855]\n",
            "  [0.60970843]\n",
            "  [0.61470842]\n",
            "  [0.61898375]\n",
            "  [0.62263012]\n",
            "  [0.6257689 ]\n",
            "  [0.62851912]\n",
            "  [0.63098598]\n",
            "  [0.63325554]\n",
            "  [0.6353938 ]\n",
            "  [0.6374495 ]\n",
            "  [0.63945693]\n",
            "  [0.64143914]\n",
            "  [0.64341092]\n",
            "  [0.6453808 ]\n",
            "  [0.64735365]\n",
            "  [0.64933127]\n",
            "  [0.65131456]]]\n",
            "18 day output [[0.6533026]]\n",
            "[0.891390462754706, 0.8838486334191509, 0.8076217807425334, 0.7995553024124677, 0.8248005403807332, 0.8135263433356954, 0.8167435189162249, 0.7696934822786812, 0.667504522089349, 0.6707911849062811, 0.5171524963739804, 0.5869042923904169, 0.44409923558399145, 0.4014178474833543, 0.31144373147509885, 0.2808513704769171, 0.36651779343811075, 0.1594359365320892, 0.1958969858422419, 0.2938797084031737, 0.3681392301618449, 0.3612353263740371, 0.28885576257520507, 0.34296769388437, 0.27964510950823507, 0.24415390021201056, 0.3744779850789546, 0.36535994738126076, 0.43197073645687056, 0.4072560066051978, 0.39092990438138675, 0.4026556654936866, 0.4545540797091374, 0.45767391154024173, 0.40445040914150354, 0.44354559928189574, 0.46899343973202745, 0.4407915004424885, 0.46267791578557294, 0.48222653878623567, 0.5141010210373458, 0.5665967580339462, 0.461218478777107, 0.4474380137887539, 0.45966067011506384, 0.44690493583283764, 0.45739493479573823, 0.4531067721380748, 0.4431018474124968, 0.47665255439964604, 0.4300377379375726, 0.4287135748732849, 0.3724659397251737, 0.3812650146753085, 0.4140236085973048, 0.420038672334077, 0.40633869322496685, 0.4030078299505906, 0.455422464251775, 0.48675636480982165, 0.49851954208585436, 0.5448028552223563, 0.5722760011529764, 0.5872231523528237, 0.5804423930191618, 0.5965753495740342, 0.6009614727446659, 0.5791788770366324, 0.5944603069190497, 0.5571629441389296, 0.5699265933515414, 0.5408704547650716, 0.5606810939075324, 0.5555604210410516, 0.592407761636452, 0.6199686917184177, 0.6294203913877676, 0.656740788793114, 0.6271920722321751, 0.6257774524446955, 0.6431013539806107, 0.6320623444158702, 0.6039585471153259, 0.6097084283828735, 0.614708423614502, 0.6189837455749512, 0.6226301193237305, 0.6257688999176025, 0.6285191178321838, 0.6309859752655029, 0.6332555413246155, 0.6353937983512878, 0.6374495029449463, 0.6394569277763367, 0.6414391398429871, 0.6434109210968018, 0.6453807950019836, 0.6473536491394043, 0.649331271648407, 0.6513145565986633, 0.6533026099205017]\n",
            "[0.891390462754706, 0.8838486334191509, 0.8076217807425334, 0.7995553024124677, 0.8248005403807332, 0.8135263433356954, 0.8167435189162249, 0.7696934822786812, 0.667504522089349, 0.6707911849062811, 0.5171524963739804, 0.5869042923904169, 0.44409923558399145, 0.4014178474833543, 0.31144373147509885, 0.2808513704769171, 0.36651779343811075, 0.1594359365320892, 0.1958969858422419, 0.2938797084031737, 0.3681392301618449, 0.3612353263740371, 0.28885576257520507, 0.34296769388437, 0.27964510950823507, 0.24415390021201056, 0.3744779850789546, 0.36535994738126076, 0.43197073645687056, 0.4072560066051978, 0.39092990438138675, 0.4026556654936866, 0.4545540797091374, 0.45767391154024173, 0.40445040914150354, 0.44354559928189574, 0.46899343973202745, 0.4407915004424885, 0.46267791578557294, 0.48222653878623567, 0.5141010210373458, 0.5665967580339462, 0.461218478777107, 0.4474380137887539, 0.45966067011506384, 0.44690493583283764, 0.45739493479573823, 0.4531067721380748, 0.4431018474124968, 0.47665255439964604, 0.4300377379375726, 0.4287135748732849, 0.3724659397251737, 0.3812650146753085, 0.4140236085973048, 0.420038672334077, 0.40633869322496685, 0.4030078299505906, 0.455422464251775, 0.48675636480982165, 0.49851954208585436, 0.5448028552223563, 0.5722760011529764, 0.5872231523528237, 0.5804423930191618, 0.5965753495740342, 0.6009614727446659, 0.5791788770366324, 0.5944603069190497, 0.5571629441389296, 0.5699265933515414, 0.5408704547650716, 0.5606810939075324, 0.5555604210410516, 0.592407761636452, 0.6199686917184177, 0.6294203913877676, 0.656740788793114, 0.6271920722321751, 0.6257774524446955, 0.6431013539806107, 0.6320623444158702, 0.6039585471153259, 0.6097084283828735, 0.614708423614502, 0.6189837455749512, 0.6226301193237305, 0.6257688999176025, 0.6285191178321838, 0.6309859752655029, 0.6332555413246155, 0.6353937983512878, 0.6374495029449463, 0.6394569277763367, 0.6414391398429871, 0.6434109210968018, 0.6453807950019836, 0.6473536491394043, 0.649331271648407, 0.6513145565986633, 0.6533026099205017]\n",
            "19 day input [0.88384863 0.80762178 0.7995553  0.82480054 0.81352634 0.81674352\n",
            " 0.76969348 0.66750452 0.67079118 0.5171525  0.58690429 0.44409924\n",
            " 0.40141785 0.31144373 0.28085137 0.36651779 0.15943594 0.19589699\n",
            " 0.29387971 0.36813923 0.36123533 0.28885576 0.34296769 0.27964511\n",
            " 0.2441539  0.37447799 0.36535995 0.43197074 0.40725601 0.3909299\n",
            " 0.40265567 0.45455408 0.45767391 0.40445041 0.4435456  0.46899344\n",
            " 0.4407915  0.46267792 0.48222654 0.51410102 0.56659676 0.46121848\n",
            " 0.44743801 0.45966067 0.44690494 0.45739493 0.45310677 0.44310185\n",
            " 0.47665255 0.43003774 0.42871357 0.37246594 0.38126501 0.41402361\n",
            " 0.42003867 0.40633869 0.40300783 0.45542246 0.48675636 0.49851954\n",
            " 0.54480286 0.572276   0.58722315 0.58044239 0.59657535 0.60096147\n",
            " 0.57917888 0.59446031 0.55716294 0.56992659 0.54087045 0.56068109\n",
            " 0.55556042 0.59240776 0.61996869 0.62942039 0.65674079 0.62719207\n",
            " 0.62577745 0.64310135 0.63206234 0.60395855 0.60970843 0.61470842\n",
            " 0.61898375 0.62263012 0.6257689  0.62851912 0.63098598 0.63325554\n",
            " 0.6353938  0.6374495  0.63945693 0.64143914 0.64341092 0.6453808\n",
            " 0.64735365 0.64933127 0.65131456 0.65330261]\n",
            "[[[0.88384863]\n",
            "  [0.80762178]\n",
            "  [0.7995553 ]\n",
            "  [0.82480054]\n",
            "  [0.81352634]\n",
            "  [0.81674352]\n",
            "  [0.76969348]\n",
            "  [0.66750452]\n",
            "  [0.67079118]\n",
            "  [0.5171525 ]\n",
            "  [0.58690429]\n",
            "  [0.44409924]\n",
            "  [0.40141785]\n",
            "  [0.31144373]\n",
            "  [0.28085137]\n",
            "  [0.36651779]\n",
            "  [0.15943594]\n",
            "  [0.19589699]\n",
            "  [0.29387971]\n",
            "  [0.36813923]\n",
            "  [0.36123533]\n",
            "  [0.28885576]\n",
            "  [0.34296769]\n",
            "  [0.27964511]\n",
            "  [0.2441539 ]\n",
            "  [0.37447799]\n",
            "  [0.36535995]\n",
            "  [0.43197074]\n",
            "  [0.40725601]\n",
            "  [0.3909299 ]\n",
            "  [0.40265567]\n",
            "  [0.45455408]\n",
            "  [0.45767391]\n",
            "  [0.40445041]\n",
            "  [0.4435456 ]\n",
            "  [0.46899344]\n",
            "  [0.4407915 ]\n",
            "  [0.46267792]\n",
            "  [0.48222654]\n",
            "  [0.51410102]\n",
            "  [0.56659676]\n",
            "  [0.46121848]\n",
            "  [0.44743801]\n",
            "  [0.45966067]\n",
            "  [0.44690494]\n",
            "  [0.45739493]\n",
            "  [0.45310677]\n",
            "  [0.44310185]\n",
            "  [0.47665255]\n",
            "  [0.43003774]\n",
            "  [0.42871357]\n",
            "  [0.37246594]\n",
            "  [0.38126501]\n",
            "  [0.41402361]\n",
            "  [0.42003867]\n",
            "  [0.40633869]\n",
            "  [0.40300783]\n",
            "  [0.45542246]\n",
            "  [0.48675636]\n",
            "  [0.49851954]\n",
            "  [0.54480286]\n",
            "  [0.572276  ]\n",
            "  [0.58722315]\n",
            "  [0.58044239]\n",
            "  [0.59657535]\n",
            "  [0.60096147]\n",
            "  [0.57917888]\n",
            "  [0.59446031]\n",
            "  [0.55716294]\n",
            "  [0.56992659]\n",
            "  [0.54087045]\n",
            "  [0.56068109]\n",
            "  [0.55556042]\n",
            "  [0.59240776]\n",
            "  [0.61996869]\n",
            "  [0.62942039]\n",
            "  [0.65674079]\n",
            "  [0.62719207]\n",
            "  [0.62577745]\n",
            "  [0.64310135]\n",
            "  [0.63206234]\n",
            "  [0.60395855]\n",
            "  [0.60970843]\n",
            "  [0.61470842]\n",
            "  [0.61898375]\n",
            "  [0.62263012]\n",
            "  [0.6257689 ]\n",
            "  [0.62851912]\n",
            "  [0.63098598]\n",
            "  [0.63325554]\n",
            "  [0.6353938 ]\n",
            "  [0.6374495 ]\n",
            "  [0.63945693]\n",
            "  [0.64143914]\n",
            "  [0.64341092]\n",
            "  [0.6453808 ]\n",
            "  [0.64735365]\n",
            "  [0.64933127]\n",
            "  [0.65131456]\n",
            "  [0.65330261]]]\n",
            "19 day output [[0.6552949]]\n",
            "[0.8838486334191509, 0.8076217807425334, 0.7995553024124677, 0.8248005403807332, 0.8135263433356954, 0.8167435189162249, 0.7696934822786812, 0.667504522089349, 0.6707911849062811, 0.5171524963739804, 0.5869042923904169, 0.44409923558399145, 0.4014178474833543, 0.31144373147509885, 0.2808513704769171, 0.36651779343811075, 0.1594359365320892, 0.1958969858422419, 0.2938797084031737, 0.3681392301618449, 0.3612353263740371, 0.28885576257520507, 0.34296769388437, 0.27964510950823507, 0.24415390021201056, 0.3744779850789546, 0.36535994738126076, 0.43197073645687056, 0.4072560066051978, 0.39092990438138675, 0.4026556654936866, 0.4545540797091374, 0.45767391154024173, 0.40445040914150354, 0.44354559928189574, 0.46899343973202745, 0.4407915004424885, 0.46267791578557294, 0.48222653878623567, 0.5141010210373458, 0.5665967580339462, 0.461218478777107, 0.4474380137887539, 0.45966067011506384, 0.44690493583283764, 0.45739493479573823, 0.4531067721380748, 0.4431018474124968, 0.47665255439964604, 0.4300377379375726, 0.4287135748732849, 0.3724659397251737, 0.3812650146753085, 0.4140236085973048, 0.420038672334077, 0.40633869322496685, 0.4030078299505906, 0.455422464251775, 0.48675636480982165, 0.49851954208585436, 0.5448028552223563, 0.5722760011529764, 0.5872231523528237, 0.5804423930191618, 0.5965753495740342, 0.6009614727446659, 0.5791788770366324, 0.5944603069190497, 0.5571629441389296, 0.5699265933515414, 0.5408704547650716, 0.5606810939075324, 0.5555604210410516, 0.592407761636452, 0.6199686917184177, 0.6294203913877676, 0.656740788793114, 0.6271920722321751, 0.6257774524446955, 0.6431013539806107, 0.6320623444158702, 0.6039585471153259, 0.6097084283828735, 0.614708423614502, 0.6189837455749512, 0.6226301193237305, 0.6257688999176025, 0.6285191178321838, 0.6309859752655029, 0.6332555413246155, 0.6353937983512878, 0.6374495029449463, 0.6394569277763367, 0.6414391398429871, 0.6434109210968018, 0.6453807950019836, 0.6473536491394043, 0.649331271648407, 0.6513145565986633, 0.6533026099205017, 0.6552948951721191]\n",
            "[0.8838486334191509, 0.8076217807425334, 0.7995553024124677, 0.8248005403807332, 0.8135263433356954, 0.8167435189162249, 0.7696934822786812, 0.667504522089349, 0.6707911849062811, 0.5171524963739804, 0.5869042923904169, 0.44409923558399145, 0.4014178474833543, 0.31144373147509885, 0.2808513704769171, 0.36651779343811075, 0.1594359365320892, 0.1958969858422419, 0.2938797084031737, 0.3681392301618449, 0.3612353263740371, 0.28885576257520507, 0.34296769388437, 0.27964510950823507, 0.24415390021201056, 0.3744779850789546, 0.36535994738126076, 0.43197073645687056, 0.4072560066051978, 0.39092990438138675, 0.4026556654936866, 0.4545540797091374, 0.45767391154024173, 0.40445040914150354, 0.44354559928189574, 0.46899343973202745, 0.4407915004424885, 0.46267791578557294, 0.48222653878623567, 0.5141010210373458, 0.5665967580339462, 0.461218478777107, 0.4474380137887539, 0.45966067011506384, 0.44690493583283764, 0.45739493479573823, 0.4531067721380748, 0.4431018474124968, 0.47665255439964604, 0.4300377379375726, 0.4287135748732849, 0.3724659397251737, 0.3812650146753085, 0.4140236085973048, 0.420038672334077, 0.40633869322496685, 0.4030078299505906, 0.455422464251775, 0.48675636480982165, 0.49851954208585436, 0.5448028552223563, 0.5722760011529764, 0.5872231523528237, 0.5804423930191618, 0.5965753495740342, 0.6009614727446659, 0.5791788770366324, 0.5944603069190497, 0.5571629441389296, 0.5699265933515414, 0.5408704547650716, 0.5606810939075324, 0.5555604210410516, 0.592407761636452, 0.6199686917184177, 0.6294203913877676, 0.656740788793114, 0.6271920722321751, 0.6257774524446955, 0.6431013539806107, 0.6320623444158702, 0.6039585471153259, 0.6097084283828735, 0.614708423614502, 0.6189837455749512, 0.6226301193237305, 0.6257688999176025, 0.6285191178321838, 0.6309859752655029, 0.6332555413246155, 0.6353937983512878, 0.6374495029449463, 0.6394569277763367, 0.6414391398429871, 0.6434109210968018, 0.6453807950019836, 0.6473536491394043, 0.649331271648407, 0.6513145565986633, 0.6533026099205017, 0.6552948951721191]\n",
            "20 day input [0.80762178 0.7995553  0.82480054 0.81352634 0.81674352 0.76969348\n",
            " 0.66750452 0.67079118 0.5171525  0.58690429 0.44409924 0.40141785\n",
            " 0.31144373 0.28085137 0.36651779 0.15943594 0.19589699 0.29387971\n",
            " 0.36813923 0.36123533 0.28885576 0.34296769 0.27964511 0.2441539\n",
            " 0.37447799 0.36535995 0.43197074 0.40725601 0.3909299  0.40265567\n",
            " 0.45455408 0.45767391 0.40445041 0.4435456  0.46899344 0.4407915\n",
            " 0.46267792 0.48222654 0.51410102 0.56659676 0.46121848 0.44743801\n",
            " 0.45966067 0.44690494 0.45739493 0.45310677 0.44310185 0.47665255\n",
            " 0.43003774 0.42871357 0.37246594 0.38126501 0.41402361 0.42003867\n",
            " 0.40633869 0.40300783 0.45542246 0.48675636 0.49851954 0.54480286\n",
            " 0.572276   0.58722315 0.58044239 0.59657535 0.60096147 0.57917888\n",
            " 0.59446031 0.55716294 0.56992659 0.54087045 0.56068109 0.55556042\n",
            " 0.59240776 0.61996869 0.62942039 0.65674079 0.62719207 0.62577745\n",
            " 0.64310135 0.63206234 0.60395855 0.60970843 0.61470842 0.61898375\n",
            " 0.62263012 0.6257689  0.62851912 0.63098598 0.63325554 0.6353938\n",
            " 0.6374495  0.63945693 0.64143914 0.64341092 0.6453808  0.64735365\n",
            " 0.64933127 0.65131456 0.65330261 0.6552949 ]\n",
            "[[[0.80762178]\n",
            "  [0.7995553 ]\n",
            "  [0.82480054]\n",
            "  [0.81352634]\n",
            "  [0.81674352]\n",
            "  [0.76969348]\n",
            "  [0.66750452]\n",
            "  [0.67079118]\n",
            "  [0.5171525 ]\n",
            "  [0.58690429]\n",
            "  [0.44409924]\n",
            "  [0.40141785]\n",
            "  [0.31144373]\n",
            "  [0.28085137]\n",
            "  [0.36651779]\n",
            "  [0.15943594]\n",
            "  [0.19589699]\n",
            "  [0.29387971]\n",
            "  [0.36813923]\n",
            "  [0.36123533]\n",
            "  [0.28885576]\n",
            "  [0.34296769]\n",
            "  [0.27964511]\n",
            "  [0.2441539 ]\n",
            "  [0.37447799]\n",
            "  [0.36535995]\n",
            "  [0.43197074]\n",
            "  [0.40725601]\n",
            "  [0.3909299 ]\n",
            "  [0.40265567]\n",
            "  [0.45455408]\n",
            "  [0.45767391]\n",
            "  [0.40445041]\n",
            "  [0.4435456 ]\n",
            "  [0.46899344]\n",
            "  [0.4407915 ]\n",
            "  [0.46267792]\n",
            "  [0.48222654]\n",
            "  [0.51410102]\n",
            "  [0.56659676]\n",
            "  [0.46121848]\n",
            "  [0.44743801]\n",
            "  [0.45966067]\n",
            "  [0.44690494]\n",
            "  [0.45739493]\n",
            "  [0.45310677]\n",
            "  [0.44310185]\n",
            "  [0.47665255]\n",
            "  [0.43003774]\n",
            "  [0.42871357]\n",
            "  [0.37246594]\n",
            "  [0.38126501]\n",
            "  [0.41402361]\n",
            "  [0.42003867]\n",
            "  [0.40633869]\n",
            "  [0.40300783]\n",
            "  [0.45542246]\n",
            "  [0.48675636]\n",
            "  [0.49851954]\n",
            "  [0.54480286]\n",
            "  [0.572276  ]\n",
            "  [0.58722315]\n",
            "  [0.58044239]\n",
            "  [0.59657535]\n",
            "  [0.60096147]\n",
            "  [0.57917888]\n",
            "  [0.59446031]\n",
            "  [0.55716294]\n",
            "  [0.56992659]\n",
            "  [0.54087045]\n",
            "  [0.56068109]\n",
            "  [0.55556042]\n",
            "  [0.59240776]\n",
            "  [0.61996869]\n",
            "  [0.62942039]\n",
            "  [0.65674079]\n",
            "  [0.62719207]\n",
            "  [0.62577745]\n",
            "  [0.64310135]\n",
            "  [0.63206234]\n",
            "  [0.60395855]\n",
            "  [0.60970843]\n",
            "  [0.61470842]\n",
            "  [0.61898375]\n",
            "  [0.62263012]\n",
            "  [0.6257689 ]\n",
            "  [0.62851912]\n",
            "  [0.63098598]\n",
            "  [0.63325554]\n",
            "  [0.6353938 ]\n",
            "  [0.6374495 ]\n",
            "  [0.63945693]\n",
            "  [0.64143914]\n",
            "  [0.64341092]\n",
            "  [0.6453808 ]\n",
            "  [0.64735365]\n",
            "  [0.64933127]\n",
            "  [0.65131456]\n",
            "  [0.65330261]\n",
            "  [0.6552949 ]]]\n",
            "20 day output [[0.65729076]]\n",
            "[0.8076217807425334, 0.7995553024124677, 0.8248005403807332, 0.8135263433356954, 0.8167435189162249, 0.7696934822786812, 0.667504522089349, 0.6707911849062811, 0.5171524963739804, 0.5869042923904169, 0.44409923558399145, 0.4014178474833543, 0.31144373147509885, 0.2808513704769171, 0.36651779343811075, 0.1594359365320892, 0.1958969858422419, 0.2938797084031737, 0.3681392301618449, 0.3612353263740371, 0.28885576257520507, 0.34296769388437, 0.27964510950823507, 0.24415390021201056, 0.3744779850789546, 0.36535994738126076, 0.43197073645687056, 0.4072560066051978, 0.39092990438138675, 0.4026556654936866, 0.4545540797091374, 0.45767391154024173, 0.40445040914150354, 0.44354559928189574, 0.46899343973202745, 0.4407915004424885, 0.46267791578557294, 0.48222653878623567, 0.5141010210373458, 0.5665967580339462, 0.461218478777107, 0.4474380137887539, 0.45966067011506384, 0.44690493583283764, 0.45739493479573823, 0.4531067721380748, 0.4431018474124968, 0.47665255439964604, 0.4300377379375726, 0.4287135748732849, 0.3724659397251737, 0.3812650146753085, 0.4140236085973048, 0.420038672334077, 0.40633869322496685, 0.4030078299505906, 0.455422464251775, 0.48675636480982165, 0.49851954208585436, 0.5448028552223563, 0.5722760011529764, 0.5872231523528237, 0.5804423930191618, 0.5965753495740342, 0.6009614727446659, 0.5791788770366324, 0.5944603069190497, 0.5571629441389296, 0.5699265933515414, 0.5408704547650716, 0.5606810939075324, 0.5555604210410516, 0.592407761636452, 0.6199686917184177, 0.6294203913877676, 0.656740788793114, 0.6271920722321751, 0.6257774524446955, 0.6431013539806107, 0.6320623444158702, 0.6039585471153259, 0.6097084283828735, 0.614708423614502, 0.6189837455749512, 0.6226301193237305, 0.6257688999176025, 0.6285191178321838, 0.6309859752655029, 0.6332555413246155, 0.6353937983512878, 0.6374495029449463, 0.6394569277763367, 0.6414391398429871, 0.6434109210968018, 0.6453807950019836, 0.6473536491394043, 0.649331271648407, 0.6513145565986633, 0.6533026099205017, 0.6552948951721191, 0.6572907567024231]\n",
            "[0.8076217807425334, 0.7995553024124677, 0.8248005403807332, 0.8135263433356954, 0.8167435189162249, 0.7696934822786812, 0.667504522089349, 0.6707911849062811, 0.5171524963739804, 0.5869042923904169, 0.44409923558399145, 0.4014178474833543, 0.31144373147509885, 0.2808513704769171, 0.36651779343811075, 0.1594359365320892, 0.1958969858422419, 0.2938797084031737, 0.3681392301618449, 0.3612353263740371, 0.28885576257520507, 0.34296769388437, 0.27964510950823507, 0.24415390021201056, 0.3744779850789546, 0.36535994738126076, 0.43197073645687056, 0.4072560066051978, 0.39092990438138675, 0.4026556654936866, 0.4545540797091374, 0.45767391154024173, 0.40445040914150354, 0.44354559928189574, 0.46899343973202745, 0.4407915004424885, 0.46267791578557294, 0.48222653878623567, 0.5141010210373458, 0.5665967580339462, 0.461218478777107, 0.4474380137887539, 0.45966067011506384, 0.44690493583283764, 0.45739493479573823, 0.4531067721380748, 0.4431018474124968, 0.47665255439964604, 0.4300377379375726, 0.4287135748732849, 0.3724659397251737, 0.3812650146753085, 0.4140236085973048, 0.420038672334077, 0.40633869322496685, 0.4030078299505906, 0.455422464251775, 0.48675636480982165, 0.49851954208585436, 0.5448028552223563, 0.5722760011529764, 0.5872231523528237, 0.5804423930191618, 0.5965753495740342, 0.6009614727446659, 0.5791788770366324, 0.5944603069190497, 0.5571629441389296, 0.5699265933515414, 0.5408704547650716, 0.5606810939075324, 0.5555604210410516, 0.592407761636452, 0.6199686917184177, 0.6294203913877676, 0.656740788793114, 0.6271920722321751, 0.6257774524446955, 0.6431013539806107, 0.6320623444158702, 0.6039585471153259, 0.6097084283828735, 0.614708423614502, 0.6189837455749512, 0.6226301193237305, 0.6257688999176025, 0.6285191178321838, 0.6309859752655029, 0.6332555413246155, 0.6353937983512878, 0.6374495029449463, 0.6394569277763367, 0.6414391398429871, 0.6434109210968018, 0.6453807950019836, 0.6473536491394043, 0.649331271648407, 0.6513145565986633, 0.6533026099205017, 0.6552948951721191, 0.6572907567024231]\n",
            "21 day input [0.7995553  0.82480054 0.81352634 0.81674352 0.76969348 0.66750452\n",
            " 0.67079118 0.5171525  0.58690429 0.44409924 0.40141785 0.31144373\n",
            " 0.28085137 0.36651779 0.15943594 0.19589699 0.29387971 0.36813923\n",
            " 0.36123533 0.28885576 0.34296769 0.27964511 0.2441539  0.37447799\n",
            " 0.36535995 0.43197074 0.40725601 0.3909299  0.40265567 0.45455408\n",
            " 0.45767391 0.40445041 0.4435456  0.46899344 0.4407915  0.46267792\n",
            " 0.48222654 0.51410102 0.56659676 0.46121848 0.44743801 0.45966067\n",
            " 0.44690494 0.45739493 0.45310677 0.44310185 0.47665255 0.43003774\n",
            " 0.42871357 0.37246594 0.38126501 0.41402361 0.42003867 0.40633869\n",
            " 0.40300783 0.45542246 0.48675636 0.49851954 0.54480286 0.572276\n",
            " 0.58722315 0.58044239 0.59657535 0.60096147 0.57917888 0.59446031\n",
            " 0.55716294 0.56992659 0.54087045 0.56068109 0.55556042 0.59240776\n",
            " 0.61996869 0.62942039 0.65674079 0.62719207 0.62577745 0.64310135\n",
            " 0.63206234 0.60395855 0.60970843 0.61470842 0.61898375 0.62263012\n",
            " 0.6257689  0.62851912 0.63098598 0.63325554 0.6353938  0.6374495\n",
            " 0.63945693 0.64143914 0.64341092 0.6453808  0.64735365 0.64933127\n",
            " 0.65131456 0.65330261 0.6552949  0.65729076]\n",
            "[[[0.7995553 ]\n",
            "  [0.82480054]\n",
            "  [0.81352634]\n",
            "  [0.81674352]\n",
            "  [0.76969348]\n",
            "  [0.66750452]\n",
            "  [0.67079118]\n",
            "  [0.5171525 ]\n",
            "  [0.58690429]\n",
            "  [0.44409924]\n",
            "  [0.40141785]\n",
            "  [0.31144373]\n",
            "  [0.28085137]\n",
            "  [0.36651779]\n",
            "  [0.15943594]\n",
            "  [0.19589699]\n",
            "  [0.29387971]\n",
            "  [0.36813923]\n",
            "  [0.36123533]\n",
            "  [0.28885576]\n",
            "  [0.34296769]\n",
            "  [0.27964511]\n",
            "  [0.2441539 ]\n",
            "  [0.37447799]\n",
            "  [0.36535995]\n",
            "  [0.43197074]\n",
            "  [0.40725601]\n",
            "  [0.3909299 ]\n",
            "  [0.40265567]\n",
            "  [0.45455408]\n",
            "  [0.45767391]\n",
            "  [0.40445041]\n",
            "  [0.4435456 ]\n",
            "  [0.46899344]\n",
            "  [0.4407915 ]\n",
            "  [0.46267792]\n",
            "  [0.48222654]\n",
            "  [0.51410102]\n",
            "  [0.56659676]\n",
            "  [0.46121848]\n",
            "  [0.44743801]\n",
            "  [0.45966067]\n",
            "  [0.44690494]\n",
            "  [0.45739493]\n",
            "  [0.45310677]\n",
            "  [0.44310185]\n",
            "  [0.47665255]\n",
            "  [0.43003774]\n",
            "  [0.42871357]\n",
            "  [0.37246594]\n",
            "  [0.38126501]\n",
            "  [0.41402361]\n",
            "  [0.42003867]\n",
            "  [0.40633869]\n",
            "  [0.40300783]\n",
            "  [0.45542246]\n",
            "  [0.48675636]\n",
            "  [0.49851954]\n",
            "  [0.54480286]\n",
            "  [0.572276  ]\n",
            "  [0.58722315]\n",
            "  [0.58044239]\n",
            "  [0.59657535]\n",
            "  [0.60096147]\n",
            "  [0.57917888]\n",
            "  [0.59446031]\n",
            "  [0.55716294]\n",
            "  [0.56992659]\n",
            "  [0.54087045]\n",
            "  [0.56068109]\n",
            "  [0.55556042]\n",
            "  [0.59240776]\n",
            "  [0.61996869]\n",
            "  [0.62942039]\n",
            "  [0.65674079]\n",
            "  [0.62719207]\n",
            "  [0.62577745]\n",
            "  [0.64310135]\n",
            "  [0.63206234]\n",
            "  [0.60395855]\n",
            "  [0.60970843]\n",
            "  [0.61470842]\n",
            "  [0.61898375]\n",
            "  [0.62263012]\n",
            "  [0.6257689 ]\n",
            "  [0.62851912]\n",
            "  [0.63098598]\n",
            "  [0.63325554]\n",
            "  [0.6353938 ]\n",
            "  [0.6374495 ]\n",
            "  [0.63945693]\n",
            "  [0.64143914]\n",
            "  [0.64341092]\n",
            "  [0.6453808 ]\n",
            "  [0.64735365]\n",
            "  [0.64933127]\n",
            "  [0.65131456]\n",
            "  [0.65330261]\n",
            "  [0.6552949 ]\n",
            "  [0.65729076]]]\n",
            "21 day output [[0.659289]]\n",
            "[0.7995553024124677, 0.8248005403807332, 0.8135263433356954, 0.8167435189162249, 0.7696934822786812, 0.667504522089349, 0.6707911849062811, 0.5171524963739804, 0.5869042923904169, 0.44409923558399145, 0.4014178474833543, 0.31144373147509885, 0.2808513704769171, 0.36651779343811075, 0.1594359365320892, 0.1958969858422419, 0.2938797084031737, 0.3681392301618449, 0.3612353263740371, 0.28885576257520507, 0.34296769388437, 0.27964510950823507, 0.24415390021201056, 0.3744779850789546, 0.36535994738126076, 0.43197073645687056, 0.4072560066051978, 0.39092990438138675, 0.4026556654936866, 0.4545540797091374, 0.45767391154024173, 0.40445040914150354, 0.44354559928189574, 0.46899343973202745, 0.4407915004424885, 0.46267791578557294, 0.48222653878623567, 0.5141010210373458, 0.5665967580339462, 0.461218478777107, 0.4474380137887539, 0.45966067011506384, 0.44690493583283764, 0.45739493479573823, 0.4531067721380748, 0.4431018474124968, 0.47665255439964604, 0.4300377379375726, 0.4287135748732849, 0.3724659397251737, 0.3812650146753085, 0.4140236085973048, 0.420038672334077, 0.40633869322496685, 0.4030078299505906, 0.455422464251775, 0.48675636480982165, 0.49851954208585436, 0.5448028552223563, 0.5722760011529764, 0.5872231523528237, 0.5804423930191618, 0.5965753495740342, 0.6009614727446659, 0.5791788770366324, 0.5944603069190497, 0.5571629441389296, 0.5699265933515414, 0.5408704547650716, 0.5606810939075324, 0.5555604210410516, 0.592407761636452, 0.6199686917184177, 0.6294203913877676, 0.656740788793114, 0.6271920722321751, 0.6257774524446955, 0.6431013539806107, 0.6320623444158702, 0.6039585471153259, 0.6097084283828735, 0.614708423614502, 0.6189837455749512, 0.6226301193237305, 0.6257688999176025, 0.6285191178321838, 0.6309859752655029, 0.6332555413246155, 0.6353937983512878, 0.6374495029449463, 0.6394569277763367, 0.6414391398429871, 0.6434109210968018, 0.6453807950019836, 0.6473536491394043, 0.649331271648407, 0.6513145565986633, 0.6533026099205017, 0.6552948951721191, 0.6572907567024231, 0.6592890024185181]\n",
            "[0.7995553024124677, 0.8248005403807332, 0.8135263433356954, 0.8167435189162249, 0.7696934822786812, 0.667504522089349, 0.6707911849062811, 0.5171524963739804, 0.5869042923904169, 0.44409923558399145, 0.4014178474833543, 0.31144373147509885, 0.2808513704769171, 0.36651779343811075, 0.1594359365320892, 0.1958969858422419, 0.2938797084031737, 0.3681392301618449, 0.3612353263740371, 0.28885576257520507, 0.34296769388437, 0.27964510950823507, 0.24415390021201056, 0.3744779850789546, 0.36535994738126076, 0.43197073645687056, 0.4072560066051978, 0.39092990438138675, 0.4026556654936866, 0.4545540797091374, 0.45767391154024173, 0.40445040914150354, 0.44354559928189574, 0.46899343973202745, 0.4407915004424885, 0.46267791578557294, 0.48222653878623567, 0.5141010210373458, 0.5665967580339462, 0.461218478777107, 0.4474380137887539, 0.45966067011506384, 0.44690493583283764, 0.45739493479573823, 0.4531067721380748, 0.4431018474124968, 0.47665255439964604, 0.4300377379375726, 0.4287135748732849, 0.3724659397251737, 0.3812650146753085, 0.4140236085973048, 0.420038672334077, 0.40633869322496685, 0.4030078299505906, 0.455422464251775, 0.48675636480982165, 0.49851954208585436, 0.5448028552223563, 0.5722760011529764, 0.5872231523528237, 0.5804423930191618, 0.5965753495740342, 0.6009614727446659, 0.5791788770366324, 0.5944603069190497, 0.5571629441389296, 0.5699265933515414, 0.5408704547650716, 0.5606810939075324, 0.5555604210410516, 0.592407761636452, 0.6199686917184177, 0.6294203913877676, 0.656740788793114, 0.6271920722321751, 0.6257774524446955, 0.6431013539806107, 0.6320623444158702, 0.6039585471153259, 0.6097084283828735, 0.614708423614502, 0.6189837455749512, 0.6226301193237305, 0.6257688999176025, 0.6285191178321838, 0.6309859752655029, 0.6332555413246155, 0.6353937983512878, 0.6374495029449463, 0.6394569277763367, 0.6414391398429871, 0.6434109210968018, 0.6453807950019836, 0.6473536491394043, 0.649331271648407, 0.6513145565986633, 0.6533026099205017, 0.6552948951721191, 0.6572907567024231, 0.6592890024185181]\n",
            "22 day input [0.82480054 0.81352634 0.81674352 0.76969348 0.66750452 0.67079118\n",
            " 0.5171525  0.58690429 0.44409924 0.40141785 0.31144373 0.28085137\n",
            " 0.36651779 0.15943594 0.19589699 0.29387971 0.36813923 0.36123533\n",
            " 0.28885576 0.34296769 0.27964511 0.2441539  0.37447799 0.36535995\n",
            " 0.43197074 0.40725601 0.3909299  0.40265567 0.45455408 0.45767391\n",
            " 0.40445041 0.4435456  0.46899344 0.4407915  0.46267792 0.48222654\n",
            " 0.51410102 0.56659676 0.46121848 0.44743801 0.45966067 0.44690494\n",
            " 0.45739493 0.45310677 0.44310185 0.47665255 0.43003774 0.42871357\n",
            " 0.37246594 0.38126501 0.41402361 0.42003867 0.40633869 0.40300783\n",
            " 0.45542246 0.48675636 0.49851954 0.54480286 0.572276   0.58722315\n",
            " 0.58044239 0.59657535 0.60096147 0.57917888 0.59446031 0.55716294\n",
            " 0.56992659 0.54087045 0.56068109 0.55556042 0.59240776 0.61996869\n",
            " 0.62942039 0.65674079 0.62719207 0.62577745 0.64310135 0.63206234\n",
            " 0.60395855 0.60970843 0.61470842 0.61898375 0.62263012 0.6257689\n",
            " 0.62851912 0.63098598 0.63325554 0.6353938  0.6374495  0.63945693\n",
            " 0.64143914 0.64341092 0.6453808  0.64735365 0.64933127 0.65131456\n",
            " 0.65330261 0.6552949  0.65729076 0.659289  ]\n",
            "[[[0.82480054]\n",
            "  [0.81352634]\n",
            "  [0.81674352]\n",
            "  [0.76969348]\n",
            "  [0.66750452]\n",
            "  [0.67079118]\n",
            "  [0.5171525 ]\n",
            "  [0.58690429]\n",
            "  [0.44409924]\n",
            "  [0.40141785]\n",
            "  [0.31144373]\n",
            "  [0.28085137]\n",
            "  [0.36651779]\n",
            "  [0.15943594]\n",
            "  [0.19589699]\n",
            "  [0.29387971]\n",
            "  [0.36813923]\n",
            "  [0.36123533]\n",
            "  [0.28885576]\n",
            "  [0.34296769]\n",
            "  [0.27964511]\n",
            "  [0.2441539 ]\n",
            "  [0.37447799]\n",
            "  [0.36535995]\n",
            "  [0.43197074]\n",
            "  [0.40725601]\n",
            "  [0.3909299 ]\n",
            "  [0.40265567]\n",
            "  [0.45455408]\n",
            "  [0.45767391]\n",
            "  [0.40445041]\n",
            "  [0.4435456 ]\n",
            "  [0.46899344]\n",
            "  [0.4407915 ]\n",
            "  [0.46267792]\n",
            "  [0.48222654]\n",
            "  [0.51410102]\n",
            "  [0.56659676]\n",
            "  [0.46121848]\n",
            "  [0.44743801]\n",
            "  [0.45966067]\n",
            "  [0.44690494]\n",
            "  [0.45739493]\n",
            "  [0.45310677]\n",
            "  [0.44310185]\n",
            "  [0.47665255]\n",
            "  [0.43003774]\n",
            "  [0.42871357]\n",
            "  [0.37246594]\n",
            "  [0.38126501]\n",
            "  [0.41402361]\n",
            "  [0.42003867]\n",
            "  [0.40633869]\n",
            "  [0.40300783]\n",
            "  [0.45542246]\n",
            "  [0.48675636]\n",
            "  [0.49851954]\n",
            "  [0.54480286]\n",
            "  [0.572276  ]\n",
            "  [0.58722315]\n",
            "  [0.58044239]\n",
            "  [0.59657535]\n",
            "  [0.60096147]\n",
            "  [0.57917888]\n",
            "  [0.59446031]\n",
            "  [0.55716294]\n",
            "  [0.56992659]\n",
            "  [0.54087045]\n",
            "  [0.56068109]\n",
            "  [0.55556042]\n",
            "  [0.59240776]\n",
            "  [0.61996869]\n",
            "  [0.62942039]\n",
            "  [0.65674079]\n",
            "  [0.62719207]\n",
            "  [0.62577745]\n",
            "  [0.64310135]\n",
            "  [0.63206234]\n",
            "  [0.60395855]\n",
            "  [0.60970843]\n",
            "  [0.61470842]\n",
            "  [0.61898375]\n",
            "  [0.62263012]\n",
            "  [0.6257689 ]\n",
            "  [0.62851912]\n",
            "  [0.63098598]\n",
            "  [0.63325554]\n",
            "  [0.6353938 ]\n",
            "  [0.6374495 ]\n",
            "  [0.63945693]\n",
            "  [0.64143914]\n",
            "  [0.64341092]\n",
            "  [0.6453808 ]\n",
            "  [0.64735365]\n",
            "  [0.64933127]\n",
            "  [0.65131456]\n",
            "  [0.65330261]\n",
            "  [0.6552949 ]\n",
            "  [0.65729076]\n",
            "  [0.659289  ]]]\n",
            "22 day output [[0.66128874]]\n",
            "[0.8248005403807332, 0.8135263433356954, 0.8167435189162249, 0.7696934822786812, 0.667504522089349, 0.6707911849062811, 0.5171524963739804, 0.5869042923904169, 0.44409923558399145, 0.4014178474833543, 0.31144373147509885, 0.2808513704769171, 0.36651779343811075, 0.1594359365320892, 0.1958969858422419, 0.2938797084031737, 0.3681392301618449, 0.3612353263740371, 0.28885576257520507, 0.34296769388437, 0.27964510950823507, 0.24415390021201056, 0.3744779850789546, 0.36535994738126076, 0.43197073645687056, 0.4072560066051978, 0.39092990438138675, 0.4026556654936866, 0.4545540797091374, 0.45767391154024173, 0.40445040914150354, 0.44354559928189574, 0.46899343973202745, 0.4407915004424885, 0.46267791578557294, 0.48222653878623567, 0.5141010210373458, 0.5665967580339462, 0.461218478777107, 0.4474380137887539, 0.45966067011506384, 0.44690493583283764, 0.45739493479573823, 0.4531067721380748, 0.4431018474124968, 0.47665255439964604, 0.4300377379375726, 0.4287135748732849, 0.3724659397251737, 0.3812650146753085, 0.4140236085973048, 0.420038672334077, 0.40633869322496685, 0.4030078299505906, 0.455422464251775, 0.48675636480982165, 0.49851954208585436, 0.5448028552223563, 0.5722760011529764, 0.5872231523528237, 0.5804423930191618, 0.5965753495740342, 0.6009614727446659, 0.5791788770366324, 0.5944603069190497, 0.5571629441389296, 0.5699265933515414, 0.5408704547650716, 0.5606810939075324, 0.5555604210410516, 0.592407761636452, 0.6199686917184177, 0.6294203913877676, 0.656740788793114, 0.6271920722321751, 0.6257774524446955, 0.6431013539806107, 0.6320623444158702, 0.6039585471153259, 0.6097084283828735, 0.614708423614502, 0.6189837455749512, 0.6226301193237305, 0.6257688999176025, 0.6285191178321838, 0.6309859752655029, 0.6332555413246155, 0.6353937983512878, 0.6374495029449463, 0.6394569277763367, 0.6414391398429871, 0.6434109210968018, 0.6453807950019836, 0.6473536491394043, 0.649331271648407, 0.6513145565986633, 0.6533026099205017, 0.6552948951721191, 0.6572907567024231, 0.6592890024185181, 0.6612887382507324]\n",
            "[0.8248005403807332, 0.8135263433356954, 0.8167435189162249, 0.7696934822786812, 0.667504522089349, 0.6707911849062811, 0.5171524963739804, 0.5869042923904169, 0.44409923558399145, 0.4014178474833543, 0.31144373147509885, 0.2808513704769171, 0.36651779343811075, 0.1594359365320892, 0.1958969858422419, 0.2938797084031737, 0.3681392301618449, 0.3612353263740371, 0.28885576257520507, 0.34296769388437, 0.27964510950823507, 0.24415390021201056, 0.3744779850789546, 0.36535994738126076, 0.43197073645687056, 0.4072560066051978, 0.39092990438138675, 0.4026556654936866, 0.4545540797091374, 0.45767391154024173, 0.40445040914150354, 0.44354559928189574, 0.46899343973202745, 0.4407915004424885, 0.46267791578557294, 0.48222653878623567, 0.5141010210373458, 0.5665967580339462, 0.461218478777107, 0.4474380137887539, 0.45966067011506384, 0.44690493583283764, 0.45739493479573823, 0.4531067721380748, 0.4431018474124968, 0.47665255439964604, 0.4300377379375726, 0.4287135748732849, 0.3724659397251737, 0.3812650146753085, 0.4140236085973048, 0.420038672334077, 0.40633869322496685, 0.4030078299505906, 0.455422464251775, 0.48675636480982165, 0.49851954208585436, 0.5448028552223563, 0.5722760011529764, 0.5872231523528237, 0.5804423930191618, 0.5965753495740342, 0.6009614727446659, 0.5791788770366324, 0.5944603069190497, 0.5571629441389296, 0.5699265933515414, 0.5408704547650716, 0.5606810939075324, 0.5555604210410516, 0.592407761636452, 0.6199686917184177, 0.6294203913877676, 0.656740788793114, 0.6271920722321751, 0.6257774524446955, 0.6431013539806107, 0.6320623444158702, 0.6039585471153259, 0.6097084283828735, 0.614708423614502, 0.6189837455749512, 0.6226301193237305, 0.6257688999176025, 0.6285191178321838, 0.6309859752655029, 0.6332555413246155, 0.6353937983512878, 0.6374495029449463, 0.6394569277763367, 0.6414391398429871, 0.6434109210968018, 0.6453807950019836, 0.6473536491394043, 0.649331271648407, 0.6513145565986633, 0.6533026099205017, 0.6552948951721191, 0.6572907567024231, 0.6592890024185181, 0.6612887382507324]\n",
            "23 day input [0.81352634 0.81674352 0.76969348 0.66750452 0.67079118 0.5171525\n",
            " 0.58690429 0.44409924 0.40141785 0.31144373 0.28085137 0.36651779\n",
            " 0.15943594 0.19589699 0.29387971 0.36813923 0.36123533 0.28885576\n",
            " 0.34296769 0.27964511 0.2441539  0.37447799 0.36535995 0.43197074\n",
            " 0.40725601 0.3909299  0.40265567 0.45455408 0.45767391 0.40445041\n",
            " 0.4435456  0.46899344 0.4407915  0.46267792 0.48222654 0.51410102\n",
            " 0.56659676 0.46121848 0.44743801 0.45966067 0.44690494 0.45739493\n",
            " 0.45310677 0.44310185 0.47665255 0.43003774 0.42871357 0.37246594\n",
            " 0.38126501 0.41402361 0.42003867 0.40633869 0.40300783 0.45542246\n",
            " 0.48675636 0.49851954 0.54480286 0.572276   0.58722315 0.58044239\n",
            " 0.59657535 0.60096147 0.57917888 0.59446031 0.55716294 0.56992659\n",
            " 0.54087045 0.56068109 0.55556042 0.59240776 0.61996869 0.62942039\n",
            " 0.65674079 0.62719207 0.62577745 0.64310135 0.63206234 0.60395855\n",
            " 0.60970843 0.61470842 0.61898375 0.62263012 0.6257689  0.62851912\n",
            " 0.63098598 0.63325554 0.6353938  0.6374495  0.63945693 0.64143914\n",
            " 0.64341092 0.6453808  0.64735365 0.64933127 0.65131456 0.65330261\n",
            " 0.6552949  0.65729076 0.659289   0.66128874]\n",
            "[[[0.81352634]\n",
            "  [0.81674352]\n",
            "  [0.76969348]\n",
            "  [0.66750452]\n",
            "  [0.67079118]\n",
            "  [0.5171525 ]\n",
            "  [0.58690429]\n",
            "  [0.44409924]\n",
            "  [0.40141785]\n",
            "  [0.31144373]\n",
            "  [0.28085137]\n",
            "  [0.36651779]\n",
            "  [0.15943594]\n",
            "  [0.19589699]\n",
            "  [0.29387971]\n",
            "  [0.36813923]\n",
            "  [0.36123533]\n",
            "  [0.28885576]\n",
            "  [0.34296769]\n",
            "  [0.27964511]\n",
            "  [0.2441539 ]\n",
            "  [0.37447799]\n",
            "  [0.36535995]\n",
            "  [0.43197074]\n",
            "  [0.40725601]\n",
            "  [0.3909299 ]\n",
            "  [0.40265567]\n",
            "  [0.45455408]\n",
            "  [0.45767391]\n",
            "  [0.40445041]\n",
            "  [0.4435456 ]\n",
            "  [0.46899344]\n",
            "  [0.4407915 ]\n",
            "  [0.46267792]\n",
            "  [0.48222654]\n",
            "  [0.51410102]\n",
            "  [0.56659676]\n",
            "  [0.46121848]\n",
            "  [0.44743801]\n",
            "  [0.45966067]\n",
            "  [0.44690494]\n",
            "  [0.45739493]\n",
            "  [0.45310677]\n",
            "  [0.44310185]\n",
            "  [0.47665255]\n",
            "  [0.43003774]\n",
            "  [0.42871357]\n",
            "  [0.37246594]\n",
            "  [0.38126501]\n",
            "  [0.41402361]\n",
            "  [0.42003867]\n",
            "  [0.40633869]\n",
            "  [0.40300783]\n",
            "  [0.45542246]\n",
            "  [0.48675636]\n",
            "  [0.49851954]\n",
            "  [0.54480286]\n",
            "  [0.572276  ]\n",
            "  [0.58722315]\n",
            "  [0.58044239]\n",
            "  [0.59657535]\n",
            "  [0.60096147]\n",
            "  [0.57917888]\n",
            "  [0.59446031]\n",
            "  [0.55716294]\n",
            "  [0.56992659]\n",
            "  [0.54087045]\n",
            "  [0.56068109]\n",
            "  [0.55556042]\n",
            "  [0.59240776]\n",
            "  [0.61996869]\n",
            "  [0.62942039]\n",
            "  [0.65674079]\n",
            "  [0.62719207]\n",
            "  [0.62577745]\n",
            "  [0.64310135]\n",
            "  [0.63206234]\n",
            "  [0.60395855]\n",
            "  [0.60970843]\n",
            "  [0.61470842]\n",
            "  [0.61898375]\n",
            "  [0.62263012]\n",
            "  [0.6257689 ]\n",
            "  [0.62851912]\n",
            "  [0.63098598]\n",
            "  [0.63325554]\n",
            "  [0.6353938 ]\n",
            "  [0.6374495 ]\n",
            "  [0.63945693]\n",
            "  [0.64143914]\n",
            "  [0.64341092]\n",
            "  [0.6453808 ]\n",
            "  [0.64735365]\n",
            "  [0.64933127]\n",
            "  [0.65131456]\n",
            "  [0.65330261]\n",
            "  [0.6552949 ]\n",
            "  [0.65729076]\n",
            "  [0.659289  ]\n",
            "  [0.66128874]]]\n",
            "23 day output [[0.6632893]]\n",
            "[0.8135263433356954, 0.8167435189162249, 0.7696934822786812, 0.667504522089349, 0.6707911849062811, 0.5171524963739804, 0.5869042923904169, 0.44409923558399145, 0.4014178474833543, 0.31144373147509885, 0.2808513704769171, 0.36651779343811075, 0.1594359365320892, 0.1958969858422419, 0.2938797084031737, 0.3681392301618449, 0.3612353263740371, 0.28885576257520507, 0.34296769388437, 0.27964510950823507, 0.24415390021201056, 0.3744779850789546, 0.36535994738126076, 0.43197073645687056, 0.4072560066051978, 0.39092990438138675, 0.4026556654936866, 0.4545540797091374, 0.45767391154024173, 0.40445040914150354, 0.44354559928189574, 0.46899343973202745, 0.4407915004424885, 0.46267791578557294, 0.48222653878623567, 0.5141010210373458, 0.5665967580339462, 0.461218478777107, 0.4474380137887539, 0.45966067011506384, 0.44690493583283764, 0.45739493479573823, 0.4531067721380748, 0.4431018474124968, 0.47665255439964604, 0.4300377379375726, 0.4287135748732849, 0.3724659397251737, 0.3812650146753085, 0.4140236085973048, 0.420038672334077, 0.40633869322496685, 0.4030078299505906, 0.455422464251775, 0.48675636480982165, 0.49851954208585436, 0.5448028552223563, 0.5722760011529764, 0.5872231523528237, 0.5804423930191618, 0.5965753495740342, 0.6009614727446659, 0.5791788770366324, 0.5944603069190497, 0.5571629441389296, 0.5699265933515414, 0.5408704547650716, 0.5606810939075324, 0.5555604210410516, 0.592407761636452, 0.6199686917184177, 0.6294203913877676, 0.656740788793114, 0.6271920722321751, 0.6257774524446955, 0.6431013539806107, 0.6320623444158702, 0.6039585471153259, 0.6097084283828735, 0.614708423614502, 0.6189837455749512, 0.6226301193237305, 0.6257688999176025, 0.6285191178321838, 0.6309859752655029, 0.6332555413246155, 0.6353937983512878, 0.6374495029449463, 0.6394569277763367, 0.6414391398429871, 0.6434109210968018, 0.6453807950019836, 0.6473536491394043, 0.649331271648407, 0.6513145565986633, 0.6533026099205017, 0.6552948951721191, 0.6572907567024231, 0.6592890024185181, 0.6612887382507324, 0.6632893085479736]\n",
            "[0.8135263433356954, 0.8167435189162249, 0.7696934822786812, 0.667504522089349, 0.6707911849062811, 0.5171524963739804, 0.5869042923904169, 0.44409923558399145, 0.4014178474833543, 0.31144373147509885, 0.2808513704769171, 0.36651779343811075, 0.1594359365320892, 0.1958969858422419, 0.2938797084031737, 0.3681392301618449, 0.3612353263740371, 0.28885576257520507, 0.34296769388437, 0.27964510950823507, 0.24415390021201056, 0.3744779850789546, 0.36535994738126076, 0.43197073645687056, 0.4072560066051978, 0.39092990438138675, 0.4026556654936866, 0.4545540797091374, 0.45767391154024173, 0.40445040914150354, 0.44354559928189574, 0.46899343973202745, 0.4407915004424885, 0.46267791578557294, 0.48222653878623567, 0.5141010210373458, 0.5665967580339462, 0.461218478777107, 0.4474380137887539, 0.45966067011506384, 0.44690493583283764, 0.45739493479573823, 0.4531067721380748, 0.4431018474124968, 0.47665255439964604, 0.4300377379375726, 0.4287135748732849, 0.3724659397251737, 0.3812650146753085, 0.4140236085973048, 0.420038672334077, 0.40633869322496685, 0.4030078299505906, 0.455422464251775, 0.48675636480982165, 0.49851954208585436, 0.5448028552223563, 0.5722760011529764, 0.5872231523528237, 0.5804423930191618, 0.5965753495740342, 0.6009614727446659, 0.5791788770366324, 0.5944603069190497, 0.5571629441389296, 0.5699265933515414, 0.5408704547650716, 0.5606810939075324, 0.5555604210410516, 0.592407761636452, 0.6199686917184177, 0.6294203913877676, 0.656740788793114, 0.6271920722321751, 0.6257774524446955, 0.6431013539806107, 0.6320623444158702, 0.6039585471153259, 0.6097084283828735, 0.614708423614502, 0.6189837455749512, 0.6226301193237305, 0.6257688999176025, 0.6285191178321838, 0.6309859752655029, 0.6332555413246155, 0.6353937983512878, 0.6374495029449463, 0.6394569277763367, 0.6414391398429871, 0.6434109210968018, 0.6453807950019836, 0.6473536491394043, 0.649331271648407, 0.6513145565986633, 0.6533026099205017, 0.6552948951721191, 0.6572907567024231, 0.6592890024185181, 0.6612887382507324, 0.6632893085479736]\n",
            "24 day input [0.81674352 0.76969348 0.66750452 0.67079118 0.5171525  0.58690429\n",
            " 0.44409924 0.40141785 0.31144373 0.28085137 0.36651779 0.15943594\n",
            " 0.19589699 0.29387971 0.36813923 0.36123533 0.28885576 0.34296769\n",
            " 0.27964511 0.2441539  0.37447799 0.36535995 0.43197074 0.40725601\n",
            " 0.3909299  0.40265567 0.45455408 0.45767391 0.40445041 0.4435456\n",
            " 0.46899344 0.4407915  0.46267792 0.48222654 0.51410102 0.56659676\n",
            " 0.46121848 0.44743801 0.45966067 0.44690494 0.45739493 0.45310677\n",
            " 0.44310185 0.47665255 0.43003774 0.42871357 0.37246594 0.38126501\n",
            " 0.41402361 0.42003867 0.40633869 0.40300783 0.45542246 0.48675636\n",
            " 0.49851954 0.54480286 0.572276   0.58722315 0.58044239 0.59657535\n",
            " 0.60096147 0.57917888 0.59446031 0.55716294 0.56992659 0.54087045\n",
            " 0.56068109 0.55556042 0.59240776 0.61996869 0.62942039 0.65674079\n",
            " 0.62719207 0.62577745 0.64310135 0.63206234 0.60395855 0.60970843\n",
            " 0.61470842 0.61898375 0.62263012 0.6257689  0.62851912 0.63098598\n",
            " 0.63325554 0.6353938  0.6374495  0.63945693 0.64143914 0.64341092\n",
            " 0.6453808  0.64735365 0.64933127 0.65131456 0.65330261 0.6552949\n",
            " 0.65729076 0.659289   0.66128874 0.66328931]\n",
            "[[[0.81674352]\n",
            "  [0.76969348]\n",
            "  [0.66750452]\n",
            "  [0.67079118]\n",
            "  [0.5171525 ]\n",
            "  [0.58690429]\n",
            "  [0.44409924]\n",
            "  [0.40141785]\n",
            "  [0.31144373]\n",
            "  [0.28085137]\n",
            "  [0.36651779]\n",
            "  [0.15943594]\n",
            "  [0.19589699]\n",
            "  [0.29387971]\n",
            "  [0.36813923]\n",
            "  [0.36123533]\n",
            "  [0.28885576]\n",
            "  [0.34296769]\n",
            "  [0.27964511]\n",
            "  [0.2441539 ]\n",
            "  [0.37447799]\n",
            "  [0.36535995]\n",
            "  [0.43197074]\n",
            "  [0.40725601]\n",
            "  [0.3909299 ]\n",
            "  [0.40265567]\n",
            "  [0.45455408]\n",
            "  [0.45767391]\n",
            "  [0.40445041]\n",
            "  [0.4435456 ]\n",
            "  [0.46899344]\n",
            "  [0.4407915 ]\n",
            "  [0.46267792]\n",
            "  [0.48222654]\n",
            "  [0.51410102]\n",
            "  [0.56659676]\n",
            "  [0.46121848]\n",
            "  [0.44743801]\n",
            "  [0.45966067]\n",
            "  [0.44690494]\n",
            "  [0.45739493]\n",
            "  [0.45310677]\n",
            "  [0.44310185]\n",
            "  [0.47665255]\n",
            "  [0.43003774]\n",
            "  [0.42871357]\n",
            "  [0.37246594]\n",
            "  [0.38126501]\n",
            "  [0.41402361]\n",
            "  [0.42003867]\n",
            "  [0.40633869]\n",
            "  [0.40300783]\n",
            "  [0.45542246]\n",
            "  [0.48675636]\n",
            "  [0.49851954]\n",
            "  [0.54480286]\n",
            "  [0.572276  ]\n",
            "  [0.58722315]\n",
            "  [0.58044239]\n",
            "  [0.59657535]\n",
            "  [0.60096147]\n",
            "  [0.57917888]\n",
            "  [0.59446031]\n",
            "  [0.55716294]\n",
            "  [0.56992659]\n",
            "  [0.54087045]\n",
            "  [0.56068109]\n",
            "  [0.55556042]\n",
            "  [0.59240776]\n",
            "  [0.61996869]\n",
            "  [0.62942039]\n",
            "  [0.65674079]\n",
            "  [0.62719207]\n",
            "  [0.62577745]\n",
            "  [0.64310135]\n",
            "  [0.63206234]\n",
            "  [0.60395855]\n",
            "  [0.60970843]\n",
            "  [0.61470842]\n",
            "  [0.61898375]\n",
            "  [0.62263012]\n",
            "  [0.6257689 ]\n",
            "  [0.62851912]\n",
            "  [0.63098598]\n",
            "  [0.63325554]\n",
            "  [0.6353938 ]\n",
            "  [0.6374495 ]\n",
            "  [0.63945693]\n",
            "  [0.64143914]\n",
            "  [0.64341092]\n",
            "  [0.6453808 ]\n",
            "  [0.64735365]\n",
            "  [0.64933127]\n",
            "  [0.65131456]\n",
            "  [0.65330261]\n",
            "  [0.6552949 ]\n",
            "  [0.65729076]\n",
            "  [0.659289  ]\n",
            "  [0.66128874]\n",
            "  [0.66328931]]]\n",
            "24 day output [[0.66529036]]\n",
            "[0.8167435189162249, 0.7696934822786812, 0.667504522089349, 0.6707911849062811, 0.5171524963739804, 0.5869042923904169, 0.44409923558399145, 0.4014178474833543, 0.31144373147509885, 0.2808513704769171, 0.36651779343811075, 0.1594359365320892, 0.1958969858422419, 0.2938797084031737, 0.3681392301618449, 0.3612353263740371, 0.28885576257520507, 0.34296769388437, 0.27964510950823507, 0.24415390021201056, 0.3744779850789546, 0.36535994738126076, 0.43197073645687056, 0.4072560066051978, 0.39092990438138675, 0.4026556654936866, 0.4545540797091374, 0.45767391154024173, 0.40445040914150354, 0.44354559928189574, 0.46899343973202745, 0.4407915004424885, 0.46267791578557294, 0.48222653878623567, 0.5141010210373458, 0.5665967580339462, 0.461218478777107, 0.4474380137887539, 0.45966067011506384, 0.44690493583283764, 0.45739493479573823, 0.4531067721380748, 0.4431018474124968, 0.47665255439964604, 0.4300377379375726, 0.4287135748732849, 0.3724659397251737, 0.3812650146753085, 0.4140236085973048, 0.420038672334077, 0.40633869322496685, 0.4030078299505906, 0.455422464251775, 0.48675636480982165, 0.49851954208585436, 0.5448028552223563, 0.5722760011529764, 0.5872231523528237, 0.5804423930191618, 0.5965753495740342, 0.6009614727446659, 0.5791788770366324, 0.5944603069190497, 0.5571629441389296, 0.5699265933515414, 0.5408704547650716, 0.5606810939075324, 0.5555604210410516, 0.592407761636452, 0.6199686917184177, 0.6294203913877676, 0.656740788793114, 0.6271920722321751, 0.6257774524446955, 0.6431013539806107, 0.6320623444158702, 0.6039585471153259, 0.6097084283828735, 0.614708423614502, 0.6189837455749512, 0.6226301193237305, 0.6257688999176025, 0.6285191178321838, 0.6309859752655029, 0.6332555413246155, 0.6353937983512878, 0.6374495029449463, 0.6394569277763367, 0.6414391398429871, 0.6434109210968018, 0.6453807950019836, 0.6473536491394043, 0.649331271648407, 0.6513145565986633, 0.6533026099205017, 0.6552948951721191, 0.6572907567024231, 0.6592890024185181, 0.6612887382507324, 0.6632893085479736, 0.665290355682373]\n",
            "[0.8167435189162249, 0.7696934822786812, 0.667504522089349, 0.6707911849062811, 0.5171524963739804, 0.5869042923904169, 0.44409923558399145, 0.4014178474833543, 0.31144373147509885, 0.2808513704769171, 0.36651779343811075, 0.1594359365320892, 0.1958969858422419, 0.2938797084031737, 0.3681392301618449, 0.3612353263740371, 0.28885576257520507, 0.34296769388437, 0.27964510950823507, 0.24415390021201056, 0.3744779850789546, 0.36535994738126076, 0.43197073645687056, 0.4072560066051978, 0.39092990438138675, 0.4026556654936866, 0.4545540797091374, 0.45767391154024173, 0.40445040914150354, 0.44354559928189574, 0.46899343973202745, 0.4407915004424885, 0.46267791578557294, 0.48222653878623567, 0.5141010210373458, 0.5665967580339462, 0.461218478777107, 0.4474380137887539, 0.45966067011506384, 0.44690493583283764, 0.45739493479573823, 0.4531067721380748, 0.4431018474124968, 0.47665255439964604, 0.4300377379375726, 0.4287135748732849, 0.3724659397251737, 0.3812650146753085, 0.4140236085973048, 0.420038672334077, 0.40633869322496685, 0.4030078299505906, 0.455422464251775, 0.48675636480982165, 0.49851954208585436, 0.5448028552223563, 0.5722760011529764, 0.5872231523528237, 0.5804423930191618, 0.5965753495740342, 0.6009614727446659, 0.5791788770366324, 0.5944603069190497, 0.5571629441389296, 0.5699265933515414, 0.5408704547650716, 0.5606810939075324, 0.5555604210410516, 0.592407761636452, 0.6199686917184177, 0.6294203913877676, 0.656740788793114, 0.6271920722321751, 0.6257774524446955, 0.6431013539806107, 0.6320623444158702, 0.6039585471153259, 0.6097084283828735, 0.614708423614502, 0.6189837455749512, 0.6226301193237305, 0.6257688999176025, 0.6285191178321838, 0.6309859752655029, 0.6332555413246155, 0.6353937983512878, 0.6374495029449463, 0.6394569277763367, 0.6414391398429871, 0.6434109210968018, 0.6453807950019836, 0.6473536491394043, 0.649331271648407, 0.6513145565986633, 0.6533026099205017, 0.6552948951721191, 0.6572907567024231, 0.6592890024185181, 0.6612887382507324, 0.6632893085479736, 0.665290355682373]\n",
            "25 day input [0.76969348 0.66750452 0.67079118 0.5171525  0.58690429 0.44409924\n",
            " 0.40141785 0.31144373 0.28085137 0.36651779 0.15943594 0.19589699\n",
            " 0.29387971 0.36813923 0.36123533 0.28885576 0.34296769 0.27964511\n",
            " 0.2441539  0.37447799 0.36535995 0.43197074 0.40725601 0.3909299\n",
            " 0.40265567 0.45455408 0.45767391 0.40445041 0.4435456  0.46899344\n",
            " 0.4407915  0.46267792 0.48222654 0.51410102 0.56659676 0.46121848\n",
            " 0.44743801 0.45966067 0.44690494 0.45739493 0.45310677 0.44310185\n",
            " 0.47665255 0.43003774 0.42871357 0.37246594 0.38126501 0.41402361\n",
            " 0.42003867 0.40633869 0.40300783 0.45542246 0.48675636 0.49851954\n",
            " 0.54480286 0.572276   0.58722315 0.58044239 0.59657535 0.60096147\n",
            " 0.57917888 0.59446031 0.55716294 0.56992659 0.54087045 0.56068109\n",
            " 0.55556042 0.59240776 0.61996869 0.62942039 0.65674079 0.62719207\n",
            " 0.62577745 0.64310135 0.63206234 0.60395855 0.60970843 0.61470842\n",
            " 0.61898375 0.62263012 0.6257689  0.62851912 0.63098598 0.63325554\n",
            " 0.6353938  0.6374495  0.63945693 0.64143914 0.64341092 0.6453808\n",
            " 0.64735365 0.64933127 0.65131456 0.65330261 0.6552949  0.65729076\n",
            " 0.659289   0.66128874 0.66328931 0.66529036]\n",
            "[[[0.76969348]\n",
            "  [0.66750452]\n",
            "  [0.67079118]\n",
            "  [0.5171525 ]\n",
            "  [0.58690429]\n",
            "  [0.44409924]\n",
            "  [0.40141785]\n",
            "  [0.31144373]\n",
            "  [0.28085137]\n",
            "  [0.36651779]\n",
            "  [0.15943594]\n",
            "  [0.19589699]\n",
            "  [0.29387971]\n",
            "  [0.36813923]\n",
            "  [0.36123533]\n",
            "  [0.28885576]\n",
            "  [0.34296769]\n",
            "  [0.27964511]\n",
            "  [0.2441539 ]\n",
            "  [0.37447799]\n",
            "  [0.36535995]\n",
            "  [0.43197074]\n",
            "  [0.40725601]\n",
            "  [0.3909299 ]\n",
            "  [0.40265567]\n",
            "  [0.45455408]\n",
            "  [0.45767391]\n",
            "  [0.40445041]\n",
            "  [0.4435456 ]\n",
            "  [0.46899344]\n",
            "  [0.4407915 ]\n",
            "  [0.46267792]\n",
            "  [0.48222654]\n",
            "  [0.51410102]\n",
            "  [0.56659676]\n",
            "  [0.46121848]\n",
            "  [0.44743801]\n",
            "  [0.45966067]\n",
            "  [0.44690494]\n",
            "  [0.45739493]\n",
            "  [0.45310677]\n",
            "  [0.44310185]\n",
            "  [0.47665255]\n",
            "  [0.43003774]\n",
            "  [0.42871357]\n",
            "  [0.37246594]\n",
            "  [0.38126501]\n",
            "  [0.41402361]\n",
            "  [0.42003867]\n",
            "  [0.40633869]\n",
            "  [0.40300783]\n",
            "  [0.45542246]\n",
            "  [0.48675636]\n",
            "  [0.49851954]\n",
            "  [0.54480286]\n",
            "  [0.572276  ]\n",
            "  [0.58722315]\n",
            "  [0.58044239]\n",
            "  [0.59657535]\n",
            "  [0.60096147]\n",
            "  [0.57917888]\n",
            "  [0.59446031]\n",
            "  [0.55716294]\n",
            "  [0.56992659]\n",
            "  [0.54087045]\n",
            "  [0.56068109]\n",
            "  [0.55556042]\n",
            "  [0.59240776]\n",
            "  [0.61996869]\n",
            "  [0.62942039]\n",
            "  [0.65674079]\n",
            "  [0.62719207]\n",
            "  [0.62577745]\n",
            "  [0.64310135]\n",
            "  [0.63206234]\n",
            "  [0.60395855]\n",
            "  [0.60970843]\n",
            "  [0.61470842]\n",
            "  [0.61898375]\n",
            "  [0.62263012]\n",
            "  [0.6257689 ]\n",
            "  [0.62851912]\n",
            "  [0.63098598]\n",
            "  [0.63325554]\n",
            "  [0.6353938 ]\n",
            "  [0.6374495 ]\n",
            "  [0.63945693]\n",
            "  [0.64143914]\n",
            "  [0.64341092]\n",
            "  [0.6453808 ]\n",
            "  [0.64735365]\n",
            "  [0.64933127]\n",
            "  [0.65131456]\n",
            "  [0.65330261]\n",
            "  [0.6552949 ]\n",
            "  [0.65729076]\n",
            "  [0.659289  ]\n",
            "  [0.66128874]\n",
            "  [0.66328931]\n",
            "  [0.66529036]]]\n",
            "25 day output [[0.66729116]]\n",
            "[0.7696934822786812, 0.667504522089349, 0.6707911849062811, 0.5171524963739804, 0.5869042923904169, 0.44409923558399145, 0.4014178474833543, 0.31144373147509885, 0.2808513704769171, 0.36651779343811075, 0.1594359365320892, 0.1958969858422419, 0.2938797084031737, 0.3681392301618449, 0.3612353263740371, 0.28885576257520507, 0.34296769388437, 0.27964510950823507, 0.24415390021201056, 0.3744779850789546, 0.36535994738126076, 0.43197073645687056, 0.4072560066051978, 0.39092990438138675, 0.4026556654936866, 0.4545540797091374, 0.45767391154024173, 0.40445040914150354, 0.44354559928189574, 0.46899343973202745, 0.4407915004424885, 0.46267791578557294, 0.48222653878623567, 0.5141010210373458, 0.5665967580339462, 0.461218478777107, 0.4474380137887539, 0.45966067011506384, 0.44690493583283764, 0.45739493479573823, 0.4531067721380748, 0.4431018474124968, 0.47665255439964604, 0.4300377379375726, 0.4287135748732849, 0.3724659397251737, 0.3812650146753085, 0.4140236085973048, 0.420038672334077, 0.40633869322496685, 0.4030078299505906, 0.455422464251775, 0.48675636480982165, 0.49851954208585436, 0.5448028552223563, 0.5722760011529764, 0.5872231523528237, 0.5804423930191618, 0.5965753495740342, 0.6009614727446659, 0.5791788770366324, 0.5944603069190497, 0.5571629441389296, 0.5699265933515414, 0.5408704547650716, 0.5606810939075324, 0.5555604210410516, 0.592407761636452, 0.6199686917184177, 0.6294203913877676, 0.656740788793114, 0.6271920722321751, 0.6257774524446955, 0.6431013539806107, 0.6320623444158702, 0.6039585471153259, 0.6097084283828735, 0.614708423614502, 0.6189837455749512, 0.6226301193237305, 0.6257688999176025, 0.6285191178321838, 0.6309859752655029, 0.6332555413246155, 0.6353937983512878, 0.6374495029449463, 0.6394569277763367, 0.6414391398429871, 0.6434109210968018, 0.6453807950019836, 0.6473536491394043, 0.649331271648407, 0.6513145565986633, 0.6533026099205017, 0.6552948951721191, 0.6572907567024231, 0.6592890024185181, 0.6612887382507324, 0.6632893085479736, 0.665290355682373, 0.6672911643981934]\n",
            "[0.7696934822786812, 0.667504522089349, 0.6707911849062811, 0.5171524963739804, 0.5869042923904169, 0.44409923558399145, 0.4014178474833543, 0.31144373147509885, 0.2808513704769171, 0.36651779343811075, 0.1594359365320892, 0.1958969858422419, 0.2938797084031737, 0.3681392301618449, 0.3612353263740371, 0.28885576257520507, 0.34296769388437, 0.27964510950823507, 0.24415390021201056, 0.3744779850789546, 0.36535994738126076, 0.43197073645687056, 0.4072560066051978, 0.39092990438138675, 0.4026556654936866, 0.4545540797091374, 0.45767391154024173, 0.40445040914150354, 0.44354559928189574, 0.46899343973202745, 0.4407915004424885, 0.46267791578557294, 0.48222653878623567, 0.5141010210373458, 0.5665967580339462, 0.461218478777107, 0.4474380137887539, 0.45966067011506384, 0.44690493583283764, 0.45739493479573823, 0.4531067721380748, 0.4431018474124968, 0.47665255439964604, 0.4300377379375726, 0.4287135748732849, 0.3724659397251737, 0.3812650146753085, 0.4140236085973048, 0.420038672334077, 0.40633869322496685, 0.4030078299505906, 0.455422464251775, 0.48675636480982165, 0.49851954208585436, 0.5448028552223563, 0.5722760011529764, 0.5872231523528237, 0.5804423930191618, 0.5965753495740342, 0.6009614727446659, 0.5791788770366324, 0.5944603069190497, 0.5571629441389296, 0.5699265933515414, 0.5408704547650716, 0.5606810939075324, 0.5555604210410516, 0.592407761636452, 0.6199686917184177, 0.6294203913877676, 0.656740788793114, 0.6271920722321751, 0.6257774524446955, 0.6431013539806107, 0.6320623444158702, 0.6039585471153259, 0.6097084283828735, 0.614708423614502, 0.6189837455749512, 0.6226301193237305, 0.6257688999176025, 0.6285191178321838, 0.6309859752655029, 0.6332555413246155, 0.6353937983512878, 0.6374495029449463, 0.6394569277763367, 0.6414391398429871, 0.6434109210968018, 0.6453807950019836, 0.6473536491394043, 0.649331271648407, 0.6513145565986633, 0.6533026099205017, 0.6552948951721191, 0.6572907567024231, 0.6592890024185181, 0.6612887382507324, 0.6632893085479736, 0.665290355682373, 0.6672911643981934]\n",
            "26 day input [0.66750452 0.67079118 0.5171525  0.58690429 0.44409924 0.40141785\n",
            " 0.31144373 0.28085137 0.36651779 0.15943594 0.19589699 0.29387971\n",
            " 0.36813923 0.36123533 0.28885576 0.34296769 0.27964511 0.2441539\n",
            " 0.37447799 0.36535995 0.43197074 0.40725601 0.3909299  0.40265567\n",
            " 0.45455408 0.45767391 0.40445041 0.4435456  0.46899344 0.4407915\n",
            " 0.46267792 0.48222654 0.51410102 0.56659676 0.46121848 0.44743801\n",
            " 0.45966067 0.44690494 0.45739493 0.45310677 0.44310185 0.47665255\n",
            " 0.43003774 0.42871357 0.37246594 0.38126501 0.41402361 0.42003867\n",
            " 0.40633869 0.40300783 0.45542246 0.48675636 0.49851954 0.54480286\n",
            " 0.572276   0.58722315 0.58044239 0.59657535 0.60096147 0.57917888\n",
            " 0.59446031 0.55716294 0.56992659 0.54087045 0.56068109 0.55556042\n",
            " 0.59240776 0.61996869 0.62942039 0.65674079 0.62719207 0.62577745\n",
            " 0.64310135 0.63206234 0.60395855 0.60970843 0.61470842 0.61898375\n",
            " 0.62263012 0.6257689  0.62851912 0.63098598 0.63325554 0.6353938\n",
            " 0.6374495  0.63945693 0.64143914 0.64341092 0.6453808  0.64735365\n",
            " 0.64933127 0.65131456 0.65330261 0.6552949  0.65729076 0.659289\n",
            " 0.66128874 0.66328931 0.66529036 0.66729116]\n",
            "[[[0.66750452]\n",
            "  [0.67079118]\n",
            "  [0.5171525 ]\n",
            "  [0.58690429]\n",
            "  [0.44409924]\n",
            "  [0.40141785]\n",
            "  [0.31144373]\n",
            "  [0.28085137]\n",
            "  [0.36651779]\n",
            "  [0.15943594]\n",
            "  [0.19589699]\n",
            "  [0.29387971]\n",
            "  [0.36813923]\n",
            "  [0.36123533]\n",
            "  [0.28885576]\n",
            "  [0.34296769]\n",
            "  [0.27964511]\n",
            "  [0.2441539 ]\n",
            "  [0.37447799]\n",
            "  [0.36535995]\n",
            "  [0.43197074]\n",
            "  [0.40725601]\n",
            "  [0.3909299 ]\n",
            "  [0.40265567]\n",
            "  [0.45455408]\n",
            "  [0.45767391]\n",
            "  [0.40445041]\n",
            "  [0.4435456 ]\n",
            "  [0.46899344]\n",
            "  [0.4407915 ]\n",
            "  [0.46267792]\n",
            "  [0.48222654]\n",
            "  [0.51410102]\n",
            "  [0.56659676]\n",
            "  [0.46121848]\n",
            "  [0.44743801]\n",
            "  [0.45966067]\n",
            "  [0.44690494]\n",
            "  [0.45739493]\n",
            "  [0.45310677]\n",
            "  [0.44310185]\n",
            "  [0.47665255]\n",
            "  [0.43003774]\n",
            "  [0.42871357]\n",
            "  [0.37246594]\n",
            "  [0.38126501]\n",
            "  [0.41402361]\n",
            "  [0.42003867]\n",
            "  [0.40633869]\n",
            "  [0.40300783]\n",
            "  [0.45542246]\n",
            "  [0.48675636]\n",
            "  [0.49851954]\n",
            "  [0.54480286]\n",
            "  [0.572276  ]\n",
            "  [0.58722315]\n",
            "  [0.58044239]\n",
            "  [0.59657535]\n",
            "  [0.60096147]\n",
            "  [0.57917888]\n",
            "  [0.59446031]\n",
            "  [0.55716294]\n",
            "  [0.56992659]\n",
            "  [0.54087045]\n",
            "  [0.56068109]\n",
            "  [0.55556042]\n",
            "  [0.59240776]\n",
            "  [0.61996869]\n",
            "  [0.62942039]\n",
            "  [0.65674079]\n",
            "  [0.62719207]\n",
            "  [0.62577745]\n",
            "  [0.64310135]\n",
            "  [0.63206234]\n",
            "  [0.60395855]\n",
            "  [0.60970843]\n",
            "  [0.61470842]\n",
            "  [0.61898375]\n",
            "  [0.62263012]\n",
            "  [0.6257689 ]\n",
            "  [0.62851912]\n",
            "  [0.63098598]\n",
            "  [0.63325554]\n",
            "  [0.6353938 ]\n",
            "  [0.6374495 ]\n",
            "  [0.63945693]\n",
            "  [0.64143914]\n",
            "  [0.64341092]\n",
            "  [0.6453808 ]\n",
            "  [0.64735365]\n",
            "  [0.64933127]\n",
            "  [0.65131456]\n",
            "  [0.65330261]\n",
            "  [0.6552949 ]\n",
            "  [0.65729076]\n",
            "  [0.659289  ]\n",
            "  [0.66128874]\n",
            "  [0.66328931]\n",
            "  [0.66529036]\n",
            "  [0.66729116]]]\n",
            "26 day output [[0.66929144]]\n",
            "[0.667504522089349, 0.6707911849062811, 0.5171524963739804, 0.5869042923904169, 0.44409923558399145, 0.4014178474833543, 0.31144373147509885, 0.2808513704769171, 0.36651779343811075, 0.1594359365320892, 0.1958969858422419, 0.2938797084031737, 0.3681392301618449, 0.3612353263740371, 0.28885576257520507, 0.34296769388437, 0.27964510950823507, 0.24415390021201056, 0.3744779850789546, 0.36535994738126076, 0.43197073645687056, 0.4072560066051978, 0.39092990438138675, 0.4026556654936866, 0.4545540797091374, 0.45767391154024173, 0.40445040914150354, 0.44354559928189574, 0.46899343973202745, 0.4407915004424885, 0.46267791578557294, 0.48222653878623567, 0.5141010210373458, 0.5665967580339462, 0.461218478777107, 0.4474380137887539, 0.45966067011506384, 0.44690493583283764, 0.45739493479573823, 0.4531067721380748, 0.4431018474124968, 0.47665255439964604, 0.4300377379375726, 0.4287135748732849, 0.3724659397251737, 0.3812650146753085, 0.4140236085973048, 0.420038672334077, 0.40633869322496685, 0.4030078299505906, 0.455422464251775, 0.48675636480982165, 0.49851954208585436, 0.5448028552223563, 0.5722760011529764, 0.5872231523528237, 0.5804423930191618, 0.5965753495740342, 0.6009614727446659, 0.5791788770366324, 0.5944603069190497, 0.5571629441389296, 0.5699265933515414, 0.5408704547650716, 0.5606810939075324, 0.5555604210410516, 0.592407761636452, 0.6199686917184177, 0.6294203913877676, 0.656740788793114, 0.6271920722321751, 0.6257774524446955, 0.6431013539806107, 0.6320623444158702, 0.6039585471153259, 0.6097084283828735, 0.614708423614502, 0.6189837455749512, 0.6226301193237305, 0.6257688999176025, 0.6285191178321838, 0.6309859752655029, 0.6332555413246155, 0.6353937983512878, 0.6374495029449463, 0.6394569277763367, 0.6414391398429871, 0.6434109210968018, 0.6453807950019836, 0.6473536491394043, 0.649331271648407, 0.6513145565986633, 0.6533026099205017, 0.6552948951721191, 0.6572907567024231, 0.6592890024185181, 0.6612887382507324, 0.6632893085479736, 0.665290355682373, 0.6672911643981934, 0.6692914366722107]\n",
            "[0.667504522089349, 0.6707911849062811, 0.5171524963739804, 0.5869042923904169, 0.44409923558399145, 0.4014178474833543, 0.31144373147509885, 0.2808513704769171, 0.36651779343811075, 0.1594359365320892, 0.1958969858422419, 0.2938797084031737, 0.3681392301618449, 0.3612353263740371, 0.28885576257520507, 0.34296769388437, 0.27964510950823507, 0.24415390021201056, 0.3744779850789546, 0.36535994738126076, 0.43197073645687056, 0.4072560066051978, 0.39092990438138675, 0.4026556654936866, 0.4545540797091374, 0.45767391154024173, 0.40445040914150354, 0.44354559928189574, 0.46899343973202745, 0.4407915004424885, 0.46267791578557294, 0.48222653878623567, 0.5141010210373458, 0.5665967580339462, 0.461218478777107, 0.4474380137887539, 0.45966067011506384, 0.44690493583283764, 0.45739493479573823, 0.4531067721380748, 0.4431018474124968, 0.47665255439964604, 0.4300377379375726, 0.4287135748732849, 0.3724659397251737, 0.3812650146753085, 0.4140236085973048, 0.420038672334077, 0.40633869322496685, 0.4030078299505906, 0.455422464251775, 0.48675636480982165, 0.49851954208585436, 0.5448028552223563, 0.5722760011529764, 0.5872231523528237, 0.5804423930191618, 0.5965753495740342, 0.6009614727446659, 0.5791788770366324, 0.5944603069190497, 0.5571629441389296, 0.5699265933515414, 0.5408704547650716, 0.5606810939075324, 0.5555604210410516, 0.592407761636452, 0.6199686917184177, 0.6294203913877676, 0.656740788793114, 0.6271920722321751, 0.6257774524446955, 0.6431013539806107, 0.6320623444158702, 0.6039585471153259, 0.6097084283828735, 0.614708423614502, 0.6189837455749512, 0.6226301193237305, 0.6257688999176025, 0.6285191178321838, 0.6309859752655029, 0.6332555413246155, 0.6353937983512878, 0.6374495029449463, 0.6394569277763367, 0.6414391398429871, 0.6434109210968018, 0.6453807950019836, 0.6473536491394043, 0.649331271648407, 0.6513145565986633, 0.6533026099205017, 0.6552948951721191, 0.6572907567024231, 0.6592890024185181, 0.6612887382507324, 0.6632893085479736, 0.665290355682373, 0.6672911643981934, 0.6692914366722107]\n",
            "27 day input [0.67079118 0.5171525  0.58690429 0.44409924 0.40141785 0.31144373\n",
            " 0.28085137 0.36651779 0.15943594 0.19589699 0.29387971 0.36813923\n",
            " 0.36123533 0.28885576 0.34296769 0.27964511 0.2441539  0.37447799\n",
            " 0.36535995 0.43197074 0.40725601 0.3909299  0.40265567 0.45455408\n",
            " 0.45767391 0.40445041 0.4435456  0.46899344 0.4407915  0.46267792\n",
            " 0.48222654 0.51410102 0.56659676 0.46121848 0.44743801 0.45966067\n",
            " 0.44690494 0.45739493 0.45310677 0.44310185 0.47665255 0.43003774\n",
            " 0.42871357 0.37246594 0.38126501 0.41402361 0.42003867 0.40633869\n",
            " 0.40300783 0.45542246 0.48675636 0.49851954 0.54480286 0.572276\n",
            " 0.58722315 0.58044239 0.59657535 0.60096147 0.57917888 0.59446031\n",
            " 0.55716294 0.56992659 0.54087045 0.56068109 0.55556042 0.59240776\n",
            " 0.61996869 0.62942039 0.65674079 0.62719207 0.62577745 0.64310135\n",
            " 0.63206234 0.60395855 0.60970843 0.61470842 0.61898375 0.62263012\n",
            " 0.6257689  0.62851912 0.63098598 0.63325554 0.6353938  0.6374495\n",
            " 0.63945693 0.64143914 0.64341092 0.6453808  0.64735365 0.64933127\n",
            " 0.65131456 0.65330261 0.6552949  0.65729076 0.659289   0.66128874\n",
            " 0.66328931 0.66529036 0.66729116 0.66929144]\n",
            "[[[0.67079118]\n",
            "  [0.5171525 ]\n",
            "  [0.58690429]\n",
            "  [0.44409924]\n",
            "  [0.40141785]\n",
            "  [0.31144373]\n",
            "  [0.28085137]\n",
            "  [0.36651779]\n",
            "  [0.15943594]\n",
            "  [0.19589699]\n",
            "  [0.29387971]\n",
            "  [0.36813923]\n",
            "  [0.36123533]\n",
            "  [0.28885576]\n",
            "  [0.34296769]\n",
            "  [0.27964511]\n",
            "  [0.2441539 ]\n",
            "  [0.37447799]\n",
            "  [0.36535995]\n",
            "  [0.43197074]\n",
            "  [0.40725601]\n",
            "  [0.3909299 ]\n",
            "  [0.40265567]\n",
            "  [0.45455408]\n",
            "  [0.45767391]\n",
            "  [0.40445041]\n",
            "  [0.4435456 ]\n",
            "  [0.46899344]\n",
            "  [0.4407915 ]\n",
            "  [0.46267792]\n",
            "  [0.48222654]\n",
            "  [0.51410102]\n",
            "  [0.56659676]\n",
            "  [0.46121848]\n",
            "  [0.44743801]\n",
            "  [0.45966067]\n",
            "  [0.44690494]\n",
            "  [0.45739493]\n",
            "  [0.45310677]\n",
            "  [0.44310185]\n",
            "  [0.47665255]\n",
            "  [0.43003774]\n",
            "  [0.42871357]\n",
            "  [0.37246594]\n",
            "  [0.38126501]\n",
            "  [0.41402361]\n",
            "  [0.42003867]\n",
            "  [0.40633869]\n",
            "  [0.40300783]\n",
            "  [0.45542246]\n",
            "  [0.48675636]\n",
            "  [0.49851954]\n",
            "  [0.54480286]\n",
            "  [0.572276  ]\n",
            "  [0.58722315]\n",
            "  [0.58044239]\n",
            "  [0.59657535]\n",
            "  [0.60096147]\n",
            "  [0.57917888]\n",
            "  [0.59446031]\n",
            "  [0.55716294]\n",
            "  [0.56992659]\n",
            "  [0.54087045]\n",
            "  [0.56068109]\n",
            "  [0.55556042]\n",
            "  [0.59240776]\n",
            "  [0.61996869]\n",
            "  [0.62942039]\n",
            "  [0.65674079]\n",
            "  [0.62719207]\n",
            "  [0.62577745]\n",
            "  [0.64310135]\n",
            "  [0.63206234]\n",
            "  [0.60395855]\n",
            "  [0.60970843]\n",
            "  [0.61470842]\n",
            "  [0.61898375]\n",
            "  [0.62263012]\n",
            "  [0.6257689 ]\n",
            "  [0.62851912]\n",
            "  [0.63098598]\n",
            "  [0.63325554]\n",
            "  [0.6353938 ]\n",
            "  [0.6374495 ]\n",
            "  [0.63945693]\n",
            "  [0.64143914]\n",
            "  [0.64341092]\n",
            "  [0.6453808 ]\n",
            "  [0.64735365]\n",
            "  [0.64933127]\n",
            "  [0.65131456]\n",
            "  [0.65330261]\n",
            "  [0.6552949 ]\n",
            "  [0.65729076]\n",
            "  [0.659289  ]\n",
            "  [0.66128874]\n",
            "  [0.66328931]\n",
            "  [0.66529036]\n",
            "  [0.66729116]\n",
            "  [0.66929144]]]\n",
            "27 day output [[0.67129105]]\n",
            "[0.6707911849062811, 0.5171524963739804, 0.5869042923904169, 0.44409923558399145, 0.4014178474833543, 0.31144373147509885, 0.2808513704769171, 0.36651779343811075, 0.1594359365320892, 0.1958969858422419, 0.2938797084031737, 0.3681392301618449, 0.3612353263740371, 0.28885576257520507, 0.34296769388437, 0.27964510950823507, 0.24415390021201056, 0.3744779850789546, 0.36535994738126076, 0.43197073645687056, 0.4072560066051978, 0.39092990438138675, 0.4026556654936866, 0.4545540797091374, 0.45767391154024173, 0.40445040914150354, 0.44354559928189574, 0.46899343973202745, 0.4407915004424885, 0.46267791578557294, 0.48222653878623567, 0.5141010210373458, 0.5665967580339462, 0.461218478777107, 0.4474380137887539, 0.45966067011506384, 0.44690493583283764, 0.45739493479573823, 0.4531067721380748, 0.4431018474124968, 0.47665255439964604, 0.4300377379375726, 0.4287135748732849, 0.3724659397251737, 0.3812650146753085, 0.4140236085973048, 0.420038672334077, 0.40633869322496685, 0.4030078299505906, 0.455422464251775, 0.48675636480982165, 0.49851954208585436, 0.5448028552223563, 0.5722760011529764, 0.5872231523528237, 0.5804423930191618, 0.5965753495740342, 0.6009614727446659, 0.5791788770366324, 0.5944603069190497, 0.5571629441389296, 0.5699265933515414, 0.5408704547650716, 0.5606810939075324, 0.5555604210410516, 0.592407761636452, 0.6199686917184177, 0.6294203913877676, 0.656740788793114, 0.6271920722321751, 0.6257774524446955, 0.6431013539806107, 0.6320623444158702, 0.6039585471153259, 0.6097084283828735, 0.614708423614502, 0.6189837455749512, 0.6226301193237305, 0.6257688999176025, 0.6285191178321838, 0.6309859752655029, 0.6332555413246155, 0.6353937983512878, 0.6374495029449463, 0.6394569277763367, 0.6414391398429871, 0.6434109210968018, 0.6453807950019836, 0.6473536491394043, 0.649331271648407, 0.6513145565986633, 0.6533026099205017, 0.6552948951721191, 0.6572907567024231, 0.6592890024185181, 0.6612887382507324, 0.6632893085479736, 0.665290355682373, 0.6672911643981934, 0.6692914366722107, 0.6712910532951355]\n",
            "[0.6707911849062811, 0.5171524963739804, 0.5869042923904169, 0.44409923558399145, 0.4014178474833543, 0.31144373147509885, 0.2808513704769171, 0.36651779343811075, 0.1594359365320892, 0.1958969858422419, 0.2938797084031737, 0.3681392301618449, 0.3612353263740371, 0.28885576257520507, 0.34296769388437, 0.27964510950823507, 0.24415390021201056, 0.3744779850789546, 0.36535994738126076, 0.43197073645687056, 0.4072560066051978, 0.39092990438138675, 0.4026556654936866, 0.4545540797091374, 0.45767391154024173, 0.40445040914150354, 0.44354559928189574, 0.46899343973202745, 0.4407915004424885, 0.46267791578557294, 0.48222653878623567, 0.5141010210373458, 0.5665967580339462, 0.461218478777107, 0.4474380137887539, 0.45966067011506384, 0.44690493583283764, 0.45739493479573823, 0.4531067721380748, 0.4431018474124968, 0.47665255439964604, 0.4300377379375726, 0.4287135748732849, 0.3724659397251737, 0.3812650146753085, 0.4140236085973048, 0.420038672334077, 0.40633869322496685, 0.4030078299505906, 0.455422464251775, 0.48675636480982165, 0.49851954208585436, 0.5448028552223563, 0.5722760011529764, 0.5872231523528237, 0.5804423930191618, 0.5965753495740342, 0.6009614727446659, 0.5791788770366324, 0.5944603069190497, 0.5571629441389296, 0.5699265933515414, 0.5408704547650716, 0.5606810939075324, 0.5555604210410516, 0.592407761636452, 0.6199686917184177, 0.6294203913877676, 0.656740788793114, 0.6271920722321751, 0.6257774524446955, 0.6431013539806107, 0.6320623444158702, 0.6039585471153259, 0.6097084283828735, 0.614708423614502, 0.6189837455749512, 0.6226301193237305, 0.6257688999176025, 0.6285191178321838, 0.6309859752655029, 0.6332555413246155, 0.6353937983512878, 0.6374495029449463, 0.6394569277763367, 0.6414391398429871, 0.6434109210968018, 0.6453807950019836, 0.6473536491394043, 0.649331271648407, 0.6513145565986633, 0.6533026099205017, 0.6552948951721191, 0.6572907567024231, 0.6592890024185181, 0.6612887382507324, 0.6632893085479736, 0.665290355682373, 0.6672911643981934, 0.6692914366722107, 0.6712910532951355]\n",
            "28 day input [0.5171525  0.58690429 0.44409924 0.40141785 0.31144373 0.28085137\n",
            " 0.36651779 0.15943594 0.19589699 0.29387971 0.36813923 0.36123533\n",
            " 0.28885576 0.34296769 0.27964511 0.2441539  0.37447799 0.36535995\n",
            " 0.43197074 0.40725601 0.3909299  0.40265567 0.45455408 0.45767391\n",
            " 0.40445041 0.4435456  0.46899344 0.4407915  0.46267792 0.48222654\n",
            " 0.51410102 0.56659676 0.46121848 0.44743801 0.45966067 0.44690494\n",
            " 0.45739493 0.45310677 0.44310185 0.47665255 0.43003774 0.42871357\n",
            " 0.37246594 0.38126501 0.41402361 0.42003867 0.40633869 0.40300783\n",
            " 0.45542246 0.48675636 0.49851954 0.54480286 0.572276   0.58722315\n",
            " 0.58044239 0.59657535 0.60096147 0.57917888 0.59446031 0.55716294\n",
            " 0.56992659 0.54087045 0.56068109 0.55556042 0.59240776 0.61996869\n",
            " 0.62942039 0.65674079 0.62719207 0.62577745 0.64310135 0.63206234\n",
            " 0.60395855 0.60970843 0.61470842 0.61898375 0.62263012 0.6257689\n",
            " 0.62851912 0.63098598 0.63325554 0.6353938  0.6374495  0.63945693\n",
            " 0.64143914 0.64341092 0.6453808  0.64735365 0.64933127 0.65131456\n",
            " 0.65330261 0.6552949  0.65729076 0.659289   0.66128874 0.66328931\n",
            " 0.66529036 0.66729116 0.66929144 0.67129105]\n",
            "[[[0.5171525 ]\n",
            "  [0.58690429]\n",
            "  [0.44409924]\n",
            "  [0.40141785]\n",
            "  [0.31144373]\n",
            "  [0.28085137]\n",
            "  [0.36651779]\n",
            "  [0.15943594]\n",
            "  [0.19589699]\n",
            "  [0.29387971]\n",
            "  [0.36813923]\n",
            "  [0.36123533]\n",
            "  [0.28885576]\n",
            "  [0.34296769]\n",
            "  [0.27964511]\n",
            "  [0.2441539 ]\n",
            "  [0.37447799]\n",
            "  [0.36535995]\n",
            "  [0.43197074]\n",
            "  [0.40725601]\n",
            "  [0.3909299 ]\n",
            "  [0.40265567]\n",
            "  [0.45455408]\n",
            "  [0.45767391]\n",
            "  [0.40445041]\n",
            "  [0.4435456 ]\n",
            "  [0.46899344]\n",
            "  [0.4407915 ]\n",
            "  [0.46267792]\n",
            "  [0.48222654]\n",
            "  [0.51410102]\n",
            "  [0.56659676]\n",
            "  [0.46121848]\n",
            "  [0.44743801]\n",
            "  [0.45966067]\n",
            "  [0.44690494]\n",
            "  [0.45739493]\n",
            "  [0.45310677]\n",
            "  [0.44310185]\n",
            "  [0.47665255]\n",
            "  [0.43003774]\n",
            "  [0.42871357]\n",
            "  [0.37246594]\n",
            "  [0.38126501]\n",
            "  [0.41402361]\n",
            "  [0.42003867]\n",
            "  [0.40633869]\n",
            "  [0.40300783]\n",
            "  [0.45542246]\n",
            "  [0.48675636]\n",
            "  [0.49851954]\n",
            "  [0.54480286]\n",
            "  [0.572276  ]\n",
            "  [0.58722315]\n",
            "  [0.58044239]\n",
            "  [0.59657535]\n",
            "  [0.60096147]\n",
            "  [0.57917888]\n",
            "  [0.59446031]\n",
            "  [0.55716294]\n",
            "  [0.56992659]\n",
            "  [0.54087045]\n",
            "  [0.56068109]\n",
            "  [0.55556042]\n",
            "  [0.59240776]\n",
            "  [0.61996869]\n",
            "  [0.62942039]\n",
            "  [0.65674079]\n",
            "  [0.62719207]\n",
            "  [0.62577745]\n",
            "  [0.64310135]\n",
            "  [0.63206234]\n",
            "  [0.60395855]\n",
            "  [0.60970843]\n",
            "  [0.61470842]\n",
            "  [0.61898375]\n",
            "  [0.62263012]\n",
            "  [0.6257689 ]\n",
            "  [0.62851912]\n",
            "  [0.63098598]\n",
            "  [0.63325554]\n",
            "  [0.6353938 ]\n",
            "  [0.6374495 ]\n",
            "  [0.63945693]\n",
            "  [0.64143914]\n",
            "  [0.64341092]\n",
            "  [0.6453808 ]\n",
            "  [0.64735365]\n",
            "  [0.64933127]\n",
            "  [0.65131456]\n",
            "  [0.65330261]\n",
            "  [0.6552949 ]\n",
            "  [0.65729076]\n",
            "  [0.659289  ]\n",
            "  [0.66128874]\n",
            "  [0.66328931]\n",
            "  [0.66529036]\n",
            "  [0.66729116]\n",
            "  [0.66929144]\n",
            "  [0.67129105]]]\n",
            "28 day output [[0.67328954]]\n",
            "[0.5171524963739804, 0.5869042923904169, 0.44409923558399145, 0.4014178474833543, 0.31144373147509885, 0.2808513704769171, 0.36651779343811075, 0.1594359365320892, 0.1958969858422419, 0.2938797084031737, 0.3681392301618449, 0.3612353263740371, 0.28885576257520507, 0.34296769388437, 0.27964510950823507, 0.24415390021201056, 0.3744779850789546, 0.36535994738126076, 0.43197073645687056, 0.4072560066051978, 0.39092990438138675, 0.4026556654936866, 0.4545540797091374, 0.45767391154024173, 0.40445040914150354, 0.44354559928189574, 0.46899343973202745, 0.4407915004424885, 0.46267791578557294, 0.48222653878623567, 0.5141010210373458, 0.5665967580339462, 0.461218478777107, 0.4474380137887539, 0.45966067011506384, 0.44690493583283764, 0.45739493479573823, 0.4531067721380748, 0.4431018474124968, 0.47665255439964604, 0.4300377379375726, 0.4287135748732849, 0.3724659397251737, 0.3812650146753085, 0.4140236085973048, 0.420038672334077, 0.40633869322496685, 0.4030078299505906, 0.455422464251775, 0.48675636480982165, 0.49851954208585436, 0.5448028552223563, 0.5722760011529764, 0.5872231523528237, 0.5804423930191618, 0.5965753495740342, 0.6009614727446659, 0.5791788770366324, 0.5944603069190497, 0.5571629441389296, 0.5699265933515414, 0.5408704547650716, 0.5606810939075324, 0.5555604210410516, 0.592407761636452, 0.6199686917184177, 0.6294203913877676, 0.656740788793114, 0.6271920722321751, 0.6257774524446955, 0.6431013539806107, 0.6320623444158702, 0.6039585471153259, 0.6097084283828735, 0.614708423614502, 0.6189837455749512, 0.6226301193237305, 0.6257688999176025, 0.6285191178321838, 0.6309859752655029, 0.6332555413246155, 0.6353937983512878, 0.6374495029449463, 0.6394569277763367, 0.6414391398429871, 0.6434109210968018, 0.6453807950019836, 0.6473536491394043, 0.649331271648407, 0.6513145565986633, 0.6533026099205017, 0.6552948951721191, 0.6572907567024231, 0.6592890024185181, 0.6612887382507324, 0.6632893085479736, 0.665290355682373, 0.6672911643981934, 0.6692914366722107, 0.6712910532951355, 0.6732895374298096]\n",
            "[0.5171524963739804, 0.5869042923904169, 0.44409923558399145, 0.4014178474833543, 0.31144373147509885, 0.2808513704769171, 0.36651779343811075, 0.1594359365320892, 0.1958969858422419, 0.2938797084031737, 0.3681392301618449, 0.3612353263740371, 0.28885576257520507, 0.34296769388437, 0.27964510950823507, 0.24415390021201056, 0.3744779850789546, 0.36535994738126076, 0.43197073645687056, 0.4072560066051978, 0.39092990438138675, 0.4026556654936866, 0.4545540797091374, 0.45767391154024173, 0.40445040914150354, 0.44354559928189574, 0.46899343973202745, 0.4407915004424885, 0.46267791578557294, 0.48222653878623567, 0.5141010210373458, 0.5665967580339462, 0.461218478777107, 0.4474380137887539, 0.45966067011506384, 0.44690493583283764, 0.45739493479573823, 0.4531067721380748, 0.4431018474124968, 0.47665255439964604, 0.4300377379375726, 0.4287135748732849, 0.3724659397251737, 0.3812650146753085, 0.4140236085973048, 0.420038672334077, 0.40633869322496685, 0.4030078299505906, 0.455422464251775, 0.48675636480982165, 0.49851954208585436, 0.5448028552223563, 0.5722760011529764, 0.5872231523528237, 0.5804423930191618, 0.5965753495740342, 0.6009614727446659, 0.5791788770366324, 0.5944603069190497, 0.5571629441389296, 0.5699265933515414, 0.5408704547650716, 0.5606810939075324, 0.5555604210410516, 0.592407761636452, 0.6199686917184177, 0.6294203913877676, 0.656740788793114, 0.6271920722321751, 0.6257774524446955, 0.6431013539806107, 0.6320623444158702, 0.6039585471153259, 0.6097084283828735, 0.614708423614502, 0.6189837455749512, 0.6226301193237305, 0.6257688999176025, 0.6285191178321838, 0.6309859752655029, 0.6332555413246155, 0.6353937983512878, 0.6374495029449463, 0.6394569277763367, 0.6414391398429871, 0.6434109210968018, 0.6453807950019836, 0.6473536491394043, 0.649331271648407, 0.6513145565986633, 0.6533026099205017, 0.6552948951721191, 0.6572907567024231, 0.6592890024185181, 0.6612887382507324, 0.6632893085479736, 0.665290355682373, 0.6672911643981934, 0.6692914366722107, 0.6712910532951355, 0.6732895374298096]\n",
            "29 day input [0.58690429 0.44409924 0.40141785 0.31144373 0.28085137 0.36651779\n",
            " 0.15943594 0.19589699 0.29387971 0.36813923 0.36123533 0.28885576\n",
            " 0.34296769 0.27964511 0.2441539  0.37447799 0.36535995 0.43197074\n",
            " 0.40725601 0.3909299  0.40265567 0.45455408 0.45767391 0.40445041\n",
            " 0.4435456  0.46899344 0.4407915  0.46267792 0.48222654 0.51410102\n",
            " 0.56659676 0.46121848 0.44743801 0.45966067 0.44690494 0.45739493\n",
            " 0.45310677 0.44310185 0.47665255 0.43003774 0.42871357 0.37246594\n",
            " 0.38126501 0.41402361 0.42003867 0.40633869 0.40300783 0.45542246\n",
            " 0.48675636 0.49851954 0.54480286 0.572276   0.58722315 0.58044239\n",
            " 0.59657535 0.60096147 0.57917888 0.59446031 0.55716294 0.56992659\n",
            " 0.54087045 0.56068109 0.55556042 0.59240776 0.61996869 0.62942039\n",
            " 0.65674079 0.62719207 0.62577745 0.64310135 0.63206234 0.60395855\n",
            " 0.60970843 0.61470842 0.61898375 0.62263012 0.6257689  0.62851912\n",
            " 0.63098598 0.63325554 0.6353938  0.6374495  0.63945693 0.64143914\n",
            " 0.64341092 0.6453808  0.64735365 0.64933127 0.65131456 0.65330261\n",
            " 0.6552949  0.65729076 0.659289   0.66128874 0.66328931 0.66529036\n",
            " 0.66729116 0.66929144 0.67129105 0.67328954]\n",
            "[[[0.58690429]\n",
            "  [0.44409924]\n",
            "  [0.40141785]\n",
            "  [0.31144373]\n",
            "  [0.28085137]\n",
            "  [0.36651779]\n",
            "  [0.15943594]\n",
            "  [0.19589699]\n",
            "  [0.29387971]\n",
            "  [0.36813923]\n",
            "  [0.36123533]\n",
            "  [0.28885576]\n",
            "  [0.34296769]\n",
            "  [0.27964511]\n",
            "  [0.2441539 ]\n",
            "  [0.37447799]\n",
            "  [0.36535995]\n",
            "  [0.43197074]\n",
            "  [0.40725601]\n",
            "  [0.3909299 ]\n",
            "  [0.40265567]\n",
            "  [0.45455408]\n",
            "  [0.45767391]\n",
            "  [0.40445041]\n",
            "  [0.4435456 ]\n",
            "  [0.46899344]\n",
            "  [0.4407915 ]\n",
            "  [0.46267792]\n",
            "  [0.48222654]\n",
            "  [0.51410102]\n",
            "  [0.56659676]\n",
            "  [0.46121848]\n",
            "  [0.44743801]\n",
            "  [0.45966067]\n",
            "  [0.44690494]\n",
            "  [0.45739493]\n",
            "  [0.45310677]\n",
            "  [0.44310185]\n",
            "  [0.47665255]\n",
            "  [0.43003774]\n",
            "  [0.42871357]\n",
            "  [0.37246594]\n",
            "  [0.38126501]\n",
            "  [0.41402361]\n",
            "  [0.42003867]\n",
            "  [0.40633869]\n",
            "  [0.40300783]\n",
            "  [0.45542246]\n",
            "  [0.48675636]\n",
            "  [0.49851954]\n",
            "  [0.54480286]\n",
            "  [0.572276  ]\n",
            "  [0.58722315]\n",
            "  [0.58044239]\n",
            "  [0.59657535]\n",
            "  [0.60096147]\n",
            "  [0.57917888]\n",
            "  [0.59446031]\n",
            "  [0.55716294]\n",
            "  [0.56992659]\n",
            "  [0.54087045]\n",
            "  [0.56068109]\n",
            "  [0.55556042]\n",
            "  [0.59240776]\n",
            "  [0.61996869]\n",
            "  [0.62942039]\n",
            "  [0.65674079]\n",
            "  [0.62719207]\n",
            "  [0.62577745]\n",
            "  [0.64310135]\n",
            "  [0.63206234]\n",
            "  [0.60395855]\n",
            "  [0.60970843]\n",
            "  [0.61470842]\n",
            "  [0.61898375]\n",
            "  [0.62263012]\n",
            "  [0.6257689 ]\n",
            "  [0.62851912]\n",
            "  [0.63098598]\n",
            "  [0.63325554]\n",
            "  [0.6353938 ]\n",
            "  [0.6374495 ]\n",
            "  [0.63945693]\n",
            "  [0.64143914]\n",
            "  [0.64341092]\n",
            "  [0.6453808 ]\n",
            "  [0.64735365]\n",
            "  [0.64933127]\n",
            "  [0.65131456]\n",
            "  [0.65330261]\n",
            "  [0.6552949 ]\n",
            "  [0.65729076]\n",
            "  [0.659289  ]\n",
            "  [0.66128874]\n",
            "  [0.66328931]\n",
            "  [0.66529036]\n",
            "  [0.66729116]\n",
            "  [0.66929144]\n",
            "  [0.67129105]\n",
            "  [0.67328954]]]\n",
            "29 day output [[0.67528665]]\n",
            "[0.5869042923904169, 0.44409923558399145, 0.4014178474833543, 0.31144373147509885, 0.2808513704769171, 0.36651779343811075, 0.1594359365320892, 0.1958969858422419, 0.2938797084031737, 0.3681392301618449, 0.3612353263740371, 0.28885576257520507, 0.34296769388437, 0.27964510950823507, 0.24415390021201056, 0.3744779850789546, 0.36535994738126076, 0.43197073645687056, 0.4072560066051978, 0.39092990438138675, 0.4026556654936866, 0.4545540797091374, 0.45767391154024173, 0.40445040914150354, 0.44354559928189574, 0.46899343973202745, 0.4407915004424885, 0.46267791578557294, 0.48222653878623567, 0.5141010210373458, 0.5665967580339462, 0.461218478777107, 0.4474380137887539, 0.45966067011506384, 0.44690493583283764, 0.45739493479573823, 0.4531067721380748, 0.4431018474124968, 0.47665255439964604, 0.4300377379375726, 0.4287135748732849, 0.3724659397251737, 0.3812650146753085, 0.4140236085973048, 0.420038672334077, 0.40633869322496685, 0.4030078299505906, 0.455422464251775, 0.48675636480982165, 0.49851954208585436, 0.5448028552223563, 0.5722760011529764, 0.5872231523528237, 0.5804423930191618, 0.5965753495740342, 0.6009614727446659, 0.5791788770366324, 0.5944603069190497, 0.5571629441389296, 0.5699265933515414, 0.5408704547650716, 0.5606810939075324, 0.5555604210410516, 0.592407761636452, 0.6199686917184177, 0.6294203913877676, 0.656740788793114, 0.6271920722321751, 0.6257774524446955, 0.6431013539806107, 0.6320623444158702, 0.6039585471153259, 0.6097084283828735, 0.614708423614502, 0.6189837455749512, 0.6226301193237305, 0.6257688999176025, 0.6285191178321838, 0.6309859752655029, 0.6332555413246155, 0.6353937983512878, 0.6374495029449463, 0.6394569277763367, 0.6414391398429871, 0.6434109210968018, 0.6453807950019836, 0.6473536491394043, 0.649331271648407, 0.6513145565986633, 0.6533026099205017, 0.6552948951721191, 0.6572907567024231, 0.6592890024185181, 0.6612887382507324, 0.6632893085479736, 0.665290355682373, 0.6672911643981934, 0.6692914366722107, 0.6712910532951355, 0.6732895374298096, 0.6752866506576538]\n",
            "[[0.6039585471153259], [0.6097084283828735], [0.614708423614502], [0.6189837455749512], [0.6226301193237305], [0.6257688999176025], [0.6285191178321838], [0.6309859752655029], [0.6332555413246155], [0.6353937983512878], [0.6374495029449463], [0.6394569277763367], [0.6414391398429871], [0.6434109210968018], [0.6453807950019836], [0.6473536491394043], [0.649331271648407], [0.6513145565986633], [0.6533026099205017], [0.6552948951721191], [0.6572907567024231], [0.6592890024185181], [0.6612887382507324], [0.6632893085479736], [0.665290355682373], [0.6672911643981934], [0.6692914366722107], [0.6712910532951355], [0.6732895374298096], [0.6752866506576538]]\n"
          ],
          "name": "stdout"
        }
      ]
    },
    {
      "cell_type": "code",
      "metadata": {
        "id": "EtLqN3iSiwTk",
        "outputId": "16abaa7d-1e89-425a-ef58-91562278672a",
        "colab": {
          "base_uri": "https://localhost:8080/",
          "height": 34
        }
      },
      "source": [
        "print(len(lst_output))"
      ],
      "execution_count": 58,
      "outputs": [
        {
          "output_type": "stream",
          "text": [
            "30\n"
          ],
          "name": "stdout"
        }
      ]
    },
    {
      "cell_type": "code",
      "metadata": {
        "id": "g5si1Qp0iKJC"
      },
      "source": [
        "day_new=np.arange(1,101)  # 100 records for the new\n",
        "day_pred=np.arange(101,131)  # 30 records for the prediction"
      ],
      "execution_count": 59,
      "outputs": []
    },
    {
      "cell_type": "code",
      "metadata": {
        "id": "yo2hxpw7iMCQ",
        "outputId": "f9a39d59-ee7b-495f-edfc-e3ebe210e98d",
        "colab": {
          "base_uri": "https://localhost:8080/",
          "height": 34
        }
      },
      "source": [
        "len(df)"
      ],
      "execution_count": 60,
      "outputs": [
        {
          "output_type": "execute_result",
          "data": {
            "text/plain": [
              "1345"
            ]
          },
          "metadata": {
            "tags": []
          },
          "execution_count": 60
        }
      ]
    },
    {
      "cell_type": "code",
      "metadata": {
        "id": "pCtJ_2yeiRB_",
        "outputId": "c335d405-07be-417d-ea35-6d3df2246015",
        "colab": {
          "base_uri": "https://localhost:8080/",
          "height": 34
        }
      },
      "source": [
        "# inverse the sacled data to a real value\n",
        "scaler.inverse_transform(df[1158:]).shape\n",
        "b = scaler.inverse_transform(df[1158:])\n",
        "b= b.ravel()\n",
        "b.shape"
      ],
      "execution_count": 61,
      "outputs": [
        {
          "output_type": "execute_result",
          "data": {
            "text/plain": [
              "(187,)"
            ]
          },
          "metadata": {
            "tags": []
          },
          "execution_count": 61
        }
      ]
    },
    {
      "cell_type": "markdown",
      "metadata": {
        "id": "JHUUoA_D9P7q"
      },
      "source": [
        "Plot the predictions."
      ]
    },
    {
      "cell_type": "code",
      "metadata": {
        "id": "gWDLQ02-iXCn",
        "outputId": "bc8a47e7-dc3c-45ab-8c2a-c6aea6736422",
        "colab": {
          "base_uri": "https://localhost:8080/",
          "height": 282
        }
      },
      "source": [
        "plt.plot(day_new,scaler.inverse_transform(df[1245:]))\n",
        "plt.plot(day_pred,scaler.inverse_transform(lst_output))"
      ],
      "execution_count": 62,
      "outputs": [
        {
          "output_type": "execute_result",
          "data": {
            "text/plain": [
              "[<matplotlib.lines.Line2D at 0x7f300d965198>]"
            ]
          },
          "metadata": {
            "tags": []
          },
          "execution_count": 62
        },
        {
          "output_type": "display_data",
          "data": {
            "image/png": "[encoded data removed]",
            "text/plain": [
              "<Figure size 432x288 with 1 Axes>"
            ]
          },
          "metadata": {
            "tags": [],
            "needs_background": "light"
          }
        }
      ]
    },
    {
      "cell_type": "code",
      "metadata": {
        "id": "YRe5CjVZ67AI",
        "outputId": "2f1914ca-e9b7-4a76-9bde-73d0e2911bc5",
        "colab": {
          "base_uri": "https://localhost:8080/",
          "height": 282
        }
      },
      "source": [
        "# We add the lst 30 days prediction value and then plot it\n",
        "df3=df.tolist()\n",
        "df3.extend(lst_output)\n",
        "plt.plot(df3[1200:])"
      ],
      "execution_count": 63,
      "outputs": [
        {
          "output_type": "execute_result",
          "data": {
            "text/plain": [
              "[<matplotlib.lines.Line2D at 0x7f300d7ee668>]"
            ]
          },
          "metadata": {
            "tags": []
          },
          "execution_count": 63
        },
        {
          "output_type": "display_data",
          "data": {
            "image/png": "[encoded data removed]",
            "text/plain": [
              "<Figure size 432x288 with 1 Axes>"
            ]
          },
          "metadata": {
            "tags": [],
            "needs_background": "light"
          }
        }
      ]
    },
    {
      "cell_type": "code",
      "metadata": {
        "id": "V9ZYrQVY6-QA",
        "outputId": "d09801b5-7dbb-47d2-b47c-0932a61bbc8c",
        "colab": {
          "base_uri": "https://localhost:8080/",
          "height": 282
        }
      },
      "source": [
        "df4=scaler.inverse_transform(df3).tolist()\n",
        "plt.plot(df4)"
      ],
      "execution_count": 64,
      "outputs": [
        {
          "output_type": "execute_result",
          "data": {
            "text/plain": [
              "[<matplotlib.lines.Line2D at 0x7f300d782160>]"
            ]
          },
          "metadata": {
            "tags": []
          },
          "execution_count": 64
        },
        {
          "output_type": "display_data",
          "data": {
            "image/png": "[encoded data removed]",
            "text/plain": [
              "<Figure size 432x288 with 1 Axes>"
            ]
          },
          "metadata": {
            "tags": [],
            "needs_background": "light"
          }
        }
      ]
    },
    {
      "cell_type": "markdown",
      "metadata": {
        "id": "kNv38hH794BL"
      },
      "source": [
        "In the Project i have used many different sources and we can improve our model output by applying different optimization technique. I had a time boundation in this project but I will take it further and try to deploy it also after improving model accuracy.\n",
        "**Thank you**"
      ]
    },
    {
      "cell_type": "code",
      "metadata": {
        "id": "lbGWXsXF7TYI"
      },
      "source": [
        ""
      ],
      "execution_count": 64,
      "outputs": []
    }
  ]
}